{
 "cells": [
  {
   "cell_type": "markdown",
   "id": "4385d172",
   "metadata": {},
   "source": [
    "## Числа"
   ]
  },
  {
   "cell_type": "markdown",
   "id": "54d95e88",
   "metadata": {},
   "source": [
    "2 типа чисел:\n",
    "int (2, 3, 458, 678)\n",
    "float (2.2, 3.5, 5.666675678)\n",
    "Build in Function:\n",
    "round() Rounds a numbers with the specified number of \n",
    "4000000000 can be written as \n",
    "4_000_000_000"
   ]
  },
  {
   "cell_type": "code",
   "execution_count": 2,
   "id": "16c8c791",
   "metadata": {},
   "outputs": [
    {
     "name": "stdout",
     "output_type": "stream",
     "text": [
      "4\n",
      "3\n"
     ]
    }
   ],
   "source": [
    "print(2+2)\n",
    "print(5-2)\n",
    "print(7*10)"
   ]
  },
  {
   "cell_type": "code",
   "execution_count": 4,
   "id": "ab8bcddf",
   "metadata": {},
   "outputs": [
    {
     "name": "stdout",
     "output_type": "stream",
     "text": [
      "2.5\n",
      "2\n",
      "2\n",
      "(3, 1)\n"
     ]
    }
   ],
   "source": [
    "print(10 / 4)  # classic division returns a float\n",
    "print(10 // 4)  # floor division discards the fractional part\n",
    "print(10 % 4) # the % operator returns the remainder of the division\n",
    "print(divmod(10,3))"
   ]
  },
  {
   "cell_type": "code",
   "execution_count": 5,
   "id": "a529382c",
   "metadata": {},
   "outputs": [
    {
     "name": "stdout",
     "output_type": "stream",
     "text": [
      "20\n",
      "5.0\n",
      "17\n"
     ]
    }
   ],
   "source": [
    "print(50 - 5*6) \n",
    "print((50 - 5*6) / 4)\n",
    "print(5 * 3 + 2)"
   ]
  },
  {
   "cell_type": "code",
   "execution_count": 6,
   "id": "d196ffc9",
   "metadata": {},
   "outputs": [
    {
     "name": "stdout",
     "output_type": "stream",
     "text": [
      "25\n",
      "128\n",
      "128\n"
     ]
    }
   ],
   "source": [
    "print(5 ** 2)  # 5 squared\n",
    "print(2 ** 7)  # 2 to the power of 7\n",
    "print(pow(2,7))"
   ]
  },
  {
   "cell_type": "code",
   "execution_count": 7,
   "id": "485f6460",
   "metadata": {},
   "outputs": [
    {
     "data": {
      "text/plain": [
       "1260"
      ]
     },
     "execution_count": 7,
     "metadata": {},
     "output_type": "execute_result"
    }
   ],
   "source": [
    "width = 60\n",
    "height = 3 * 7\n",
    "width * height"
   ]
  },
  {
   "cell_type": "code",
   "execution_count": 9,
   "id": "a7ed5855",
   "metadata": {},
   "outputs": [
    {
     "name": "stdout",
     "output_type": "stream",
     "text": [
      "1260\n",
      "12.5625\n",
      "1360.5\n"
     ]
    },
    {
     "data": {
      "text/plain": [
       "1260"
      ]
     },
     "execution_count": 9,
     "metadata": {},
     "output_type": "execute_result"
    }
   ],
   "source": [
    "#В интерактивном режиме переменной присваивается последнее напечатанное выражение переменной _.\n",
    "tax = 12.5 / 100\n",
    "price = 100.50\n",
    "print(_)\n",
    "print(price * tax) #this is assigned to '_' and we use it in the next expression\n",
    "print(price + _) #We reference '_' but this expression is now assigned to '_'\n",
    "round(_, 2)"
   ]
  },
  {
   "cell_type": "markdown",
   "id": "7da04ad3",
   "metadata": {},
   "source": [
    "## Строки"
   ]
  },
  {
   "cell_type": "markdown",
   "id": "a286dde0",
   "metadata": {},
   "source": [
    "Strings have a bunch of methods available.\n",
    "capitalize() Converts the first character to upper case\n",
    "casefold() Converts string into lower case\n",
    "center() Returns a centered string\n",
    "count() Returns the number of times a specified value occurs in a string\n",
    "encode() Returns an encoded version of the string\n",
    "endswith() Returns true if the string ends with the specified value\n",
    "expandtabs() Sets the tab size of the string\n",
    "find() Searches the string for a specified value and returns the position of where it was found\n",
    "format() Formats specified values in a string\n",
    "format_map() Formats specified values in a string\n",
    "index() Searches the string for a specified value and returns the position of where it was found\n",
    "isalnum() Returns True if all characters in the string are alphanumeric\n",
    "isalpha() Returns True if all characters in the string are in the alphabet\n",
    "isascii() Returns True if all characters in the string are ascii characters\n",
    "isdecimal() Returns True if all characters in the string are decimals\n",
    "isdigit() Returns True if all characters in the string are digits\n",
    "isidentifier() Returns True if the string is an identifier\n",
    "islower() Returns True if all characters in the string are lower case\n",
    "isnumeric() Returns True if all characters in the string are numeric\n",
    "isprintable() Returns True if all characters in the string are printable\n",
    "isspace() Returns True if all characters in the string are whitespaces\n",
    "istitle() Returns True if the string follows the rules of a title\n",
    "isupper() Returns True if all characters in the string are upper case\n",
    "join() Converts the elements of an iterable into a string\n",
    "ljust() Returns a left justified version of the string\n",
    "lower() Converts a string into lower case\n",
    "lstrip() Returns a left trim version of the string\n",
    "maketrans() Returns a translation table to be used in translations\n",
    "partition() Returns a tuple where the string is parted into three parts\n",
    "replace() Returns a string where a specified value is replaced with a specified value\n",
    "rfind()\t Searches the string for a specified value and returns the last position of where it was found\n",
    "rindex() Searches the string for a specified value and returns the last position of where it was found\n",
    "rjust() Returns a right justified version of the string\n",
    "rpartition() Returns a tuple where the string is parted into three parts\n",
    "rsplit() Splits the string at the specified separator, and returns a list\n",
    "rstrip() Returns a right trim version of the string\n",
    "split() Splits the string at the specified separator, and returns a list\n",
    "splitlines() Splits the string at line breaks and returns a list\n",
    "startswith() Returns true if the string starts with the specified value\n",
    "strip() Returns a trimmed version of the string\n",
    "swapcase() Swaps cases, lower case becomes upper case and vice versa\n",
    "title() Converts the first character of each word to upper case\n",
    "translate() Returns a translated string\n",
    "upper() Converts a string into upper case\n",
    "zfill() Fills the string with a specified number of 0 values at the beginning"
   ]
  },
  {
   "cell_type": "code",
   "execution_count": 10,
   "id": "a3ba2305",
   "metadata": {},
   "outputs": [
    {
     "name": "stdout",
     "output_type": "stream",
     "text": [
      "spam eggs\n",
      "doesn't\n",
      "doesn't\n",
      "\"Yes,\" they said.\n",
      "\"Yes,\" they said.\n",
      "spam eggs\n",
      "spam eggs\n"
     ]
    }
   ],
   "source": [
    "print('spam eggs')  # single quotes\n",
    "print('doesn\\'t')  # use \\' to escape the single quote...\n",
    "print(\"doesn't\")  # ...or use double quotes instead\n",
    "print('\"Yes,\" they said.')\n",
    "print(\"\\\"Yes,\\\" they said.\")\n",
    "print('''spam eggs''') \n",
    "print(\"\"\"spam eggs\"\"\") "
   ]
  },
  {
   "cell_type": "code",
   "execution_count": 11,
   "id": "227bfafa",
   "metadata": {},
   "outputs": [
    {
     "name": "stdout",
     "output_type": "stream",
     "text": [
      "First line.\n",
      "Second line.\n"
     ]
    }
   ],
   "source": [
    "s = 'First line.\\nSecond line.'  # \\n means newline\n",
    "\n",
    "print(s)"
   ]
  },
  {
   "cell_type": "code",
   "execution_count": 12,
   "id": "7566fc9a",
   "metadata": {},
   "outputs": [
    {
     "name": "stdout",
     "output_type": "stream",
     "text": [
      "C:\\some\n",
      "ame\n",
      "C:\\some\\name\n"
     ]
    }
   ],
   "source": [
    "#Raw string\n",
    "print('C:\\some\\name')  # here \\n means newline!\n",
    "print(r'C:\\some\\name')  # note the r before the quote"
   ]
  },
  {
   "cell_type": "code",
   "execution_count": 13,
   "id": "ad06f937",
   "metadata": {},
   "outputs": [
    {
     "name": "stdout",
     "output_type": "stream",
     "text": [
      "Usage: thingy [OPTIONS]\n",
      "     -h                        Display this usage message\n",
      "     -H hostname               Hostname to connect to\n",
      "\n"
     ]
    }
   ],
   "source": [
    "#String literals\n",
    "print(\"\"\"\\\n",
    "Usage: thingy [OPTIONS]\n",
    "     -h                        Display this usage message\n",
    "     -H hostname               Hostname to connect to\n",
    "\"\"\")"
   ]
  },
  {
   "cell_type": "code",
   "execution_count": 18,
   "id": "c6e6300f",
   "metadata": {},
   "outputs": [
    {
     "name": "stdout",
     "output_type": "stream",
     "text": [
      "unununium\n",
      "DidCoding\n",
      "Put several strings within parentheses to have them joined together.\n",
      "DidCoding\n"
     ]
    }
   ],
   "source": [
    "#Concatenated\n",
    "print(3 * 'un' + 'ium')\n",
    "print('Did' 'Coding')\n",
    "text = ('Put several strings within parentheses '\n",
    "        'to have them joined together.')\n",
    "print(text)\n",
    "#This only works with two literals though, \n",
    "#not with variables or expressions:\n",
    "prefix = 'Did'\n",
    "# prefix 'Coding'\n",
    "print(prefix + 'Coding')"
   ]
  },
  {
   "cell_type": "code",
   "execution_count": 19,
   "id": "2dfe0b67",
   "metadata": {},
   "outputs": [
    {
     "name": "stdout",
     "output_type": "stream",
     "text": [
      "D\n",
      "d\n",
      "Di\n",
      "dco\n",
      "Di\n",
      "oding\n",
      "ng\n",
      "Didcoding\n",
      "Didcoding\n"
     ]
    }
   ],
   "source": [
    "#Indexing\n",
    "'''\n",
    " +---+---+---+---+---+---+---+---+---+\n",
    " | D | i | d | C | o | d | i | n | g |\n",
    " +---+---+---+---+---+---+---+---+---+\n",
    " 0   1   2   3   4   5   6   7   8   \n",
    "-9  -8  -7  -6  -5  -4  -3  -2  -1\n",
    "'''\n",
    "\n",
    "word = 'Didcoding'\n",
    "print(word[0])  # character in position 0\n",
    "print(word[5])  # character in position 5\n",
    "print(word[0:2])  # characters from position 0 (included) to 2 (excluded)\n",
    "print(word[2:5])  # characters from position 2 (included) to 5 (excluded)\n",
    "print(word[:2])   # character from the beginning to position 2 (excluded)\n",
    "print(word[4:])   # characters from position 4 (included) to the end\n",
    "print(word[-2:])  # characters from the second-last (included) to the end\n",
    "print(word[:2] + word[2:])\n",
    "print(word[:4] + word[4:])"
   ]
  },
  {
   "cell_type": "code",
   "execution_count": 21,
   "id": "0d6b90c6",
   "metadata": {},
   "outputs": [
    {
     "name": "stdout",
     "output_type": "stream",
     "text": [
      "Pidcoding\n",
      "Didi\n",
      "15\n"
     ]
    }
   ],
   "source": [
    "#changing strings\n",
    "# word[0] = 'P'\n",
    "print('P' + word[1:])\n",
    "print(word[:2] + 'di')\n",
    "\n",
    "#Sting length\n",
    "s = 'bobby-didcoding'\n",
    "print(len(s))"
   ]
  },
  {
   "cell_type": "code",
   "execution_count": 28,
   "id": "e5245c55",
   "metadata": {},
   "outputs": [
    {
     "name": "stdout",
     "output_type": "stream",
     "text": [
      "(20, 400, ('spam', 'eggs'))\n",
      "(20, 400, ('spam', 'eggs'))\n",
      "spam and eggs\n",
      "eggs and spam\n",
      "spam and eggs\n",
      "100.13 and eggs\n"
     ]
    }
   ],
   "source": [
    "x=20\n",
    "y=400\n",
    "print(repr((x, y, ('spam', 'eggs'))))\n",
    "print(str((x, y, ('spam', 'eggs'))))\n",
    "\n",
    "\n",
    "print('{0} and {1}'.format('spam', 'eggs'))\n",
    "print('{1} and {0}'.format('spam', 'eggs'))\n",
    "print(f'{\"spam\"} and {\"eggs\"}')\n",
    "print(f'{100.133333:.2f} and {\"eggs\"}')"
   ]
  },
  {
   "cell_type": "markdown",
   "id": "8bf4c1fb",
   "metadata": {},
   "source": [
    "## Списки"
   ]
  },
  {
   "cell_type": "code",
   "execution_count": null,
   "id": "51a3fa0b",
   "metadata": {},
   "outputs": [],
   "source": [
    "Lists are mutable - this means that items can be changed\n",
    "List have a bunch of methods available.\n",
    "append() Adds an element at the end of the list\n",
    "clear()\tRemoves all the elements from the list\n",
    "copy() Returns a copy of the list\n",
    "count()\tReturns the number of elements with the specified value\n",
    "extend() Add the elements of a list (or any iterable), to the end of the current list\n",
    "index() Returns the index of the first element with the specified value\n",
    "insert() Adds an element at the specified position\n",
    "pop() Removes the element at the specified position\n",
    "remove() Removes the first item with the specified value\n",
    "reverse() Reverses the order of the list\n",
    "sort() Sorts the list"
   ]
  },
  {
   "cell_type": "code",
   "execution_count": 30,
   "id": "5d716bb3",
   "metadata": {},
   "outputs": [
    {
     "name": "stdout",
     "output_type": "stream",
     "text": [
      "[1, 4, 9, 16, 25]\n"
     ]
    }
   ],
   "source": [
    "#The basics\n",
    "squares = [1, 4, 9, 16, 25]\n",
    "print(squares)\n"
   ]
  },
  {
   "cell_type": "code",
   "execution_count": 31,
   "id": "29cab6b1",
   "metadata": {},
   "outputs": [
    {
     "name": "stdout",
     "output_type": "stream",
     "text": [
      "1\n",
      "25\n",
      "[9, 16, 25]\n"
     ]
    }
   ],
   "source": [
    "#Indexing\n",
    "'''\n",
    " +---+---+---+---+---+---+---+---+---+\n",
    " | D | i | d | C | o | d | i | n | g |\n",
    " +---+---+---+---+---+---+---+---+---+\n",
    " 0   1   2   3   4   5   6   7   8   \n",
    "-9  -8  -7  -6  -5  -4  -3  -2  -1\n",
    "'''\n",
    "\n",
    "print(squares[0])  # indexing returns the item\n",
    "print(squares[-1])\n",
    "print(squares[-3:])  # slicing returns a new list"
   ]
  },
  {
   "cell_type": "code",
   "execution_count": 34,
   "id": "a3986970",
   "metadata": {},
   "outputs": [
    {
     "name": "stdout",
     "output_type": "stream",
     "text": [
      "['add', 4, 9, 16, 25]\n",
      "[1, 4, 9, 16, 25]\n"
     ]
    }
   ],
   "source": [
    "#Create a list copy\n",
    "sq2 = squares[:]\n",
    "sq2[0]='add'\n",
    "\n",
    "print(sq2)\n",
    "print(squares)"
   ]
  },
  {
   "cell_type": "code",
   "execution_count": 37,
   "id": "fea27943",
   "metadata": {},
   "outputs": [
    {
     "name": "stdout",
     "output_type": "stream",
     "text": [
      "[1, 4, 9, 16, 25, 36, 49, 64, 81, 100]\n",
      "[1, 8, 27, 64, 125, 216, 343]\n",
      "4\n"
     ]
    }
   ],
   "source": [
    "#Concatenation (spread) (glue together)\n",
    "print(squares + [36, 49, 64, 81, 100])\n",
    "\n",
    "\n",
    "#list methods\n",
    "cubes = [1, 8, 27, 64, 125]\n",
    "cubes.append(216)  # add the cube of 6\n",
    "cubes.append(7 ** 3)  # and the cube of 7\n",
    "print(cubes)\n",
    "\n",
    "#Length\n",
    "letters = ['a', 'b', 'c', 'd']\n",
    "print(len(letters))\n",
    "# print(squares**2)"
   ]
  },
  {
   "cell_type": "code",
   "execution_count": 38,
   "id": "2e2666bd",
   "metadata": {},
   "outputs": [
    {
     "name": "stdout",
     "output_type": "stream",
     "text": [
      "[['a', 'b', 'c'], [1, 2, 3]]\n"
     ]
    },
    {
     "data": {
      "text/plain": [
       "'b'"
      ]
     },
     "execution_count": 38,
     "metadata": {},
     "output_type": "execute_result"
    }
   ],
   "source": [
    "a = ['a', 'b', 'c']\n",
    "n = [1, 2, 3]\n",
    "x = [a, n]\n",
    "print(x)\n",
    "x[0]\n",
    "x[0][1]"
   ]
  },
  {
   "cell_type": "code",
   "execution_count": 39,
   "id": "cb0039c5",
   "metadata": {},
   "outputs": [
    {
     "name": "stdout",
     "output_type": "stream",
     "text": [
      "[0, 1, 4, 9, 16, 25, 36, 49, 64, 81]\n",
      "[0, 1, 4, 9, 16, 25, 36, 49, 64, 81]\n",
      "['bobby', 'at', 'didcoding', 'dot', 'com']\n"
     ]
    }
   ],
   "source": [
    "#List comprehension\n",
    "y = []\n",
    "for x in range(10):\n",
    "    y.append(x**2)\n",
    "\n",
    "print(y)\n",
    "y = [x**2 for x in range(10)]\n",
    "print(y)\n",
    "\n",
    "#built-in function list()\n",
    "x = list(('bobby', 'at', 'didcoding','dot', 'com')) # creates a list object\n",
    "print(x)"
   ]
  },
  {
   "cell_type": "markdown",
   "id": "34868d32",
   "metadata": {},
   "source": [
    "## Кортежи"
   ]
  },
  {
   "cell_type": "markdown",
   "id": "657433a9",
   "metadata": {},
   "source": [
    "Tuples are immutable - this means that items can not be changed. However,\n",
    "a tuple can contain mutable objects.\n",
    "Tuple has 2 methods available.\n",
    "count()\tReturns the number of elements with the specified value\n",
    "index() Returns the index of the first element with the specified value"
   ]
  },
  {
   "cell_type": "code",
   "execution_count": 12,
   "id": "8b62f62f",
   "metadata": {},
   "outputs": [
    {
     "name": "stdout",
     "output_type": "stream",
     "text": [
      "12345\n",
      "(12345, 54321, 'hello!')\n",
      "((12345, 54321, 'hello!'), (1, 2, 3, 4, 5))\n",
      "([1, 2, 3], [3, 2, 1])\n"
     ]
    }
   ],
   "source": [
    "#The basics - tuple packing\n",
    "t = 12345, 54321, 'hello!'\n",
    "print(t[0])\n",
    "print(t)\n",
    "\n",
    "# Tuples may be nested:\n",
    "u = t, (1, 2, 3, 4, 5)\n",
    "print(u)\n",
    "\n",
    "# Tuples are immutable:\n",
    "# t[0] = 88888\n",
    "\n",
    "# but they can contain mutable objects:\n",
    "v = ([1, 2, 3], [3, 2, 1])\n",
    "print(v)"
   ]
  },
  {
   "cell_type": "code",
   "execution_count": 13,
   "id": "0c6fe4ed",
   "metadata": {},
   "outputs": [
    {
     "name": "stdout",
     "output_type": "stream",
     "text": [
      "12345\n",
      "hello!\n",
      "0\n",
      "1\n",
      "('hello',)\n"
     ]
    }
   ],
   "source": [
    "#Indexing\n",
    "'''\n",
    " +---+---+---+---+---+---+---+---+---+\n",
    " | D | i | d | C | o | d | i | n | g |\n",
    " +---+---+---+---+---+---+---+---+---+\n",
    " 0   1   2   3   4   5   6   7   8   \n",
    "-9  -8  -7  -6  -5  -4  -3  -2  -1\n",
    "'''\n",
    "\n",
    "print(t[0])  # indexing returns the item\n",
    "print(t[-1])\n",
    "\n",
    "#trailing comma\n",
    "empty = ()\n",
    "singleton = 'hello',\n",
    "print(len(empty))\n",
    "print(len(singleton))\n",
    "print(singleton)"
   ]
  },
  {
   "cell_type": "code",
   "execution_count": 15,
   "id": "4bdce2e6",
   "metadata": {},
   "outputs": [
    {
     "name": "stdout",
     "output_type": "stream",
     "text": [
      "(12345, 54321, 'hello!', 5, 5)\n",
      "12345\n",
      "54321\n",
      "['hello!', 5, 5]\n",
      "('bobby', 'at', 'didcoding', 'dot', 'com')\n",
      "(0, 1, 4, 9, 16, 25, 36, 49, 64, 81)\n"
     ]
    }
   ],
   "source": [
    "#Unpacking a tuple\n",
    "t = t + (5,)\n",
    "print(t)\n",
    "x, y, *z = t\n",
    "print(x)\n",
    "print(y)\n",
    "print(z)\n",
    "\n",
    "#built-in function tuple()\n",
    "x = tuple(['bobby', 'at', 'didcoding','dot', 'com']) # creates a tuple object\n",
    "print(x)\n",
    "\n",
    "#Tuple comprehension...Just use list comprehension with the tuple function\n",
    "print(tuple([x**2 for x in range(10)]))"
   ]
  },
  {
   "cell_type": "markdown",
   "id": "b5c5097c",
   "metadata": {},
   "source": [
    "## Множества"
   ]
  },
  {
   "cell_type": "markdown",
   "id": "5513d30a",
   "metadata": {},
   "source": [
    "Sets are mutable - this means that items can be changed.\n",
    "Set has a whole bunch of methods available.\n",
    "add() Adds an element to the set\n",
    "clear() Removes all the elements from the set\n",
    "copy() Returns a copy of the set\n",
    "difference() Returns a set containing the difference between two or more sets\n",
    "difference_update() Removes the items in this set that are also included in another, specified set\n",
    "discard() Remove the specified item\n",
    "intersection() Returns a set, that is the intersection of two or more sets\n",
    "intersection_update() Removes the items in this set that are not present in other, specified set(s)\n",
    "isdisjoint() Returns whether two sets have a intersection or not\n",
    "issubset() Returns whether another set contains this set or not\n",
    "issuperset() Returns whether this set contains another set or not\n",
    "pop() Removes an element from the set\n",
    "remove() Removes the specified element\n",
    "symmetric_difference() Returns a set with the symmetric differences of two sets\n",
    "symmetric_difference_update() Inserts the symmetric differences from this set and another\n",
    "union() Return a set containing the union of sets\n",
    "update() Update the set with another set, or any other iterable"
   ]
  },
  {
   "cell_type": "code",
   "execution_count": 16,
   "id": "6d06b84b",
   "metadata": {},
   "outputs": [
    {
     "name": "stdout",
     "output_type": "stream",
     "text": [
      "{'orange', 'apple', 'pear', 'banana'}\n",
      "True\n",
      "False\n"
     ]
    }
   ],
   "source": [
    "#The basics\n",
    "basket = {'apple', 'orange', 'apple', 'pear', 'orange', 'banana'}\n",
    "print(basket)# show that duplicates have been removed\n",
    "\n",
    "print('orange' in basket) # fast membership testing\n",
    "print('crabgrass' in basket)"
   ]
  },
  {
   "cell_type": "code",
   "execution_count": 17,
   "id": "a29c6c71",
   "metadata": {},
   "outputs": [
    {
     "name": "stdout",
     "output_type": "stream",
     "text": [
      "{'a', 'b', 'd', 'r', 'c'}\n",
      "{'b', 'r', 'd'}\n",
      "{'a', 'l', 'b', 'm', 'd', 'z', 'r', 'c'}\n",
      "{'a', 'c'}\n",
      "{'l', 'z', 'b', 'm', 'r', 'd'}\n"
     ]
    }
   ],
   "source": [
    "# Demonstrate set operations on unique letters from two words\n",
    "a = set('abracadabra')\n",
    "b = set('alacazam')\n",
    "print(a) # unique letters in a\n",
    "print(a - b) # letters in a but not in b\n",
    "print(a | b) # letters in a or b or both\n",
    "print(a & b) # letters in both a and b\n",
    "print(a ^ b) # letters in a or b but not both"
   ]
  },
  {
   "cell_type": "code",
   "execution_count": 18,
   "id": "37a548df",
   "metadata": {},
   "outputs": [
    {
     "name": "stdout",
     "output_type": "stream",
     "text": [
      "{'r', 'd'}\n",
      "{'didcoding', 'bobby', 'dot', 'at', 'com'}\n"
     ]
    }
   ],
   "source": [
    "#Set comprehension\n",
    "a = {x for x in 'abracadabra' if x not in 'abc'}\n",
    "print(a)\n",
    "#built-in function set()\n",
    "x = set(('bobby','bobby', 'at', 'didcoding','dot', 'com')) # creates a set object\n",
    "print(x)"
   ]
  },
  {
   "cell_type": "markdown",
   "id": "bfa6b13b",
   "metadata": {},
   "source": [
    "## Словари"
   ]
  },
  {
   "cell_type": "markdown",
   "id": "872bce57",
   "metadata": {},
   "source": [
    "some_dict = {\n",
    "    'a_key': 'a_value',\n",
    "    'a_key_2': 'a_value_2',\n",
    "    'a_key_3': ['a_list', 'as', 'a value'],\n",
    "    'a_key_4': {'a_dict': 'as a value'}\n",
    "}\n",
    "Dictionaries are mutable - this means that item values can be changed\n",
    "Dictionaries have a bunch of methods available.\n",
    "clear() Removes all the elements from the dictionary\n",
    "copy() Returns a copy of the dictionary\n",
    "fromkeys() Returns a dictionary with the specified keys and value\n",
    "get() Returns the value of the specified key\n",
    "items() Returns a list containing a tuple for each key value pair\n",
    "keys() Returns a list containing the dictionary's keys\n",
    "pop() Removes the element with the specified key\n",
    "popitem() Removes the last inserted key-value pair\n",
    "setdefault() Returns the value of the specified key. If the key does not exist: \n",
    "insert the key, with the specified value\n",
    "update() Updates the dictionary with the specified key-value pairs\n",
    "values() Returns a list of all the values in the dictionary"
   ]
  },
  {
   "cell_type": "code",
   "execution_count": 20,
   "id": "b669c7c7",
   "metadata": {},
   "outputs": [
    {
     "name": "stdout",
     "output_type": "stream",
     "text": [
      "{'a_key': 'a_value', 'a_key_2': 'a_value_2', 'a_key_3': ['a_list', 'as', 'a value'], 'a_key_4': {'a_dict': 'as a value'}}\n",
      "a_value\n",
      "{'a_dict': 'as a value'}\n"
     ]
    }
   ],
   "source": [
    "#The basics\n",
    "some_dict = {\n",
    "    'a_key': 'a_value',\n",
    "    'a_key_2': 'a_value_2',\n",
    "    'a_key_3': ['a_list', 'as', 'a value'],\n",
    "    'a_key_4': {'a_dict': 'as a value'}\n",
    "}\n",
    "print(some_dict)\n",
    "\n",
    "\n",
    "#print(some_dict[0])  # this will return an error as you need to ref the key by name\n",
    "print(some_dict['a_key'])\n",
    "print(some_dict['a_key_4'])"
   ]
  },
  {
   "cell_type": "code",
   "execution_count": 21,
   "id": "95786682",
   "metadata": {},
   "outputs": [
    {
     "name": "stdout",
     "output_type": "stream",
     "text": [
      "new_value\n",
      "a_value\n"
     ]
    }
   ],
   "source": [
    "#Create a dict copy\n",
    "sd2 = some_dict.copy()\n",
    "\n",
    "#altering a dict\n",
    "some_dict['a_key'] = 'new_value'  \n",
    "print(some_dict['a_key'])\n",
    "print(sd2['a_key'])"
   ]
  },
  {
   "cell_type": "code",
   "execution_count": 23,
   "id": "264f5183",
   "metadata": {},
   "outputs": [
    {
     "name": "stdout",
     "output_type": "stream",
     "text": [
      "4\n",
      "dict_keys(['a_key', 'a_key_2', 'a_key_3', 'a_key_4'])\n",
      "dict_values(['new_value', 'a_value_2', ['a_list', 'as', 'a value'], {'a_dict': 'as a value'}])\n"
     ]
    }
   ],
   "source": [
    "#Length\n",
    "print(len(some_dict))\n",
    "\n",
    "#show all keys and values\n",
    "print(some_dict.keys())\n",
    "print(some_dict.values())"
   ]
  },
  {
   "cell_type": "code",
   "execution_count": 24,
   "id": "e58684ba",
   "metadata": {},
   "outputs": [
    {
     "name": "stdout",
     "output_type": "stream",
     "text": [
      "{2: 4, 4: 16, 6: 36}\n",
      "{'a': 1, 'b': 2, 'c': 3, 'd': 4}\n"
     ]
    }
   ],
   "source": [
    "#Dict comprehension\n",
    "print({x: x**2 for x in (2, 4, 6)})\n",
    "\n",
    "#built-in function dict()\n",
    "x = dict(a=1, b=2, c=3, d=4)# creates a dictionary object\n",
    "print(x)"
   ]
  },
  {
   "cell_type": "markdown",
   "id": "1a8daff0",
   "metadata": {},
   "source": [
    "## if"
   ]
  },
  {
   "cell_type": "code",
   "execution_count": 25,
   "id": "757a0bad",
   "metadata": {},
   "outputs": [
    {
     "name": "stdout",
     "output_type": "stream",
     "text": [
      "Negative changed to zero\n",
      "Zero\n",
      "Single\n",
      "More\n"
     ]
    }
   ],
   "source": [
    "#The basics\n",
    "def number_play(x):\n",
    "    if x < 0:\n",
    "        x = 0\n",
    "        print('Negative changed to zero')\n",
    "    elif x == 0:\n",
    "        print('Zero')\n",
    "    elif x == 1:\n",
    "        print('Single')\n",
    "    else:\n",
    "        print('More')\n",
    "\n",
    "number_play(-1)\n",
    "number_play(0)\n",
    "number_play(1)\n",
    "number_play(2)"
   ]
  },
  {
   "cell_type": "markdown",
   "id": "1d035d9e",
   "metadata": {},
   "source": [
    "## match"
   ]
  },
  {
   "cell_type": "code",
   "execution_count": 1,
   "id": "cf8bb111",
   "metadata": {},
   "outputs": [
    {
     "name": "stdout",
     "output_type": "stream",
     "text": [
      "3.10.0 (tags/v3.10.0:b494f59, Oct  4 2021, 19:00:18) [MSC v.1929 64 bit (AMD64)]\n"
     ]
    }
   ],
   "source": [
    "import sys\n",
    "print(sys.version)\n",
    "\n",
    "# need 3.10 >="
   ]
  },
  {
   "cell_type": "code",
   "execution_count": 5,
   "id": "b72196b5",
   "metadata": {},
   "outputs": [
    {
     "name": "stdout",
     "output_type": "stream",
     "text": [
      "Origin\n",
      "Y=123\n",
      "X=123\n",
      "X=123, Y=456\n"
     ]
    }
   ],
   "source": [
    "def http_error2(status):\n",
    "    match status:\n",
    "        case 400:\n",
    "            return \"Bad request\"\n",
    "        case 404:\n",
    "            return \"Not found\"\n",
    "        case 418:\n",
    "            return \"I'm a teapot\"\n",
    "        case _:\n",
    "            return \"Something's wrong with the internet\"\n",
    "\n",
    "        \n",
    "def http_error1(status):\n",
    "    match status:\n",
    "        case 400 | 401 | 403 | 404:\n",
    "            return \"Not allowed\"\n",
    "        case 418:\n",
    "            return \"I'm a teapot\"\n",
    "        case _:\n",
    "            return \"Something's wrong with the internet\"\n",
    "\n",
    "\n",
    "#Patterns can look like unpacking assignments, and can be used to bind variables:\n",
    "# point is an (x, y) tuple\n",
    "def http_error(point):\n",
    "    match point:\n",
    "        case (0, 0):\n",
    "            print(\"Origin\")\n",
    "        case (0, y):\n",
    "            print(f\"Y={y}\")\n",
    "        case (x, 0):\n",
    "            print(f\"X={x}\")\n",
    "        case (x, y):\n",
    "            print(f\"X={x}, Y={y}\")\n",
    "        case _:\n",
    "            raise ValueError(\"Not a point\")\n",
    "\n",
    "point_tuple = (0,0)\n",
    "http_error(point_tuple)\n",
    "point_tuple = (0,123)\n",
    "http_error(point_tuple)\n",
    "point_tuple = (123,0)\n",
    "http_error(point_tuple)\n",
    "point_tuple = (123,456)\n",
    "http_error(point_tuple)\n",
    "# http_error(\"\")"
   ]
  },
  {
   "cell_type": "code",
   "execution_count": 6,
   "id": "3ef8c6ed",
   "metadata": {},
   "outputs": [
    {
     "name": "stdout",
     "output_type": "stream",
     "text": [
      "Origin\n",
      "Y=10\n",
      "X=10\n",
      "Somewhere else\n",
      "Not a point\n"
     ]
    }
   ],
   "source": [
    "#Match class\n",
    "from dataclasses import dataclass\n",
    "@dataclass\n",
    "class Point:\n",
    "    x: int\n",
    "    y: int\n",
    "\n",
    "def where_is(point):\n",
    "    match point:\n",
    "        case Point(x=0, y=0):\n",
    "            print(\"Origin\")\n",
    "        case Point(x=0, y=y):\n",
    "            print(f\"Y={y}\")\n",
    "        case Point(x=x, y=0):\n",
    "            print(f\"X={x}\")\n",
    "        case Point():\n",
    "            print(\"Somewhere else\")\n",
    "        case _:\n",
    "            print(\"Not a point\")\n",
    "\n",
    "where_is(Point(0, 0))\n",
    "where_is(Point(0, 10))\n",
    "where_is(Point(10, 0))\n",
    "where_is(Point(10, 10))\n",
    "where_is(\"\")"
   ]
  },
  {
   "cell_type": "markdown",
   "id": "27a2a000",
   "metadata": {},
   "source": [
    "## loop"
   ]
  },
  {
   "cell_type": "markdown",
   "id": "18c932ab",
   "metadata": {},
   "source": [
    "The built-in Range function 'range()' comes in handy if you do need \n",
    "to iterate over a sequence of numbers. It generates arithmetic progressions:\n",
    "range(start, stop, step)\n",
    "start\n",
    "The value of the start parameter (or 0 if the parameter was not supplied)\n",
    "stop\n",
    "The value of the stop parameter\n",
    "step\n",
    "The value of the step parameter (or 1 if the parameter was not supplied)"
   ]
  },
  {
   "cell_type": "code",
   "execution_count": 1,
   "id": "7f9cc8da",
   "metadata": {},
   "outputs": [
    {
     "name": "stdout",
     "output_type": "stream",
     "text": [
      "cat 3\n",
      "window 6\n",
      "defenestrate 12\n"
     ]
    }
   ],
   "source": [
    "#The basics\n",
    "words = ['cat', 'window', 'defenestrate']\n",
    "for w in words:\n",
    "    print(w, len(w))"
   ]
  },
  {
   "cell_type": "code",
   "execution_count": 4,
   "id": "dd88b830",
   "metadata": {},
   "outputs": [
    {
     "name": "stdout",
     "output_type": "stream",
     "text": [
      "<class 'dict'>\n",
      "{'Quinn': 'active', 'John': 'active'}\n"
     ]
    }
   ],
   "source": [
    "users = {\n",
    "    'Quinn': 'active',\n",
    "    'Éléonore': 'inactive',\n",
    "    'John': 'active'\n",
    "    }\n",
    "print(type(users))\n",
    "# Strategy:  Iterate over a copy\n",
    "for user, status in users.copy().items():\n",
    "    if status == 'inactive':\n",
    "        del users[user]\n",
    "\n",
    "# Strategy:  Create a new collection\n",
    "active_users = {}\n",
    "for user, status in users.items():\n",
    "    if status == 'active':\n",
    "        active_users[user] = status\n",
    "print(active_users)"
   ]
  },
  {
   "cell_type": "code",
   "execution_count": 5,
   "id": "868ebe51",
   "metadata": {},
   "outputs": [
    {
     "name": "stdout",
     "output_type": "stream",
     "text": [
      "0\n",
      "1\n",
      "2\n",
      "3\n",
      "4\n",
      "[5, 6, 7, 8, 9]\n",
      "[0, 3, 6, 9]\n",
      "[-10, -40, -70]\n",
      "0 Mary\n",
      "1 had\n",
      "2 a\n",
      "3 little\n",
      "4 lamb\n"
     ]
    },
    {
     "data": {
      "text/plain": [
       "6"
      ]
     },
     "execution_count": 5,
     "metadata": {},
     "output_type": "execute_result"
    }
   ],
   "source": [
    "#using the range function\n",
    "for i in range(5):\n",
    "    print(i)\n",
    "\n",
    "#...remember range(start, stop, step)\n",
    "print(list(range(5, 10)))\n",
    "print(list(range(0, 10, 3)))\n",
    "print(list(range(-10, -100, -30)))\n",
    "\n",
    "a = ['Mary', 'had', 'a', 'little', 'lamb']\n",
    "for i in range(len(a)):\n",
    "    print(i, a[i])\n",
    "\n",
    "#using the built-in sum function\n",
    "sum(range(4))"
   ]
  },
  {
   "cell_type": "code",
   "execution_count": 6,
   "id": "6480fd80",
   "metadata": {},
   "outputs": [
    {
     "name": "stdout",
     "output_type": "stream",
     "text": [
      "2 is a prime number\n",
      "3 is a prime number\n",
      "4 equals 2 * 2\n",
      "5 is a prime number\n",
      "6 equals 2 * 3\n",
      "7 is a prime number\n",
      "8 equals 2 * 4\n",
      "9 equals 3 * 3\n"
     ]
    }
   ],
   "source": [
    "#Break statement\n",
    "for n in range(2, 10): #equivalent of...for n in [2,3,4,5,6,7,8,9]:\n",
    "    for x in range(2, n): #first loop is for x in range(2, 2):\n",
    "        if n % x == 0: \n",
    "            print(n, 'equals', x, '*', n//x)\n",
    "            break\n",
    "    #the else runs when no break clause occurs\n",
    "    else:\n",
    "        print(n, 'is a prime number')"
   ]
  },
  {
   "cell_type": "code",
   "execution_count": 7,
   "id": "a9d5b245",
   "metadata": {},
   "outputs": [
    {
     "name": "stdout",
     "output_type": "stream",
     "text": [
      "Found an even number 2\n",
      "Found an odd number 3\n",
      "Found an even number 4\n",
      "Found an odd number 5\n",
      "Found an even number 6\n",
      "Found an odd number 7\n",
      "Found an even number 8\n",
      "Found an odd number 9\n"
     ]
    }
   ],
   "source": [
    "#Continue statement\n",
    "for num in range(2, 10): #equivalent of...for n in [2,3,4,5,6,7,8,9]:\n",
    "    if num % 2 == 0:\n",
    "        print(\"Found an even number\", num)\n",
    "        continue #Will continue with the next loop\n",
    "    print(\"Found an odd number\", num)"
   ]
  },
  {
   "cell_type": "code",
   "execution_count": 8,
   "id": "81f023b3",
   "metadata": {},
   "outputs": [],
   "source": [
    "#Pass statement\n",
    "class MyPassClass:\n",
    "    pass\n",
    "\n",
    "\n",
    "def my_pass_def(*args):\n",
    "    pass #Needs looking at"
   ]
  },
  {
   "cell_type": "markdown",
   "id": "6d5976ab",
   "metadata": {},
   "source": [
    "## Functions"
   ]
  },
  {
   "cell_type": "code",
   "execution_count": 9,
   "id": "1cc3036e",
   "metadata": {},
   "outputs": [
    {
     "data": {
      "text/plain": [
       "10"
      ]
     },
     "execution_count": 9,
     "metadata": {},
     "output_type": "execute_result"
    }
   ],
   "source": [
    "#basics\n",
    "def demo_func(param:int):\n",
    "    \"\"\"This is just a demo\n",
    "    function.\n",
    "    \"\"\"\n",
    "    calc = param + 4\n",
    "    return calc\n",
    "\n",
    "demo_func(6)"
   ]
  },
  {
   "cell_type": "code",
   "execution_count": 10,
   "id": "33df301e",
   "metadata": {},
   "outputs": [],
   "source": [
    "#function arguments\n",
    "def standard_arg(arg):\n",
    "    print(arg)\n",
    "\n",
    "def pos_only_arg(arg, /):\n",
    "    print(arg)\n",
    "\n",
    "def kwd_only_arg(*, arg):\n",
    "    print(arg)\n",
    "\n",
    "def combined_example(pos_only, /, standard, *, kwd_only):\n",
    "    print(pos_only, standard, kwd_only)\n",
    "\n",
    "\n"
   ]
  },
  {
   "cell_type": "raw",
   "id": "2bd424ff",
   "metadata": {},
   "source": [
    "def combined_example(pos_only, /, standard, *, kwd_only):\n",
    "                     --------     --------     ---------\n",
    "                        |             |                 |\n",
    "                        |        Positional or keyword  |\n",
    "                        |                               |\n",
    "                        -- Positional only              --Keyword only\n"
   ]
  },
  {
   "cell_type": "code",
   "execution_count": 11,
   "id": "6951bc30",
   "metadata": {},
   "outputs": [
    {
     "name": "stdout",
     "output_type": "stream",
     "text": [
      "2\n",
      "2\n",
      "2\n",
      "2 2 2\n",
      "2 2 2\n"
     ]
    }
   ],
   "source": [
    "standard_arg(2)\n",
    "pos_only_arg(2)\n",
    "kwd_only_arg(arg=2)\n",
    "combined_example(2, 2, kwd_only=2)\n",
    "combined_example(2, standard=2, kwd_only=2)"
   ]
  },
  {
   "cell_type": "markdown",
   "id": "6e347e3e",
   "metadata": {},
   "source": [
    "## Errors"
   ]
  },
  {
   "cell_type": "markdown",
   "id": "219c7339",
   "metadata": {},
   "source": [
    "Here are all of Pythons built-in exception\n",
    "ArithmeticError Raised when an error occurs in numeric calculations\n",
    "AssertionError Raised when an assert statement fails\n",
    "AttributeError Raised when attribute reference or assignment fails\n",
    "Exception Base class for all exceptions\n",
    "EOFError Raised when the input() method hits an \"end of file\" condition (EOF)\n",
    "FloatingPointError Raised when a floating point calculation fails\n",
    "GeneratorExit Raised when a generator is closed (with the close() method)\n",
    "ImportError Raised when an imported module does not exist\n",
    "IndentationError Raised when indentation is not correct\n",
    "IndexError Raised when an index of a sequence does not exist\n",
    "KeyError Raised when a key does not exist in a dictionary\n",
    "KeyboardInterrupt Raised when the user presses Ctrl+c, Ctrl+z or Delete\n",
    "LookupError Raised when errors raised cant be found\n",
    "MemoryError Raised when a program runs out of memory\n",
    "NameError Raised when a variable does not exist\n",
    "NotImplementedError Raised when an abstract method requires an inherited class to override the method\n",
    "OSError Raised when a system related operation causes an error\n",
    "OverflowError Raised when the result of a numeric calculation is too large\n",
    "ReferenceError Raised when a weak reference object does not exist\n",
    "RuntimeError Raised when an error occurs that do not belong to any specific expections\n",
    "StopIteration Raised when the next() method of an iterator has no further values\n",
    "SyntaxError Raised when a syntax error occurs\n",
    "TabError Raised when indentation consists of tabs or spaces\n",
    "SystemError Raised when a system error occurs\n",
    "SystemExit Raised when the sys.exit() function is called\n",
    "TypeError Raised when two different types are combined\n",
    "UnboundLocalError Raised when a local variable is referenced before assignment\n",
    "UnicodeError Raised when a unicode problem occurs\n",
    "UnicodeEncodeError Raised when a unicode encoding problem occurs\n",
    "UnicodeDecodeError Raised when a unicode decoding problem occurs\n",
    "UnicodeTranslateError Raised when a unicode translation problem occurs\n",
    "ValueError Raised when there is a wrong value in a specified data type\n",
    "ZeroDivisionError Raised when the second operator in a division is zero"
   ]
  },
  {
   "cell_type": "code",
   "execution_count": 12,
   "id": "ee6165fa",
   "metadata": {},
   "outputs": [
    {
     "name": "stdout",
     "output_type": "stream",
     "text": [
      "Please enter a number: f\n",
      "Oops!  That was no valid number.  Try again...\n",
      "Please enter a number: 1\n"
     ]
    }
   ],
   "source": [
    "#Handling exceptions\n",
    "\n",
    "while True:\n",
    "    try:\n",
    "        x = int(input(\"Please enter a number: \"))\n",
    "        break\n",
    "    #Add multiple exceptions in a tuple (RuntimeError, TypeError, NameError)\n",
    "    except (RuntimeError, TypeError, NameError, ValueError): \n",
    "        print(\"Oops!  That was no valid number.  Try again...\")"
   ]
  },
  {
   "cell_type": "code",
   "execution_count": 13,
   "id": "0cac5577",
   "metadata": {},
   "outputs": [
    {
     "name": "stdout",
     "output_type": "stream",
     "text": [
      "Handling run-time error: division by zero\n"
     ]
    }
   ],
   "source": [
    "def this_fails():\n",
    "    x = 1/0\n",
    "\n",
    "try:\n",
    "    this_fails()\n",
    "except ZeroDivisionError as err:\n",
    "    print('Handling run-time error:', err)"
   ]
  },
  {
   "cell_type": "code",
   "execution_count": 14,
   "id": "a345e874",
   "metadata": {},
   "outputs": [
    {
     "name": "stdout",
     "output_type": "stream",
     "text": [
      "result is 2.0\n",
      "executing finally clause\n",
      "division by zero!\n",
      "executing finally clause\n",
      "Must be int!\n",
      "executing finally clause\n"
     ]
    }
   ],
   "source": [
    "def divide(x, y):\n",
    "    try:\n",
    "        result = x / y\n",
    "    except ZeroDivisionError:\n",
    "        print(\"division by zero!\")\n",
    "    except TypeError:\n",
    "        print(\"Must be int!\")\n",
    "    else:\n",
    "        print(\"result is\", result)\n",
    "    finally:\n",
    "        print(\"executing finally clause\")\n",
    "\n",
    "divide(2, 1)\n",
    "divide(2, 0)\n",
    "divide(\"2\", \"1\")"
   ]
  },
  {
   "cell_type": "markdown",
   "id": "f6ecf8d5",
   "metadata": {},
   "source": [
    "## Classes"
   ]
  },
  {
   "cell_type": "code",
   "execution_count": 16,
   "id": "3a62febb",
   "metadata": {},
   "outputs": [
    {
     "name": "stdout",
     "output_type": "stream",
     "text": [
      "12345\n",
      "<function MyClass.f at 0x00000217B7F02200>\n",
      "A simple example class\n",
      "<__main__.MyClass object at 0x00000217B7F29AB0>\n",
      "12345\n"
     ]
    },
    {
     "data": {
      "text/plain": [
       "'hello world'"
      ]
     },
     "execution_count": 16,
     "metadata": {},
     "output_type": "execute_result"
    }
   ],
   "source": [
    "#basics\n",
    "\n",
    "class MyClass:\n",
    "    \"\"\"A simple example class\"\"\"\n",
    "    # class variable\n",
    "    i = 12345\n",
    "    \n",
    "    def f(self):\n",
    "        return 'hello world'\n",
    "\n",
    "print(MyClass.i) # return the int\n",
    "print(MyClass.f) # returns a function object\n",
    "print(MyClass.__doc__) # magic method/dunder method that return the text literal\n",
    "\n",
    "x = MyClass() #instantiates the class\n",
    "print(x)\n",
    "print(x.i) # return the int\n",
    "x.f() # calls the class method"
   ]
  },
  {
   "cell_type": "markdown",
   "id": "d9db5560",
   "metadata": {},
   "source": [
    "Notice how self is passed as the first arg!! \n",
    "We pass the methods instance object in as the first arg!\n",
    "so x.f() is the equivalent of MyClass.f(x)\n",
    "Note: 'self' has no special meaning to Python - it's just convention"
   ]
  },
  {
   "cell_type": "code",
   "execution_count": 18,
   "id": "eb41b54c",
   "metadata": {},
   "outputs": [
    {
     "name": "stdout",
     "output_type": "stream",
     "text": [
      "4\n"
     ]
    },
    {
     "data": {
      "text/plain": [
       "64"
      ]
     },
     "execution_count": 18,
     "metadata": {},
     "output_type": "execute_result"
    }
   ],
   "source": [
    "class MyClass:\n",
    "    \"\"\"A simple example class\"\"\"\n",
    "    def __init__(self, my_int:int):\n",
    "        self.i = my_int\n",
    "    \n",
    "    def f(self):\n",
    "        new = self.i ** 3\n",
    "        return new\n",
    "\n",
    "# print(MyClass.i)\n",
    "x = MyClass(4) #instantiates the class\n",
    "print(x.i) # return the int\n",
    "x.f() # calls the class method"
   ]
  },
  {
   "cell_type": "code",
   "execution_count": 20,
   "id": "e5e89676",
   "metadata": {},
   "outputs": [
    {
     "name": "stdout",
     "output_type": "stream",
     "text": [
      "16\n"
     ]
    }
   ],
   "source": [
    "#Instance objects\n",
    "#We can add and delete attributs to our object\n",
    "\n",
    "x.counter = 1 # Add a data attribute and assign a value\n",
    "while x.counter < 10:\n",
    "    x.counter = x.counter * 2\n",
    "    #first loop x.counter == 2\n",
    "    #second loop x.counter == 4\n",
    "    #third loop x.counter == 8\n",
    "    #forth loop x.counter == 16\n",
    "    #fifth loop does not start as x.counter > 10\n",
    "\n",
    "print(x.counter) #prints 16\n",
    "del x.counter # delete the data attribute\n",
    "# print(x.counter) # AttributeError"
   ]
  },
  {
   "cell_type": "code",
   "execution_count": 22,
   "id": "db6c30cf",
   "metadata": {},
   "outputs": [
    {
     "name": "stdout",
     "output_type": "stream",
     "text": [
      "canine\n",
      "canine\n",
      "Fido\n",
      "Buddy\n",
      "['roll over']\n",
      "['play dead']\n"
     ]
    }
   ],
   "source": [
    "#Class and Instance Variables\n",
    "class Dog:\n",
    "    kind = 'canine' # class variable shared by all instances\n",
    "    def __init__(self, name):\n",
    "        self.name = name# instance variable unique to each instance\n",
    "        self.tricks = []\n",
    "    def add_trick(self, trick):\n",
    "        self.tricks.append(trick)\n",
    "\n",
    "d = Dog('Fido')\n",
    "e = Dog('Buddy')\n",
    "print(d.kind)\n",
    "print(e.kind)\n",
    "print(d.name)\n",
    "print(e.name)\n",
    "d.add_trick('roll over')\n",
    "e.add_trick('play dead')\n",
    "print(d.tricks)\n",
    "print(e.tricks)"
   ]
  },
  {
   "cell_type": "markdown",
   "id": "7b0e3706",
   "metadata": {},
   "source": [
    "class DerivedClassName(Base1, Base2, Base3):\n",
    "    <statement-1>\n",
    "    .\n",
    "    .\n",
    "    .\n",
    "    <statement-N>\n",
    "Execution of a derived class definition proceeds the same as for a base \n",
    "class. When the class object is constructed, the base class is remembered. \n",
    "This is used for resolving attribute references: if a requested attribute \n",
    "is not found in the class, the search proceeds to look in the base class. \n",
    "This rule is applied recursively if the base class itself is derived from \n",
    "some other class.\n",
    "Derived classes may extend or override methods of their base classes."
   ]
  },
  {
   "cell_type": "code",
   "execution_count": 23,
   "id": "75d32505",
   "metadata": {},
   "outputs": [
    {
     "name": "stdout",
     "output_type": "stream",
     "text": [
      "[]\n",
      "[('one', 'these'), ('two', 'are'), ('three', 'values')]\n"
     ]
    }
   ],
   "source": [
    "class Mapping:\n",
    "    '''\n",
    "    Private variable example.\n",
    "    checkout __update - this is called name mangling  \n",
    "    Is done without regard to syntactical position\n",
    "    '''\n",
    "    def __init__(self, iterable):\n",
    "        self.items_list = []\n",
    "        self.iterable = iterable\n",
    "    \n",
    "    def update(self):\n",
    "        for item in self.iterable:\n",
    "            self.items_list.append(item)    \n",
    "\n",
    "class MappingSubclass(Mapping):\n",
    "    def update(self, keys, values):\n",
    "        # provides new signature for update()\n",
    "        # but does not break __init__()\n",
    "        for item in zip(keys, values):\n",
    "            self.items_list.append(item)\n",
    "\n",
    "m = MappingSubclass([1,2,3,4])\n",
    "print(m.items_list)\n",
    "m.update([\"one\",\"two\",\"three\"], [\"these\", \"are\", \"values\"])\n",
    "print(m.items_list)"
   ]
  },
  {
   "cell_type": "code",
   "execution_count": null,
   "id": "7f8efa4e",
   "metadata": {},
   "outputs": [],
   "source": []
  }
 ],
 "metadata": {
  "kernelspec": {
   "display_name": "env",
   "language": "python",
   "name": "env"
  },
  "language_info": {
   "codemirror_mode": {
    "name": "ipython",
    "version": 3
   },
   "file_extension": ".py",
   "mimetype": "text/x-python",
   "name": "python",
   "nbconvert_exporter": "python",
   "pygments_lexer": "ipython3",
   "version": "3.10.0"
  }
 },
 "nbformat": 4,
 "nbformat_minor": 5
}
