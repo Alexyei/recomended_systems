{
 "cells": [
  {
   "cell_type": "code",
   "execution_count": 147,
   "id": "e0a1e0e1",
   "metadata": {},
   "outputs": [],
   "source": [
    "import pandas as pd\n",
    "import numpy as np\n",
    "from tqdm import tqdm\n",
    "from scipy import sparse"
   ]
  },
  {
   "cell_type": "code",
   "execution_count": 133,
   "id": "e2253065",
   "metadata": {},
   "outputs": [],
   "source": [
    "users_ratings = pd.read_csv('../ratings.csv')"
   ]
  },
  {
   "cell_type": "code",
   "execution_count": 134,
   "id": "0fb38616",
   "metadata": {},
   "outputs": [
    {
     "name": "stdout",
     "output_type": "stream",
     "text": [
      "(100836, 3)\n"
     ]
    }
   ],
   "source": [
    "user_ratings = users_ratings.drop('timestamp',axis=1)\n",
    "print(user_ratings.shape)"
   ]
  },
  {
   "cell_type": "code",
   "execution_count": 135,
   "id": "51d96183",
   "metadata": {},
   "outputs": [
    {
     "data": {
      "text/html": [
       "<div>\n",
       "<style scoped>\n",
       "    .dataframe tbody tr th:only-of-type {\n",
       "        vertical-align: middle;\n",
       "    }\n",
       "\n",
       "    .dataframe tbody tr th {\n",
       "        vertical-align: top;\n",
       "    }\n",
       "\n",
       "    .dataframe thead th {\n",
       "        text-align: right;\n",
       "    }\n",
       "</style>\n",
       "<table border=\"1\" class=\"dataframe\">\n",
       "  <thead>\n",
       "    <tr style=\"text-align: right;\">\n",
       "      <th></th>\n",
       "      <th>userId</th>\n",
       "      <th>movieId</th>\n",
       "      <th>rating</th>\n",
       "    </tr>\n",
       "  </thead>\n",
       "  <tbody>\n",
       "    <tr>\n",
       "      <th>0</th>\n",
       "      <td>1</td>\n",
       "      <td>1</td>\n",
       "      <td>4.0</td>\n",
       "    </tr>\n",
       "    <tr>\n",
       "      <th>1</th>\n",
       "      <td>1</td>\n",
       "      <td>3</td>\n",
       "      <td>4.0</td>\n",
       "    </tr>\n",
       "    <tr>\n",
       "      <th>2</th>\n",
       "      <td>1</td>\n",
       "      <td>6</td>\n",
       "      <td>4.0</td>\n",
       "    </tr>\n",
       "    <tr>\n",
       "      <th>3</th>\n",
       "      <td>1</td>\n",
       "      <td>47</td>\n",
       "      <td>5.0</td>\n",
       "    </tr>\n",
       "    <tr>\n",
       "      <th>4</th>\n",
       "      <td>1</td>\n",
       "      <td>50</td>\n",
       "      <td>5.0</td>\n",
       "    </tr>\n",
       "  </tbody>\n",
       "</table>\n",
       "</div>"
      ],
      "text/plain": [
       "   userId  movieId  rating\n",
       "0       1        1     4.0\n",
       "1       1        3     4.0\n",
       "2       1        6     4.0\n",
       "3       1       47     5.0\n",
       "4       1       50     5.0"
      ]
     },
     "execution_count": 135,
     "metadata": {},
     "output_type": "execute_result"
    }
   ],
   "source": [
    "user_ratings.head()"
   ]
  },
  {
   "cell_type": "code",
   "execution_count": 36,
   "id": "58edb034",
   "metadata": {},
   "outputs": [
    {
     "name": "stdout",
     "output_type": "stream",
     "text": [
      "610\n"
     ]
    },
    {
     "data": {
      "text/plain": [
       "9724"
      ]
     },
     "execution_count": 36,
     "metadata": {},
     "output_type": "execute_result"
    }
   ],
   "source": [
    "print(user_ratings['userId'].unique().shape[0])\n",
    "user_ratings['movieId'].unique().shape[0]"
   ]
  },
  {
   "cell_type": "markdown",
   "id": "5aceee4a",
   "metadata": {},
   "source": [
    "Дана матрица предпочтений User/Item. Сформировать рекомендации с\n",
    "помощью SVD.\n",
    "1.1. Предсказать оценки в выделенных ячейках.\n",
    "\n",
    "Решение:\n",
    "1. Создаём pivot_table\n",
    "2. Заменяем NaN на 0 в pivot_table\n",
    "3. Вычисляем предикты\n",
    "4. Заменяем нули предиктами\n",
    "5. Применяем SVD\n",
    "6. Определяем размерность матрицы содержащий 90% информации\n",
    "7. Получаем таблицу с предсказанными оценками\n",
    "8. Получаем проноз"
   ]
  },
  {
   "cell_type": "code",
   "execution_count": 50,
   "id": "4c32f8db",
   "metadata": {},
   "outputs": [
    {
     "data": {
      "text/html": [
       "<div>\n",
       "<style scoped>\n",
       "    .dataframe tbody tr th:only-of-type {\n",
       "        vertical-align: middle;\n",
       "    }\n",
       "\n",
       "    .dataframe tbody tr th {\n",
       "        vertical-align: top;\n",
       "    }\n",
       "\n",
       "    .dataframe thead th {\n",
       "        text-align: right;\n",
       "    }\n",
       "</style>\n",
       "<table border=\"1\" class=\"dataframe\">\n",
       "  <thead>\n",
       "    <tr style=\"text-align: right;\">\n",
       "      <th>movieId</th>\n",
       "      <th>1</th>\n",
       "      <th>2</th>\n",
       "      <th>3</th>\n",
       "      <th>4</th>\n",
       "      <th>5</th>\n",
       "      <th>6</th>\n",
       "      <th>7</th>\n",
       "      <th>8</th>\n",
       "      <th>9</th>\n",
       "      <th>10</th>\n",
       "      <th>...</th>\n",
       "      <th>193565</th>\n",
       "      <th>193567</th>\n",
       "      <th>193571</th>\n",
       "      <th>193573</th>\n",
       "      <th>193579</th>\n",
       "      <th>193581</th>\n",
       "      <th>193583</th>\n",
       "      <th>193585</th>\n",
       "      <th>193587</th>\n",
       "      <th>193609</th>\n",
       "    </tr>\n",
       "    <tr>\n",
       "      <th>userId</th>\n",
       "      <th></th>\n",
       "      <th></th>\n",
       "      <th></th>\n",
       "      <th></th>\n",
       "      <th></th>\n",
       "      <th></th>\n",
       "      <th></th>\n",
       "      <th></th>\n",
       "      <th></th>\n",
       "      <th></th>\n",
       "      <th></th>\n",
       "      <th></th>\n",
       "      <th></th>\n",
       "      <th></th>\n",
       "      <th></th>\n",
       "      <th></th>\n",
       "      <th></th>\n",
       "      <th></th>\n",
       "      <th></th>\n",
       "      <th></th>\n",
       "      <th></th>\n",
       "    </tr>\n",
       "  </thead>\n",
       "  <tbody>\n",
       "    <tr>\n",
       "      <th>1</th>\n",
       "      <td>4.0</td>\n",
       "      <td>NaN</td>\n",
       "      <td>4.0</td>\n",
       "      <td>NaN</td>\n",
       "      <td>NaN</td>\n",
       "      <td>4.0</td>\n",
       "      <td>NaN</td>\n",
       "      <td>NaN</td>\n",
       "      <td>NaN</td>\n",
       "      <td>NaN</td>\n",
       "      <td>...</td>\n",
       "      <td>NaN</td>\n",
       "      <td>NaN</td>\n",
       "      <td>NaN</td>\n",
       "      <td>NaN</td>\n",
       "      <td>NaN</td>\n",
       "      <td>NaN</td>\n",
       "      <td>NaN</td>\n",
       "      <td>NaN</td>\n",
       "      <td>NaN</td>\n",
       "      <td>NaN</td>\n",
       "    </tr>\n",
       "    <tr>\n",
       "      <th>2</th>\n",
       "      <td>NaN</td>\n",
       "      <td>NaN</td>\n",
       "      <td>NaN</td>\n",
       "      <td>NaN</td>\n",
       "      <td>NaN</td>\n",
       "      <td>NaN</td>\n",
       "      <td>NaN</td>\n",
       "      <td>NaN</td>\n",
       "      <td>NaN</td>\n",
       "      <td>NaN</td>\n",
       "      <td>...</td>\n",
       "      <td>NaN</td>\n",
       "      <td>NaN</td>\n",
       "      <td>NaN</td>\n",
       "      <td>NaN</td>\n",
       "      <td>NaN</td>\n",
       "      <td>NaN</td>\n",
       "      <td>NaN</td>\n",
       "      <td>NaN</td>\n",
       "      <td>NaN</td>\n",
       "      <td>NaN</td>\n",
       "    </tr>\n",
       "    <tr>\n",
       "      <th>3</th>\n",
       "      <td>NaN</td>\n",
       "      <td>NaN</td>\n",
       "      <td>NaN</td>\n",
       "      <td>NaN</td>\n",
       "      <td>NaN</td>\n",
       "      <td>NaN</td>\n",
       "      <td>NaN</td>\n",
       "      <td>NaN</td>\n",
       "      <td>NaN</td>\n",
       "      <td>NaN</td>\n",
       "      <td>...</td>\n",
       "      <td>NaN</td>\n",
       "      <td>NaN</td>\n",
       "      <td>NaN</td>\n",
       "      <td>NaN</td>\n",
       "      <td>NaN</td>\n",
       "      <td>NaN</td>\n",
       "      <td>NaN</td>\n",
       "      <td>NaN</td>\n",
       "      <td>NaN</td>\n",
       "      <td>NaN</td>\n",
       "    </tr>\n",
       "    <tr>\n",
       "      <th>4</th>\n",
       "      <td>NaN</td>\n",
       "      <td>NaN</td>\n",
       "      <td>NaN</td>\n",
       "      <td>NaN</td>\n",
       "      <td>NaN</td>\n",
       "      <td>NaN</td>\n",
       "      <td>NaN</td>\n",
       "      <td>NaN</td>\n",
       "      <td>NaN</td>\n",
       "      <td>NaN</td>\n",
       "      <td>...</td>\n",
       "      <td>NaN</td>\n",
       "      <td>NaN</td>\n",
       "      <td>NaN</td>\n",
       "      <td>NaN</td>\n",
       "      <td>NaN</td>\n",
       "      <td>NaN</td>\n",
       "      <td>NaN</td>\n",
       "      <td>NaN</td>\n",
       "      <td>NaN</td>\n",
       "      <td>NaN</td>\n",
       "    </tr>\n",
       "    <tr>\n",
       "      <th>5</th>\n",
       "      <td>4.0</td>\n",
       "      <td>NaN</td>\n",
       "      <td>NaN</td>\n",
       "      <td>NaN</td>\n",
       "      <td>NaN</td>\n",
       "      <td>NaN</td>\n",
       "      <td>NaN</td>\n",
       "      <td>NaN</td>\n",
       "      <td>NaN</td>\n",
       "      <td>NaN</td>\n",
       "      <td>...</td>\n",
       "      <td>NaN</td>\n",
       "      <td>NaN</td>\n",
       "      <td>NaN</td>\n",
       "      <td>NaN</td>\n",
       "      <td>NaN</td>\n",
       "      <td>NaN</td>\n",
       "      <td>NaN</td>\n",
       "      <td>NaN</td>\n",
       "      <td>NaN</td>\n",
       "      <td>NaN</td>\n",
       "    </tr>\n",
       "    <tr>\n",
       "      <th>...</th>\n",
       "      <td>...</td>\n",
       "      <td>...</td>\n",
       "      <td>...</td>\n",
       "      <td>...</td>\n",
       "      <td>...</td>\n",
       "      <td>...</td>\n",
       "      <td>...</td>\n",
       "      <td>...</td>\n",
       "      <td>...</td>\n",
       "      <td>...</td>\n",
       "      <td>...</td>\n",
       "      <td>...</td>\n",
       "      <td>...</td>\n",
       "      <td>...</td>\n",
       "      <td>...</td>\n",
       "      <td>...</td>\n",
       "      <td>...</td>\n",
       "      <td>...</td>\n",
       "      <td>...</td>\n",
       "      <td>...</td>\n",
       "      <td>...</td>\n",
       "    </tr>\n",
       "    <tr>\n",
       "      <th>606</th>\n",
       "      <td>2.5</td>\n",
       "      <td>NaN</td>\n",
       "      <td>NaN</td>\n",
       "      <td>NaN</td>\n",
       "      <td>NaN</td>\n",
       "      <td>NaN</td>\n",
       "      <td>2.5</td>\n",
       "      <td>NaN</td>\n",
       "      <td>NaN</td>\n",
       "      <td>NaN</td>\n",
       "      <td>...</td>\n",
       "      <td>NaN</td>\n",
       "      <td>NaN</td>\n",
       "      <td>NaN</td>\n",
       "      <td>NaN</td>\n",
       "      <td>NaN</td>\n",
       "      <td>NaN</td>\n",
       "      <td>NaN</td>\n",
       "      <td>NaN</td>\n",
       "      <td>NaN</td>\n",
       "      <td>NaN</td>\n",
       "    </tr>\n",
       "    <tr>\n",
       "      <th>607</th>\n",
       "      <td>4.0</td>\n",
       "      <td>NaN</td>\n",
       "      <td>NaN</td>\n",
       "      <td>NaN</td>\n",
       "      <td>NaN</td>\n",
       "      <td>NaN</td>\n",
       "      <td>NaN</td>\n",
       "      <td>NaN</td>\n",
       "      <td>NaN</td>\n",
       "      <td>NaN</td>\n",
       "      <td>...</td>\n",
       "      <td>NaN</td>\n",
       "      <td>NaN</td>\n",
       "      <td>NaN</td>\n",
       "      <td>NaN</td>\n",
       "      <td>NaN</td>\n",
       "      <td>NaN</td>\n",
       "      <td>NaN</td>\n",
       "      <td>NaN</td>\n",
       "      <td>NaN</td>\n",
       "      <td>NaN</td>\n",
       "    </tr>\n",
       "    <tr>\n",
       "      <th>608</th>\n",
       "      <td>2.5</td>\n",
       "      <td>2.0</td>\n",
       "      <td>2.0</td>\n",
       "      <td>NaN</td>\n",
       "      <td>NaN</td>\n",
       "      <td>NaN</td>\n",
       "      <td>NaN</td>\n",
       "      <td>NaN</td>\n",
       "      <td>NaN</td>\n",
       "      <td>4.0</td>\n",
       "      <td>...</td>\n",
       "      <td>NaN</td>\n",
       "      <td>NaN</td>\n",
       "      <td>NaN</td>\n",
       "      <td>NaN</td>\n",
       "      <td>NaN</td>\n",
       "      <td>NaN</td>\n",
       "      <td>NaN</td>\n",
       "      <td>NaN</td>\n",
       "      <td>NaN</td>\n",
       "      <td>NaN</td>\n",
       "    </tr>\n",
       "    <tr>\n",
       "      <th>609</th>\n",
       "      <td>3.0</td>\n",
       "      <td>NaN</td>\n",
       "      <td>NaN</td>\n",
       "      <td>NaN</td>\n",
       "      <td>NaN</td>\n",
       "      <td>NaN</td>\n",
       "      <td>NaN</td>\n",
       "      <td>NaN</td>\n",
       "      <td>NaN</td>\n",
       "      <td>4.0</td>\n",
       "      <td>...</td>\n",
       "      <td>NaN</td>\n",
       "      <td>NaN</td>\n",
       "      <td>NaN</td>\n",
       "      <td>NaN</td>\n",
       "      <td>NaN</td>\n",
       "      <td>NaN</td>\n",
       "      <td>NaN</td>\n",
       "      <td>NaN</td>\n",
       "      <td>NaN</td>\n",
       "      <td>NaN</td>\n",
       "    </tr>\n",
       "    <tr>\n",
       "      <th>610</th>\n",
       "      <td>5.0</td>\n",
       "      <td>NaN</td>\n",
       "      <td>NaN</td>\n",
       "      <td>NaN</td>\n",
       "      <td>NaN</td>\n",
       "      <td>5.0</td>\n",
       "      <td>NaN</td>\n",
       "      <td>NaN</td>\n",
       "      <td>NaN</td>\n",
       "      <td>NaN</td>\n",
       "      <td>...</td>\n",
       "      <td>NaN</td>\n",
       "      <td>NaN</td>\n",
       "      <td>NaN</td>\n",
       "      <td>NaN</td>\n",
       "      <td>NaN</td>\n",
       "      <td>NaN</td>\n",
       "      <td>NaN</td>\n",
       "      <td>NaN</td>\n",
       "      <td>NaN</td>\n",
       "      <td>NaN</td>\n",
       "    </tr>\n",
       "  </tbody>\n",
       "</table>\n",
       "<p>610 rows × 9724 columns</p>\n",
       "</div>"
      ],
      "text/plain": [
       "movieId  1       2       3       4       5       6       7       8       \\\n",
       "userId                                                                    \n",
       "1           4.0     NaN     4.0     NaN     NaN     4.0     NaN     NaN   \n",
       "2           NaN     NaN     NaN     NaN     NaN     NaN     NaN     NaN   \n",
       "3           NaN     NaN     NaN     NaN     NaN     NaN     NaN     NaN   \n",
       "4           NaN     NaN     NaN     NaN     NaN     NaN     NaN     NaN   \n",
       "5           4.0     NaN     NaN     NaN     NaN     NaN     NaN     NaN   \n",
       "...         ...     ...     ...     ...     ...     ...     ...     ...   \n",
       "606         2.5     NaN     NaN     NaN     NaN     NaN     2.5     NaN   \n",
       "607         4.0     NaN     NaN     NaN     NaN     NaN     NaN     NaN   \n",
       "608         2.5     2.0     2.0     NaN     NaN     NaN     NaN     NaN   \n",
       "609         3.0     NaN     NaN     NaN     NaN     NaN     NaN     NaN   \n",
       "610         5.0     NaN     NaN     NaN     NaN     5.0     NaN     NaN   \n",
       "\n",
       "movieId  9       10      ...  193565  193567  193571  193573  193579  193581  \\\n",
       "userId                   ...                                                   \n",
       "1           NaN     NaN  ...     NaN     NaN     NaN     NaN     NaN     NaN   \n",
       "2           NaN     NaN  ...     NaN     NaN     NaN     NaN     NaN     NaN   \n",
       "3           NaN     NaN  ...     NaN     NaN     NaN     NaN     NaN     NaN   \n",
       "4           NaN     NaN  ...     NaN     NaN     NaN     NaN     NaN     NaN   \n",
       "5           NaN     NaN  ...     NaN     NaN     NaN     NaN     NaN     NaN   \n",
       "...         ...     ...  ...     ...     ...     ...     ...     ...     ...   \n",
       "606         NaN     NaN  ...     NaN     NaN     NaN     NaN     NaN     NaN   \n",
       "607         NaN     NaN  ...     NaN     NaN     NaN     NaN     NaN     NaN   \n",
       "608         NaN     4.0  ...     NaN     NaN     NaN     NaN     NaN     NaN   \n",
       "609         NaN     4.0  ...     NaN     NaN     NaN     NaN     NaN     NaN   \n",
       "610         NaN     NaN  ...     NaN     NaN     NaN     NaN     NaN     NaN   \n",
       "\n",
       "movieId  193583  193585  193587  193609  \n",
       "userId                                   \n",
       "1           NaN     NaN     NaN     NaN  \n",
       "2           NaN     NaN     NaN     NaN  \n",
       "3           NaN     NaN     NaN     NaN  \n",
       "4           NaN     NaN     NaN     NaN  \n",
       "5           NaN     NaN     NaN     NaN  \n",
       "...         ...     ...     ...     ...  \n",
       "606         NaN     NaN     NaN     NaN  \n",
       "607         NaN     NaN     NaN     NaN  \n",
       "608         NaN     NaN     NaN     NaN  \n",
       "609         NaN     NaN     NaN     NaN  \n",
       "610         NaN     NaN     NaN     NaN  \n",
       "\n",
       "[610 rows x 9724 columns]"
      ]
     },
     "execution_count": 50,
     "metadata": {},
     "output_type": "execute_result"
    }
   ],
   "source": [
    "user_movie_rating = users_ratings.pivot_table(index='userId', columns='movieId', values='rating')\n",
    "user_movie_rating"
   ]
  },
  {
   "cell_type": "code",
   "execution_count": 51,
   "id": "54333554",
   "metadata": {},
   "outputs": [
    {
     "data": {
      "text/html": [
       "<div>\n",
       "<style scoped>\n",
       "    .dataframe tbody tr th:only-of-type {\n",
       "        vertical-align: middle;\n",
       "    }\n",
       "\n",
       "    .dataframe tbody tr th {\n",
       "        vertical-align: top;\n",
       "    }\n",
       "\n",
       "    .dataframe thead th {\n",
       "        text-align: right;\n",
       "    }\n",
       "</style>\n",
       "<table border=\"1\" class=\"dataframe\">\n",
       "  <thead>\n",
       "    <tr style=\"text-align: right;\">\n",
       "      <th>movieId</th>\n",
       "      <th>1</th>\n",
       "      <th>2</th>\n",
       "      <th>3</th>\n",
       "      <th>4</th>\n",
       "      <th>5</th>\n",
       "      <th>6</th>\n",
       "      <th>7</th>\n",
       "      <th>8</th>\n",
       "      <th>9</th>\n",
       "      <th>10</th>\n",
       "      <th>...</th>\n",
       "      <th>193565</th>\n",
       "      <th>193567</th>\n",
       "      <th>193571</th>\n",
       "      <th>193573</th>\n",
       "      <th>193579</th>\n",
       "      <th>193581</th>\n",
       "      <th>193583</th>\n",
       "      <th>193585</th>\n",
       "      <th>193587</th>\n",
       "      <th>193609</th>\n",
       "    </tr>\n",
       "    <tr>\n",
       "      <th>userId</th>\n",
       "      <th></th>\n",
       "      <th></th>\n",
       "      <th></th>\n",
       "      <th></th>\n",
       "      <th></th>\n",
       "      <th></th>\n",
       "      <th></th>\n",
       "      <th></th>\n",
       "      <th></th>\n",
       "      <th></th>\n",
       "      <th></th>\n",
       "      <th></th>\n",
       "      <th></th>\n",
       "      <th></th>\n",
       "      <th></th>\n",
       "      <th></th>\n",
       "      <th></th>\n",
       "      <th></th>\n",
       "      <th></th>\n",
       "      <th></th>\n",
       "      <th></th>\n",
       "    </tr>\n",
       "  </thead>\n",
       "  <tbody>\n",
       "    <tr>\n",
       "      <th>1</th>\n",
       "      <td>4.0</td>\n",
       "      <td>0.0</td>\n",
       "      <td>4.0</td>\n",
       "      <td>0.0</td>\n",
       "      <td>0.0</td>\n",
       "      <td>4.0</td>\n",
       "      <td>0.0</td>\n",
       "      <td>0.0</td>\n",
       "      <td>0.0</td>\n",
       "      <td>0.0</td>\n",
       "      <td>...</td>\n",
       "      <td>0.0</td>\n",
       "      <td>0.0</td>\n",
       "      <td>0.0</td>\n",
       "      <td>0.0</td>\n",
       "      <td>0.0</td>\n",
       "      <td>0.0</td>\n",
       "      <td>0.0</td>\n",
       "      <td>0.0</td>\n",
       "      <td>0.0</td>\n",
       "      <td>0.0</td>\n",
       "    </tr>\n",
       "    <tr>\n",
       "      <th>2</th>\n",
       "      <td>0.0</td>\n",
       "      <td>0.0</td>\n",
       "      <td>0.0</td>\n",
       "      <td>0.0</td>\n",
       "      <td>0.0</td>\n",
       "      <td>0.0</td>\n",
       "      <td>0.0</td>\n",
       "      <td>0.0</td>\n",
       "      <td>0.0</td>\n",
       "      <td>0.0</td>\n",
       "      <td>...</td>\n",
       "      <td>0.0</td>\n",
       "      <td>0.0</td>\n",
       "      <td>0.0</td>\n",
       "      <td>0.0</td>\n",
       "      <td>0.0</td>\n",
       "      <td>0.0</td>\n",
       "      <td>0.0</td>\n",
       "      <td>0.0</td>\n",
       "      <td>0.0</td>\n",
       "      <td>0.0</td>\n",
       "    </tr>\n",
       "    <tr>\n",
       "      <th>3</th>\n",
       "      <td>0.0</td>\n",
       "      <td>0.0</td>\n",
       "      <td>0.0</td>\n",
       "      <td>0.0</td>\n",
       "      <td>0.0</td>\n",
       "      <td>0.0</td>\n",
       "      <td>0.0</td>\n",
       "      <td>0.0</td>\n",
       "      <td>0.0</td>\n",
       "      <td>0.0</td>\n",
       "      <td>...</td>\n",
       "      <td>0.0</td>\n",
       "      <td>0.0</td>\n",
       "      <td>0.0</td>\n",
       "      <td>0.0</td>\n",
       "      <td>0.0</td>\n",
       "      <td>0.0</td>\n",
       "      <td>0.0</td>\n",
       "      <td>0.0</td>\n",
       "      <td>0.0</td>\n",
       "      <td>0.0</td>\n",
       "    </tr>\n",
       "    <tr>\n",
       "      <th>4</th>\n",
       "      <td>0.0</td>\n",
       "      <td>0.0</td>\n",
       "      <td>0.0</td>\n",
       "      <td>0.0</td>\n",
       "      <td>0.0</td>\n",
       "      <td>0.0</td>\n",
       "      <td>0.0</td>\n",
       "      <td>0.0</td>\n",
       "      <td>0.0</td>\n",
       "      <td>0.0</td>\n",
       "      <td>...</td>\n",
       "      <td>0.0</td>\n",
       "      <td>0.0</td>\n",
       "      <td>0.0</td>\n",
       "      <td>0.0</td>\n",
       "      <td>0.0</td>\n",
       "      <td>0.0</td>\n",
       "      <td>0.0</td>\n",
       "      <td>0.0</td>\n",
       "      <td>0.0</td>\n",
       "      <td>0.0</td>\n",
       "    </tr>\n",
       "    <tr>\n",
       "      <th>5</th>\n",
       "      <td>4.0</td>\n",
       "      <td>0.0</td>\n",
       "      <td>0.0</td>\n",
       "      <td>0.0</td>\n",
       "      <td>0.0</td>\n",
       "      <td>0.0</td>\n",
       "      <td>0.0</td>\n",
       "      <td>0.0</td>\n",
       "      <td>0.0</td>\n",
       "      <td>0.0</td>\n",
       "      <td>...</td>\n",
       "      <td>0.0</td>\n",
       "      <td>0.0</td>\n",
       "      <td>0.0</td>\n",
       "      <td>0.0</td>\n",
       "      <td>0.0</td>\n",
       "      <td>0.0</td>\n",
       "      <td>0.0</td>\n",
       "      <td>0.0</td>\n",
       "      <td>0.0</td>\n",
       "      <td>0.0</td>\n",
       "    </tr>\n",
       "    <tr>\n",
       "      <th>...</th>\n",
       "      <td>...</td>\n",
       "      <td>...</td>\n",
       "      <td>...</td>\n",
       "      <td>...</td>\n",
       "      <td>...</td>\n",
       "      <td>...</td>\n",
       "      <td>...</td>\n",
       "      <td>...</td>\n",
       "      <td>...</td>\n",
       "      <td>...</td>\n",
       "      <td>...</td>\n",
       "      <td>...</td>\n",
       "      <td>...</td>\n",
       "      <td>...</td>\n",
       "      <td>...</td>\n",
       "      <td>...</td>\n",
       "      <td>...</td>\n",
       "      <td>...</td>\n",
       "      <td>...</td>\n",
       "      <td>...</td>\n",
       "      <td>...</td>\n",
       "    </tr>\n",
       "    <tr>\n",
       "      <th>606</th>\n",
       "      <td>2.5</td>\n",
       "      <td>0.0</td>\n",
       "      <td>0.0</td>\n",
       "      <td>0.0</td>\n",
       "      <td>0.0</td>\n",
       "      <td>0.0</td>\n",
       "      <td>2.5</td>\n",
       "      <td>0.0</td>\n",
       "      <td>0.0</td>\n",
       "      <td>0.0</td>\n",
       "      <td>...</td>\n",
       "      <td>0.0</td>\n",
       "      <td>0.0</td>\n",
       "      <td>0.0</td>\n",
       "      <td>0.0</td>\n",
       "      <td>0.0</td>\n",
       "      <td>0.0</td>\n",
       "      <td>0.0</td>\n",
       "      <td>0.0</td>\n",
       "      <td>0.0</td>\n",
       "      <td>0.0</td>\n",
       "    </tr>\n",
       "    <tr>\n",
       "      <th>607</th>\n",
       "      <td>4.0</td>\n",
       "      <td>0.0</td>\n",
       "      <td>0.0</td>\n",
       "      <td>0.0</td>\n",
       "      <td>0.0</td>\n",
       "      <td>0.0</td>\n",
       "      <td>0.0</td>\n",
       "      <td>0.0</td>\n",
       "      <td>0.0</td>\n",
       "      <td>0.0</td>\n",
       "      <td>...</td>\n",
       "      <td>0.0</td>\n",
       "      <td>0.0</td>\n",
       "      <td>0.0</td>\n",
       "      <td>0.0</td>\n",
       "      <td>0.0</td>\n",
       "      <td>0.0</td>\n",
       "      <td>0.0</td>\n",
       "      <td>0.0</td>\n",
       "      <td>0.0</td>\n",
       "      <td>0.0</td>\n",
       "    </tr>\n",
       "    <tr>\n",
       "      <th>608</th>\n",
       "      <td>2.5</td>\n",
       "      <td>2.0</td>\n",
       "      <td>2.0</td>\n",
       "      <td>0.0</td>\n",
       "      <td>0.0</td>\n",
       "      <td>0.0</td>\n",
       "      <td>0.0</td>\n",
       "      <td>0.0</td>\n",
       "      <td>0.0</td>\n",
       "      <td>4.0</td>\n",
       "      <td>...</td>\n",
       "      <td>0.0</td>\n",
       "      <td>0.0</td>\n",
       "      <td>0.0</td>\n",
       "      <td>0.0</td>\n",
       "      <td>0.0</td>\n",
       "      <td>0.0</td>\n",
       "      <td>0.0</td>\n",
       "      <td>0.0</td>\n",
       "      <td>0.0</td>\n",
       "      <td>0.0</td>\n",
       "    </tr>\n",
       "    <tr>\n",
       "      <th>609</th>\n",
       "      <td>3.0</td>\n",
       "      <td>0.0</td>\n",
       "      <td>0.0</td>\n",
       "      <td>0.0</td>\n",
       "      <td>0.0</td>\n",
       "      <td>0.0</td>\n",
       "      <td>0.0</td>\n",
       "      <td>0.0</td>\n",
       "      <td>0.0</td>\n",
       "      <td>4.0</td>\n",
       "      <td>...</td>\n",
       "      <td>0.0</td>\n",
       "      <td>0.0</td>\n",
       "      <td>0.0</td>\n",
       "      <td>0.0</td>\n",
       "      <td>0.0</td>\n",
       "      <td>0.0</td>\n",
       "      <td>0.0</td>\n",
       "      <td>0.0</td>\n",
       "      <td>0.0</td>\n",
       "      <td>0.0</td>\n",
       "    </tr>\n",
       "    <tr>\n",
       "      <th>610</th>\n",
       "      <td>5.0</td>\n",
       "      <td>0.0</td>\n",
       "      <td>0.0</td>\n",
       "      <td>0.0</td>\n",
       "      <td>0.0</td>\n",
       "      <td>5.0</td>\n",
       "      <td>0.0</td>\n",
       "      <td>0.0</td>\n",
       "      <td>0.0</td>\n",
       "      <td>0.0</td>\n",
       "      <td>...</td>\n",
       "      <td>0.0</td>\n",
       "      <td>0.0</td>\n",
       "      <td>0.0</td>\n",
       "      <td>0.0</td>\n",
       "      <td>0.0</td>\n",
       "      <td>0.0</td>\n",
       "      <td>0.0</td>\n",
       "      <td>0.0</td>\n",
       "      <td>0.0</td>\n",
       "      <td>0.0</td>\n",
       "    </tr>\n",
       "  </tbody>\n",
       "</table>\n",
       "<p>610 rows × 9724 columns</p>\n",
       "</div>"
      ],
      "text/plain": [
       "movieId  1       2       3       4       5       6       7       8       \\\n",
       "userId                                                                    \n",
       "1           4.0     0.0     4.0     0.0     0.0     4.0     0.0     0.0   \n",
       "2           0.0     0.0     0.0     0.0     0.0     0.0     0.0     0.0   \n",
       "3           0.0     0.0     0.0     0.0     0.0     0.0     0.0     0.0   \n",
       "4           0.0     0.0     0.0     0.0     0.0     0.0     0.0     0.0   \n",
       "5           4.0     0.0     0.0     0.0     0.0     0.0     0.0     0.0   \n",
       "...         ...     ...     ...     ...     ...     ...     ...     ...   \n",
       "606         2.5     0.0     0.0     0.0     0.0     0.0     2.5     0.0   \n",
       "607         4.0     0.0     0.0     0.0     0.0     0.0     0.0     0.0   \n",
       "608         2.5     2.0     2.0     0.0     0.0     0.0     0.0     0.0   \n",
       "609         3.0     0.0     0.0     0.0     0.0     0.0     0.0     0.0   \n",
       "610         5.0     0.0     0.0     0.0     0.0     5.0     0.0     0.0   \n",
       "\n",
       "movieId  9       10      ...  193565  193567  193571  193573  193579  193581  \\\n",
       "userId                   ...                                                   \n",
       "1           0.0     0.0  ...     0.0     0.0     0.0     0.0     0.0     0.0   \n",
       "2           0.0     0.0  ...     0.0     0.0     0.0     0.0     0.0     0.0   \n",
       "3           0.0     0.0  ...     0.0     0.0     0.0     0.0     0.0     0.0   \n",
       "4           0.0     0.0  ...     0.0     0.0     0.0     0.0     0.0     0.0   \n",
       "5           0.0     0.0  ...     0.0     0.0     0.0     0.0     0.0     0.0   \n",
       "...         ...     ...  ...     ...     ...     ...     ...     ...     ...   \n",
       "606         0.0     0.0  ...     0.0     0.0     0.0     0.0     0.0     0.0   \n",
       "607         0.0     0.0  ...     0.0     0.0     0.0     0.0     0.0     0.0   \n",
       "608         0.0     4.0  ...     0.0     0.0     0.0     0.0     0.0     0.0   \n",
       "609         0.0     4.0  ...     0.0     0.0     0.0     0.0     0.0     0.0   \n",
       "610         0.0     0.0  ...     0.0     0.0     0.0     0.0     0.0     0.0   \n",
       "\n",
       "movieId  193583  193585  193587  193609  \n",
       "userId                                   \n",
       "1           0.0     0.0     0.0     0.0  \n",
       "2           0.0     0.0     0.0     0.0  \n",
       "3           0.0     0.0     0.0     0.0  \n",
       "4           0.0     0.0     0.0     0.0  \n",
       "5           0.0     0.0     0.0     0.0  \n",
       "...         ...     ...     ...     ...  \n",
       "606         0.0     0.0     0.0     0.0  \n",
       "607         0.0     0.0     0.0     0.0  \n",
       "608         0.0     0.0     0.0     0.0  \n",
       "609         0.0     0.0     0.0     0.0  \n",
       "610         0.0     0.0     0.0     0.0  \n",
       "\n",
       "[610 rows x 9724 columns]"
      ]
     },
     "execution_count": 51,
     "metadata": {},
     "output_type": "execute_result"
    }
   ],
   "source": [
    "user_movie_rating.fillna(0.0, inplace=True)\n",
    "user_movie_rating"
   ]
  },
  {
   "cell_type": "code",
   "execution_count": 52,
   "id": "c4f32342",
   "metadata": {},
   "outputs": [
    {
     "name": "stdout",
     "output_type": "stream",
     "text": [
      "3.2624482748109656\n",
      "userId\n",
      "1      1.103931\n",
      "2      0.685828\n",
      "3     -0.826551\n",
      "4      0.293107\n",
      "5      0.373915\n",
      "         ...   \n",
      "606    0.394951\n",
      "607    0.523648\n",
      "608   -0.128273\n",
      "609    0.007822\n",
      "610    0.426108\n",
      "Length: 610, dtype: float64\n",
      "movieId\n",
      "1         0.312167\n",
      "2        -0.053158\n",
      "3        -0.234798\n",
      "4        -1.096045\n",
      "5        -0.522626\n",
      "            ...   \n",
      "193581    0.294776\n",
      "193583   -0.205224\n",
      "193585   -0.205224\n",
      "193587   -0.205224\n",
      "193609    0.372024\n",
      "Length: 9724, dtype: float64\n"
     ]
    }
   ],
   "source": [
    "## Вычисление предиктов\n",
    "global_mean = user_movie_rating[user_movie_rating>0].mean().mean()\n",
    "print(global_mean)\n",
    "user_movie_rating_minus_mean = user_movie_rating[user_movie_rating>0]-global_mean\n",
    "user_bias = user_movie_rating_minus_mean.T.mean()\n",
    "print(user_bias)\n",
    "item_bias = user_movie_rating_minus_mean.apply(lambda r: r - user_bias).mean()\n",
    "print(item_bias)"
   ]
  },
  {
   "cell_type": "code",
   "execution_count": 53,
   "id": "23290881",
   "metadata": {},
   "outputs": [
    {
     "name": "stderr",
     "output_type": "stream",
     "text": [
      "610it [06:03,  1.68it/s]"
     ]
    },
    {
     "name": "stdout",
     "output_type": "stream",
     "text": [
      "movieId    1         2         3         4         5         6         7       \\\n",
      "userId                                                                          \n",
      "1        4.000000  4.313221  4.000000  3.270335  3.843753  4.000000  3.965652   \n",
      "2        4.260443  3.895118  3.713478  2.852231  3.425650  4.326737  3.547548   \n",
      "3        2.748064  2.382739  2.201100  1.339853  1.913271  2.814358  2.035170   \n",
      "4        3.867722  3.502397  3.320758  2.459511  3.032930  3.934016  3.154828   \n",
      "5        4.000000  3.583205  3.401566  2.540319  3.113738  4.014824  3.235636   \n",
      "...           ...       ...       ...       ...       ...       ...       ...   \n",
      "606      2.500000  3.604241  3.422601  2.561354  3.134773  4.035860  2.500000   \n",
      "607      4.000000  3.732938  3.551299  2.690052  3.263470  4.164557  3.385369   \n",
      "608      2.500000  2.000000  2.000000  2.038131  2.611550  3.512636  2.733448   \n",
      "609      3.000000  3.217112  3.035473  2.174226  2.747644  3.648731  2.869543   \n",
      "610      5.000000  3.635398  3.453758  2.592511  3.165930  5.000000  3.287829   \n",
      "\n",
      "movieId    8         9         10      ...    193565    193567    193571  \\\n",
      "userId                                 ...                                 \n",
      "1        3.741356  3.910933  4.310053  ...  4.161155  3.661155  4.661155   \n",
      "2        3.323252  3.492829  3.891950  ...  3.743052  3.243052  4.243052   \n",
      "3        1.810874  1.980451  2.379571  ...  2.230674  1.730674  2.730674   \n",
      "4        2.930532  3.100109  3.499229  ...  3.350332  2.850332  3.850332   \n",
      "5        3.011340  3.180917  3.580037  ...  3.431140  2.931140  3.931140   \n",
      "...           ...       ...       ...  ...       ...       ...       ...   \n",
      "606      3.032375  3.201953  3.601073  ...  3.452175  2.952175  3.952175   \n",
      "607      3.161073  3.330650  3.729770  ...  3.580872  3.080872  4.080872   \n",
      "608      2.509152  2.678729  4.000000  ...  2.928952  2.428952  3.428952   \n",
      "609      2.645247  2.814824  4.000000  ...  3.065046  2.565046  3.565046   \n",
      "610      3.063532  3.233110  3.632230  ...  3.483332  2.983332  3.983332   \n",
      "\n",
      "movieId    193573    193579    193581    193583    193585    193587    193609  \n",
      "userId                                                                         \n",
      "1        4.661155  4.161155  4.661155  4.161155  4.161155  4.161155  4.738403  \n",
      "2        4.243052  3.743052  4.243052  3.743052  3.743052  3.743052  4.320300  \n",
      "3        2.730674  2.230674  2.730674  2.230674  2.230674  2.230674  2.807921  \n",
      "4        3.850332  3.350332  3.850332  3.350332  3.350332  3.350332  3.927579  \n",
      "5        3.931140  3.431140  3.931140  3.431140  3.431140  3.431140  4.008387  \n",
      "...           ...       ...       ...       ...       ...       ...       ...  \n",
      "606      3.952175  3.452175  3.952175  3.452175  3.452175  3.452175  4.029423  \n",
      "607      4.080872  3.580872  4.080872  3.580872  3.580872  3.580872  4.158120  \n",
      "608      3.428952  2.928952  3.428952  2.928952  2.928952  2.928952  3.506200  \n",
      "609      3.565046  3.065046  3.565046  3.065046  3.065046  3.065046  3.642294  \n",
      "610      3.983332  3.483332  3.983332  3.483332  3.483332  3.483332  4.060580  \n",
      "\n",
      "[610 rows x 9724 columns]\n"
     ]
    },
    {
     "name": "stderr",
     "output_type": "stream",
     "text": [
      "\n"
     ]
    }
   ],
   "source": [
    "# заменяем нули предиктами\n",
    "for rowIndex, row in tqdm(user_movie_rating.iterrows()): #iterate over rows\n",
    "    for columnIndex, value in row.items():\n",
    "        if (value == 0):\n",
    "            user_movie_rating.loc[rowIndex][columnIndex]=global_mean +user_bias[rowIndex]+item_bias[columnIndex]\n",
    "print(user_movie_rating)"
   ]
  },
  {
   "cell_type": "code",
   "execution_count": 54,
   "id": "de4026b8",
   "metadata": {},
   "outputs": [],
   "source": [
    "from numpy import linalg\n",
    "U, Sigma, Vt = linalg.svd(user_movie_rating)"
   ]
  },
  {
   "cell_type": "code",
   "execution_count": 55,
   "id": "7f614024",
   "metadata": {},
   "outputs": [
    {
     "name": "stdout",
     "output_type": "stream",
     "text": [
      "14032.238225097439\n",
      "12629.014402587694\n",
      "12890.103191904567\n"
     ]
    }
   ],
   "source": [
    "# print(Sigma)\n",
    "print(Sigma.sum())\n",
    "# 90%\n",
    "print(Sigma.sum()*0.9)\n",
    "print(Sigma[:300].sum())"
   ]
  },
  {
   "cell_type": "code",
   "execution_count": 56,
   "id": "cd80737b",
   "metadata": {},
   "outputs": [],
   "source": [
    "k=300"
   ]
  },
  {
   "cell_type": "code",
   "execution_count": 71,
   "id": "e8a5a62a",
   "metadata": {},
   "outputs": [
    {
     "name": "stdout",
     "output_type": "stream",
     "text": [
      "[[4.63386331 4.31456242 4.16118239 ... 4.16204079 4.16204079 4.73896909]\n",
      " [4.23666034 3.89693703 3.71692381 ... 3.74287318 3.74287318 4.3201915 ]\n",
      " [2.78304957 2.38122351 2.14667357 ... 2.22885734 2.22885734 2.80580186]\n",
      " ...\n",
      " [3.63328316 3.0963976  2.82321965 ... 2.93381557 2.93381557 3.51592362]\n",
      " [3.5920589  3.21688039 3.02048589 ... 3.06513224 3.06513224 3.64188958]\n",
      " [4.29510655 3.6066629  3.55410678 ... 3.4808043  3.4808043  4.06058414]]\n"
     ]
    }
   ],
   "source": [
    "def rank_k2(k):\n",
    "    U_reduced= np.mat(U[:,:k])\n",
    "    Vt_reduced = np.mat(Vt[:k,:])\n",
    "    Sigma_reduced = Sigma_reduced = np.eye(k)*Sigma[:k]\n",
    "    Sigma_sqrt = np.sqrt(Sigma_reduced)\n",
    "    return U_reduced*Sigma_sqrt, Sigma_sqrt*Vt_reduced,Sigma_reduced\n",
    "U_reduced, Vt_reduced,Sigma_reduced = rank_k2(4)\n",
    "predicted_user_movie_rating = U_reduced * Vt_reduced\n",
    "print(predicted_user_movie_rating)"
   ]
  },
  {
   "cell_type": "code",
   "execution_count": 72,
   "id": "3879328c",
   "metadata": {},
   "outputs": [
    {
     "data": {
      "text/plain": [
       "3.9782898770532205"
      ]
     },
     "execution_count": 72,
     "metadata": {},
     "output_type": "execute_result"
    }
   ],
   "source": [
    "# оценка пользователя 1 для фильма 47\n",
    "predicted_user_movie_rating[47,1]"
   ]
  },
  {
   "cell_type": "markdown",
   "id": "60ce5b58",
   "metadata": {},
   "source": [
    "1.2. Добавить пользователя Студента группы и предсказать оценки для него.\n",
    "1. Создаём вектор пользователя\n",
    "2. Рассчитываем вменение\n",
    "3. Получаем прогноз"
   ]
  },
  {
   "cell_type": "code",
   "execution_count": 73,
   "id": "babbb8f4",
   "metadata": {},
   "outputs": [
    {
     "name": "stdout",
     "output_type": "stream",
     "text": [
      "(9724,)\n"
     ]
    }
   ],
   "source": [
    "new_user = np.zeros(predicted_user_movie_rating.shape[1])\n",
    "print(new_user.shape)\n",
    "# случайные оценки\n",
    "new_user[510] = 5.0\n",
    "new_user[320] = 3.0\n",
    "new_user[11] = 5.0"
   ]
  },
  {
   "cell_type": "code",
   "execution_count": 75,
   "id": "e1353d76",
   "metadata": {},
   "outputs": [
    {
     "name": "stdout",
     "output_type": "stream",
     "text": [
      "4.333333333333334\n",
      "[4.33333333 4.33333333 4.33333333 ... 4.33333333 4.33333333 4.33333333]\n",
      "[[-4.45400155 -5.5948098  -0.52094966 -0.05899722]]\n"
     ]
    }
   ],
   "source": [
    "# делаем вменение\n",
    "from numpy.linalg import inv\n",
    "new_user_average = new_user[new_user > 0.0].mean()\n",
    "print(new_user_average)\n",
    "new_user[new_user == 0] = np.NaN\n",
    "np.nan_to_num(new_user,copy=False,nan=new_user_average)\n",
    "print(new_user)\n",
    "\n",
    "new_user = new_user *Vt_reduced.T* inv(Sigma_reduced)\n",
    "print(new_user)"
   ]
  },
  {
   "cell_type": "code",
   "execution_count": 76,
   "id": "6389b6ee",
   "metadata": {},
   "outputs": [
    {
     "name": "stdout",
     "output_type": "stream",
     "text": [
      "[[4.34581336]]\n"
     ]
    }
   ],
   "source": [
    "## Прогноз для нового пользователя\n",
    "movie = 1\n",
    "print(new_user*Vt_reduced[:,movie])"
   ]
  },
  {
   "cell_type": "markdown",
   "id": "2dd380c4",
   "metadata": {},
   "source": [
    "## Здание 2\n",
    "Дана матрица предпочтений User/Item. Добавить строку с оценками\n",
    "Студента группы. Определить схожесть пользователей и Студента группы.\n",
    "2.1. Косинусное расстояние\n",
    "2.2. Коэффициент Пирсона\n",
    "2.3. Коэффициент Отиаи"
   ]
  },
  {
   "cell_type": "code",
   "execution_count": 136,
   "id": "21dfc8c7",
   "metadata": {},
   "outputs": [
    {
     "data": {
      "text/html": [
       "<div>\n",
       "<style scoped>\n",
       "    .dataframe tbody tr th:only-of-type {\n",
       "        vertical-align: middle;\n",
       "    }\n",
       "\n",
       "    .dataframe tbody tr th {\n",
       "        vertical-align: top;\n",
       "    }\n",
       "\n",
       "    .dataframe thead th {\n",
       "        text-align: right;\n",
       "    }\n",
       "</style>\n",
       "<table border=\"1\" class=\"dataframe\">\n",
       "  <thead>\n",
       "    <tr style=\"text-align: right;\">\n",
       "      <th></th>\n",
       "      <th>userId</th>\n",
       "      <th>movieId</th>\n",
       "      <th>rating</th>\n",
       "    </tr>\n",
       "  </thead>\n",
       "  <tbody>\n",
       "    <tr>\n",
       "      <th>100832</th>\n",
       "      <td>610</td>\n",
       "      <td>168248</td>\n",
       "      <td>5.0</td>\n",
       "    </tr>\n",
       "    <tr>\n",
       "      <th>100833</th>\n",
       "      <td>610</td>\n",
       "      <td>168250</td>\n",
       "      <td>5.0</td>\n",
       "    </tr>\n",
       "    <tr>\n",
       "      <th>100834</th>\n",
       "      <td>610</td>\n",
       "      <td>168252</td>\n",
       "      <td>5.0</td>\n",
       "    </tr>\n",
       "    <tr>\n",
       "      <th>100835</th>\n",
       "      <td>610</td>\n",
       "      <td>170875</td>\n",
       "      <td>3.0</td>\n",
       "    </tr>\n",
       "    <tr>\n",
       "      <th>100836</th>\n",
       "      <td>611</td>\n",
       "      <td>11</td>\n",
       "      <td>5.0</td>\n",
       "    </tr>\n",
       "    <tr>\n",
       "      <th>100837</th>\n",
       "      <td>611</td>\n",
       "      <td>12</td>\n",
       "      <td>3.0</td>\n",
       "    </tr>\n",
       "    <tr>\n",
       "      <th>100838</th>\n",
       "      <td>611</td>\n",
       "      <td>417</td>\n",
       "      <td>4.0</td>\n",
       "    </tr>\n",
       "  </tbody>\n",
       "</table>\n",
       "</div>"
      ],
      "text/plain": [
       "        userId  movieId  rating\n",
       "100832     610   168248     5.0\n",
       "100833     610   168250     5.0\n",
       "100834     610   168252     5.0\n",
       "100835     610   170875     3.0\n",
       "100836     611       11     5.0\n",
       "100837     611       12     3.0\n",
       "100838     611      417     4.0"
      ]
     },
     "execution_count": 136,
     "metadata": {},
     "output_type": "execute_result"
    }
   ],
   "source": [
    "# Добавляем нового пользователя\n",
    "columns = ['userId', 'movieId', 'rating']\n",
    "new_user_ratings = pd.DataFrame([\n",
    "    [611,11,5.0],\n",
    "    [611,12,3.0],\n",
    "    [611,417,4.0],\n",
    "],columns=columns)\n",
    "\n",
    "merged_user_ratings = pd.concat([user_ratings,new_user_ratings],ignore_index=True,)\n",
    "merged_user_ratings.tail(7)"
   ]
  },
  {
   "cell_type": "code",
   "execution_count": 137,
   "id": "bcf23411",
   "metadata": {},
   "outputs": [
    {
     "data": {
      "text/plain": [
       "(100839, 4)"
      ]
     },
     "execution_count": 137,
     "metadata": {},
     "output_type": "execute_result"
    }
   ],
   "source": [
    "# Нормализуем оценки вычтя из оценки среднюю оценку пользователя\n",
    "count_col = merged_user_ratings.groupby(['userId'])['rating'].count()\n",
    "std_col = merged_user_ratings.groupby(['userId'])['rating'].std()\n",
    "mean_col = merged_user_ratings.groupby(['userId'])['rating'].mean()\n",
    "max_col = merged_user_ratings.groupby(['userId'])['rating'].max()\n",
    "min_col = merged_user_ratings.groupby(['userId'])['rating'].min()\n",
    "\n",
    "def rowFunc(row):\n",
    "    return 0.0 if (count_col.at[row['userId']]==1) or (std_col.at[row['userId']]==0)  else(row['rating']-mean_col.at[row['userId']])/(max_col.at[row['userId']]-min_col.at[row['userId']])\n",
    "\n",
    "merged_user_ratings['mean'] = merged_user_ratings.apply(rowFunc,axis=1)\n",
    "\n",
    "\n",
    "# for index, row in merged_user_ratings.iterrows():\n",
    "#     merged_user_ratings.at[index,'mean']= 0.0 if (count_col.at[row['userId']]==1) or (std_col.at[row['userId']]==0)  else(row['rating']-mean_col.at[row['userId']])/(max_col.at[row['userId']]-min_col.at[row['userId']])\n",
    "    \n",
    "merged_user_ratings.shape"
   ]
  },
  {
   "cell_type": "code",
   "execution_count": 138,
   "id": "2dccd898",
   "metadata": {},
   "outputs": [
    {
     "data": {
      "text/plain": [
       "False"
      ]
     },
     "execution_count": 138,
     "metadata": {},
     "output_type": "execute_result"
    }
   ],
   "source": [
    "# проверяем, что нет пропусков\n",
    "merged_user_ratings['mean'].isnull().any()"
   ]
  },
  {
   "cell_type": "code",
   "execution_count": 139,
   "id": "1eb14800",
   "metadata": {},
   "outputs": [],
   "source": [
    "tqdm.pandas()"
   ]
  },
  {
   "cell_type": "code",
   "execution_count": 140,
   "id": "6046a355",
   "metadata": {},
   "outputs": [
    {
     "name": "stderr",
     "output_type": "stream",
     "text": [
      "100%|███████████████████████████████████████████████████████████████████████| 100839/100839 [00:04<00:00, 20610.79it/s]\n"
     ]
    },
    {
     "data": {
      "text/html": [
       "<div>\n",
       "<style scoped>\n",
       "    .dataframe tbody tr th:only-of-type {\n",
       "        vertical-align: middle;\n",
       "    }\n",
       "\n",
       "    .dataframe tbody tr th {\n",
       "        vertical-align: top;\n",
       "    }\n",
       "\n",
       "    .dataframe thead th {\n",
       "        text-align: right;\n",
       "    }\n",
       "</style>\n",
       "<table border=\"1\" class=\"dataframe\">\n",
       "  <thead>\n",
       "    <tr style=\"text-align: right;\">\n",
       "      <th></th>\n",
       "      <th>userId</th>\n",
       "      <th>movieId</th>\n",
       "      <th>rating</th>\n",
       "      <th>mean</th>\n",
       "    </tr>\n",
       "  </thead>\n",
       "  <tbody>\n",
       "    <tr>\n",
       "      <th>0</th>\n",
       "      <td>0</td>\n",
       "      <td>0</td>\n",
       "      <td>4.0</td>\n",
       "      <td>-0.091595</td>\n",
       "    </tr>\n",
       "    <tr>\n",
       "      <th>1</th>\n",
       "      <td>0</td>\n",
       "      <td>2</td>\n",
       "      <td>4.0</td>\n",
       "      <td>-0.091595</td>\n",
       "    </tr>\n",
       "    <tr>\n",
       "      <th>2</th>\n",
       "      <td>0</td>\n",
       "      <td>5</td>\n",
       "      <td>4.0</td>\n",
       "      <td>-0.091595</td>\n",
       "    </tr>\n",
       "    <tr>\n",
       "      <th>3</th>\n",
       "      <td>0</td>\n",
       "      <td>43</td>\n",
       "      <td>5.0</td>\n",
       "      <td>0.158405</td>\n",
       "    </tr>\n",
       "    <tr>\n",
       "      <th>4</th>\n",
       "      <td>0</td>\n",
       "      <td>46</td>\n",
       "      <td>5.0</td>\n",
       "      <td>0.158405</td>\n",
       "    </tr>\n",
       "    <tr>\n",
       "      <th>...</th>\n",
       "      <td>...</td>\n",
       "      <td>...</td>\n",
       "      <td>...</td>\n",
       "      <td>...</td>\n",
       "    </tr>\n",
       "    <tr>\n",
       "      <th>100834</th>\n",
       "      <td>609</td>\n",
       "      <td>9445</td>\n",
       "      <td>5.0</td>\n",
       "      <td>0.291432</td>\n",
       "    </tr>\n",
       "    <tr>\n",
       "      <th>100835</th>\n",
       "      <td>609</td>\n",
       "      <td>9485</td>\n",
       "      <td>3.0</td>\n",
       "      <td>-0.153012</td>\n",
       "    </tr>\n",
       "    <tr>\n",
       "      <th>100836</th>\n",
       "      <td>610</td>\n",
       "      <td>10</td>\n",
       "      <td>5.0</td>\n",
       "      <td>0.500000</td>\n",
       "    </tr>\n",
       "    <tr>\n",
       "      <th>100837</th>\n",
       "      <td>610</td>\n",
       "      <td>11</td>\n",
       "      <td>3.0</td>\n",
       "      <td>-0.500000</td>\n",
       "    </tr>\n",
       "    <tr>\n",
       "      <th>100838</th>\n",
       "      <td>610</td>\n",
       "      <td>361</td>\n",
       "      <td>4.0</td>\n",
       "      <td>0.000000</td>\n",
       "    </tr>\n",
       "  </tbody>\n",
       "</table>\n",
       "<p>100839 rows × 4 columns</p>\n",
       "</div>"
      ],
      "text/plain": [
       "        userId  movieId  rating      mean\n",
       "0            0        0     4.0 -0.091595\n",
       "1            0        2     4.0 -0.091595\n",
       "2            0        5     4.0 -0.091595\n",
       "3            0       43     5.0  0.158405\n",
       "4            0       46     5.0  0.158405\n",
       "...        ...      ...     ...       ...\n",
       "100834     609     9445     5.0  0.291432\n",
       "100835     609     9485     3.0 -0.153012\n",
       "100836     610       10     5.0  0.500000\n",
       "100837     610       11     3.0 -0.500000\n",
       "100838     610      361     4.0  0.000000\n",
       "\n",
       "[100839 rows x 4 columns]"
      ]
     },
     "execution_count": 140,
     "metadata": {},
     "output_type": "execute_result"
    }
   ],
   "source": [
    "users_values = merged_user_ratings['userId'].sort_values().unique()\n",
    "movies_values = merged_user_ratings['movieId'].sort_values().unique()\n",
    "\n",
    "user_categories = dict(enumerate(users_values))\n",
    "movie_categories = dict(enumerate(movies_values))\n",
    "\n",
    "def rowFunc(row):\n",
    "#     print(np.where(movies_values == row['movieId'])[0], np.where(users_values == row['userId'])[0])\n",
    "    return np.where(movies_values == row['movieId'])[0][0], np.where(users_values == row['userId'])[0][0]\n",
    "\n",
    "merged_user_ratings[['movieId','userId']] = merged_user_ratings.progress_apply(rowFunc,axis=1,result_type=\"expand\")\n",
    "\n",
    "# merged_user_ratings['movieId'],merged_user_ratings['userId'] = tqdm(zip(*merged_user_ratings.apply(rowFunc,axis=1)))\n",
    "# for index, row in tqdm(merged_user_ratings.iterrows()):\n",
    "#     merged_user_ratings.at[index,'movieId'] = np.where(movies_values == row['movieId'])[0]\n",
    "#     merged_user_ratings.at[index,'userId'] = np.where(users_values == row['userId'])[0]\n",
    "merged_user_ratings"
   ]
  },
  {
   "cell_type": "code",
   "execution_count": 141,
   "id": "8a1ce837",
   "metadata": {},
   "outputs": [],
   "source": [
    "from scipy.sparse import coo_matrix\n",
    "coo = coo_matrix((merged_user_ratings['mean'], (merged_user_ratings['userId'],merged_user_ratings['movieId'])))"
   ]
  },
  {
   "cell_type": "code",
   "execution_count": 142,
   "id": "28672cd7",
   "metadata": {},
   "outputs": [
    {
     "data": {
      "text/plain": [
       "(611, 9724)"
      ]
     },
     "execution_count": 142,
     "metadata": {},
     "output_type": "execute_result"
    }
   ],
   "source": [
    "coo.shape"
   ]
  },
  {
   "cell_type": "code",
   "execution_count": 143,
   "id": "21eb5e00",
   "metadata": {},
   "outputs": [
    {
     "data": {
      "text/plain": [
       "(611, 9724)"
      ]
     },
     "execution_count": 143,
     "metadata": {},
     "output_type": "execute_result"
    }
   ],
   "source": [
    "csr = coo.tocsr()\n",
    "csr.shape"
   ]
  },
  {
   "cell_type": "code",
   "execution_count": 144,
   "id": "79313b4a",
   "metadata": {},
   "outputs": [],
   "source": [
    "# a = csr.getrow(0)\n",
    "# b = csr.getrow(1)\n",
    "# print(a.toarray())\n",
    "# print(b)\n",
    "# np.sum(a*b)\n",
    "# np.sum(a*b)/(np.sqrt(np.sum(np.square(a)))*np.sqrt(np.sum(np.square(b))))"
   ]
  },
  {
   "cell_type": "code",
   "execution_count": 145,
   "id": "dbce7dc0",
   "metadata": {},
   "outputs": [],
   "source": [
    "# for i in range(csr.shape[0]): \n",
    "#     for j in range(i,csr.shape[0]): \n",
    "#     pt = slice(csr.indptr[i], csr.indptr[i+1]) \n",
    "#     print(i, csr.indices[pt], csr.data[pt])"
   ]
  },
  {
   "cell_type": "code",
   "execution_count": 148,
   "id": "98cc130a",
   "metadata": {},
   "outputs": [
    {
     "name": "stderr",
     "output_type": "stream",
     "text": [
      "  0%|                                                                                          | 0/611 [00:00<?, ?it/s]<ipython-input-148-ed2f5ed3bbae>:7: RuntimeWarning: invalid value encountered in double_scalars\n",
      "  return np.sum(M[i,:]*M[j,:])/(np.sqrt(np.sum(np.square(M[i,:])))*np.sqrt(np.sum(np.square(M[j,:]))))\n",
      "  1%|▊                                                                                 | 6/611 [00:00<00:11, 53.90it/s]"
     ]
    },
    {
     "name": "stdout",
     "output_type": "stream",
     "text": [
      "(611, 9724)\n"
     ]
    },
    {
     "name": "stderr",
     "output_type": "stream",
     "text": [
      "100%|███████████████████████████████████████████████████████████████████████████████| 611/611 [00:05<00:00, 111.22it/s]"
     ]
    },
    {
     "name": "stdout",
     "output_type": "stream",
     "text": [
      "[[ 1.00000000e+00  1.26451574e-03  5.52577176e-04 ... -2.57125541e-02\n",
      "   1.09323166e-02  0.00000000e+00]\n",
      " [ 1.26451574e-03  1.00000000e+00  0.00000000e+00 ... -6.00909967e-02\n",
      "   2.49992083e-02  0.00000000e+00]\n",
      " [ 5.52577176e-04  0.00000000e+00  1.00000000e+00 ...  0.00000000e+00\n",
      "   1.95499646e-02  0.00000000e+00]\n",
      " ...\n",
      " [-2.57125541e-02 -6.00909967e-02  0.00000000e+00 ...  1.00000000e+00\n",
      "  -1.24714266e-02  0.00000000e+00]\n",
      " [ 1.09323166e-02  2.49992083e-02  1.95499646e-02 ... -1.24714266e-02\n",
      "   1.00000000e+00  0.00000000e+00]\n",
      " [ 0.00000000e+00  0.00000000e+00  0.00000000e+00 ...  0.00000000e+00\n",
      "   0.00000000e+00  1.00000000e+00]]\n"
     ]
    },
    {
     "name": "stderr",
     "output_type": "stream",
     "text": [
      "\n"
     ]
    }
   ],
   "source": [
    "M=coo.toarray()\n",
    "print(M.shape)\n",
    "\n",
    "def calculate_cosine_distance_cor(M):\n",
    "    Res = np.empty((M.shape[0],M.shape[0]))\n",
    "    def my_cosine_distance(i,j):\n",
    "        return np.sum(M[i,:]*M[j,:])/(np.sqrt(np.sum(np.square(M[i,:])))*np.sqrt(np.sum(np.square(M[j,:]))))\n",
    "    for i in tqdm(range(M.shape[0])):\n",
    "        for j in range(i,M.shape[0]):\n",
    "            calculated = my_cosine_distance(i,j);\n",
    "            if (i==j):\n",
    "                Res[i,j]=calculated\n",
    "            else:\n",
    "                Res[i,j]=Res[j,i]=calculated\n",
    "    Res[np.isnan(Res)] = 0\n",
    "    return sparse.csr_matrix(Res)\n",
    "\n",
    "cor = calculate_cosine_distance_cor(M)\n",
    "print(cor.toarray())"
   ]
  },
  {
   "cell_type": "code",
   "execution_count": 149,
   "id": "acbc59bb",
   "metadata": {},
   "outputs": [
    {
     "data": {
      "text/plain": [
       "(611, 611)"
      ]
     },
     "execution_count": 149,
     "metadata": {},
     "output_type": "execute_result"
    }
   ],
   "source": [
    "cor.shape"
   ]
  },
  {
   "cell_type": "code",
   "execution_count": 151,
   "id": "0eadb74b",
   "metadata": {},
   "outputs": [
    {
     "data": {
      "text/plain": [
       "array([ 0.        ,  0.        ,  0.        ,  0.        ,  0.        ,\n",
       "        0.02379198,  0.        ,  0.04562739,  0.        ,  0.        ,\n",
       "        0.        ,  0.        ,  0.        ,  0.        ,  0.        ,\n",
       "        0.        ,  0.        ,  0.        ,  0.04626138,  0.        ,\n",
       "        0.        ,  0.        ,  0.        ,  0.        ,  0.        ,\n",
       "        0.        ,  0.        ,  0.        ,  0.        ,  0.        ,\n",
       "        0.        ,  0.        , -0.09756299,  0.        , -0.01456328,\n",
       "        0.        ,  0.        ,  0.13644064,  0.        ,  0.        ,\n",
       "        0.        ,  0.04552836, -0.05409425,  0.20976052, -0.03179004,\n",
       "        0.        ,  0.        ,  0.        ,  0.        ,  0.        ,\n",
       "        0.        ,  0.        ,         nan,  0.        ,  0.        ,\n",
       "        0.02869854, -0.01187171,  0.        ,  0.        ,  0.        ,\n",
       "        0.        ,  0.        ,  0.        ,  0.        ,  0.        ,\n",
       "        0.        ,  0.        ,  0.02814049,  0.        ,  0.        ,\n",
       "        0.        ,  0.        ,  0.        ,  0.        ,  0.        ,\n",
       "        0.        ,  0.        ,  0.        ,  0.        ,  0.        ,\n",
       "        0.        ,  0.        ,  0.        ,  0.01690649,  0.        ,\n",
       "        0.        ,  0.        ,  0.        , -0.02536638,  0.        ,\n",
       "        0.        ,  0.        ,  0.        , -0.00337684,  0.        ,\n",
       "        0.        ,  0.        ,  0.        ,  0.        ,  0.00466721,\n",
       "        0.        ,  0.        ,  0.        ,  0.        ,  0.        ,\n",
       "        0.        ,  0.17777781,  0.        ,  0.07126375,  0.        ,\n",
       "        0.        ,  0.        , -0.0305335 ,  0.        ,  0.        ,\n",
       "        0.        ,  0.0588543 ,  0.        ,  0.        ,  0.06581452,\n",
       "        0.07901641,  0.        ,  0.        ,  0.        ,  0.        ,\n",
       "        0.        ,  0.        ,  0.        ,  0.        ,  0.        ,\n",
       "        0.        ,  0.        ,  0.        ,  0.        ,  0.        ,\n",
       "        0.        ,  0.        ,  0.        ,  0.        ,  0.01780158,\n",
       "        0.        ,  0.        ,  0.        ,  0.        ,  0.        ,\n",
       "        0.        ,  0.        ,  0.        ,  0.        ,  0.        ,\n",
       "        0.05739857,  0.        ,  0.        ,  0.        ,  0.        ,\n",
       "       -0.02672069,  0.        ,  0.        ,  0.        ,  0.        ,\n",
       "        0.        ,  0.        ,  0.        ,  0.        ,  0.        ,\n",
       "        0.        ,  0.        ,  0.        , -0.01789956,  0.        ,\n",
       "        0.        ,  0.        ,  0.        ,  0.11771919,  0.        ,\n",
       "        0.        , -0.00921343,  0.        ,  0.        ,  0.        ,\n",
       "        0.14519217,  0.        ,  0.        ,  0.        ,  0.        ,\n",
       "        0.        ,  0.        ,  0.        ,  0.        ,  0.        ,\n",
       "        0.        ,  0.        ,  0.        ,  0.        ,  0.        ,\n",
       "        0.        ,  0.        ,  0.        ,  0.02200603,  0.        ,\n",
       "       -0.00687127,  0.00867955,  0.        ,  0.        ,  0.        ,\n",
       "        0.        ,  0.        ,  0.        ,  0.        ,  0.        ,\n",
       "        0.        ,  0.        ,  0.        ,  0.        ,  0.        ,\n",
       "        0.        , -0.00779136,  0.        ,  0.        ,  0.        ,\n",
       "        0.        ,  0.        ,  0.        ,  0.        ,  0.        ,\n",
       "        0.        ,  0.        ,  0.        ,  0.        ,  0.        ,\n",
       "        0.        ,  0.        ,  0.        ,  0.        ,  0.03441356,\n",
       "        0.        ,  0.        ,  0.        ,  0.05490778,  0.        ,\n",
       "        0.        ,  0.        ,  0.        ,  0.        ,  0.        ,\n",
       "        0.        ,  0.        ,  0.        ,  0.        ,  0.        ,\n",
       "        0.        ,  0.        ,  0.        ,  0.        ,  0.        ,\n",
       "        0.        ,  0.        ,  0.        ,  0.        ,  0.        ,\n",
       "        0.        ,  0.        ,  0.0176813 ,  0.        ,  0.        ,\n",
       "        0.        ,  0.        ,  0.        ,  0.        ,  0.        ,\n",
       "        0.        ,  0.        ,  0.2941742 , -0.00668549,  0.        ,\n",
       "        0.06208269,  0.        ,  0.        ,  0.        ,  0.        ,\n",
       "        0.        ,  0.        ,  0.        ,  0.        ,  0.        ,\n",
       "        0.        ,  0.        ,  0.02880234,  0.        , -0.00901597,\n",
       "        0.        ,  0.        ,  0.        ,  0.04635595,  0.        ,\n",
       "        0.        ,  0.        ,  0.        ,  0.        ,  0.        ,\n",
       "        0.        ,  0.        ,  0.        ,  0.05642926,  0.        ,\n",
       "        0.        ,  0.        ,  0.        ,  0.        ,  0.        ,\n",
       "        0.        ,  0.        ,  0.        ,  0.13560834,  0.        ,\n",
       "        0.        ,  0.        ,  0.        ,  0.        ,  0.        ,\n",
       "        0.        ,  0.04207614,  0.        ,  0.        ,  0.        ,\n",
       "        0.        ,  0.        ,  0.        ,  0.        ,  0.        ,\n",
       "        0.        ,  0.        ,  0.        ,  0.        ,  0.        ,\n",
       "        0.        ,  0.12241166,  0.        ,  0.        ,  0.        ,\n",
       "        0.        ,  0.        ,  0.        ,  0.        , -0.18139965,\n",
       "        0.        ,  0.08084521,  0.        ,  0.        ,  0.04811252,\n",
       "       -0.11846978,  0.        ,  0.03535617,  0.        ,  0.        ,\n",
       "        0.        , -0.02316438,  0.        ,  0.        ,  0.        ,\n",
       "        0.        ,  0.        ,  0.        ,  0.        ,  0.        ,\n",
       "        0.        ,  0.        ,  0.        ,  0.        ,  0.        ,\n",
       "        0.        ,  0.02879773, -0.06247774,  0.        ,  0.        ,\n",
       "        0.        ,  0.        ,  0.        ,  0.        , -0.00689204,\n",
       "        0.        ,  0.        ,  0.        ,  0.        ,  0.        ,\n",
       "        0.        , -0.01948625,  0.        ,  0.        ,  0.        ,\n",
       "        0.        ,  0.        ,  0.        ,  0.        ,  0.        ,\n",
       "        0.        ,  0.        ,  0.        ,  0.        ,  0.        ,\n",
       "        0.        ,  0.        ,  0.        ,  0.1118034 ,  0.        ,\n",
       "        0.        ,  0.        ,  0.        ,  0.        , -0.06976485,\n",
       "        0.04980524,  0.        ,  0.        ,  0.02345943,  0.        ,\n",
       "        0.        ,  0.        ,  0.        ,  0.        ,  0.        ,\n",
       "        0.        ,  0.        ,  0.        ,  0.        ,  0.        ,\n",
       "        0.        ,  0.        ,  0.        ,  0.        ,  0.        ,\n",
       "        0.        ,  0.        ,  0.        ,  0.        ,  0.        ,\n",
       "        0.        ,  0.        ,  0.02089699,  0.        ,  0.        ,\n",
       "        0.        ,  0.        ,  0.        ,  0.        ,  0.        ,\n",
       "        0.06633732,  0.        ,  0.01348153,  0.        ,  0.        ,\n",
       "        0.        ,  0.        ,  0.        ,  0.        ,  0.07249484,\n",
       "        0.        ,  0.        ,  0.        ,  0.        ,  0.        ,\n",
       "        0.        ,  0.        ,  0.        ,  0.        ,  0.        ,\n",
       "        0.        ,  0.        ,  0.        , -0.02176305,  0.        ,\n",
       "        0.        ,  0.        ,  0.        , -0.01666749,  0.        ,\n",
       "       -0.07919869,  0.        ,  0.        ,  0.        ,  0.        ,\n",
       "        0.        ,  0.        ,  0.        ,  0.        ,  0.        ,\n",
       "        0.        ,  0.        ,  0.        , -0.03520051,  0.        ,\n",
       "        0.        ,  0.06865279,  0.        ,  0.        ,  0.        ,\n",
       "        0.        ,  0.        ,  0.        ,  0.        , -0.12876709,\n",
       "       -0.02203263,  0.        ,  0.        ,  0.        ,  0.        ,\n",
       "        0.        ,  0.        ,  0.        ,  0.        ,  0.        ,\n",
       "        0.        ,  0.        ,  0.        ,  0.02577011,  0.        ,\n",
       "        0.        ,  0.        ,  0.        ,  0.        ,  0.        ,\n",
       "        0.        ,  0.        ,  0.        ,  0.14166866,  0.        ,\n",
       "        0.        ,  0.        ,  0.        ,  0.        ,  0.03849002,\n",
       "        0.        ,  0.        ,  0.        ,  0.        ,  0.        ,\n",
       "        0.        ,  0.        ,  0.        ,  0.        ,  0.        ,\n",
       "        0.04292394,  0.        ,  0.        ,  0.        ,  0.        ,\n",
       "        0.        ,  0.        ,  0.        ,  0.        ,  0.        ,\n",
       "        0.        ,  0.        ,  0.        ,  0.        ,  0.        ,\n",
       "        0.        ,  0.        ,  0.        ,  0.        ,  0.        ,\n",
       "        0.        ,  0.        ,  0.        ,  0.        ,  0.        ,\n",
       "        0.11808421,  0.        ,  0.        ,  0.        ,  0.00649554,\n",
       "        0.08800282,  0.        ,  0.        ,  0.        ,  0.        ,\n",
       "        0.        ,  0.        ,  0.        , -0.08468937,  0.        ,\n",
       "        0.        ,  0.        ,  0.        ,  0.        ,  0.        ,\n",
       "        0.        ,  0.00145974,  0.        ,  0.        , -0.0111851 ,\n",
       "        0.        ,  0.        ,  0.        ,  0.03682508,  0.        ,\n",
       "        0.        , -0.03135826,  0.        ,  0.01742627,  0.        ,\n",
       "        0.        , -0.0245186 ,  0.        ,  0.        ,  0.        ,\n",
       "       -0.03386216, -0.04220669,  0.        ,  0.        ,  0.        ,\n",
       "        1.        ])"
      ]
     },
     "execution_count": 151,
     "metadata": {},
     "output_type": "execute_result"
    }
   ],
   "source": [
    "# Схожесть нового пользователя с другими косинусное расстояние\n",
    "cor.toarray()[-1]"
   ]
  },
  {
   "cell_type": "code",
   "execution_count": 153,
   "id": "88df6fb4",
   "metadata": {},
   "outputs": [
    {
     "data": {
      "text/plain": [
       "array([0.20976052, 0.2941742 , 1.        ])"
      ]
     },
     "execution_count": 153,
     "metadata": {},
     "output_type": "execute_result"
    }
   ],
   "source": [
    "cor.toarray()[-1][np.where(cor.toarray()[-1]>0.2)]"
   ]
  },
  {
   "cell_type": "code",
   "execution_count": 154,
   "id": "045a71f8",
   "metadata": {},
   "outputs": [
    {
     "name": "stderr",
     "output_type": "stream",
     "text": [
      "  0%|                                                                                          | 0/611 [00:00<?, ?it/s]<ipython-input-154-dda248356c8d>:9: RuntimeWarning: invalid value encountered in double_scalars\n",
      "  j_mean = np.sum(M[j,:])/(M[j,:]!=0).sum()\n",
      "<ipython-input-154-dda248356c8d>:18: RuntimeWarning: invalid value encountered in double_scalars\n",
      "  return numerator/denumerator\n",
      "  9%|██████▉                                                                          | 52/611 [00:02<00:29, 19.00it/s]<ipython-input-154-dda248356c8d>:7: RuntimeWarning: invalid value encountered in double_scalars\n",
      "  i_mean = np.sum(M[i,:])/(M[i,:]!=0).sum()\n",
      "100%|████████████████████████████████████████████████████████████████████████████████| 611/611 [00:17<00:00, 34.91it/s]"
     ]
    },
    {
     "name": "stdout",
     "output_type": "stream",
     "text": [
      "[[ 1.00000000e+00  1.26451574e-03  5.52577176e-04 ... -2.57125541e-02\n",
      "   1.09323166e-02  0.00000000e+00]\n",
      " [ 1.26451574e-03  1.00000000e+00  0.00000000e+00 ... -6.00909967e-02\n",
      "   2.49992083e-02  0.00000000e+00]\n",
      " [ 5.52577176e-04  0.00000000e+00  1.00000000e+00 ...  0.00000000e+00\n",
      "   1.95499646e-02  0.00000000e+00]\n",
      " ...\n",
      " [-2.57125541e-02 -6.00909967e-02  0.00000000e+00 ...  1.00000000e+00\n",
      "  -1.24714266e-02  0.00000000e+00]\n",
      " [ 1.09323166e-02  2.49992083e-02  1.95499646e-02 ... -1.24714266e-02\n",
      "   1.00000000e+00  0.00000000e+00]\n",
      " [ 0.00000000e+00  0.00000000e+00  0.00000000e+00 ...  0.00000000e+00\n",
      "   0.00000000e+00  1.00000000e+00]]\n"
     ]
    },
    {
     "name": "stderr",
     "output_type": "stream",
     "text": [
      "\n"
     ]
    }
   ],
   "source": [
    "M=coo.toarray()\n",
    "\n",
    "\n",
    "def calculate_otiai_distance_cor(M):\n",
    "    Res = np.empty((M.shape[0],M.shape[0]))\n",
    "    def my_otiai_distance(i,j):\n",
    "        i_mean = np.sum(M[i,:])/(M[i,:]!=0).sum()\n",
    " \n",
    "        j_mean = np.sum(M[j,:])/(M[j,:]!=0).sum() \n",
    "\n",
    "        i_minus_i_mean =  np.where((M[i,:]!=0), M[i,:]-i_mean, 0)\n",
    "     \n",
    "        j_minus_j_mean =  np.where((M[j,:]!=0), M[j,:]-j_mean, 0)\n",
    "  \n",
    "        numerator = np.sum(i_minus_i_mean*j_minus_j_mean)\n",
    "\n",
    "        denumerator = (np.sqrt(np.sum(np.square(i_minus_i_mean)))*np.sqrt(np.sum(np.square(j_minus_j_mean))))\n",
    "        return numerator/denumerator\n",
    "    for i in tqdm(range(M.shape[0])):\n",
    "        for j in range(i,M.shape[0]):\n",
    "            calculated = my_otiai_distance(i,j);\n",
    "            if (i==j):\n",
    "                Res[i,j]=calculated\n",
    "            else:\n",
    "                Res[i,j]=Res[j,i]=calculated\n",
    "    Res[np.isnan(Res)] = 0\n",
    "    return sparse.csr_matrix(Res)\n",
    "\n",
    "cor = calculate_otiai_distance_cor(M)\n",
    "print(cor.toarray())"
   ]
  },
  {
   "cell_type": "code",
   "execution_count": 155,
   "id": "ffefc44c",
   "metadata": {},
   "outputs": [
    {
     "data": {
      "text/plain": [
       "array([0.20976052, 0.2941742 , 1.        ])"
      ]
     },
     "execution_count": 155,
     "metadata": {},
     "output_type": "execute_result"
    }
   ],
   "source": [
    "# Схожесть нового пользователя с другими Отиаи\n",
    "cor.toarray()[-1][np.where(cor.toarray()[-1]>0.2)]"
   ]
  },
  {
   "cell_type": "code",
   "execution_count": 156,
   "id": "1ba11c2a",
   "metadata": {},
   "outputs": [
    {
     "name": "stderr",
     "output_type": "stream",
     "text": [
      "  0%|                                                                                          | 0/611 [00:00<?, ?it/s]<ipython-input-156-b7b47c3406b9>:8: RuntimeWarning: invalid value encountered in double_scalars\n",
      "  b = np.sum(M[j,:])/(M[j,:]!=0).sum()\n",
      "<ipython-input-156-b7b47c3406b9>:14: RuntimeWarning: invalid value encountered in double_scalars\n",
      "  return c/d\n",
      "  0%|▎                                                                                 | 2/611 [00:00<00:40, 14.97it/s]"
     ]
    },
    {
     "name": "stdout",
     "output_type": "stream",
     "text": [
      "(611, 9724)\n"
     ]
    },
    {
     "name": "stderr",
     "output_type": "stream",
     "text": [
      "  9%|██████▉                                                                          | 52/611 [00:03<00:31, 17.64it/s]<ipython-input-156-b7b47c3406b9>:7: RuntimeWarning: invalid value encountered in double_scalars\n",
      "  a = np.sum(M[i,:])/(M[i,:]!=0).sum()\n",
      "100%|████████████████████████████████████████████████████████████████████████████████| 611/611 [00:18<00:00, 32.67it/s]"
     ]
    },
    {
     "name": "stdout",
     "output_type": "stream",
     "text": [
      "[[ 1.          1.          0.01122517 ... -0.28680855  0.0968699\n",
      "   0.        ]\n",
      " [ 1.          1.          0.         ... -1.          0.32000431\n",
      "   0.        ]\n",
      " [ 0.01122517  0.          1.         ...  0.          0.59588158\n",
      "   0.        ]\n",
      " ...\n",
      " [-0.28680855 -1.          0.         ...  1.         -0.20662762\n",
      "   0.        ]\n",
      " [ 0.0968699   0.32000431  0.59588158 ... -0.20662762  1.\n",
      "   0.        ]\n",
      " [ 0.          0.          0.         ...  0.          0.\n",
      "   1.        ]]\n"
     ]
    },
    {
     "name": "stderr",
     "output_type": "stream",
     "text": [
      "\n"
     ]
    }
   ],
   "source": [
    "M=coo.toarray()\n",
    "print(M.shape)\n",
    "\n",
    "def calculate_pearson_distance_cor(M):\n",
    "    Res = np.empty((M.shape[0],M.shape[0]))\n",
    "    def my_pearson_distance(i,j):\n",
    "        a = np.sum(M[i,:])/(M[i,:]!=0).sum()\n",
    "        b = np.sum(M[j,:])/(M[j,:]!=0).sum()\n",
    "        aa = np.where((M[i,:]!=0) &(M[j,:]!=0), M[i,:]-a, 0)\n",
    "        bb = np.where((M[i,:]!=0) &(M[j,:]!=0), M[j,:]-b, 0)\n",
    "        c = np.sum(aa*bb)\n",
    "        d = (np.sqrt(np.sum(np.square(aa)))*np.sqrt(np.sum(np.square(bb))))\n",
    "   \n",
    "        return c/d\n",
    "    for i in tqdm(range(M.shape[0])):\n",
    "        for j in range(i,M.shape[0]):\n",
    "            calculated = my_pearson_distance(i,j);\n",
    "            if (i==j):\n",
    "                Res[i,j]=calculated\n",
    "            else:\n",
    "                Res[i,j]=Res[j,i]=calculated\n",
    "    Res[np.isnan(Res)] = 0\n",
    "    return sparse.csr_matrix(Res)\n",
    "\n",
    "cor = calculate_pearson_distance_cor(M)\n",
    "print(cor.toarray())"
   ]
  },
  {
   "cell_type": "code",
   "execution_count": 157,
   "id": "378de9f7",
   "metadata": {},
   "outputs": [
    {
     "data": {
      "text/plain": [
       "array([1.        , 1.        , 1.        , 1.        , 1.        ,\n",
       "       1.        , 1.        , 1.        , 1.        , 1.        ,\n",
       "       1.        , 1.        , 1.        , 1.        , 1.        ,\n",
       "       1.        , 1.        , 1.        , 1.        , 1.        ,\n",
       "       1.        , 1.        , 1.        , 1.        , 1.        ,\n",
       "       1.        , 1.        , 1.        , 1.        , 1.        ,\n",
       "       1.        , 1.        , 1.        , 1.        , 1.        ,\n",
       "       1.        , 1.        , 1.        , 1.        , 1.        ,\n",
       "       1.        , 1.        , 1.        , 1.        , 1.        ,\n",
       "       1.        , 1.        , 1.        , 1.        , 1.        ,\n",
       "       1.        , 1.        , 1.        , 0.61442114, 1.        ])"
      ]
     },
     "execution_count": 157,
     "metadata": {},
     "output_type": "execute_result"
    }
   ],
   "source": [
    "# Схожесть нового пользователя с другими Пирсон\n",
    "cor.toarray()[-1][np.where(cor.toarray()[-1]>0.2)]"
   ]
  },
  {
   "cell_type": "markdown",
   "id": "5b44cfdb",
   "metadata": {},
   "source": [
    "## Задание 5\n",
    "Дана матрица предпочтений User/Item. Построить матрицу схожести, с\n",
    "помощью асимметричного коэффициента Жаккара и методом ассоциаций. "
   ]
  },
  {
   "cell_type": "code",
   "execution_count": 158,
   "id": "36fd7d55",
   "metadata": {},
   "outputs": [
    {
     "name": "stderr",
     "output_type": "stream",
     "text": [
      "  8%|██████▎                                                                          | 48/611 [00:00<00:11, 49.56it/s]<ipython-input-158-b946448946a0>:10: RuntimeWarning: invalid value encountered in long_scalars\n",
      "  return and_jack/or_jack\n",
      "100%|████████████████████████████████████████████████████████████████████████████████| 611/611 [00:12<00:00, 47.71it/s]"
     ]
    },
    {
     "name": "stdout",
     "output_type": "stream",
     "text": [
      "[[1.         0.00862069 0.03017241 ... 0.0387931  0.29741379 0.        ]\n",
      " [0.06896552 1.         0.         ... 0.03448276 0.62068966 0.        ]\n",
      " [0.17948718 0.         1.         ... 0.         0.17948718 0.        ]\n",
      " ...\n",
      " [0.24324324 0.02702703 0.         ... 1.         0.27027027 0.        ]\n",
      " [0.05299539 0.01382488 0.00537634 ... 0.00768049 1.         0.        ]\n",
      " [0.         0.         0.         ... 0.         0.         1.        ]]\n"
     ]
    },
    {
     "name": "stderr",
     "output_type": "stream",
     "text": [
      "\n"
     ]
    }
   ],
   "source": [
    "M=coo.toarray()\n",
    "\n",
    "def calculate_jaccard_asim_distance_cor(M):\n",
    "    Res = np.empty((M.shape[0],M.shape[0]))\n",
    "    def my_jaccard_asim_distance(i,j):\n",
    "        and_jack = np.where((M[i,:]!=0) & (M[j,:]!=0), 1, 0).sum() \n",
    "        or_jack = np.where((M[i,:]!=0), 1, 0).sum()\n",
    "\n",
    "   \n",
    "        return and_jack/or_jack\n",
    "    for i in tqdm(range(M.shape[0])):\n",
    "        for j in range(M.shape[0]):\n",
    "            calculated = my_jaccard_asim_distance(i,j);\n",
    "            Res[i,j]=calculated\n",
    "    Res[np.isnan(Res)] = 0\n",
    "    return sparse.csr_matrix(Res)\n",
    "\n",
    "cor = calculate_jaccard_asim_distance_cor(M)\n",
    "print(cor.toarray())"
   ]
  },
  {
   "cell_type": "code",
   "execution_count": 159,
   "id": "6a79eaaa",
   "metadata": {},
   "outputs": [
    {
     "name": "stderr",
     "output_type": "stream",
     "text": [
      "  0%|                                                                                          | 0/611 [00:00<?, ?it/s]<ipython-input-159-03a38c7d6568>:10: RuntimeWarning: divide by zero encountered in long_scalars\n",
      "  return and_i_j/and_not_i_j\n",
      "<ipython-input-159-03a38c7d6568>:10: RuntimeWarning: invalid value encountered in long_scalars\n",
      "  return and_i_j/and_not_i_j\n",
      "100%|████████████████████████████████████████████████████████████████████████████████| 611/611 [00:13<00:00, 44.96it/s]"
     ]
    },
    {
     "name": "stdout",
     "output_type": "stream",
     "text": [
      "[[0.         0.07407407 0.21875    ... 0.32142857 0.05596107 0.        ]\n",
      " [0.00869565 0.         0.         ... 0.02777778 0.01401869 0.        ]\n",
      " [0.03111111 0.         0.         ... 0.         0.00540541 0.        ]\n",
      " ...\n",
      " [0.04035874 0.03571429 0.         ... 0.         0.00773994 0.        ]\n",
      " [0.42331288 1.63636364 0.21875    ... 0.37037037 0.         0.        ]\n",
      " [0.         0.         0.         ... 0.         0.         0.        ]]\n"
     ]
    },
    {
     "name": "stderr",
     "output_type": "stream",
     "text": [
      "\n"
     ]
    }
   ],
   "source": [
    "M=coo.toarray()\n",
    "\n",
    "def calculate_associations_distance_cor(M):\n",
    "    Res = np.empty((M.shape[0],M.shape[0]))\n",
    "    def my_associations_distance(i,j):\n",
    "        and_i_j = np.where((M[i,:]!=0) & (M[j,:]!=0), 1, 0).sum() \n",
    "        and_not_i_j = np.where((M[i,:]==0) & (M[j,:]!=0), 1, 0).sum() \n",
    "        \n",
    "   \n",
    "        return and_i_j/and_not_i_j\n",
    "    for i in tqdm(range(M.shape[0])):\n",
    "        for j in range(M.shape[0]):\n",
    "            calculated = my_associations_distance(i,j);\n",
    "#             if (i==j):\n",
    "#                 Res[i,j]=calculated\n",
    "#             else:\n",
    "            Res[i,j]=calculated\n",
    "    Res[np.isnan(Res)] = 0\n",
    "    Res[np.isinf(Res)] = 0\n",
    "    return sparse.csr_matrix(Res)\n",
    "\n",
    "cor = calculate_associations_distance_cor(M)\n",
    "print(cor.toarray())"
   ]
  },
  {
   "cell_type": "code",
   "execution_count": 173,
   "id": "e8f433d5",
   "metadata": {},
   "outputs": [],
   "source": [
    "from surprise import KNNBasic\n",
    "from surprise import Dataset\n",
    "from surprise import Reader\n",
    "from surprise.model_selection import KFold\n",
    "from surprise import SlopeOne\n",
    "from surprise import accuracy"
   ]
  },
  {
   "cell_type": "markdown",
   "id": "60c480ce",
   "metadata": {},
   "source": [
    "## Задание 3\n",
    "По расширенной матрице из задания 2. с помощью алгоритма\n",
    "кластеризации k ближайших соседей предсказать оценки"
   ]
  },
  {
   "cell_type": "code",
   "execution_count": 172,
   "id": "ecc313e0",
   "metadata": {},
   "outputs": [],
   "source": [
    "reader = Reader(rating_scale=(1, 5))\n",
    "data = Dataset.load_from_df(merged_user_ratings[[\"userId\", \"movieId\", \"rating\"]], reader)\n",
    "trainset = data.build_full_trainset()\n"
   ]
  },
  {
   "cell_type": "code",
   "execution_count": 174,
   "id": "c9b93986",
   "metadata": {},
   "outputs": [
    {
     "name": "stdout",
     "output_type": "stream",
     "text": [
      "Computing the msd similarity matrix...\n",
      "Done computing similarity matrix.\n"
     ]
    },
    {
     "data": {
      "text/plain": [
       "<surprise.prediction_algorithms.knns.KNNBasic at 0x257cb251400>"
      ]
     },
     "execution_count": 174,
     "metadata": {},
     "output_type": "execute_result"
    }
   ],
   "source": [
    "#Use KNNBasic algorithm\n",
    "algo = KNNBasic()\n",
    "algo.fit(trainset)"
   ]
  },
  {
   "cell_type": "code",
   "execution_count": 175,
   "id": "b7a19bee",
   "metadata": {},
   "outputs": [
    {
     "data": {
      "text/plain": [
       "3.5015718124931823"
      ]
     },
     "execution_count": 175,
     "metadata": {},
     "output_type": "execute_result"
    }
   ],
   "source": [
    "uid =str(200)\n",
    "iid = str(100)\n",
    "pred = algo.predict(uid,iid)\n",
    "pred.est"
   ]
  },
  {
   "cell_type": "code",
   "execution_count": 176,
   "id": "cb979d11",
   "metadata": {},
   "outputs": [
    {
     "name": "stderr",
     "output_type": "stream",
     "text": [
      "611it [00:48, 12.56it/s]\n"
     ]
    }
   ],
   "source": [
    "users_ratings_prediction = pd.DataFrame([],columns=['userId','movieId','rating'])\n",
    "users = pd.Series(pd.unique(merged_user_ratings['userId']))\n",
    "for _,user in tqdm(users.iteritems()):\n",
    "    not_user_movies = pd.Series(pd.unique(merged_user_ratings.loc[merged_user_ratings['userId']!=user,'movieId']))\n",
    "    user_predictions = not_user_movies.apply(lambda movie: algo.predict(str(user),str(movie)).est)\n",
    "    df = pd.DataFrame(columns = ['movieId', 'rating'])\n",
    "    df['movieId']=not_user_movies\n",
    "    df['rating']=user_predictions\n",
    "    df['userId']=user\n",
    "    users_ratings_prediction = pd.concat([users_ratings_prediction, df],ignore_index=True)"
   ]
  },
  {
   "cell_type": "code",
   "execution_count": 177,
   "id": "eb1195f5",
   "metadata": {},
   "outputs": [
    {
     "data": {
      "text/html": [
       "<div>\n",
       "<style scoped>\n",
       "    .dataframe tbody tr th:only-of-type {\n",
       "        vertical-align: middle;\n",
       "    }\n",
       "\n",
       "    .dataframe tbody tr th {\n",
       "        vertical-align: top;\n",
       "    }\n",
       "\n",
       "    .dataframe thead th {\n",
       "        text-align: right;\n",
       "    }\n",
       "</style>\n",
       "<table border=\"1\" class=\"dataframe\">\n",
       "  <thead>\n",
       "    <tr style=\"text-align: right;\">\n",
       "      <th></th>\n",
       "      <th>userId</th>\n",
       "      <th>movieId</th>\n",
       "      <th>rating</th>\n",
       "    </tr>\n",
       "  </thead>\n",
       "  <tbody>\n",
       "    <tr>\n",
       "      <th>0</th>\n",
       "      <td>0</td>\n",
       "      <td>277</td>\n",
       "      <td>3.501572</td>\n",
       "    </tr>\n",
       "    <tr>\n",
       "      <th>1</th>\n",
       "      <td>0</td>\n",
       "      <td>291</td>\n",
       "      <td>3.501572</td>\n",
       "    </tr>\n",
       "    <tr>\n",
       "      <th>2</th>\n",
       "      <td>0</td>\n",
       "      <td>1283</td>\n",
       "      <td>3.501572</td>\n",
       "    </tr>\n",
       "    <tr>\n",
       "      <th>3</th>\n",
       "      <td>0</td>\n",
       "      <td>2670</td>\n",
       "      <td>3.501572</td>\n",
       "    </tr>\n",
       "    <tr>\n",
       "      <th>4</th>\n",
       "      <td>0</td>\n",
       "      <td>4607</td>\n",
       "      <td>3.501572</td>\n",
       "    </tr>\n",
       "    <tr>\n",
       "      <th>...</th>\n",
       "      <td>...</td>\n",
       "      <td>...</td>\n",
       "      <td>...</td>\n",
       "    </tr>\n",
       "    <tr>\n",
       "      <th>5937913</th>\n",
       "      <td>610</td>\n",
       "      <td>9307</td>\n",
       "      <td>3.501572</td>\n",
       "    </tr>\n",
       "    <tr>\n",
       "      <th>5937914</th>\n",
       "      <td>610</td>\n",
       "      <td>9312</td>\n",
       "      <td>3.501572</td>\n",
       "    </tr>\n",
       "    <tr>\n",
       "      <th>5937915</th>\n",
       "      <td>610</td>\n",
       "      <td>9324</td>\n",
       "      <td>3.501572</td>\n",
       "    </tr>\n",
       "    <tr>\n",
       "      <th>5937916</th>\n",
       "      <td>610</td>\n",
       "      <td>9371</td>\n",
       "      <td>3.501572</td>\n",
       "    </tr>\n",
       "    <tr>\n",
       "      <th>5937917</th>\n",
       "      <td>610</td>\n",
       "      <td>9372</td>\n",
       "      <td>3.501572</td>\n",
       "    </tr>\n",
       "  </tbody>\n",
       "</table>\n",
       "<p>5937918 rows × 3 columns</p>\n",
       "</div>"
      ],
      "text/plain": [
       "        userId movieId    rating\n",
       "0            0     277  3.501572\n",
       "1            0     291  3.501572\n",
       "2            0    1283  3.501572\n",
       "3            0    2670  3.501572\n",
       "4            0    4607  3.501572\n",
       "...        ...     ...       ...\n",
       "5937913    610    9307  3.501572\n",
       "5937914    610    9312  3.501572\n",
       "5937915    610    9324  3.501572\n",
       "5937916    610    9371  3.501572\n",
       "5937917    610    9372  3.501572\n",
       "\n",
       "[5937918 rows x 3 columns]"
      ]
     },
     "execution_count": 177,
     "metadata": {},
     "output_type": "execute_result"
    }
   ],
   "source": [
    "users_ratings_prediction"
   ]
  },
  {
   "cell_type": "markdown",
   "id": "a34302e6",
   "metadata": {},
   "source": [
    "## Задание 4\n",
    "Дана матрица предпочтений User/Item. Добавить строку с оценками\n",
    "Студента группы. Предсказать оценку для выделенных ячеек с помощью\n",
    "алгоритма Slope One. "
   ]
  },
  {
   "cell_type": "code",
   "execution_count": 161,
   "id": "6d5cf63a",
   "metadata": {},
   "outputs": [],
   "source": [
    "reader = Reader(rating_scale=(1, 5))\n",
    "data = Dataset.load_from_df(merged_user_ratings[[\"userId\", \"movieId\", \"rating\"]], reader)\n",
    "trainset = data.build_full_trainset()"
   ]
  },
  {
   "cell_type": "code",
   "execution_count": 162,
   "id": "6c93c857",
   "metadata": {},
   "outputs": [
    {
     "data": {
      "text/plain": [
       "<surprise.prediction_algorithms.slope_one.SlopeOne at 0x257cf0e2790>"
      ]
     },
     "execution_count": 162,
     "metadata": {},
     "output_type": "execute_result"
    }
   ],
   "source": [
    "#Use SlopeOne algorithm\n",
    "algo = SlopeOne()\n",
    "algo.fit(trainset)"
   ]
  },
  {
   "cell_type": "code",
   "execution_count": 165,
   "id": "d9a83c71",
   "metadata": {},
   "outputs": [
    {
     "data": {
      "text/plain": [
       "3.5015718124931823"
      ]
     },
     "execution_count": 165,
     "metadata": {},
     "output_type": "execute_result"
    }
   ],
   "source": [
    "uid =str(200)\n",
    "iid = str(100)\n",
    "pred = algo.predict(uid,iid)\n",
    "pred.est"
   ]
  },
  {
   "cell_type": "code",
   "execution_count": 169,
   "id": "74b4c1c0",
   "metadata": {},
   "outputs": [],
   "source": [
    "user_ratings_prediction = pd.DataFrame([],columns=['userId','movieId','rating'])\n",
    "user = 611\n",
    "not_user_movies = pd.Series(pd.unique(merged_user_ratings.loc[merged_user_ratings['userId']!=user,'movieId']))\n",
    "user_predictions = not_user_movies.apply(lambda movie: algo.predict(str(user),str(movie)).est)\n",
    "df = pd.DataFrame(columns = ['movieId', 'rating'])\n",
    "df['movieId']=not_user_movies\n",
    "df['rating']=user_predictions\n",
    "df['userId']=user\n",
    "user_ratings_prediction = pd.concat([user_ratings_prediction, df],ignore_index=True)"
   ]
  },
  {
   "cell_type": "code",
   "execution_count": 170,
   "id": "752d8711",
   "metadata": {},
   "outputs": [
    {
     "data": {
      "text/html": [
       "<div>\n",
       "<style scoped>\n",
       "    .dataframe tbody tr th:only-of-type {\n",
       "        vertical-align: middle;\n",
       "    }\n",
       "\n",
       "    .dataframe tbody tr th {\n",
       "        vertical-align: top;\n",
       "    }\n",
       "\n",
       "    .dataframe thead th {\n",
       "        text-align: right;\n",
       "    }\n",
       "</style>\n",
       "<table border=\"1\" class=\"dataframe\">\n",
       "  <thead>\n",
       "    <tr style=\"text-align: right;\">\n",
       "      <th></th>\n",
       "      <th>userId</th>\n",
       "      <th>movieId</th>\n",
       "      <th>rating</th>\n",
       "    </tr>\n",
       "  </thead>\n",
       "  <tbody>\n",
       "    <tr>\n",
       "      <th>0</th>\n",
       "      <td>611</td>\n",
       "      <td>0</td>\n",
       "      <td>3.501572</td>\n",
       "    </tr>\n",
       "    <tr>\n",
       "      <th>1</th>\n",
       "      <td>611</td>\n",
       "      <td>2</td>\n",
       "      <td>3.501572</td>\n",
       "    </tr>\n",
       "    <tr>\n",
       "      <th>2</th>\n",
       "      <td>611</td>\n",
       "      <td>5</td>\n",
       "      <td>3.501572</td>\n",
       "    </tr>\n",
       "    <tr>\n",
       "      <th>3</th>\n",
       "      <td>611</td>\n",
       "      <td>43</td>\n",
       "      <td>3.501572</td>\n",
       "    </tr>\n",
       "    <tr>\n",
       "      <th>4</th>\n",
       "      <td>611</td>\n",
       "      <td>46</td>\n",
       "      <td>3.501572</td>\n",
       "    </tr>\n",
       "    <tr>\n",
       "      <th>...</th>\n",
       "      <td>...</td>\n",
       "      <td>...</td>\n",
       "      <td>...</td>\n",
       "    </tr>\n",
       "    <tr>\n",
       "      <th>9719</th>\n",
       "      <td>611</td>\n",
       "      <td>9307</td>\n",
       "      <td>3.501572</td>\n",
       "    </tr>\n",
       "    <tr>\n",
       "      <th>9720</th>\n",
       "      <td>611</td>\n",
       "      <td>9312</td>\n",
       "      <td>3.501572</td>\n",
       "    </tr>\n",
       "    <tr>\n",
       "      <th>9721</th>\n",
       "      <td>611</td>\n",
       "      <td>9324</td>\n",
       "      <td>3.501572</td>\n",
       "    </tr>\n",
       "    <tr>\n",
       "      <th>9722</th>\n",
       "      <td>611</td>\n",
       "      <td>9371</td>\n",
       "      <td>3.501572</td>\n",
       "    </tr>\n",
       "    <tr>\n",
       "      <th>9723</th>\n",
       "      <td>611</td>\n",
       "      <td>9372</td>\n",
       "      <td>3.501572</td>\n",
       "    </tr>\n",
       "  </tbody>\n",
       "</table>\n",
       "<p>9724 rows × 3 columns</p>\n",
       "</div>"
      ],
      "text/plain": [
       "     userId movieId    rating\n",
       "0       611       0  3.501572\n",
       "1       611       2  3.501572\n",
       "2       611       5  3.501572\n",
       "3       611      43  3.501572\n",
       "4       611      46  3.501572\n",
       "...     ...     ...       ...\n",
       "9719    611    9307  3.501572\n",
       "9720    611    9312  3.501572\n",
       "9721    611    9324  3.501572\n",
       "9722    611    9371  3.501572\n",
       "9723    611    9372  3.501572\n",
       "\n",
       "[9724 rows x 3 columns]"
      ]
     },
     "execution_count": 170,
     "metadata": {},
     "output_type": "execute_result"
    }
   ],
   "source": [
    "user_ratings_prediction"
   ]
  },
  {
   "cell_type": "code",
   "execution_count": null,
   "id": "6576a4db",
   "metadata": {},
   "outputs": [],
   "source": []
  }
 ],
 "metadata": {
  "kernelspec": {
   "display_name": "Python 3",
   "language": "python",
   "name": "python3"
  },
  "language_info": {
   "codemirror_mode": {
    "name": "ipython",
    "version": 3
   },
   "file_extension": ".py",
   "mimetype": "text/x-python",
   "name": "python",
   "nbconvert_exporter": "python",
   "pygments_lexer": "ipython3",
   "version": "3.8.8"
  }
 },
 "nbformat": 4,
 "nbformat_minor": 5
}
