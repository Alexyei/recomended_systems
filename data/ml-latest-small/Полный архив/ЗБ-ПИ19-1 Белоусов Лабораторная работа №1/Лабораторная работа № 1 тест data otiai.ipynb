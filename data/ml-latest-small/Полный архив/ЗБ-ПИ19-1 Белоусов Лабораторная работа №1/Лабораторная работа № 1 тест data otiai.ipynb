{
 "cells": [
  {
   "cell_type": "markdown",
   "id": "27222415",
   "metadata": {},
   "source": [
    "## Совместная фильтрация элемент-элемент\n",
    "1. Оффлайн часть\n",
    "1.1. Получаем оценки всех пользователей\n",
    "1.2. Нормализуем их (столбец mean)\n",
    "1.3. Заменяем id пользователей и фильмов на категории (например фильм с id 100111 получает категорию 0, фильм c id 100112 получает категорию 1 и так далее)\n",
    "1.4. Объединяем колонку mean, колонку категорий пользователей и колонку категорий фильм в разряженную матрицу coo\n",
    "1.5. Создаём матрицу перекрытия, чтобы исключить фильмы у которых мало оценок. Матрица перекрытия показывает сколько пользователей одновременно оценили фильм x и фильм y. \n",
    "1.6. Получаем матрицу сходства между фильмами, для вычисления сходство используется косиносовое сходство. cor = cosine_similarity\n",
    "1.7. В матрице сходства обнуляем ячейки у которых низкое сходство и укоторых маленькое перекрытие\n",
    "1.8. Из полученной матрице сходств формируем таблицу сходств фильмов (similarity_table), в которой категории фильмов заменены на их настоящие id \n",
    "2. Онлайн часть\n",
    "2.1. Получаем оценки текущего пользователя\n",
    "2.2. Сортируем оценки по самым высоким\n",
    "2.3. Вычисляем среднюю оценку пользователя (current_user_mean)\n",
    "2.4. Из таблицы сходств получаем только те фильмы которые оценены текущим пользователем\n",
    "2.5. Из таблицы сходств исключаем фильмы которые оценены текущим пользователем и находятся в колонки target_id. То есть мы не будем рекомендовать пользователю фильмы, которые он уже посмотрел.\n",
    "2.6. Вычисляем рекомендации для пользователя, и получаем таблицу вида: target_id; prediction;sim_movies;\n",
    "где target_id - id фильма рекомендуемого пользователю; prediction - ожидаемая оценка данному фильму; sim_movies- на основание каких фильмов оцененных пользователем ранее выдана данная рекомендация."
   ]
  },
  {
   "cell_type": "code",
   "execution_count": 27,
   "id": "8057f43d",
   "metadata": {},
   "outputs": [],
   "source": [
    "import requests\n",
    "import time\n",
    "import pandas as pd\n",
    "import surprise as surprise\n",
    "import numpy as np\n",
    "from decimal import Decimal\n",
    "from scipy.sparse import coo_matrix\n",
    "from scipy import sparse\n",
    "from tqdm import tqdm\n",
    "# косинусовое сходство\n",
    "from sklearn.metrics.pairwise import cosine_similarity"
   ]
  },
  {
   "cell_type": "code",
   "execution_count": 28,
   "id": "072b46d3",
   "metadata": {},
   "outputs": [
    {
     "name": "stdout",
     "output_type": "stream",
     "text": [
      "   userId  movieId  rating  timestamp\n",
      "0       1        1     4.0  964982703\n",
      "1       1        3     4.0  964981247\n",
      "2       1        6     4.0  964982224\n",
      "3       1       47     5.0  964983815\n",
      "4       1       50     5.0  964982931\n"
     ]
    }
   ],
   "source": [
    "users_ratings = pd.read_csv(\"ratings.csv\")\n",
    "print(users_ratings.head())"
   ]
  },
  {
   "cell_type": "code",
   "execution_count": 29,
   "id": "abd5504d",
   "metadata": {},
   "outputs": [
    {
     "data": {
      "text/html": [
       "<div>\n",
       "<style scoped>\n",
       "    .dataframe tbody tr th:only-of-type {\n",
       "        vertical-align: middle;\n",
       "    }\n",
       "\n",
       "    .dataframe tbody tr th {\n",
       "        vertical-align: top;\n",
       "    }\n",
       "\n",
       "    .dataframe thead th {\n",
       "        text-align: right;\n",
       "    }\n",
       "</style>\n",
       "<table border=\"1\" class=\"dataframe\">\n",
       "  <thead>\n",
       "    <tr style=\"text-align: right;\">\n",
       "      <th></th>\n",
       "      <th>userId</th>\n",
       "      <th>movieId</th>\n",
       "      <th>rating</th>\n",
       "    </tr>\n",
       "  </thead>\n",
       "  <tbody>\n",
       "    <tr>\n",
       "      <th>0</th>\n",
       "      <td>1</td>\n",
       "      <td>1</td>\n",
       "      <td>4.0</td>\n",
       "    </tr>\n",
       "    <tr>\n",
       "      <th>1</th>\n",
       "      <td>1</td>\n",
       "      <td>3</td>\n",
       "      <td>4.0</td>\n",
       "    </tr>\n",
       "    <tr>\n",
       "      <th>2</th>\n",
       "      <td>1</td>\n",
       "      <td>6</td>\n",
       "      <td>4.0</td>\n",
       "    </tr>\n",
       "    <tr>\n",
       "      <th>3</th>\n",
       "      <td>1</td>\n",
       "      <td>47</td>\n",
       "      <td>5.0</td>\n",
       "    </tr>\n",
       "    <tr>\n",
       "      <th>4</th>\n",
       "      <td>1</td>\n",
       "      <td>50</td>\n",
       "      <td>5.0</td>\n",
       "    </tr>\n",
       "  </tbody>\n",
       "</table>\n",
       "</div>"
      ],
      "text/plain": [
       "   userId  movieId  rating\n",
       "0       1        1     4.0\n",
       "1       1        3     4.0\n",
       "2       1        6     4.0\n",
       "3       1       47     5.0\n",
       "4       1       50     5.0"
      ]
     },
     "execution_count": 29,
     "metadata": {},
     "output_type": "execute_result"
    }
   ],
   "source": [
    "users_ratings = users_ratings.drop('timestamp', axis=1)\n",
    "# movie_data = pd.merge(ratings_data, movie_names, on='movieId')\n",
    "users_ratings.head()"
   ]
  },
  {
   "cell_type": "code",
   "execution_count": 30,
   "id": "537cf369",
   "metadata": {},
   "outputs": [
    {
     "data": {
      "text/plain": [
       "False"
      ]
     },
     "execution_count": 30,
     "metadata": {},
     "output_type": "execute_result"
    }
   ],
   "source": [
    "users_ratings['rating'].isnull().any()"
   ]
  },
  {
   "cell_type": "code",
   "execution_count": 31,
   "id": "2f2abb76",
   "metadata": {},
   "outputs": [],
   "source": [
    "# Нормализуем оценки вычтя из оценки среднюю оценку пользователя\n",
    "def normalize(x):\n",
    "    x = x.astype(float)\n",
    "    x_sum = x.sum()\n",
    "    x_num = x.astype(bool).sum()\n",
    "    x_mean = x_sum / x_num\n",
    "\n",
    "    if x_num == 1 or x.std() == 0:\n",
    "        return 0.0\n",
    "    print(x)\n",
    "    print(x_mean)\n",
    "    print((x.max() - x.min()))\n",
    "    return (x - x_mean) / (x.max() - x.min())"
   ]
  },
  {
   "cell_type": "code",
   "execution_count": 32,
   "id": "c7664773",
   "metadata": {},
   "outputs": [
    {
     "data": {
      "text/html": [
       "<div>\n",
       "<style scoped>\n",
       "    .dataframe tbody tr th:only-of-type {\n",
       "        vertical-align: middle;\n",
       "    }\n",
       "\n",
       "    .dataframe tbody tr th {\n",
       "        vertical-align: top;\n",
       "    }\n",
       "\n",
       "    .dataframe thead th {\n",
       "        text-align: right;\n",
       "    }\n",
       "</style>\n",
       "<table border=\"1\" class=\"dataframe\">\n",
       "  <thead>\n",
       "    <tr style=\"text-align: right;\">\n",
       "      <th></th>\n",
       "      <th>userId</th>\n",
       "      <th>movieId</th>\n",
       "      <th>rating</th>\n",
       "      <th>mean</th>\n",
       "    </tr>\n",
       "  </thead>\n",
       "  <tbody>\n",
       "    <tr>\n",
       "      <th>0</th>\n",
       "      <td>1</td>\n",
       "      <td>1</td>\n",
       "      <td>4.0</td>\n",
       "      <td>-0.091595</td>\n",
       "    </tr>\n",
       "    <tr>\n",
       "      <th>1</th>\n",
       "      <td>1</td>\n",
       "      <td>3</td>\n",
       "      <td>4.0</td>\n",
       "      <td>-0.091595</td>\n",
       "    </tr>\n",
       "    <tr>\n",
       "      <th>2</th>\n",
       "      <td>1</td>\n",
       "      <td>6</td>\n",
       "      <td>4.0</td>\n",
       "      <td>-0.091595</td>\n",
       "    </tr>\n",
       "    <tr>\n",
       "      <th>3</th>\n",
       "      <td>1</td>\n",
       "      <td>47</td>\n",
       "      <td>5.0</td>\n",
       "      <td>0.158405</td>\n",
       "    </tr>\n",
       "    <tr>\n",
       "      <th>4</th>\n",
       "      <td>1</td>\n",
       "      <td>50</td>\n",
       "      <td>5.0</td>\n",
       "      <td>0.158405</td>\n",
       "    </tr>\n",
       "  </tbody>\n",
       "</table>\n",
       "</div>"
      ],
      "text/plain": [
       "   userId  movieId  rating      mean\n",
       "0       1        1     4.0 -0.091595\n",
       "1       1        3     4.0 -0.091595\n",
       "2       1        6     4.0 -0.091595\n",
       "3       1       47     5.0  0.158405\n",
       "4       1       50     5.0  0.158405"
      ]
     },
     "execution_count": 32,
     "metadata": {},
     "output_type": "execute_result"
    }
   ],
   "source": [
    "count_col = users_ratings.groupby(['userId'])['rating'].count()\n",
    "std_col = users_ratings.groupby(['userId'])['rating'].std()\n",
    "mean_col = users_ratings.groupby(['userId'])['rating'].mean()\n",
    "max_col = users_ratings.groupby(['userId'])['rating'].max()\n",
    "min_col = users_ratings.groupby(['userId'])['rating'].min()\n",
    "\n",
    "\n",
    "for index, row in users_ratings.iterrows():\n",
    "    users_ratings.at[index,'mean']= 0.0 if (count_col.at[row['userId']]==1) or (std_col.at[row['userId']]==0)  else(row['rating']-mean_col.at[row['userId']])/(max_col.at[row['userId']]-min_col.at[row['userId']])\n",
    "    \n",
    "users_ratings.head()"
   ]
  },
  {
   "cell_type": "code",
   "execution_count": 33,
   "id": "b8b8771b",
   "metadata": {},
   "outputs": [
    {
     "data": {
      "text/plain": [
       "False"
      ]
     },
     "execution_count": 33,
     "metadata": {},
     "output_type": "execute_result"
    }
   ],
   "source": [
    "# проверяем, что нет пропусков\n",
    "users_ratings['mean'].isnull().any()"
   ]
  },
  {
   "cell_type": "code",
   "execution_count": 34,
   "id": "a55d03fe",
   "metadata": {},
   "outputs": [],
   "source": [
    "users_values = users_ratings['userId'].sort_values().unique()\n",
    "movies_values = users_ratings['movieId'].sort_values().unique()\n",
    "# print(movies_values)\n",
    "user_categories = dict(enumerate(users_ratings['userId'].sort_values().unique()))\n",
    "movie_categories = dict(enumerate(users_ratings['movieId'].sort_values().unique()))\n",
    "# print(movie_categories)\n",
    "for index, row in users_ratings.iterrows():\n",
    "    # np.where return index   \n",
    "    users_ratings.at[index,'movieId'] = np.where(movies_values == row['movieId'])[0]\n",
    "    users_ratings.at[index,'userId'] = np.where(users_values == row['userId'])[0]"
   ]
  },
  {
   "cell_type": "code",
   "execution_count": 35,
   "id": "511f2c85",
   "metadata": {},
   "outputs": [],
   "source": [
    "coo = coo_matrix((users_ratings['mean'], (users_ratings['movieId'],users_ratings['userId'])))"
   ]
  },
  {
   "cell_type": "markdown",
   "id": "61839c9d",
   "metadata": {},
   "source": [
    "## Матрица перекрытия\n",
    "Матрица перекрытия показывает сколько пользователей одновременно оценили фильм x и фильм y. \n",
    "Например цифра 3 показывает сколько людей одновременно оценили Храброе сердце и Эйс-Вентура.\n",
    "Матрица смимметричная.\n",
    "min_overlap=4\n",
    "Мы можем не учитывать элементы, у которых мало оценок (например <= 4), так как это можно привести к неправильному значению сходства между этими фильмами.\n",
    "number_of_overlaps - показывает сколько элементов осталось после примененения матрицы перекрытия"
   ]
  },
  {
   "cell_type": "code",
   "execution_count": 36,
   "id": "235e3801",
   "metadata": {},
   "outputs": [],
   "source": [
    "overlap_matrix = coo.astype(bool).astype(int).dot(coo.transpose().astype(bool).astype(int))\n",
    "min_overlap=4\n",
    "number_of_overlaps = (overlap_matrix > min_overlap).count_nonzero()"
   ]
  },
  {
   "cell_type": "code",
   "execution_count": 37,
   "id": "e4645b93",
   "metadata": {},
   "outputs": [
    {
     "data": {
      "text/plain": [
       "array([[215,  68,  32, ...,   0,   0,   0],\n",
       "       [ 68, 110,  26, ...,   0,   0,   0],\n",
       "       [ 32,  26,  52, ...,   0,   0,   0],\n",
       "       ...,\n",
       "       [  0,   0,   0, ...,   1,   1,   0],\n",
       "       [  0,   0,   0, ...,   1,   1,   0],\n",
       "       [  0,   0,   0, ...,   0,   0,   1]], dtype=int32)"
      ]
     },
     "execution_count": 37,
     "metadata": {},
     "output_type": "execute_result"
    }
   ],
   "source": [
    "overlap_matrix.toarray()"
   ]
  },
  {
   "cell_type": "code",
   "execution_count": 38,
   "id": "77818eb7",
   "metadata": {},
   "outputs": [
    {
     "name": "stderr",
     "output_type": "stream",
     "text": [
      "\r",
      "  0%|                                                                                         | 0/9724 [00:00<?, ?it/s]"
     ]
    },
    {
     "name": "stdout",
     "output_type": "stream",
     "text": [
      "(9724, 610)\n"
     ]
    },
    {
     "name": "stderr",
     "output_type": "stream",
     "text": [
      "<ipython-input-38-1e633a9e9e40>:18: RuntimeWarning: invalid value encountered in double_scalars\n",
      "  return numerator/denumerator\n",
      "<ipython-input-38-1e633a9e9e40>:9: RuntimeWarning: invalid value encountered in double_scalars\n",
      "  j_mean = np.sum(M[j,:])/(M[j,:]!=0).sum()\n",
      " 22%|█████████████████                                                             | 2122/9724 [11:14<37:55,  3.34it/s]<ipython-input-38-1e633a9e9e40>:7: RuntimeWarning: invalid value encountered in double_scalars\n",
      "  i_mean = np.sum(M[i,:])/(M[i,:]!=0).sum()\n",
      "100%|██████████████████████████████████████████████████████████████████████████████| 9724/9724 [29:29<00:00,  5.50it/s]\n"
     ]
    },
    {
     "name": "stdout",
     "output_type": "stream",
     "text": [
      "[[ 1.          0.00278545  0.10441196 ...  0.          0.\n",
      "   0.        ]\n",
      " [ 0.00278545  1.         -0.0085792  ...  0.          0.\n",
      "   0.        ]\n",
      " [ 0.10441196 -0.0085792   1.         ...  0.          0.\n",
      "   0.        ]\n",
      " ...\n",
      " [ 0.          0.          0.         ...  0.          0.\n",
      "   0.        ]\n",
      " [ 0.          0.          0.         ...  0.          0.\n",
      "   0.        ]\n",
      " [ 0.          0.          0.         ...  0.          0.\n",
      "   0.        ]]\n"
     ]
    }
   ],
   "source": [
    "M=coo.toarray()\n",
    "print(M.shape)\n",
    "\n",
    "def calculate_otiai_distance_cor(M):\n",
    "    Res = np.empty((M.shape[0],M.shape[0]))\n",
    "    def my_otiai_distance(i,j):\n",
    "        i_mean = np.sum(M[i,:])/(M[i,:]!=0).sum()\n",
    " \n",
    "        j_mean = np.sum(M[j,:])/(M[j,:]!=0).sum() \n",
    "\n",
    "        i_minus_i_mean =  np.where((M[i,:]!=0), M[i,:]-i_mean, 0)\n",
    "     \n",
    "        j_minus_j_mean =  np.where((M[j,:]!=0), M[j,:]-j_mean, 0)\n",
    "  \n",
    "        numerator = np.sum(i_minus_i_mean*j_minus_j_mean)\n",
    "\n",
    "        denumerator = (np.sqrt(np.sum(np.square(i_minus_i_mean)))*np.sqrt(np.sum(np.square(j_minus_j_mean))))\n",
    "        return numerator/denumerator\n",
    "    for i in tqdm(range(M.shape[0])):\n",
    "        for j in range(i,M.shape[0]):\n",
    "            calculated = my_otiai_distance(i,j);\n",
    "            if (i==j):\n",
    "                Res[i,j]=calculated\n",
    "            else:\n",
    "                Res[i,j]=Res[j,i]=calculated\n",
    "    Res[np.isnan(Res)] = 0\n",
    "    return sparse.csr_matrix(Res)\n",
    "\n",
    "cor = calculate_otiai_distance_cor(M)\n",
    "print(cor.toarray())"
   ]
  },
  {
   "cell_type": "code",
   "execution_count": 39,
   "id": "72cf8554",
   "metadata": {},
   "outputs": [],
   "source": [
    "def save_full_sims(cor,movies_categories):\n",
    "    coo = coo_matrix(cor)\n",
    "    csr = coo.tocsr()\n",
    "    \n",
    "    no_saved = 0\n",
    "    xs, ys = coo.nonzero()\n",
    "\n",
    "    columns = ['source_id', 'target_id', 'similarity']\n",
    "    M = pd.DataFrame([],columns=columns)\n",
    "\n",
    "    for x, y in tqdm(zip(xs, ys)):\n",
    "    #     x это первый элемент кортежа, y второй; x,y это id строк описаний между которыми вычисляется сходство\n",
    "    \n",
    "        sim = float(csr[x, y])\n",
    "        M.loc[M.shape[0]] = [int(movies_categories[x]),int(movies_categories[y]),sim]\n",
    "       \n",
    "        no_saved += 1\n",
    "   \n",
    "    M['source_id'] =  M['source_id'].astype(int)\n",
    "    M['target_id'] =  M['target_id'].astype(int)\n",
    "    return M"
   ]
  },
  {
   "cell_type": "code",
   "execution_count": 40,
   "id": "a7ee582d",
   "metadata": {},
   "outputs": [],
   "source": [
    "# full_similarity_table = save_full_sims(cor,movie_categories)\n",
    "# print(full_similarity_table)"
   ]
  },
  {
   "cell_type": "code",
   "execution_count": 41,
   "id": "a7a9a37c",
   "metadata": {},
   "outputs": [],
   "source": [
    "# full_similarity_table.to_csv('full_similarity_table_otiai.csv',index=False)"
   ]
  },
  {
   "cell_type": "code",
   "execution_count": 42,
   "id": "61dfc05a",
   "metadata": {},
   "outputs": [
    {
     "name": "stdout",
     "output_type": "stream",
     "text": [
      "[[1. 0. 0. ... 0. 0. 0.]\n",
      " [0. 1. 0. ... 0. 0. 0.]\n",
      " [0. 0. 1. ... 0. 0. 0.]\n",
      " ...\n",
      " [0. 0. 0. ... 0. 0. 0.]\n",
      " [0. 0. 0. ... 0. 0. 0.]\n",
      " [0. 0. 0. ... 0. 0. 0.]]\n"
     ]
    }
   ],
   "source": [
    "min_sim=0.2\n",
    "# Отбрасываем элементы с низким сходством (-1 фильмы совершенно непохожи, 1 фильмы одинаковы)\n",
    "cor = cor.multiply(cor > min_sim)\n",
    "cor = cor.multiply(overlap_matrix > min_overlap)\n",
    "print(cor.toarray())"
   ]
  },
  {
   "cell_type": "code",
   "execution_count": 43,
   "id": "b96a74d8",
   "metadata": {},
   "outputs": [
    {
     "data": {
      "text/plain": [
       "57172"
      ]
     },
     "execution_count": 43,
     "metadata": {},
     "output_type": "execute_result"
    }
   ],
   "source": [
    "np.count_nonzero(cor.toarray() > 0.2)"
   ]
  },
  {
   "cell_type": "code",
   "execution_count": 44,
   "id": "551525a6",
   "metadata": {},
   "outputs": [],
   "source": [
    "# movie_categories"
   ]
  },
  {
   "cell_type": "code",
   "execution_count": 44,
   "id": "5ae32f10",
   "metadata": {},
   "outputs": [],
   "source": [
    "def save_sims(cor,movies_categories):\n",
    "    coo = coo_matrix(cor)\n",
    "    csr = coo.tocsr()\n",
    "    \n",
    "    no_saved = 0\n",
    "    min_sim=0.2\n",
    "    xs, ys = coo.nonzero()\n",
    "    print(xs.shape)\n",
    "\n",
    "    columns = ['source_id', 'target_id', 'similarity']\n",
    "    M = pd.DataFrame([],columns=columns)\n",
    "\n",
    "    for x, y in tqdm(zip(xs, ys)):\n",
    "    #     x это первый элемент кортежа, y второй; x,y это id строк описаний между которыми вычисляется сходство\n",
    "    \n",
    "    # нет смысл сравнить строку описания с самой собой это вернёт 1 или близко к этому\n",
    "        if x == y:\n",
    "            continue\n",
    "        sim = float(csr[x, y])\n",
    "        if sim < min_sim:\n",
    "            continue\n",
    "        M.loc[M.shape[0]] = [int(movies_categories[x]),int(movies_categories[y]),sim]\n",
    "       \n",
    "        no_saved += 1\n",
    "   \n",
    "    M['source_id'] =  M['source_id'].astype(int)\n",
    "    M['target_id'] =  M['target_id'].astype(int)\n",
    "    return M"
   ]
  },
  {
   "cell_type": "code",
   "execution_count": null,
   "id": "de35ab9a",
   "metadata": {},
   "outputs": [],
   "source": []
  },
  {
   "cell_type": "code",
   "execution_count": 45,
   "id": "60cfff29",
   "metadata": {},
   "outputs": [
    {
     "name": "stderr",
     "output_type": "stream",
     "text": [
      "244it [00:00, 1219.91it/s]"
     ]
    },
    {
     "name": "stdout",
     "output_type": "stream",
     "text": [
      "(57172,)\n"
     ]
    },
    {
     "name": "stderr",
     "output_type": "stream",
     "text": [
      "57172it [01:11, 795.07it/s] "
     ]
    },
    {
     "name": "stdout",
     "output_type": "stream",
     "text": [
      "       source_id  target_id  similarity\n",
      "0              1        158    0.200086\n",
      "1              1        588    0.260310\n",
      "2              1       1367    0.204538\n",
      "3              1       2384    0.212037\n",
      "4              1       3114    0.285841\n",
      "...          ...        ...         ...\n",
      "53519     187593     122912    0.669746\n",
      "53520     187593     122916    0.267269\n",
      "53521     187595     122900    0.343527\n",
      "53522     187595     122926    0.259677\n",
      "53523     187595     179819    0.258464\n",
      "\n",
      "[53524 rows x 3 columns]\n"
     ]
    },
    {
     "name": "stderr",
     "output_type": "stream",
     "text": [
      "\n"
     ]
    }
   ],
   "source": [
    "similarity_table = save_sims(cor,movie_categories)\n",
    "print(similarity_table)"
   ]
  },
  {
   "cell_type": "code",
   "execution_count": 46,
   "id": "007371b9",
   "metadata": {},
   "outputs": [],
   "source": [
    "similarity_table.to_csv('similarity_table_otiai.csv',index=False)\n"
   ]
  },
  {
   "cell_type": "code",
   "execution_count": 47,
   "id": "595e8748",
   "metadata": {},
   "outputs": [],
   "source": [
    "#онлайн часть"
   ]
  },
  {
   "cell_type": "code",
   "execution_count": 48,
   "id": "f28c27b1",
   "metadata": {},
   "outputs": [
    {
     "name": "stdout",
     "output_type": "stream",
     "text": [
      "       source_id  target_id  similarity\n",
      "0              1        158    0.200086\n",
      "1              1        588    0.260310\n",
      "2              1       1367    0.204538\n",
      "3              1       2384    0.212037\n",
      "4              1       3114    0.285841\n",
      "...          ...        ...         ...\n",
      "53519     187593     122912    0.669746\n",
      "53520     187593     122916    0.267269\n",
      "53521     187595     122900    0.343527\n",
      "53522     187595     122926    0.259677\n",
      "53523     187595     179819    0.258464\n",
      "\n",
      "[53524 rows x 3 columns]\n"
     ]
    }
   ],
   "source": [
    "similarity_table = pd.read_csv(\"similarity_table_otiai.csv\")\n",
    "print(similarity_table)"
   ]
  },
  {
   "cell_type": "code",
   "execution_count": 49,
   "id": "c7777ea6",
   "metadata": {},
   "outputs": [],
   "source": [
    "# получаем оценки текущего пользователя\n",
    "current_user_ratings  = users_ratings[users_ratings['userId']==1]"
   ]
  },
  {
   "cell_type": "code",
   "execution_count": 50,
   "id": "61283a7b",
   "metadata": {},
   "outputs": [
    {
     "name": "stdout",
     "output_type": "stream",
     "text": [
      "3.9482758620689653\n",
      "    userId  movieId  rating      mean\n",
      "0        1     8810     5.0  0.350575\n",
      "1        1     8663     5.0  0.350575\n",
      "2        1     8287     5.0  0.350575\n",
      "3        1     7679     5.0  0.350575\n",
      "4        1     6784     5.0  0.350575\n",
      "5        1     7419     5.0  0.350575\n",
      "6        1     1283     4.5  0.183908\n",
      "7        1     6693     4.5  0.183908\n",
      "8        1     6993     4.5  0.183908\n",
      "9        1     7398     4.5  0.183908\n",
      "10       1      291     4.0  0.017241\n",
      "11       1     8448     4.0  0.017241\n",
      "12       1     7572     4.0  0.017241\n",
      "13       1     7355     4.0  0.017241\n",
      "14       1     7241     4.0  0.017241\n",
      "15       1     6298     4.0  0.017241\n",
      "16       1     6236     4.0  0.017241\n",
      "17       1     4607     4.0  0.017241\n",
      "18       1     2670     4.0  0.017241\n",
      "19       1     7750     3.5 -0.149425\n",
      "20       1     8045     3.5 -0.149425\n",
      "21       1     5294     3.5 -0.149425\n",
      "22       1     8532     3.5 -0.149425\n",
      "23       1     7306     3.0 -0.316092\n",
      "24       1     7137     3.0 -0.316092\n",
      "25       1     8358     3.0 -0.316092\n",
      "26       1      277     3.0 -0.316092\n",
      "27       1     7758     2.5 -0.482759\n",
      "28       1     8491     2.0 -0.649425\n"
     ]
    },
    {
     "name": "stderr",
     "output_type": "stream",
     "text": [
      "<ipython-input-50-7dec9e58f173>:4: SettingWithCopyWarning: \n",
      "A value is trying to be set on a copy of a slice from a DataFrame\n",
      "\n",
      "See the caveats in the documentation: https://pandas.pydata.org/pandas-docs/stable/user_guide/indexing.html#returning-a-view-versus-a-copy\n",
      "  current_user_ratings.sort_values(['rating'], ascending=[0],inplace=True)\n"
     ]
    }
   ],
   "source": [
    "current_user_mean = current_user_ratings['rating'].mean()\n",
    "print(current_user_mean)\n",
    "# сортируем оценки по самым высоким\n",
    "current_user_ratings.sort_values(['rating'], ascending=[0],inplace=True)\n",
    "current_user_ratings.reset_index(drop=True, inplace=True)\n",
    "print(current_user_ratings)"
   ]
  },
  {
   "cell_type": "code",
   "execution_count": null,
   "id": "8cdc36f9",
   "metadata": {},
   "outputs": [],
   "source": []
  },
  {
   "cell_type": "code",
   "execution_count": 51,
   "id": "d82de71e",
   "metadata": {},
   "outputs": [
    {
     "name": "stdout",
     "output_type": "stream",
     "text": [
      "    source_id  target_id  similarity\n",
      "0        8810      31221    0.596036\n",
      "1        8810       7439    0.574648\n",
      "2        7137       3030    0.475561\n",
      "3        7137       1343    0.470132\n",
      "4        8810      27839    0.467656\n",
      "5        7137       8781    0.463111\n",
      "6        7137       6618    0.446859\n",
      "7        6993       1962    0.445127\n",
      "8        8810       6754    0.435469\n",
      "9        7137       6059    0.416325\n",
      "10       8810       6294    0.402908\n",
      "11       6993       5617    0.388103\n",
      "12       7137       3317    0.383484\n",
      "13       8810      36708    0.379379\n",
      "14       8810      37386    0.378222\n",
      "15       1283       3334    0.372872\n",
      "16       8810       7324    0.372808\n",
      "17       8810      32029    0.372560\n",
      "18       8810       4887    0.358948\n",
      "19       7137       8983    0.354824\n",
      "20       1283       2921    0.349602\n",
      "21       5294       8366    0.349194\n",
      "22       8810       4876    0.341923\n",
      "23        277        616    0.341620\n",
      "24       8810       8781    0.332706\n",
      "25       7137       3146    0.330645\n",
      "26       8810       6541    0.325135\n",
      "27       7137       2803    0.319588\n",
      "28       8810      37380    0.316592\n",
      "29       8810       5528    0.311837\n"
     ]
    }
   ],
   "source": [
    "# получаем только те фильмы которые оцнены текущим пользователем и находятся в таблице сходств\n",
    "in_source=similarity_table['source_id'].isin(current_user_ratings['movieId']) \n",
    "# Исключаем из таблице сходств уже оцененные фильмы пользователи (не нужно рекомендовать, то, что уже было просмотренно)\n",
    "not_in_target=~similarity_table['target_id'].isin(current_user_ratings['movieId'])\n",
    "\n",
    "# Получаем таблиц сходств для текущего пользователя\n",
    "top_by_sims = similarity_table.loc[in_source &  not_in_target].sort_values(['similarity'], ascending=[0])[:30]\n",
    "top_by_sims.reset_index(drop=True, inplace=True)\n",
    "print(top_by_sims)"
   ]
  },
  {
   "cell_type": "code",
   "execution_count": 52,
   "id": "5ebb7806",
   "metadata": {},
   "outputs": [
    {
     "name": "stdout",
     "output_type": "stream",
     "text": [
      "   target_id  prediction    sim_movies\n",
      "0      31221    5.000000        [8810]\n",
      "1      36708    5.000000        [8810]\n",
      "2      37380    5.000000        [8810]\n",
      "3       6541    5.000000        [8810]\n",
      "4       4876    5.000000        [8810]\n",
      "5       4887    5.000000        [8810]\n",
      "6      32029    5.000000        [8810]\n",
      "7       7324    5.000000        [8810]\n",
      "8       7439    5.000000        [8810]\n",
      "9      37386    5.000000        [8810]\n",
      "10      5528    5.000000        [8810]\n",
      "11      6294    5.000000        [8810]\n",
      "12     27839    5.000000        [8810]\n",
      "13      6754    5.000000        [8810]\n",
      "14      5617    4.500000        [6993]\n",
      "15      1962    4.500000        [6993]\n",
      "16      2921    4.500000        [1283]\n",
      "17      3334    4.500000        [1283]\n",
      "18      8781    3.836137  [7137, 8810]\n",
      "19      8781    3.836137  [7137, 8810]\n",
      "20      8366    3.500000        [5294]\n",
      "21      6618    3.000000        [7137]\n",
      "22      8983    3.000000        [7137]\n",
      "23      3317    3.000000        [7137]\n",
      "24      6059    3.000000        [7137]\n",
      "25       616    3.000000         [277]\n",
      "26      3146    3.000000        [7137]\n",
      "27      1343    3.000000        [7137]\n",
      "28      2803    3.000000        [7137]\n",
      "29      3030    3.000000        [7137]\n"
     ]
    }
   ],
   "source": [
    "columns = ['target_id', 'prediction', 'sim_movies']\n",
    "recs = pd.DataFrame([],columns=columns)\n",
    "targets = top_by_sims['target_id']\n",
    "\n",
    "for target_row in targets:\n",
    "    pre = 0\n",
    "    sim_sum = 0\n",
    "\n",
    "    rated_items = top_by_sims[top_by_sims['target_id']==target_row]\n",
    "\n",
    "    if len(rated_items) > 0:\n",
    "        for index, sim_item in rated_items.iterrows():\n",
    "#             получаем оценку пользователя для фильма\n",
    "            user_rating = current_user_ratings[current_user_ratings['movieId']==sim_item['source_id']].iloc[0]['rating']\n",
    "#         вычитаем из оценки среднюю для пользователя\n",
    "            r = user_rating- current_user_mean\n",
    "#     умножаем схожесть на оценку\n",
    "            pre += sim_item.similarity * r\n",
    "            sim_sum += sim_item.similarity\n",
    "        if sim_sum > 0:\n",
    "# формируем прогноз\n",
    "            recs.loc[recs.shape[0]] = [target_row,current_user_mean + pre/sim_sum,rated_items['source_id'].values]\n",
    "\n",
    "recs.sort_values(['prediction'], ascending=[0],inplace=True)\n",
    "recs.reset_index(drop=True, inplace=True)\n",
    "print(recs)\n"
   ]
  },
  {
   "cell_type": "code",
   "execution_count": 53,
   "id": "73e9bc3a",
   "metadata": {},
   "outputs": [],
   "source": [
    "def get_recs(userId, n=30):\n",
    "    current_user_ratings  = users_ratings[users_ratings['userId']==userId]\n",
    "    \n",
    "    current_user_mean = current_user_ratings['rating'].mean()\n",
    "\n",
    "    # сортируем оценки по самым высоким\n",
    "    current_user_ratings.sort_values(['rating'], ascending=[0],inplace=True)\n",
    "    current_user_ratings.reset_index(drop=True, inplace=True)\n",
    "    \n",
    "    # получаем только те фильмы которые оцнены текущим пользователем и находятся в таблице сходств\n",
    "    in_source=similarity_table['source_id'].isin(current_user_ratings['movieId']) \n",
    "    # Исключаем из таблице сходств уже оцененные фильмы пользователи (не нужно рекомендовать, то, что уже было просмотренно)\n",
    "    not_in_target=~similarity_table['target_id'].isin(current_user_ratings['movieId'])\n",
    "\n",
    "    # Получаем таблиц сходств для текущего пользователя\n",
    "    top_by_sims = similarity_table.loc[in_source &  not_in_target].sort_values(['similarity'], ascending=[0])[:n]\n",
    "    top_by_sims.reset_index(drop=True, inplace=True)\n",
    "    \n",
    "    columns = ['target_id', 'prediction', 'sim_movies']\n",
    "    recs = pd.DataFrame([],columns=columns)\n",
    "    targets = top_by_sims['target_id']\n",
    "\n",
    "    for target_row in targets:\n",
    "        pre = 0\n",
    "        sim_sum = 0\n",
    "\n",
    "        rated_items = top_by_sims[top_by_sims['target_id']==target_row]\n",
    "\n",
    "        if len(rated_items) > 0:\n",
    "            for index, sim_item in rated_items.iterrows():\n",
    "    #             получаем оценку пользователя для фильма\n",
    "                user_rating = current_user_ratings[current_user_ratings['movieId']==sim_item['source_id']].iloc[0]['rating']\n",
    "    #         вычитаем из оценки среднюю для пользователя\n",
    "                r = user_rating- current_user_mean\n",
    "    #     умножаем схожесть на оценку\n",
    "                pre += sim_item.similarity * r\n",
    "                sim_sum += sim_item.similarity\n",
    "            if sim_sum > 0:\n",
    "    # формируем прогноз\n",
    "                recs.loc[recs.shape[0]] = [target_row,current_user_mean + pre/sim_sum,rated_items['source_id'].values]\n",
    "\n",
    "    recs.sort_values(['prediction'], ascending=[0],inplace=True)\n",
    "    recs.reset_index(drop=True, inplace=True)\n",
    "    \n",
    "    return recs\n",
    "    "
   ]
  },
  {
   "cell_type": "code",
   "execution_count": 54,
   "id": "5e5f4b8a",
   "metadata": {},
   "outputs": [
    {
     "name": "stderr",
     "output_type": "stream",
     "text": [
      "<ipython-input-53-e3105631a65a>:7: SettingWithCopyWarning: \n",
      "A value is trying to be set on a copy of a slice from a DataFrame\n",
      "\n",
      "See the caveats in the documentation: https://pandas.pydata.org/pandas-docs/stable/user_guide/indexing.html#returning-a-view-versus-a-copy\n",
      "  current_user_ratings.sort_values(['rating'], ascending=[0],inplace=True)\n"
     ]
    },
    {
     "data": {
      "text/html": [
       "<div>\n",
       "<style scoped>\n",
       "    .dataframe tbody tr th:only-of-type {\n",
       "        vertical-align: middle;\n",
       "    }\n",
       "\n",
       "    .dataframe tbody tr th {\n",
       "        vertical-align: top;\n",
       "    }\n",
       "\n",
       "    .dataframe thead th {\n",
       "        text-align: right;\n",
       "    }\n",
       "</style>\n",
       "<table border=\"1\" class=\"dataframe\">\n",
       "  <thead>\n",
       "    <tr style=\"text-align: right;\">\n",
       "      <th></th>\n",
       "      <th>target_id</th>\n",
       "      <th>prediction</th>\n",
       "      <th>sim_movies</th>\n",
       "    </tr>\n",
       "  </thead>\n",
       "  <tbody>\n",
       "    <tr>\n",
       "      <th>0</th>\n",
       "      <td>31221</td>\n",
       "      <td>5.000000</td>\n",
       "      <td>[8810]</td>\n",
       "    </tr>\n",
       "    <tr>\n",
       "      <th>1</th>\n",
       "      <td>36708</td>\n",
       "      <td>5.000000</td>\n",
       "      <td>[8810]</td>\n",
       "    </tr>\n",
       "    <tr>\n",
       "      <th>2</th>\n",
       "      <td>37380</td>\n",
       "      <td>5.000000</td>\n",
       "      <td>[8810]</td>\n",
       "    </tr>\n",
       "    <tr>\n",
       "      <th>3</th>\n",
       "      <td>6541</td>\n",
       "      <td>5.000000</td>\n",
       "      <td>[8810]</td>\n",
       "    </tr>\n",
       "    <tr>\n",
       "      <th>4</th>\n",
       "      <td>4876</td>\n",
       "      <td>5.000000</td>\n",
       "      <td>[8810]</td>\n",
       "    </tr>\n",
       "    <tr>\n",
       "      <th>5</th>\n",
       "      <td>4887</td>\n",
       "      <td>5.000000</td>\n",
       "      <td>[8810]</td>\n",
       "    </tr>\n",
       "    <tr>\n",
       "      <th>6</th>\n",
       "      <td>32029</td>\n",
       "      <td>5.000000</td>\n",
       "      <td>[8810]</td>\n",
       "    </tr>\n",
       "    <tr>\n",
       "      <th>7</th>\n",
       "      <td>7324</td>\n",
       "      <td>5.000000</td>\n",
       "      <td>[8810]</td>\n",
       "    </tr>\n",
       "    <tr>\n",
       "      <th>8</th>\n",
       "      <td>7439</td>\n",
       "      <td>5.000000</td>\n",
       "      <td>[8810]</td>\n",
       "    </tr>\n",
       "    <tr>\n",
       "      <th>9</th>\n",
       "      <td>37386</td>\n",
       "      <td>5.000000</td>\n",
       "      <td>[8810]</td>\n",
       "    </tr>\n",
       "    <tr>\n",
       "      <th>10</th>\n",
       "      <td>5528</td>\n",
       "      <td>5.000000</td>\n",
       "      <td>[8810]</td>\n",
       "    </tr>\n",
       "    <tr>\n",
       "      <th>11</th>\n",
       "      <td>6294</td>\n",
       "      <td>5.000000</td>\n",
       "      <td>[8810]</td>\n",
       "    </tr>\n",
       "    <tr>\n",
       "      <th>12</th>\n",
       "      <td>27839</td>\n",
       "      <td>5.000000</td>\n",
       "      <td>[8810]</td>\n",
       "    </tr>\n",
       "    <tr>\n",
       "      <th>13</th>\n",
       "      <td>6754</td>\n",
       "      <td>5.000000</td>\n",
       "      <td>[8810]</td>\n",
       "    </tr>\n",
       "    <tr>\n",
       "      <th>14</th>\n",
       "      <td>5617</td>\n",
       "      <td>4.500000</td>\n",
       "      <td>[6993]</td>\n",
       "    </tr>\n",
       "    <tr>\n",
       "      <th>15</th>\n",
       "      <td>1962</td>\n",
       "      <td>4.500000</td>\n",
       "      <td>[6993]</td>\n",
       "    </tr>\n",
       "    <tr>\n",
       "      <th>16</th>\n",
       "      <td>2921</td>\n",
       "      <td>4.500000</td>\n",
       "      <td>[1283]</td>\n",
       "    </tr>\n",
       "    <tr>\n",
       "      <th>17</th>\n",
       "      <td>3334</td>\n",
       "      <td>4.500000</td>\n",
       "      <td>[1283]</td>\n",
       "    </tr>\n",
       "    <tr>\n",
       "      <th>18</th>\n",
       "      <td>8781</td>\n",
       "      <td>3.836137</td>\n",
       "      <td>[7137, 8810]</td>\n",
       "    </tr>\n",
       "    <tr>\n",
       "      <th>19</th>\n",
       "      <td>8781</td>\n",
       "      <td>3.836137</td>\n",
       "      <td>[7137, 8810]</td>\n",
       "    </tr>\n",
       "    <tr>\n",
       "      <th>20</th>\n",
       "      <td>8366</td>\n",
       "      <td>3.500000</td>\n",
       "      <td>[5294]</td>\n",
       "    </tr>\n",
       "    <tr>\n",
       "      <th>21</th>\n",
       "      <td>6618</td>\n",
       "      <td>3.000000</td>\n",
       "      <td>[7137]</td>\n",
       "    </tr>\n",
       "    <tr>\n",
       "      <th>22</th>\n",
       "      <td>8983</td>\n",
       "      <td>3.000000</td>\n",
       "      <td>[7137]</td>\n",
       "    </tr>\n",
       "    <tr>\n",
       "      <th>23</th>\n",
       "      <td>3317</td>\n",
       "      <td>3.000000</td>\n",
       "      <td>[7137]</td>\n",
       "    </tr>\n",
       "    <tr>\n",
       "      <th>24</th>\n",
       "      <td>6059</td>\n",
       "      <td>3.000000</td>\n",
       "      <td>[7137]</td>\n",
       "    </tr>\n",
       "    <tr>\n",
       "      <th>25</th>\n",
       "      <td>616</td>\n",
       "      <td>3.000000</td>\n",
       "      <td>[277]</td>\n",
       "    </tr>\n",
       "    <tr>\n",
       "      <th>26</th>\n",
       "      <td>3146</td>\n",
       "      <td>3.000000</td>\n",
       "      <td>[7137]</td>\n",
       "    </tr>\n",
       "    <tr>\n",
       "      <th>27</th>\n",
       "      <td>1343</td>\n",
       "      <td>3.000000</td>\n",
       "      <td>[7137]</td>\n",
       "    </tr>\n",
       "    <tr>\n",
       "      <th>28</th>\n",
       "      <td>2803</td>\n",
       "      <td>3.000000</td>\n",
       "      <td>[7137]</td>\n",
       "    </tr>\n",
       "    <tr>\n",
       "      <th>29</th>\n",
       "      <td>3030</td>\n",
       "      <td>3.000000</td>\n",
       "      <td>[7137]</td>\n",
       "    </tr>\n",
       "  </tbody>\n",
       "</table>\n",
       "</div>"
      ],
      "text/plain": [
       "   target_id  prediction    sim_movies\n",
       "0      31221    5.000000        [8810]\n",
       "1      36708    5.000000        [8810]\n",
       "2      37380    5.000000        [8810]\n",
       "3       6541    5.000000        [8810]\n",
       "4       4876    5.000000        [8810]\n",
       "5       4887    5.000000        [8810]\n",
       "6      32029    5.000000        [8810]\n",
       "7       7324    5.000000        [8810]\n",
       "8       7439    5.000000        [8810]\n",
       "9      37386    5.000000        [8810]\n",
       "10      5528    5.000000        [8810]\n",
       "11      6294    5.000000        [8810]\n",
       "12     27839    5.000000        [8810]\n",
       "13      6754    5.000000        [8810]\n",
       "14      5617    4.500000        [6993]\n",
       "15      1962    4.500000        [6993]\n",
       "16      2921    4.500000        [1283]\n",
       "17      3334    4.500000        [1283]\n",
       "18      8781    3.836137  [7137, 8810]\n",
       "19      8781    3.836137  [7137, 8810]\n",
       "20      8366    3.500000        [5294]\n",
       "21      6618    3.000000        [7137]\n",
       "22      8983    3.000000        [7137]\n",
       "23      3317    3.000000        [7137]\n",
       "24      6059    3.000000        [7137]\n",
       "25       616    3.000000         [277]\n",
       "26      3146    3.000000        [7137]\n",
       "27      1343    3.000000        [7137]\n",
       "28      2803    3.000000        [7137]\n",
       "29      3030    3.000000        [7137]"
      ]
     },
     "execution_count": 54,
     "metadata": {},
     "output_type": "execute_result"
    }
   ],
   "source": [
    "get_recs(1, n=30)"
   ]
  },
  {
   "cell_type": "code",
   "execution_count": null,
   "id": "16d1b978",
   "metadata": {},
   "outputs": [],
   "source": []
  }
 ],
 "metadata": {
  "kernelspec": {
   "display_name": "Python 3",
   "language": "python",
   "name": "python3"
  },
  "language_info": {
   "codemirror_mode": {
    "name": "ipython",
    "version": 3
   },
   "file_extension": ".py",
   "mimetype": "text/x-python",
   "name": "python",
   "nbconvert_exporter": "python",
   "pygments_lexer": "ipython3",
   "version": "3.8.8"
  }
 },
 "nbformat": 4,
 "nbformat_minor": 5
}
