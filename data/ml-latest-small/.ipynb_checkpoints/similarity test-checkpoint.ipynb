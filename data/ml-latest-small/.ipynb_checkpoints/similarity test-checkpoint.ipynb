{
 "cells": [
  {
   "cell_type": "code",
   "execution_count": 1,
   "id": "904a57a5",
   "metadata": {},
   "outputs": [],
   "source": [
    "import requests\n",
    "import time\n",
    "import pandas as pd\n",
    "import surprise as surprise\n",
    "import numpy as np\n",
    "from decimal import Decimal\n",
    "from scipy.sparse import coo_matrix\n",
    "from scipy import sparse\n",
    "from tqdm import tqdm\n",
    "# косинусовое сходство\n",
    "from sklearn.metrics.pairwise import cosine_similarity"
   ]
  },
  {
   "cell_type": "markdown",
   "id": "ea88fdd7",
   "metadata": {},
   "source": [
    "## Косинусное расстояние"
   ]
  },
  {
   "cell_type": "code",
   "execution_count": 40,
   "id": "eea2ac8b",
   "metadata": {},
   "outputs": [
    {
     "name": "stderr",
     "output_type": "stream",
     "text": [
      "100%|████████████████████████████████████████████████████████████████████████████████████████████| 2/2 [00:00<?, ?it/s]"
     ]
    },
    {
     "name": "stdout",
     "output_type": "stream",
     "text": [
      "[[1.         0.89814624]\n",
      " [0.89814624 1.        ]]\n"
     ]
    },
    {
     "name": "stderr",
     "output_type": "stream",
     "text": [
      "\n"
     ]
    }
   ],
   "source": [
    "M=np.array([[4,5,4,0,3,3],[3,3,3,2,4,5]])\n",
    "def calculate_cosine_distance_cor(M):\n",
    "    Res = np.empty((M.shape[0],M.shape[0]))\n",
    "    def my_cosine_distance(i,j):\n",
    "        return np.sum(M[i,:]*M[j,:])/(np.sqrt(np.sum(np.square(M[i,:])))*np.sqrt(np.sum(np.square(M[j,:]))))\n",
    "    for i in tqdm(range(M.shape[0])):\n",
    "        for j in range(i,M.shape[0]):\n",
    "            calculated = my_cosine_distance(i,j);\n",
    "            if (i==j):\n",
    "                Res[i,j]=calculated\n",
    "            else:\n",
    "                Res[i,j]=Res[j,i]=calculated\n",
    "    return sparse.csr_matrix(Res)\n",
    "\n",
    "cor = calculate_cosine_distance_cor(M)\n",
    "print(cor.toarray())"
   ]
  },
  {
   "attachments": {
    "image.png": {
     "image/png": "[encoded data removed]"
    }
   },
   "cell_type": "markdown",
   "id": "d2b384bc",
   "metadata": {},
   "source": [
    "## Коэффициент Пирсона\n",
    "![image.png](attachment:image.png)"
   ]
  },
  {
   "cell_type": "code",
   "execution_count": 16,
   "id": "24b866ce",
   "metadata": {},
   "outputs": [
    {
     "name": "stdout",
     "output_type": "stream",
     "text": [
      "3.8\n",
      "3.8\n",
      "3.8\n",
      "3.3333333333333335\n",
      "3.3333333333333335\n",
      "3.3333333333333335\n",
      "[[ 1.         -0.76063883]\n",
      " [-0.76063883  1.        ]]\n"
     ]
    }
   ],
   "source": [
    "M=np.array([[4,5,4,0,3,3],[3,3,3,2,4,5]])\n",
    "# M=np.array([[0,0,0,0,3,0],[0,3,0,0,0,0]])\n",
    "\n",
    "def calculate_pearson_distance_cor(M):\n",
    "    Res = np.empty((M.shape[0],M.shape[0]))\n",
    "    def my_pearson_distance(i,j):\n",
    "        i_mean = np.sum(M[i,:])/(M[i,:]!=0).sum()\n",
    "        print(i_mean)\n",
    " \n",
    "        j_mean = np.sum(M[j,:])/(M[j,:]!=0).sum()\n",
    "        print(j_mean)\n",
    "\n",
    "        i_minus_i_mean = np.where((M[i,:]!=0) &(M[j,:]!=0), M[i,:]-i_mean, 0)\n",
    "     \n",
    "        j_minus_j_mean = np.where((M[i,:]!=0) &(M[j,:]!=0), M[j,:]-j_mean, 0)\n",
    "  \n",
    "        numerator = np.sum(i_minus_i_mean*j_minus_j_mean)\n",
    "\n",
    "        denumerator = (np.sqrt(np.sum(np.square(i_minus_i_mean)))*np.sqrt(np.sum(np.square(j_minus_j_mean))))\n",
    "   \n",
    "        return numerator/denumerator\n",
    "    for i in range(M.shape[0]):\n",
    "        for j in range(i,M.shape[0]):\n",
    "            calculated = my_pearson_distance(i,j);\n",
    "            if (i==j):\n",
    "                Res[i,j]=calculated\n",
    "            else:\n",
    "                Res[i,j]=Res[j,i]=calculated\n",
    "    Res[np.isnan(Res)] = 0\n",
    "    return sparse.csr_matrix(Res)\n",
    "\n",
    "cor = calculate_pearson_distance_cor(M)\n",
    "print(cor.toarray())\n",
    "# a = np.sum(M[0,:])/(M[0,:]!=0).sum()\n",
    "# print(a)\n",
    "# b = np.sum(M[1,:])/(M[1,:]!=0).sum()\n",
    "# print(b)\n",
    "# aa = np.where((M[0,:]!=0) &(M[1,:]!=0), M[0,:]-a, 0)\n",
    "# print(aa)\n",
    "# bb = np.where((M[0,:]!=0) &(M[1,:]!=0), M[1,:]-b, 0)\n",
    "# print(bb)\n",
    "# c = np.sum(aa*bb)\n",
    "# print(c)\n",
    "# d = (np.sqrt(np.sum(np.square(aa)))*np.sqrt(np.sum(np.square(bb))))\n",
    "# print(c/d)\n",
    "# print(np.where(M[0,:], M[1,:]-b, M[0,:]))"
   ]
  },
  {
   "cell_type": "markdown",
   "id": "884eb323",
   "metadata": {},
   "source": [
    "## Коэффициент Отиаи (normalized cosine)\n"
   ]
  },
  {
   "cell_type": "code",
   "execution_count": 19,
   "id": "b7dd8e59",
   "metadata": {},
   "outputs": [
    {
     "name": "stdout",
     "output_type": "stream",
     "text": [
      "3.8\n",
      "3.8\n",
      "3.8\n",
      "3.3333333333333335\n",
      "3.3333333333333335\n",
      "3.3333333333333335\n",
      "[[ 1.       -0.621059]\n",
      " [-0.621059  1.      ]]\n"
     ]
    }
   ],
   "source": [
    "M=np.array([[4,5,4,0,3,3],[3,3,3,2,4,5]])\n",
    "# M=np.array([[0,0,0,0,3,0],[0,3,0,0,0,0]])\n",
    "\n",
    "def calculate_otiai_distance_cor(M):\n",
    "    Res = np.empty((M.shape[0],M.shape[0]))\n",
    "    def my_otiai_distance(i,j):\n",
    "        i_mean = np.sum(M[i,:])/(M[i,:]!=0).sum()\n",
    "        print(i_mean)\n",
    " \n",
    "        j_mean = np.sum(M[j,:])/(M[j,:]!=0).sum()\n",
    "        print(j_mean)   \n",
    "\n",
    "        i_minus_i_mean =  np.where((M[i,:]!=0), M[i,:]-i_mean, 0)\n",
    "     \n",
    "        j_minus_j_mean =  np.where((M[j,:]!=0), M[j,:]-j_mean, 0)\n",
    "  \n",
    "        numerator = np.sum(i_minus_i_mean*j_minus_j_mean)\n",
    "\n",
    "        denumerator = (np.sqrt(np.sum(np.square(i_minus_i_mean)))*np.sqrt(np.sum(np.square(j_minus_j_mean))))\n",
    "        return numerator/denumerator\n",
    "    for i in range(M.shape[0]):\n",
    "        for j in range(i,M.shape[0]):\n",
    "            calculated = my_otiai_distance(i,j);\n",
    "            if (i==j):\n",
    "                Res[i,j]=calculated\n",
    "            else:\n",
    "                Res[i,j]=Res[j,i]=calculated\n",
    "    Res[np.isnan(Res)] = 0\n",
    "    return sparse.csr_matrix(Res)\n",
    "\n",
    "cor = calculate_otiai_distance_cor(M)\n",
    "print(cor.toarray())"
   ]
  },
  {
   "cell_type": "code",
   "execution_count": 78,
   "id": "e4db6944",
   "metadata": {},
   "outputs": [],
   "source": [
    "M=np.array([[4,5,4,0,3,3],[3,3,3,2,4,5]])"
   ]
  },
  {
   "cell_type": "code",
   "execution_count": 79,
   "id": "fa989050",
   "metadata": {},
   "outputs": [
    {
     "name": "stdout",
     "output_type": "stream",
     "text": [
      "3.1666666666666665\n",
      "3.3333333333333335\n",
      "[ 0.83333333  1.83333333  0.83333333 -3.16666667 -0.16666667 -0.16666667]\n",
      "[-0.33333333 -0.33333333 -0.33333333 -1.33333333  0.66666667  1.66666667]\n",
      "2.6666666666666665\n",
      "0.29981267559834457\n"
     ]
    }
   ],
   "source": [
    "# means = M[[0,1],:].mean(axis=(0))\n",
    "# print(means)\n",
    "# aa = M[0,:]-means\n",
    "# bb = M[1,:]-means\n",
    "\n",
    "a = M[0,:].mean()\n",
    "print(a)\n",
    "b = M[1,:].mean()\n",
    "print(b)\n",
    "aa = M[0,:]-a\n",
    "print(aa)\n",
    "bb = M[1,:]-b\n",
    "print(bb)\n",
    "c = np.sum(aa*bb)\n",
    "print(c)\n",
    "d = (np.sqrt(np.sum(np.square(aa)))*np.sqrt(np.sum(np.square(bb))))\n",
    "print(c/d)\n"
   ]
  },
  {
   "cell_type": "code",
   "execution_count": 73,
   "id": "5e4d3131",
   "metadata": {},
   "outputs": [],
   "source": [
    "M=np.array([[4,5,4,0,3,3],[3,3,3,2,4,5]])"
   ]
  },
  {
   "attachments": {
    "image.png": {
     "image/png": "[encoded data removed]"
    }
   },
   "cell_type": "markdown",
   "id": "c9ad2307",
   "metadata": {},
   "source": [
    "## Симметричный коэффициент Жаккара\n",
    "![image.png](attachment:image.png)"
   ]
  },
  {
   "cell_type": "code",
   "execution_count": 74,
   "id": "212d3ade",
   "metadata": {},
   "outputs": [
    {
     "name": "stdout",
     "output_type": "stream",
     "text": [
      "5\n",
      "6\n",
      "0.8333333333333334\n"
     ]
    }
   ],
   "source": [
    "# симметричный коэффициент Жаккара\n",
    "and_jack = np.where((M[0,:]!=0) & (M[1,:]!=0), 1, 0).sum()\n",
    "print(and_jack)\n",
    "or_jack = np.where((M[0,:]!=0) | (M[1,:]!=0), 1, 0).sum()\n",
    "print(or_jack)\n",
    "and_jack/or_jack\n",
    "print(and_jack/or_jack)"
   ]
  },
  {
   "cell_type": "code",
   "execution_count": 76,
   "id": "c8958920",
   "metadata": {},
   "outputs": [
    {
     "name": "stdout",
     "output_type": "stream",
     "text": [
      "[[1.         0.83333333]\n",
      " [0.83333333 1.        ]]\n"
     ]
    }
   ],
   "source": [
    "def calculate_jaccard_sim_distance_cor(M):\n",
    "    Res = np.empty((M.shape[0],M.shape[0]))\n",
    "    def my_jaccard_sim_distance(i,j):\n",
    "        and_jack = np.where((M[i,:]!=0) & (M[j,:]!=0), 1, 0).sum() \n",
    "        or_jack = np.where((M[i,:]!=0) | (M[j,:]!=0), 1, 0).sum()\n",
    "\n",
    "   \n",
    "        return and_jack/or_jack\n",
    "    for i in range(M.shape[0]):\n",
    "        for j in range(i,M.shape[0]):\n",
    "            calculated = my_jaccard_sim_distance(i,j);\n",
    "            if (i==j):\n",
    "                Res[i,j]=calculated\n",
    "            else:\n",
    "                Res[i,j]=Res[j,i]=calculated\n",
    "    return sparse.csr_matrix(Res)\n",
    "\n",
    "cor = calculate_jaccard_sim_distance_cor(M)\n",
    "print(cor.toarray())"
   ]
  },
  {
   "attachments": {
    "image.png": {
     "image/png": "[encoded data removed]"
    }
   },
   "cell_type": "markdown",
   "id": "e26b6159",
   "metadata": {},
   "source": [
    "## Асимметричный коэффициент Жаккара\n",
    "![image.png](attachment:image.png)"
   ]
  },
  {
   "cell_type": "code",
   "execution_count": 75,
   "id": "ab6410ae",
   "metadata": {},
   "outputs": [
    {
     "name": "stdout",
     "output_type": "stream",
     "text": [
      "5\n",
      "5\n",
      "1.0\n"
     ]
    }
   ],
   "source": [
    "# асимметричный коэффициент Жаккара\n",
    "and_jack = np.where((M[0,:]!=0) & (M[1,:]!=0), 1, 0).sum()\n",
    "print(and_jack)\n",
    "or_jack = np.where((M[0,:]!=0), 1, 0).sum()\n",
    "print(or_jack)\n",
    "and_jack/or_jack\n",
    "print(and_jack/or_jack)"
   ]
  },
  {
   "cell_type": "code",
   "execution_count": 38,
   "id": "89965cf4",
   "metadata": {},
   "outputs": [
    {
     "name": "stdout",
     "output_type": "stream",
     "text": [
      "[[1.         0.6        0.6        0.2        0.2       ]\n",
      " [1.         1.         0.66666667 0.         0.33333333]\n",
      " [1.         0.66666667 1.         0.         0.        ]\n",
      " [1.         0.         0.         1.         0.        ]\n",
      " [1.         1.         0.         0.         1.        ]]\n"
     ]
    }
   ],
   "source": [
    "M=np.array([[1,1,1,1,1],[1,1,0,0,1],[1,1,0,1,0],[0,0,1,0,0],[0,0,0,0,1]])\n",
    "def calculate_jaccard_asim_distance_cor(M):\n",
    "    Res = np.empty((M.shape[0],M.shape[0]))\n",
    "    def my_jaccard_asim_distance(i,j):\n",
    "        and_jack = np.where((M[i,:]!=0) & (M[j,:]!=0), 1, 0).sum() \n",
    "        or_jack = np.where((M[i,:]!=0), 1, 0).sum()\n",
    "\n",
    "   \n",
    "        return and_jack/or_jack\n",
    "    for i in range(M.shape[0]):\n",
    "        for j in range(M.shape[0]):\n",
    "            calculated = my_jaccard_asim_distance(i,j);\n",
    "            Res[i,j]=calculated\n",
    "    Res[np.isnan(Res)] = 0\n",
    "    return sparse.csr_matrix(Res)\n",
    "\n",
    "cor = calculate_jaccard_asim_distance_cor(M)\n",
    "print(cor.toarray())"
   ]
  },
  {
   "attachments": {
    "image-2.png": {
     "image/png": "[encoded data removed]"
    }
   },
   "cell_type": "markdown",
   "id": "a7c05537",
   "metadata": {},
   "source": [
    "## Метод ассоциаций\n",
    "![image-2.png](attachment:image-2.png)"
   ]
  },
  {
   "cell_type": "markdown",
   "id": "ed326b43",
   "metadata": {},
   "source": [
    "https://habr.com/ru/company/ivi/blog/247813/"
   ]
  },
  {
   "cell_type": "code",
   "execution_count": 37,
   "id": "43204a3a",
   "metadata": {},
   "outputs": [
    {
     "name": "stdout",
     "output_type": "stream",
     "text": [
      "[[0.   0.   0.   0.   0.  ]\n",
      " [1.5  0.   2.   0.   0.  ]\n",
      " [1.5  2.   0.   0.   0.  ]\n",
      " [0.25 0.   0.   0.   0.  ]\n",
      " [0.25 0.5  0.   0.   0.  ]]\n"
     ]
    },
    {
     "name": "stderr",
     "output_type": "stream",
     "text": [
      "<ipython-input-37-76d0b7426c3c>:9: RuntimeWarning: divide by zero encountered in long_scalars\n",
      "  return and_i_j/and_not_i_j\n"
     ]
    }
   ],
   "source": [
    "M=np.array([[1,1,1,1,1],[1,1,0,0,1],[1,1,0,1,0],[0,0,1,0,0],[0,0,0,0,1]])\n",
    "def calculate_associations_distance_cor(M):\n",
    "    Res = np.empty((M.shape[0],M.shape[0]))\n",
    "    def my_associations_distance(i,j):\n",
    "        and_i_j = np.where((M[i,:]!=0) & (M[j,:]!=0), 1, 0).sum() \n",
    "        and_not_i_j = np.where((M[i,:]==0) & (M[j,:]!=0), 1, 0).sum() \n",
    "        \n",
    "   \n",
    "        return and_i_j/and_not_i_j\n",
    "    for i in range(M.shape[0]):\n",
    "        for j in range(M.shape[0]):\n",
    "            calculated = my_associations_distance(i,j);\n",
    "#             if (i==j):\n",
    "#                 Res[i,j]=calculated\n",
    "#             else:\n",
    "            Res[i,j]=calculated\n",
    "    Res[np.isnan(Res)] = 0\n",
    "    Res[np.isinf(Res)] = 0\n",
    "    return sparse.csr_matrix(Res)\n",
    "\n",
    "cor = calculate_associations_distance_cor(M)\n",
    "print(cor.toarray())"
   ]
  },
  {
   "cell_type": "code",
   "execution_count": null,
   "id": "e93916f6",
   "metadata": {},
   "outputs": [],
   "source": []
  }
 ],
 "metadata": {
  "kernelspec": {
   "display_name": "Python 3",
   "language": "python",
   "name": "python3"
  },
  "language_info": {
   "codemirror_mode": {
    "name": "ipython",
    "version": 3
   },
   "file_extension": ".py",
   "mimetype": "text/x-python",
   "name": "python",
   "nbconvert_exporter": "python",
   "pygments_lexer": "ipython3",
   "version": "3.8.8"
  }
 },
 "nbformat": 4,
 "nbformat_minor": 5
}
