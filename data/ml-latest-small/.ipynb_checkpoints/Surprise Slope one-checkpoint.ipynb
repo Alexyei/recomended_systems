{
 "cells": [
  {
   "cell_type": "code",
   "execution_count": 10,
   "id": "5b00c274",
   "metadata": {},
   "outputs": [],
   "source": [
    "from surprise import Dataset\n",
    "from surprise import Reader\n",
    "from surprise.model_selection import KFold\n",
    "from surprise import SlopeOne\n",
    "from surprise import accuracy\n",
    "import numpy as np\n",
    "import pandas as pd\n",
    "from tqdm import tqdm\n",
    "import pickle as pickle"
   ]
  },
  {
   "cell_type": "code",
   "execution_count": 11,
   "id": "bb068080",
   "metadata": {},
   "outputs": [
    {
     "name": "stdout",
     "output_type": "stream",
     "text": [
      "   userId  movieId  rating  timestamp\n",
      "0       1        1     4.0  964982703\n",
      "1       1        3     4.0  964981247\n",
      "2       1        6     4.0  964982224\n",
      "3       1       47     5.0  964983815\n",
      "4       1       50     5.0  964982931\n"
     ]
    }
   ],
   "source": [
    "ratings_data = pd.read_csv(\"ratings.csv\")\n",
    "print(ratings_data.head())"
   ]
  },
  {
   "cell_type": "code",
   "execution_count": 12,
   "id": "fe828f52",
   "metadata": {},
   "outputs": [
    {
     "data": {
      "text/html": [
       "<div>\n",
       "<style scoped>\n",
       "    .dataframe tbody tr th:only-of-type {\n",
       "        vertical-align: middle;\n",
       "    }\n",
       "\n",
       "    .dataframe tbody tr th {\n",
       "        vertical-align: top;\n",
       "    }\n",
       "\n",
       "    .dataframe thead th {\n",
       "        text-align: right;\n",
       "    }\n",
       "</style>\n",
       "<table border=\"1\" class=\"dataframe\">\n",
       "  <thead>\n",
       "    <tr style=\"text-align: right;\">\n",
       "      <th></th>\n",
       "      <th>userId</th>\n",
       "      <th>movieId</th>\n",
       "      <th>rating</th>\n",
       "    </tr>\n",
       "  </thead>\n",
       "  <tbody>\n",
       "    <tr>\n",
       "      <th>0</th>\n",
       "      <td>1</td>\n",
       "      <td>1</td>\n",
       "      <td>4.0</td>\n",
       "    </tr>\n",
       "    <tr>\n",
       "      <th>1</th>\n",
       "      <td>1</td>\n",
       "      <td>3</td>\n",
       "      <td>4.0</td>\n",
       "    </tr>\n",
       "    <tr>\n",
       "      <th>2</th>\n",
       "      <td>1</td>\n",
       "      <td>6</td>\n",
       "      <td>4.0</td>\n",
       "    </tr>\n",
       "    <tr>\n",
       "      <th>3</th>\n",
       "      <td>1</td>\n",
       "      <td>47</td>\n",
       "      <td>5.0</td>\n",
       "    </tr>\n",
       "    <tr>\n",
       "      <th>4</th>\n",
       "      <td>1</td>\n",
       "      <td>50</td>\n",
       "      <td>5.0</td>\n",
       "    </tr>\n",
       "  </tbody>\n",
       "</table>\n",
       "</div>"
      ],
      "text/plain": [
       "   userId  movieId  rating\n",
       "0       1        1     4.0\n",
       "1       1        3     4.0\n",
       "2       1        6     4.0\n",
       "3       1       47     5.0\n",
       "4       1       50     5.0"
      ]
     },
     "execution_count": 12,
     "metadata": {},
     "output_type": "execute_result"
    }
   ],
   "source": [
    "movie_data = ratings_data.drop('timestamp', axis=1)\n",
    "# movie_data = pd.merge(ratings_data, movie_names, on='movieId')\n",
    "movie_data.head()"
   ]
  },
  {
   "cell_type": "code",
   "execution_count": 18,
   "id": "45a0bafb",
   "metadata": {},
   "outputs": [
    {
     "name": "stdout",
     "output_type": "stream",
     "text": [
      "Empty DataFrame\n",
      "Columns: [userId, movieId, rating]\n",
      "Index: []\n",
      "3.809880239520958\n",
      "2.7857142857142856\n"
     ]
    }
   ],
   "source": [
    "print(movie_data.loc[(movie_data['userId']==200) & (movie_data['movieId']==100)])\n",
    "print(movie_data.loc[movie_data['userId']==200,'rating'].mean())\n",
    "print(movie_data.loc[movie_data['movieId']==100,'rating'].mean())"
   ]
  },
  {
   "cell_type": "code",
   "execution_count": 4,
   "id": "6253035e",
   "metadata": {},
   "outputs": [],
   "source": [
    "# import sys\n",
    "# !{sys.executable} -m pip install surprise"
   ]
  },
  {
   "cell_type": "code",
   "execution_count": 5,
   "id": "a3e64548",
   "metadata": {},
   "outputs": [],
   "source": [
    "reader = Reader(line_format= 'user item rating timestamp',sep = ',',skip_lines=1)\n",
    "data = Dataset.load_from_file('./ratings.csv',reader = reader)\n",
    "trainset = data.build_full_trainset()"
   ]
  },
  {
   "cell_type": "code",
   "execution_count": 7,
   "id": "229335ff",
   "metadata": {},
   "outputs": [
    {
     "data": {
      "text/plain": [
       "<surprise.prediction_algorithms.slope_one.SlopeOne at 0x19505c54ca0>"
      ]
     },
     "execution_count": 7,
     "metadata": {},
     "output_type": "execute_result"
    }
   ],
   "source": [
    "#Use SlopeOne algorithm\n",
    "algo = SlopeOne()\n",
    "algo.fit(trainset)"
   ]
  },
  {
   "cell_type": "code",
   "execution_count": 28,
   "id": "498e0474",
   "metadata": {},
   "outputs": [],
   "source": [
    "#Perform scoring predictions on specified users and products\n",
    "uid =str(200)\n",
    "iid = str(100)\n",
    "pred = algo.predict(uid,iid)"
   ]
  },
  {
   "cell_type": "code",
   "execution_count": 29,
   "id": "8e6d2c91",
   "metadata": {},
   "outputs": [
    {
     "name": "stdout",
     "output_type": "stream",
     "text": [
      "3.053398758039476\n"
     ]
    }
   ],
   "source": [
    "print(pred.est)"
   ]
  },
  {
   "cell_type": "code",
   "execution_count": 48,
   "id": "33357d14",
   "metadata": {},
   "outputs": [
    {
     "name": "stderr",
     "output_type": "stream",
     "text": [
      "610it [04:35,  2.22it/s]\n"
     ]
    }
   ],
   "source": [
    "users_ratings_prediction = pd.DataFrame([],columns=['userId','movieId','rating'])\n",
    "users = pd.Series(pd.unique(movie_data['userId']))\n",
    "for _,user in tqdm(users.iteritems()):\n",
    "    not_user_movies = pd.Series(pd.unique(movie_data.loc[movie_data['userId']!=user,'movieId']))\n",
    "    user_predictions = not_user_movies.apply(lambda movie: algo.predict(str(user),str(movie)).est)\n",
    "    df = pd.DataFrame(columns = ['movieId', 'rating'])\n",
    "    df['movieId']=not_user_movies\n",
    "    df['rating']=user_predictions\n",
    "    df['userId']=user\n",
    "    users_ratings_prediction = pd.concat([users_ratings_prediction, df],ignore_index=True)\n",
    "#     print(users_ratings_prediction.tail())\n",
    "#     df = pd.DataFrame([not_user_movies,user_predictions], columns=['movieId','rating'])\n",
    "#     df['userId']=user\n",
    "#     print(df.tail())\n",
    "#     for _,movie in not_user_movies.iteritems():\n",
    "#         pred = algo.predict(str(user),str(movie))\n",
    "#         users_ratings_prediction.loc[users_ratings_prediction.shape[0]] = [user, movie, pred.est]"
   ]
  },
  {
   "cell_type": "code",
   "execution_count": 49,
   "id": "bbce54e3",
   "metadata": {},
   "outputs": [
    {
     "data": {
      "text/html": [
       "<div>\n",
       "<style scoped>\n",
       "    .dataframe tbody tr th:only-of-type {\n",
       "        vertical-align: middle;\n",
       "    }\n",
       "\n",
       "    .dataframe tbody tr th {\n",
       "        vertical-align: top;\n",
       "    }\n",
       "\n",
       "    .dataframe thead th {\n",
       "        text-align: right;\n",
       "    }\n",
       "</style>\n",
       "<table border=\"1\" class=\"dataframe\">\n",
       "  <thead>\n",
       "    <tr style=\"text-align: right;\">\n",
       "      <th></th>\n",
       "      <th>userId</th>\n",
       "      <th>movieId</th>\n",
       "      <th>rating</th>\n",
       "    </tr>\n",
       "  </thead>\n",
       "  <tbody>\n",
       "    <tr>\n",
       "      <th>0</th>\n",
       "      <td>1</td>\n",
       "      <td>318</td>\n",
       "      <td>5.000000</td>\n",
       "    </tr>\n",
       "    <tr>\n",
       "      <th>1</th>\n",
       "      <td>1</td>\n",
       "      <td>333</td>\n",
       "      <td>4.332579</td>\n",
       "    </tr>\n",
       "    <tr>\n",
       "      <th>2</th>\n",
       "      <td>1</td>\n",
       "      <td>1704</td>\n",
       "      <td>4.919075</td>\n",
       "    </tr>\n",
       "    <tr>\n",
       "      <th>3</th>\n",
       "      <td>1</td>\n",
       "      <td>3578</td>\n",
       "      <td>4.647980</td>\n",
       "    </tr>\n",
       "    <tr>\n",
       "      <th>4</th>\n",
       "      <td>1</td>\n",
       "      <td>6874</td>\n",
       "      <td>4.961733</td>\n",
       "    </tr>\n",
       "    <tr>\n",
       "      <th>...</th>\n",
       "      <td>...</td>\n",
       "      <td>...</td>\n",
       "      <td>...</td>\n",
       "    </tr>\n",
       "    <tr>\n",
       "      <th>5928189</th>\n",
       "      <td>610</td>\n",
       "      <td>7377</td>\n",
       "      <td>3.191934</td>\n",
       "    </tr>\n",
       "    <tr>\n",
       "      <th>5928190</th>\n",
       "      <td>610</td>\n",
       "      <td>8667</td>\n",
       "      <td>3.191934</td>\n",
       "    </tr>\n",
       "    <tr>\n",
       "      <th>5928191</th>\n",
       "      <td>610</td>\n",
       "      <td>32302</td>\n",
       "      <td>4.191934</td>\n",
       "    </tr>\n",
       "    <tr>\n",
       "      <th>5928192</th>\n",
       "      <td>610</td>\n",
       "      <td>51903</td>\n",
       "      <td>2.191934</td>\n",
       "    </tr>\n",
       "    <tr>\n",
       "      <th>5928193</th>\n",
       "      <td>610</td>\n",
       "      <td>137</td>\n",
       "      <td>3.288556</td>\n",
       "    </tr>\n",
       "  </tbody>\n",
       "</table>\n",
       "<p>5928194 rows × 3 columns</p>\n",
       "</div>"
      ],
      "text/plain": [
       "        userId movieId    rating\n",
       "0            1     318  5.000000\n",
       "1            1     333  4.332579\n",
       "2            1    1704  4.919075\n",
       "3            1    3578  4.647980\n",
       "4            1    6874  4.961733\n",
       "...        ...     ...       ...\n",
       "5928189    610    7377  3.191934\n",
       "5928190    610    8667  3.191934\n",
       "5928191    610   32302  4.191934\n",
       "5928192    610   51903  2.191934\n",
       "5928193    610     137  3.288556\n",
       "\n",
       "[5928194 rows x 3 columns]"
      ]
     },
     "execution_count": 49,
     "metadata": {},
     "output_type": "execute_result"
    }
   ],
   "source": [
    "users_ratings_prediction"
   ]
  },
  {
   "cell_type": "code",
   "execution_count": 53,
   "id": "4e3cdff5",
   "metadata": {},
   "outputs": [],
   "source": [
    "users_ratings_prediction.to_csv('calculated_predictions_slope_one.csv',index=False)"
   ]
  },
  {
   "cell_type": "code",
   "execution_count": 54,
   "id": "75dc9e3e",
   "metadata": {},
   "outputs": [],
   "source": [
    "users_ratings_prediction = pd.read_csv(\"calculated_predictions_slope_one.csv\")"
   ]
  },
  {
   "cell_type": "code",
   "execution_count": 55,
   "id": "bf4bc85d",
   "metadata": {},
   "outputs": [
    {
     "data": {
      "text/html": [
       "<div>\n",
       "<style scoped>\n",
       "    .dataframe tbody tr th:only-of-type {\n",
       "        vertical-align: middle;\n",
       "    }\n",
       "\n",
       "    .dataframe tbody tr th {\n",
       "        vertical-align: top;\n",
       "    }\n",
       "\n",
       "    .dataframe thead th {\n",
       "        text-align: right;\n",
       "    }\n",
       "</style>\n",
       "<table border=\"1\" class=\"dataframe\">\n",
       "  <thead>\n",
       "    <tr style=\"text-align: right;\">\n",
       "      <th></th>\n",
       "      <th>userId</th>\n",
       "      <th>movieId</th>\n",
       "      <th>rating</th>\n",
       "    </tr>\n",
       "  </thead>\n",
       "  <tbody>\n",
       "    <tr>\n",
       "      <th>0</th>\n",
       "      <td>1</td>\n",
       "      <td>318</td>\n",
       "      <td>5.000000</td>\n",
       "    </tr>\n",
       "    <tr>\n",
       "      <th>1</th>\n",
       "      <td>1</td>\n",
       "      <td>333</td>\n",
       "      <td>4.332579</td>\n",
       "    </tr>\n",
       "    <tr>\n",
       "      <th>2</th>\n",
       "      <td>1</td>\n",
       "      <td>1704</td>\n",
       "      <td>4.919075</td>\n",
       "    </tr>\n",
       "    <tr>\n",
       "      <th>3</th>\n",
       "      <td>1</td>\n",
       "      <td>3578</td>\n",
       "      <td>4.647980</td>\n",
       "    </tr>\n",
       "    <tr>\n",
       "      <th>4</th>\n",
       "      <td>1</td>\n",
       "      <td>6874</td>\n",
       "      <td>4.961733</td>\n",
       "    </tr>\n",
       "    <tr>\n",
       "      <th>...</th>\n",
       "      <td>...</td>\n",
       "      <td>...</td>\n",
       "      <td>...</td>\n",
       "    </tr>\n",
       "    <tr>\n",
       "      <th>5928189</th>\n",
       "      <td>610</td>\n",
       "      <td>7377</td>\n",
       "      <td>3.191934</td>\n",
       "    </tr>\n",
       "    <tr>\n",
       "      <th>5928190</th>\n",
       "      <td>610</td>\n",
       "      <td>8667</td>\n",
       "      <td>3.191934</td>\n",
       "    </tr>\n",
       "    <tr>\n",
       "      <th>5928191</th>\n",
       "      <td>610</td>\n",
       "      <td>32302</td>\n",
       "      <td>4.191934</td>\n",
       "    </tr>\n",
       "    <tr>\n",
       "      <th>5928192</th>\n",
       "      <td>610</td>\n",
       "      <td>51903</td>\n",
       "      <td>2.191934</td>\n",
       "    </tr>\n",
       "    <tr>\n",
       "      <th>5928193</th>\n",
       "      <td>610</td>\n",
       "      <td>137</td>\n",
       "      <td>3.288556</td>\n",
       "    </tr>\n",
       "  </tbody>\n",
       "</table>\n",
       "<p>5928194 rows × 3 columns</p>\n",
       "</div>"
      ],
      "text/plain": [
       "         userId  movieId    rating\n",
       "0             1      318  5.000000\n",
       "1             1      333  4.332579\n",
       "2             1     1704  4.919075\n",
       "3             1     3578  4.647980\n",
       "4             1     6874  4.961733\n",
       "...         ...      ...       ...\n",
       "5928189     610     7377  3.191934\n",
       "5928190     610     8667  3.191934\n",
       "5928191     610    32302  4.191934\n",
       "5928192     610    51903  2.191934\n",
       "5928193     610      137  3.288556\n",
       "\n",
       "[5928194 rows x 3 columns]"
      ]
     },
     "execution_count": 55,
     "metadata": {},
     "output_type": "execute_result"
    }
   ],
   "source": [
    "users_ratings_prediction"
   ]
  },
  {
   "cell_type": "code",
   "execution_count": 63,
   "id": "7b8b76fb",
   "metadata": {},
   "outputs": [],
   "source": [
    "def get_recs(userId, n=10):\n",
    "    return users_ratings_prediction.loc[users_ratings_prediction['userId']==userId,['movieId','rating']].sort_values(by='rating', ascending=False)[:n]"
   ]
  },
  {
   "cell_type": "code",
   "execution_count": 64,
   "id": "23219d54",
   "metadata": {},
   "outputs": [
    {
     "data": {
      "text/html": [
       "<div>\n",
       "<style scoped>\n",
       "    .dataframe tbody tr th:only-of-type {\n",
       "        vertical-align: middle;\n",
       "    }\n",
       "\n",
       "    .dataframe tbody tr th {\n",
       "        vertical-align: top;\n",
       "    }\n",
       "\n",
       "    .dataframe thead th {\n",
       "        text-align: right;\n",
       "    }\n",
       "</style>\n",
       "<table border=\"1\" class=\"dataframe\">\n",
       "  <thead>\n",
       "    <tr style=\"text-align: right;\">\n",
       "      <th></th>\n",
       "      <th>movieId</th>\n",
       "      <th>rating</th>\n",
       "    </tr>\n",
       "  </thead>\n",
       "  <tbody>\n",
       "    <tr>\n",
       "      <th>13644</th>\n",
       "      <td>126921</td>\n",
       "      <td>5.0</td>\n",
       "    </tr>\n",
       "    <tr>\n",
       "      <th>13712</th>\n",
       "      <td>149350</td>\n",
       "      <td>5.0</td>\n",
       "    </tr>\n",
       "    <tr>\n",
       "      <th>13678</th>\n",
       "      <td>136341</td>\n",
       "      <td>5.0</td>\n",
       "    </tr>\n",
       "    <tr>\n",
       "      <th>19086</th>\n",
       "      <td>1349</td>\n",
       "      <td>5.0</td>\n",
       "    </tr>\n",
       "    <tr>\n",
       "      <th>19085</th>\n",
       "      <td>1310</td>\n",
       "      <td>5.0</td>\n",
       "    </tr>\n",
       "  </tbody>\n",
       "</table>\n",
       "</div>"
      ],
      "text/plain": [
       "      movieId  rating\n",
       "13644  126921     5.0\n",
       "13712  149350     5.0\n",
       "13678  136341     5.0\n",
       "19086    1349     5.0\n",
       "19085    1310     5.0"
      ]
     },
     "execution_count": 64,
     "metadata": {},
     "output_type": "execute_result"
    }
   ],
   "source": [
    "# получить пять рекомендация для пользователя с id==2\n",
    "get_recs(2,5)"
   ]
  },
  {
   "cell_type": "code",
   "execution_count": null,
   "id": "a42fbe89",
   "metadata": {},
   "outputs": [],
   "source": []
  }
 ],
 "metadata": {
  "kernelspec": {
   "display_name": "Python 3",
   "language": "python",
   "name": "python3"
  },
  "language_info": {
   "codemirror_mode": {
    "name": "ipython",
    "version": 3
   },
   "file_extension": ".py",
   "mimetype": "text/x-python",
   "name": "python",
   "nbconvert_exporter": "python",
   "pygments_lexer": "ipython3",
   "version": "3.8.8"
  }
 },
 "nbformat": 4,
 "nbformat_minor": 5
}
