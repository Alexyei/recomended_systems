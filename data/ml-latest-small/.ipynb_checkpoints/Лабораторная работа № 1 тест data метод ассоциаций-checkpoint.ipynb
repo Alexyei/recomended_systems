{
 "cells": [
  {
   "cell_type": "markdown",
   "id": "27222415",
   "metadata": {},
   "source": [
    "## Совместная фильтрация элемент-элемент\n",
    "1. Оффлайн часть\n",
    "1.1. Получаем оценки всех пользователей\n",
    "1.2. Нормализуем их (столбец mean)\n",
    "1.3. Заменяем id пользователей и фильмов на категории (например фильм с id 100111 получает категорию 0, фильм c id 100112 получает категорию 1 и так далее)\n",
    "1.4. Объединяем колонку mean, колонку категорий пользователей и колонку категорий фильм в разряженную матрицу coo\n",
    "1.5. Создаём матрицу перекрытия, чтобы исключить фильмы у которых мало оценок. Матрица перекрытия показывает сколько пользователей одновременно оценили фильм x и фильм y. \n",
    "1.6. Получаем матрицу сходства между фильмами, для вычисления сходство используется косиносовое сходство. cor = cosine_similarity\n",
    "1.7. В матрице сходства обнуляем ячейки у которых низкое сходство и укоторых маленькое перекрытие\n",
    "1.8. Из полученной матрице сходств формируем таблицу сходств фильмов (similarity_table), в которой категории фильмов заменены на их настоящие id \n",
    "2. Онлайн часть\n",
    "2.1. Получаем оценки текущего пользователя\n",
    "2.2. Сортируем оценки по самым высоким\n",
    "2.3. Вычисляем среднюю оценку пользователя (current_user_mean)\n",
    "2.4. Из таблицы сходств получаем только те фильмы которые оценены текущим пользователем\n",
    "2.5. Из таблицы сходств исключаем фильмы которые оценены текущим пользователем и находятся в колонки target_id. То есть мы не будем рекомендовать пользователю фильмы, которые он уже посмотрел.\n",
    "2.6. Вычисляем рекомендации для пользователя, и получаем таблицу вида: target_id; prediction;sim_movies;\n",
    "где target_id - id фильма рекомендуемого пользователю; prediction - ожидаемая оценка данному фильму; sim_movies- на основание каких фильмов оцененных пользователем ранее выдана данная рекомендация."
   ]
  },
  {
   "cell_type": "code",
   "execution_count": 1,
   "id": "8057f43d",
   "metadata": {},
   "outputs": [],
   "source": [
    "import requests\n",
    "import time\n",
    "import pandas as pd\n",
    "import surprise as surprise\n",
    "import numpy as np\n",
    "from decimal import Decimal\n",
    "from scipy.sparse import coo_matrix\n",
    "from scipy import sparse\n",
    "from tqdm import tqdm\n",
    "# косинусовое сходство\n",
    "from sklearn.metrics.pairwise import cosine_similarity"
   ]
  },
  {
   "cell_type": "code",
   "execution_count": 2,
   "id": "072b46d3",
   "metadata": {},
   "outputs": [
    {
     "name": "stdout",
     "output_type": "stream",
     "text": [
      "   userId  movieId  rating  timestamp\n",
      "0       1        1     4.0  964982703\n",
      "1       1        3     4.0  964981247\n",
      "2       1        6     4.0  964982224\n",
      "3       1       47     5.0  964983815\n",
      "4       1       50     5.0  964982931\n"
     ]
    }
   ],
   "source": [
    "users_ratings = pd.read_csv(\"ratings.csv\")\n",
    "print(users_ratings.head())"
   ]
  },
  {
   "cell_type": "code",
   "execution_count": 3,
   "id": "abd5504d",
   "metadata": {},
   "outputs": [
    {
     "data": {
      "text/html": [
       "<div>\n",
       "<style scoped>\n",
       "    .dataframe tbody tr th:only-of-type {\n",
       "        vertical-align: middle;\n",
       "    }\n",
       "\n",
       "    .dataframe tbody tr th {\n",
       "        vertical-align: top;\n",
       "    }\n",
       "\n",
       "    .dataframe thead th {\n",
       "        text-align: right;\n",
       "    }\n",
       "</style>\n",
       "<table border=\"1\" class=\"dataframe\">\n",
       "  <thead>\n",
       "    <tr style=\"text-align: right;\">\n",
       "      <th></th>\n",
       "      <th>userId</th>\n",
       "      <th>movieId</th>\n",
       "      <th>rating</th>\n",
       "    </tr>\n",
       "  </thead>\n",
       "  <tbody>\n",
       "    <tr>\n",
       "      <th>0</th>\n",
       "      <td>1</td>\n",
       "      <td>1</td>\n",
       "      <td>4.0</td>\n",
       "    </tr>\n",
       "    <tr>\n",
       "      <th>1</th>\n",
       "      <td>1</td>\n",
       "      <td>3</td>\n",
       "      <td>4.0</td>\n",
       "    </tr>\n",
       "    <tr>\n",
       "      <th>2</th>\n",
       "      <td>1</td>\n",
       "      <td>6</td>\n",
       "      <td>4.0</td>\n",
       "    </tr>\n",
       "    <tr>\n",
       "      <th>3</th>\n",
       "      <td>1</td>\n",
       "      <td>47</td>\n",
       "      <td>5.0</td>\n",
       "    </tr>\n",
       "    <tr>\n",
       "      <th>4</th>\n",
       "      <td>1</td>\n",
       "      <td>50</td>\n",
       "      <td>5.0</td>\n",
       "    </tr>\n",
       "  </tbody>\n",
       "</table>\n",
       "</div>"
      ],
      "text/plain": [
       "   userId  movieId  rating\n",
       "0       1        1     4.0\n",
       "1       1        3     4.0\n",
       "2       1        6     4.0\n",
       "3       1       47     5.0\n",
       "4       1       50     5.0"
      ]
     },
     "execution_count": 3,
     "metadata": {},
     "output_type": "execute_result"
    }
   ],
   "source": [
    "users_ratings = users_ratings.drop('timestamp', axis=1)\n",
    "# movie_data = pd.merge(ratings_data, movie_names, on='movieId')\n",
    "users_ratings.head()"
   ]
  },
  {
   "cell_type": "code",
   "execution_count": 4,
   "id": "537cf369",
   "metadata": {},
   "outputs": [
    {
     "data": {
      "text/plain": [
       "False"
      ]
     },
     "execution_count": 4,
     "metadata": {},
     "output_type": "execute_result"
    }
   ],
   "source": [
    "users_ratings['rating'].isnull().any()"
   ]
  },
  {
   "cell_type": "code",
   "execution_count": 5,
   "id": "2f2abb76",
   "metadata": {},
   "outputs": [],
   "source": [
    "# Нормализуем оценки вычтя из оценки среднюю оценку пользователя\n",
    "def normalize(x):\n",
    "    x = x.astype(float)\n",
    "    x_sum = x.sum()\n",
    "    x_num = x.astype(bool).sum()\n",
    "    x_mean = x_sum / x_num\n",
    "\n",
    "    if x_num == 1 or x.std() == 0:\n",
    "        return 0.0\n",
    "    print(x)\n",
    "    print(x_mean)\n",
    "    print((x.max() - x.min()))\n",
    "    return (x - x_mean) / (x.max() - x.min())"
   ]
  },
  {
   "cell_type": "code",
   "execution_count": 6,
   "id": "c7664773",
   "metadata": {},
   "outputs": [
    {
     "data": {
      "text/html": [
       "<div>\n",
       "<style scoped>\n",
       "    .dataframe tbody tr th:only-of-type {\n",
       "        vertical-align: middle;\n",
       "    }\n",
       "\n",
       "    .dataframe tbody tr th {\n",
       "        vertical-align: top;\n",
       "    }\n",
       "\n",
       "    .dataframe thead th {\n",
       "        text-align: right;\n",
       "    }\n",
       "</style>\n",
       "<table border=\"1\" class=\"dataframe\">\n",
       "  <thead>\n",
       "    <tr style=\"text-align: right;\">\n",
       "      <th></th>\n",
       "      <th>userId</th>\n",
       "      <th>movieId</th>\n",
       "      <th>rating</th>\n",
       "      <th>mean</th>\n",
       "    </tr>\n",
       "  </thead>\n",
       "  <tbody>\n",
       "    <tr>\n",
       "      <th>0</th>\n",
       "      <td>1</td>\n",
       "      <td>1</td>\n",
       "      <td>4.0</td>\n",
       "      <td>-0.091595</td>\n",
       "    </tr>\n",
       "    <tr>\n",
       "      <th>1</th>\n",
       "      <td>1</td>\n",
       "      <td>3</td>\n",
       "      <td>4.0</td>\n",
       "      <td>-0.091595</td>\n",
       "    </tr>\n",
       "    <tr>\n",
       "      <th>2</th>\n",
       "      <td>1</td>\n",
       "      <td>6</td>\n",
       "      <td>4.0</td>\n",
       "      <td>-0.091595</td>\n",
       "    </tr>\n",
       "    <tr>\n",
       "      <th>3</th>\n",
       "      <td>1</td>\n",
       "      <td>47</td>\n",
       "      <td>5.0</td>\n",
       "      <td>0.158405</td>\n",
       "    </tr>\n",
       "    <tr>\n",
       "      <th>4</th>\n",
       "      <td>1</td>\n",
       "      <td>50</td>\n",
       "      <td>5.0</td>\n",
       "      <td>0.158405</td>\n",
       "    </tr>\n",
       "  </tbody>\n",
       "</table>\n",
       "</div>"
      ],
      "text/plain": [
       "   userId  movieId  rating      mean\n",
       "0       1        1     4.0 -0.091595\n",
       "1       1        3     4.0 -0.091595\n",
       "2       1        6     4.0 -0.091595\n",
       "3       1       47     5.0  0.158405\n",
       "4       1       50     5.0  0.158405"
      ]
     },
     "execution_count": 6,
     "metadata": {},
     "output_type": "execute_result"
    }
   ],
   "source": [
    "count_col = users_ratings.groupby(['userId'])['rating'].count()\n",
    "std_col = users_ratings.groupby(['userId'])['rating'].std()\n",
    "mean_col = users_ratings.groupby(['userId'])['rating'].mean()\n",
    "max_col = users_ratings.groupby(['userId'])['rating'].max()\n",
    "min_col = users_ratings.groupby(['userId'])['rating'].min()\n",
    "\n",
    "\n",
    "for index, row in users_ratings.iterrows():\n",
    "    users_ratings.at[index,'mean']= 0.0 if (count_col.at[row['userId']]==1) or (std_col.at[row['userId']]==0)  else(row['rating']-mean_col.at[row['userId']])/(max_col.at[row['userId']]-min_col.at[row['userId']])\n",
    "    \n",
    "users_ratings.head()"
   ]
  },
  {
   "cell_type": "code",
   "execution_count": 7,
   "id": "b8b8771b",
   "metadata": {},
   "outputs": [
    {
     "data": {
      "text/plain": [
       "False"
      ]
     },
     "execution_count": 7,
     "metadata": {},
     "output_type": "execute_result"
    }
   ],
   "source": [
    "# проверяем, что нет пропусков\n",
    "users_ratings['mean'].isnull().any()"
   ]
  },
  {
   "cell_type": "code",
   "execution_count": 8,
   "id": "a55d03fe",
   "metadata": {},
   "outputs": [],
   "source": [
    "users_values = users_ratings['userId'].sort_values().unique()\n",
    "movies_values = users_ratings['movieId'].sort_values().unique()\n",
    "# print(movies_values)\n",
    "user_categories = dict(enumerate(users_ratings['userId'].sort_values().unique()))\n",
    "movie_categories = dict(enumerate(users_ratings['movieId'].sort_values().unique()))\n",
    "# print(movie_categories)\n",
    "for index, row in users_ratings.iterrows():\n",
    "    # np.where return index   \n",
    "    users_ratings.at[index,'movieId'] = np.where(movies_values == row['movieId'])[0]\n",
    "    users_ratings.at[index,'userId'] = np.where(users_values == row['userId'])[0]"
   ]
  },
  {
   "cell_type": "code",
   "execution_count": 9,
   "id": "511f2c85",
   "metadata": {},
   "outputs": [],
   "source": [
    "coo = coo_matrix((users_ratings['mean'], (users_ratings['movieId'],users_ratings['userId'])))"
   ]
  },
  {
   "cell_type": "markdown",
   "id": "61839c9d",
   "metadata": {},
   "source": [
    "## Матрица перекрытия\n",
    "Матрица перекрытия показывает сколько пользователей одновременно оценили фильм x и фильм y. \n",
    "Например цифра 3 показывает сколько людей одновременно оценили Храброе сердце и Эйс-Вентура.\n",
    "Матрица смимметричная.\n",
    "min_overlap=4\n",
    "Мы можем не учитывать элементы, у которых мало оценок (например <= 4), так как это можно привести к неправильному значению сходства между этими фильмами.\n",
    "number_of_overlaps - показывает сколько элементов осталось после примененения матрицы перекрытия"
   ]
  },
  {
   "cell_type": "code",
   "execution_count": 10,
   "id": "235e3801",
   "metadata": {},
   "outputs": [],
   "source": [
    "overlap_matrix = coo.astype(bool).astype(int).dot(coo.transpose().astype(bool).astype(int))\n",
    "min_overlap=4\n",
    "number_of_overlaps = (overlap_matrix > min_overlap).count_nonzero()"
   ]
  },
  {
   "cell_type": "code",
   "execution_count": 11,
   "id": "e4645b93",
   "metadata": {},
   "outputs": [
    {
     "data": {
      "text/plain": [
       "array([[215,  68,  32, ...,   0,   0,   0],\n",
       "       [ 68, 110,  26, ...,   0,   0,   0],\n",
       "       [ 32,  26,  52, ...,   0,   0,   0],\n",
       "       ...,\n",
       "       [  0,   0,   0, ...,   1,   1,   0],\n",
       "       [  0,   0,   0, ...,   1,   1,   0],\n",
       "       [  0,   0,   0, ...,   0,   0,   1]], dtype=int32)"
      ]
     },
     "execution_count": 11,
     "metadata": {},
     "output_type": "execute_result"
    }
   ],
   "source": [
    "overlap_matrix.toarray()"
   ]
  },
  {
   "cell_type": "code",
   "execution_count": 12,
   "id": "77818eb7",
   "metadata": {},
   "outputs": [
    {
     "name": "stderr",
     "output_type": "stream",
     "text": [
      " 22%|█████████████████                                                             | 2122/9724 [03:31<10:59, 11.52it/s]<ipython-input-12-bbac92cb8ab9>:10: RuntimeWarning: invalid value encountered in long_scalars\n",
      "  return and_jack/or_jack\n",
      "100%|██████████████████████████████████████████████████████████████████████████████| 9724/9724 [09:03<00:00, 17.90it/s]\n"
     ]
    },
    {
     "name": "stdout",
     "output_type": "stream",
     "text": [
      "[[1.         0.31627907 0.14883721 ... 0.         0.         0.        ]\n",
      " [0.31627907 1.         0.23636364 ... 0.         0.         0.        ]\n",
      " [0.14883721 0.23636364 1.         ... 0.         0.         0.        ]\n",
      " ...\n",
      " [0.         0.         0.         ... 1.         1.         0.        ]\n",
      " [0.         0.         0.         ... 1.         1.         0.        ]\n",
      " [0.         0.         0.         ... 0.         0.         1.        ]]\n"
     ]
    }
   ],
   "source": [
    "M=coo.toarray()\n",
    "\n",
    "def calculate_associations_distance_cor(M):\n",
    "    Res = np.empty((M.shape[0],M.shape[0]))\n",
    "    def my_associations_distance(i,j):\n",
    "        and_i_j = np.where((M[i,:]!=0) & (M[j,:]!=0), 1, 0).sum() \n",
    "        and_not_i_j = np.where((M[i,:]==0) & (M[j,:]!=0), 1, 0).sum() \n",
    "        \n",
    "   \n",
    "        return and_i_j/and_not_i_j\n",
    "    for i in range(M.shape[0]):\n",
    "        for j in range(M.shape[0]):\n",
    "            calculated = my_associations_distance(i,j);\n",
    "#             if (i==j):\n",
    "#                 Res[i,j]=calculated\n",
    "#             else:\n",
    "            Res[i,j]=calculated\n",
    "    Res[np.isnan(Res)] = 0\n",
    "    Res[np.isinf(Res)] = 0\n",
    "    return sparse.csr_matrix(Res)\n",
    "\n",
    "cor = calculate_associations_distance_cor(M)\n",
    "print(cor.toarray())"
   ]
  },
  {
   "cell_type": "code",
   "execution_count": 114,
   "id": "72cf8554",
   "metadata": {},
   "outputs": [],
   "source": [
    "def save_full_sims(cor,movies_categories):\n",
    "    coo = coo_matrix(cor)\n",
    "    csr = coo.tocsr()\n",
    "    \n",
    "    no_saved = 0\n",
    "    xs, ys = coo.nonzero()\n",
    "\n",
    "    columns = ['source_id', 'target_id', 'similarity']\n",
    "    M = pd.DataFrame([],columns=columns)\n",
    "\n",
    "    for x, y in tqdm(zip(xs, ys)):\n",
    "    #     x это первый элемент кортежа, y второй; x,y это id строк описаний между которыми вычисляется сходство\n",
    "    \n",
    "        sim = float(csr[x, y])\n",
    "        M.loc[M.shape[0]] = [int(movies_categories[x]),int(movies_categories[y]),sim]\n",
    "       \n",
    "        no_saved += 1\n",
    "   \n",
    "    M['source_id'] =  M['source_id'].astype(int)\n",
    "    M['target_id'] =  M['target_id'].astype(int)\n",
    "    return M"
   ]
  },
  {
   "cell_type": "code",
   "execution_count": 115,
   "id": "a7ee582d",
   "metadata": {},
   "outputs": [
    {
     "name": "stderr",
     "output_type": "stream",
     "text": [
      "133823it [04:48, 464.13it/s]\n"
     ]
    },
    {
     "ename": "KeyboardInterrupt",
     "evalue": "",
     "output_type": "error",
     "traceback": [
      "\u001b[1;31m---------------------------------------------------------------------------\u001b[0m",
      "\u001b[1;31mKeyboardInterrupt\u001b[0m                         Traceback (most recent call last)",
      "\u001b[1;32m<ipython-input-115-cb54ae622768>\u001b[0m in \u001b[0;36m<module>\u001b[1;34m\u001b[0m\n\u001b[1;32m----> 1\u001b[1;33m \u001b[0mfull_similarity_table\u001b[0m \u001b[1;33m=\u001b[0m \u001b[0msave_full_sims\u001b[0m\u001b[1;33m(\u001b[0m\u001b[0mcor\u001b[0m\u001b[1;33m,\u001b[0m\u001b[0mmovie_categories\u001b[0m\u001b[1;33m)\u001b[0m\u001b[1;33m\u001b[0m\u001b[1;33m\u001b[0m\u001b[0m\n\u001b[0m\u001b[0;32m      2\u001b[0m \u001b[0mprint\u001b[0m\u001b[1;33m(\u001b[0m\u001b[0mfull_similarity_table\u001b[0m\u001b[1;33m)\u001b[0m\u001b[1;33m\u001b[0m\u001b[1;33m\u001b[0m\u001b[0m\n",
      "\u001b[1;32m<ipython-input-114-eb2f9721f02e>\u001b[0m in \u001b[0;36msave_full_sims\u001b[1;34m(cor, movies_categories)\u001b[0m\n\u001b[0;32m     13\u001b[0m \u001b[1;33m\u001b[0m\u001b[0m\n\u001b[0;32m     14\u001b[0m         \u001b[0msim\u001b[0m \u001b[1;33m=\u001b[0m \u001b[0mfloat\u001b[0m\u001b[1;33m(\u001b[0m\u001b[0mcsr\u001b[0m\u001b[1;33m[\u001b[0m\u001b[0mx\u001b[0m\u001b[1;33m,\u001b[0m \u001b[0my\u001b[0m\u001b[1;33m]\u001b[0m\u001b[1;33m)\u001b[0m\u001b[1;33m\u001b[0m\u001b[1;33m\u001b[0m\u001b[0m\n\u001b[1;32m---> 15\u001b[1;33m         \u001b[0mM\u001b[0m\u001b[1;33m.\u001b[0m\u001b[0mloc\u001b[0m\u001b[1;33m[\u001b[0m\u001b[0mM\u001b[0m\u001b[1;33m.\u001b[0m\u001b[0mshape\u001b[0m\u001b[1;33m[\u001b[0m\u001b[1;36m0\u001b[0m\u001b[1;33m]\u001b[0m\u001b[1;33m]\u001b[0m \u001b[1;33m=\u001b[0m \u001b[1;33m[\u001b[0m\u001b[0mint\u001b[0m\u001b[1;33m(\u001b[0m\u001b[0mmovies_categories\u001b[0m\u001b[1;33m[\u001b[0m\u001b[0mx\u001b[0m\u001b[1;33m]\u001b[0m\u001b[1;33m)\u001b[0m\u001b[1;33m,\u001b[0m\u001b[0mint\u001b[0m\u001b[1;33m(\u001b[0m\u001b[0mmovies_categories\u001b[0m\u001b[1;33m[\u001b[0m\u001b[0my\u001b[0m\u001b[1;33m]\u001b[0m\u001b[1;33m)\u001b[0m\u001b[1;33m,\u001b[0m\u001b[0msim\u001b[0m\u001b[1;33m]\u001b[0m\u001b[1;33m\u001b[0m\u001b[1;33m\u001b[0m\u001b[0m\n\u001b[0m\u001b[0;32m     16\u001b[0m \u001b[1;33m\u001b[0m\u001b[0m\n\u001b[0;32m     17\u001b[0m         \u001b[0mno_saved\u001b[0m \u001b[1;33m+=\u001b[0m \u001b[1;36m1\u001b[0m\u001b[1;33m\u001b[0m\u001b[1;33m\u001b[0m\u001b[0m\n",
      "\u001b[1;32m~\\anaconda3\\lib\\site-packages\\pandas\\core\\indexing.py\u001b[0m in \u001b[0;36m__setitem__\u001b[1;34m(self, key, value)\u001b[0m\n\u001b[0;32m    690\u001b[0m \u001b[1;33m\u001b[0m\u001b[0m\n\u001b[0;32m    691\u001b[0m         \u001b[0miloc\u001b[0m \u001b[1;33m=\u001b[0m \u001b[0mself\u001b[0m \u001b[1;32mif\u001b[0m \u001b[0mself\u001b[0m\u001b[1;33m.\u001b[0m\u001b[0mname\u001b[0m \u001b[1;33m==\u001b[0m \u001b[1;34m\"iloc\"\u001b[0m \u001b[1;32melse\u001b[0m \u001b[0mself\u001b[0m\u001b[1;33m.\u001b[0m\u001b[0mobj\u001b[0m\u001b[1;33m.\u001b[0m\u001b[0miloc\u001b[0m\u001b[1;33m\u001b[0m\u001b[1;33m\u001b[0m\u001b[0m\n\u001b[1;32m--> 692\u001b[1;33m         \u001b[0miloc\u001b[0m\u001b[1;33m.\u001b[0m\u001b[0m_setitem_with_indexer\u001b[0m\u001b[1;33m(\u001b[0m\u001b[0mindexer\u001b[0m\u001b[1;33m,\u001b[0m \u001b[0mvalue\u001b[0m\u001b[1;33m,\u001b[0m \u001b[0mself\u001b[0m\u001b[1;33m.\u001b[0m\u001b[0mname\u001b[0m\u001b[1;33m)\u001b[0m\u001b[1;33m\u001b[0m\u001b[1;33m\u001b[0m\u001b[0m\n\u001b[0m\u001b[0;32m    693\u001b[0m \u001b[1;33m\u001b[0m\u001b[0m\n\u001b[0;32m    694\u001b[0m     \u001b[1;32mdef\u001b[0m \u001b[0m_validate_key\u001b[0m\u001b[1;33m(\u001b[0m\u001b[0mself\u001b[0m\u001b[1;33m,\u001b[0m \u001b[0mkey\u001b[0m\u001b[1;33m,\u001b[0m \u001b[0maxis\u001b[0m\u001b[1;33m:\u001b[0m \u001b[0mint\u001b[0m\u001b[1;33m)\u001b[0m\u001b[1;33m:\u001b[0m\u001b[1;33m\u001b[0m\u001b[1;33m\u001b[0m\u001b[0m\n",
      "\u001b[1;32m~\\anaconda3\\lib\\site-packages\\pandas\\core\\indexing.py\u001b[0m in \u001b[0;36m_setitem_with_indexer\u001b[1;34m(self, indexer, value, name)\u001b[0m\n\u001b[0;32m   1627\u001b[0m \u001b[1;33m\u001b[0m\u001b[0m\n\u001b[0;32m   1628\u001b[0m             \u001b[1;32mif\u001b[0m \u001b[0mmissing\u001b[0m\u001b[1;33m:\u001b[0m\u001b[1;33m\u001b[0m\u001b[1;33m\u001b[0m\u001b[0m\n\u001b[1;32m-> 1629\u001b[1;33m                 \u001b[0mself\u001b[0m\u001b[1;33m.\u001b[0m\u001b[0m_setitem_with_indexer_missing\u001b[0m\u001b[1;33m(\u001b[0m\u001b[0mindexer\u001b[0m\u001b[1;33m,\u001b[0m \u001b[0mvalue\u001b[0m\u001b[1;33m)\u001b[0m\u001b[1;33m\u001b[0m\u001b[1;33m\u001b[0m\u001b[0m\n\u001b[0m\u001b[0;32m   1630\u001b[0m                 \u001b[1;32mreturn\u001b[0m\u001b[1;33m\u001b[0m\u001b[1;33m\u001b[0m\u001b[0m\n\u001b[0;32m   1631\u001b[0m \u001b[1;33m\u001b[0m\u001b[0m\n",
      "\u001b[1;32m~\\anaconda3\\lib\\site-packages\\pandas\\core\\indexing.py\u001b[0m in \u001b[0;36m_setitem_with_indexer_missing\u001b[1;34m(self, indexer, value)\u001b[0m\n\u001b[0;32m   1920\u001b[0m                 \u001b[0mvalue\u001b[0m \u001b[1;33m=\u001b[0m \u001b[0mSeries\u001b[0m\u001b[1;33m(\u001b[0m\u001b[0mvalue\u001b[0m\u001b[1;33m,\u001b[0m \u001b[0mindex\u001b[0m\u001b[1;33m=\u001b[0m\u001b[0mself\u001b[0m\u001b[1;33m.\u001b[0m\u001b[0mobj\u001b[0m\u001b[1;33m.\u001b[0m\u001b[0mcolumns\u001b[0m\u001b[1;33m,\u001b[0m \u001b[0mname\u001b[0m\u001b[1;33m=\u001b[0m\u001b[0mindexer\u001b[0m\u001b[1;33m)\u001b[0m\u001b[1;33m\u001b[0m\u001b[1;33m\u001b[0m\u001b[0m\n\u001b[0;32m   1921\u001b[0m \u001b[1;33m\u001b[0m\u001b[0m\n\u001b[1;32m-> 1922\u001b[1;33m             \u001b[0mself\u001b[0m\u001b[1;33m.\u001b[0m\u001b[0mobj\u001b[0m\u001b[1;33m.\u001b[0m\u001b[0m_mgr\u001b[0m \u001b[1;33m=\u001b[0m \u001b[0mself\u001b[0m\u001b[1;33m.\u001b[0m\u001b[0mobj\u001b[0m\u001b[1;33m.\u001b[0m\u001b[0mappend\u001b[0m\u001b[1;33m(\u001b[0m\u001b[0mvalue\u001b[0m\u001b[1;33m)\u001b[0m\u001b[1;33m.\u001b[0m\u001b[0m_mgr\u001b[0m\u001b[1;33m\u001b[0m\u001b[1;33m\u001b[0m\u001b[0m\n\u001b[0m\u001b[0;32m   1923\u001b[0m             \u001b[0mself\u001b[0m\u001b[1;33m.\u001b[0m\u001b[0mobj\u001b[0m\u001b[1;33m.\u001b[0m\u001b[0m_maybe_update_cacher\u001b[0m\u001b[1;33m(\u001b[0m\u001b[0mclear\u001b[0m\u001b[1;33m=\u001b[0m\u001b[1;32mTrue\u001b[0m\u001b[1;33m)\u001b[0m\u001b[1;33m\u001b[0m\u001b[1;33m\u001b[0m\u001b[0m\n\u001b[0;32m   1924\u001b[0m \u001b[1;33m\u001b[0m\u001b[0m\n",
      "\u001b[1;32m~\\anaconda3\\lib\\site-packages\\pandas\\core\\frame.py\u001b[0m in \u001b[0;36mappend\u001b[1;34m(self, other, ignore_index, verify_integrity, sort)\u001b[0m\n\u001b[0;32m   7980\u001b[0m             \u001b[0mto_concat\u001b[0m \u001b[1;33m=\u001b[0m \u001b[1;33m[\u001b[0m\u001b[0mself\u001b[0m\u001b[1;33m,\u001b[0m \u001b[0mother\u001b[0m\u001b[1;33m]\u001b[0m\u001b[1;33m\u001b[0m\u001b[1;33m\u001b[0m\u001b[0m\n\u001b[0;32m   7981\u001b[0m         return (\n\u001b[1;32m-> 7982\u001b[1;33m             concat(\n\u001b[0m\u001b[0;32m   7983\u001b[0m                 \u001b[0mto_concat\u001b[0m\u001b[1;33m,\u001b[0m\u001b[1;33m\u001b[0m\u001b[1;33m\u001b[0m\u001b[0m\n\u001b[0;32m   7984\u001b[0m                 \u001b[0mignore_index\u001b[0m\u001b[1;33m=\u001b[0m\u001b[0mignore_index\u001b[0m\u001b[1;33m,\u001b[0m\u001b[1;33m\u001b[0m\u001b[1;33m\u001b[0m\u001b[0m\n",
      "\u001b[1;32m~\\anaconda3\\lib\\site-packages\\pandas\\core\\reshape\\concat.py\u001b[0m in \u001b[0;36mconcat\u001b[1;34m(objs, axis, join, ignore_index, keys, levels, names, verify_integrity, sort, copy)\u001b[0m\n\u001b[0;32m    283\u001b[0m     \u001b[0mValueError\u001b[0m\u001b[1;33m:\u001b[0m \u001b[0mIndexes\u001b[0m \u001b[0mhave\u001b[0m \u001b[0moverlapping\u001b[0m \u001b[0mvalues\u001b[0m\u001b[1;33m:\u001b[0m \u001b[1;33m[\u001b[0m\u001b[1;34m'a'\u001b[0m\u001b[1;33m]\u001b[0m\u001b[1;33m\u001b[0m\u001b[1;33m\u001b[0m\u001b[0m\n\u001b[0;32m    284\u001b[0m     \"\"\"\n\u001b[1;32m--> 285\u001b[1;33m     op = _Concatenator(\n\u001b[0m\u001b[0;32m    286\u001b[0m         \u001b[0mobjs\u001b[0m\u001b[1;33m,\u001b[0m\u001b[1;33m\u001b[0m\u001b[1;33m\u001b[0m\u001b[0m\n\u001b[0;32m    287\u001b[0m         \u001b[0maxis\u001b[0m\u001b[1;33m=\u001b[0m\u001b[0maxis\u001b[0m\u001b[1;33m,\u001b[0m\u001b[1;33m\u001b[0m\u001b[1;33m\u001b[0m\u001b[0m\n",
      "\u001b[1;32m~\\anaconda3\\lib\\site-packages\\pandas\\core\\reshape\\concat.py\u001b[0m in \u001b[0;36m__init__\u001b[1;34m(self, objs, axis, join, keys, levels, names, ignore_index, verify_integrity, copy, sort)\u001b[0m\n\u001b[0;32m    465\u001b[0m         \u001b[0mself\u001b[0m\u001b[1;33m.\u001b[0m\u001b[0mcopy\u001b[0m \u001b[1;33m=\u001b[0m \u001b[0mcopy\u001b[0m\u001b[1;33m\u001b[0m\u001b[1;33m\u001b[0m\u001b[0m\n\u001b[0;32m    466\u001b[0m \u001b[1;33m\u001b[0m\u001b[0m\n\u001b[1;32m--> 467\u001b[1;33m         \u001b[0mself\u001b[0m\u001b[1;33m.\u001b[0m\u001b[0mnew_axes\u001b[0m \u001b[1;33m=\u001b[0m \u001b[0mself\u001b[0m\u001b[1;33m.\u001b[0m\u001b[0m_get_new_axes\u001b[0m\u001b[1;33m(\u001b[0m\u001b[1;33m)\u001b[0m\u001b[1;33m\u001b[0m\u001b[1;33m\u001b[0m\u001b[0m\n\u001b[0m\u001b[0;32m    468\u001b[0m \u001b[1;33m\u001b[0m\u001b[0m\n\u001b[0;32m    469\u001b[0m     \u001b[1;32mdef\u001b[0m \u001b[0mget_result\u001b[0m\u001b[1;33m(\u001b[0m\u001b[0mself\u001b[0m\u001b[1;33m)\u001b[0m\u001b[1;33m:\u001b[0m\u001b[1;33m\u001b[0m\u001b[1;33m\u001b[0m\u001b[0m\n",
      "\u001b[1;32m~\\anaconda3\\lib\\site-packages\\pandas\\core\\reshape\\concat.py\u001b[0m in \u001b[0;36m_get_new_axes\u001b[1;34m(self)\u001b[0m\n\u001b[0;32m    535\u001b[0m     \u001b[1;32mdef\u001b[0m \u001b[0m_get_new_axes\u001b[0m\u001b[1;33m(\u001b[0m\u001b[0mself\u001b[0m\u001b[1;33m)\u001b[0m \u001b[1;33m->\u001b[0m \u001b[0mList\u001b[0m\u001b[1;33m[\u001b[0m\u001b[0mIndex\u001b[0m\u001b[1;33m]\u001b[0m\u001b[1;33m:\u001b[0m\u001b[1;33m\u001b[0m\u001b[1;33m\u001b[0m\u001b[0m\n\u001b[0;32m    536\u001b[0m         \u001b[0mndim\u001b[0m \u001b[1;33m=\u001b[0m \u001b[0mself\u001b[0m\u001b[1;33m.\u001b[0m\u001b[0m_get_result_dim\u001b[0m\u001b[1;33m(\u001b[0m\u001b[1;33m)\u001b[0m\u001b[1;33m\u001b[0m\u001b[1;33m\u001b[0m\u001b[0m\n\u001b[1;32m--> 537\u001b[1;33m         return [\n\u001b[0m\u001b[0;32m    538\u001b[0m             \u001b[0mself\u001b[0m\u001b[1;33m.\u001b[0m\u001b[0m_get_concat_axis\u001b[0m\u001b[1;33m(\u001b[0m\u001b[1;33m)\u001b[0m \u001b[1;32mif\u001b[0m \u001b[0mi\u001b[0m \u001b[1;33m==\u001b[0m \u001b[0mself\u001b[0m\u001b[1;33m.\u001b[0m\u001b[0mbm_axis\u001b[0m \u001b[1;32melse\u001b[0m \u001b[0mself\u001b[0m\u001b[1;33m.\u001b[0m\u001b[0m_get_comb_axis\u001b[0m\u001b[1;33m(\u001b[0m\u001b[0mi\u001b[0m\u001b[1;33m)\u001b[0m\u001b[1;33m\u001b[0m\u001b[1;33m\u001b[0m\u001b[0m\n\u001b[0;32m    539\u001b[0m             \u001b[1;32mfor\u001b[0m \u001b[0mi\u001b[0m \u001b[1;32min\u001b[0m \u001b[0mrange\u001b[0m\u001b[1;33m(\u001b[0m\u001b[0mndim\u001b[0m\u001b[1;33m)\u001b[0m\u001b[1;33m\u001b[0m\u001b[1;33m\u001b[0m\u001b[0m\n",
      "\u001b[1;32m~\\anaconda3\\lib\\site-packages\\pandas\\core\\reshape\\concat.py\u001b[0m in \u001b[0;36m<listcomp>\u001b[1;34m(.0)\u001b[0m\n\u001b[0;32m    536\u001b[0m         \u001b[0mndim\u001b[0m \u001b[1;33m=\u001b[0m \u001b[0mself\u001b[0m\u001b[1;33m.\u001b[0m\u001b[0m_get_result_dim\u001b[0m\u001b[1;33m(\u001b[0m\u001b[1;33m)\u001b[0m\u001b[1;33m\u001b[0m\u001b[1;33m\u001b[0m\u001b[0m\n\u001b[0;32m    537\u001b[0m         return [\n\u001b[1;32m--> 538\u001b[1;33m             \u001b[0mself\u001b[0m\u001b[1;33m.\u001b[0m\u001b[0m_get_concat_axis\u001b[0m\u001b[1;33m(\u001b[0m\u001b[1;33m)\u001b[0m \u001b[1;32mif\u001b[0m \u001b[0mi\u001b[0m \u001b[1;33m==\u001b[0m \u001b[0mself\u001b[0m\u001b[1;33m.\u001b[0m\u001b[0mbm_axis\u001b[0m \u001b[1;32melse\u001b[0m \u001b[0mself\u001b[0m\u001b[1;33m.\u001b[0m\u001b[0m_get_comb_axis\u001b[0m\u001b[1;33m(\u001b[0m\u001b[0mi\u001b[0m\u001b[1;33m)\u001b[0m\u001b[1;33m\u001b[0m\u001b[1;33m\u001b[0m\u001b[0m\n\u001b[0m\u001b[0;32m    539\u001b[0m             \u001b[1;32mfor\u001b[0m \u001b[0mi\u001b[0m \u001b[1;32min\u001b[0m \u001b[0mrange\u001b[0m\u001b[1;33m(\u001b[0m\u001b[0mndim\u001b[0m\u001b[1;33m)\u001b[0m\u001b[1;33m\u001b[0m\u001b[1;33m\u001b[0m\u001b[0m\n\u001b[0;32m    540\u001b[0m         ]\n",
      "\u001b[1;32m~\\anaconda3\\lib\\site-packages\\pandas\\core\\reshape\\concat.py\u001b[0m in \u001b[0;36m_get_concat_axis\u001b[1;34m(self)\u001b[0m\n\u001b[0;32m    590\u001b[0m \u001b[1;33m\u001b[0m\u001b[0m\n\u001b[0;32m    591\u001b[0m         \u001b[1;32mif\u001b[0m \u001b[0mself\u001b[0m\u001b[1;33m.\u001b[0m\u001b[0mkeys\u001b[0m \u001b[1;32mis\u001b[0m \u001b[1;32mNone\u001b[0m\u001b[1;33m:\u001b[0m\u001b[1;33m\u001b[0m\u001b[1;33m\u001b[0m\u001b[0m\n\u001b[1;32m--> 592\u001b[1;33m             \u001b[0mconcat_axis\u001b[0m \u001b[1;33m=\u001b[0m \u001b[0m_concat_indexes\u001b[0m\u001b[1;33m(\u001b[0m\u001b[0mindexes\u001b[0m\u001b[1;33m)\u001b[0m\u001b[1;33m\u001b[0m\u001b[1;33m\u001b[0m\u001b[0m\n\u001b[0m\u001b[0;32m    593\u001b[0m         \u001b[1;32melse\u001b[0m\u001b[1;33m:\u001b[0m\u001b[1;33m\u001b[0m\u001b[1;33m\u001b[0m\u001b[0m\n\u001b[0;32m    594\u001b[0m             concat_axis = _make_concat_multiindex(\n",
      "\u001b[1;32m~\\anaconda3\\lib\\site-packages\\pandas\\core\\reshape\\concat.py\u001b[0m in \u001b[0;36m_concat_indexes\u001b[1;34m(indexes)\u001b[0m\n\u001b[0;32m    608\u001b[0m \u001b[1;33m\u001b[0m\u001b[0m\n\u001b[0;32m    609\u001b[0m \u001b[1;32mdef\u001b[0m \u001b[0m_concat_indexes\u001b[0m\u001b[1;33m(\u001b[0m\u001b[0mindexes\u001b[0m\u001b[1;33m)\u001b[0m \u001b[1;33m->\u001b[0m \u001b[0mIndex\u001b[0m\u001b[1;33m:\u001b[0m\u001b[1;33m\u001b[0m\u001b[1;33m\u001b[0m\u001b[0m\n\u001b[1;32m--> 610\u001b[1;33m     \u001b[1;32mreturn\u001b[0m \u001b[0mindexes\u001b[0m\u001b[1;33m[\u001b[0m\u001b[1;36m0\u001b[0m\u001b[1;33m]\u001b[0m\u001b[1;33m.\u001b[0m\u001b[0mappend\u001b[0m\u001b[1;33m(\u001b[0m\u001b[0mindexes\u001b[0m\u001b[1;33m[\u001b[0m\u001b[1;36m1\u001b[0m\u001b[1;33m:\u001b[0m\u001b[1;33m]\u001b[0m\u001b[1;33m)\u001b[0m\u001b[1;33m\u001b[0m\u001b[1;33m\u001b[0m\u001b[0m\n\u001b[0m\u001b[0;32m    611\u001b[0m \u001b[1;33m\u001b[0m\u001b[0m\n\u001b[0;32m    612\u001b[0m \u001b[1;33m\u001b[0m\u001b[0m\n",
      "\u001b[1;32m~\\anaconda3\\lib\\site-packages\\pandas\\core\\indexes\\base.py\u001b[0m in \u001b[0;36mappend\u001b[1;34m(self, other)\u001b[0m\n\u001b[0;32m   4354\u001b[0m         \u001b[0mname\u001b[0m \u001b[1;33m=\u001b[0m \u001b[1;32mNone\u001b[0m \u001b[1;32mif\u001b[0m \u001b[0mlen\u001b[0m\u001b[1;33m(\u001b[0m\u001b[0mnames\u001b[0m\u001b[1;33m)\u001b[0m \u001b[1;33m>\u001b[0m \u001b[1;36m1\u001b[0m \u001b[1;32melse\u001b[0m \u001b[0mself\u001b[0m\u001b[1;33m.\u001b[0m\u001b[0mname\u001b[0m\u001b[1;33m\u001b[0m\u001b[1;33m\u001b[0m\u001b[0m\n\u001b[0;32m   4355\u001b[0m \u001b[1;33m\u001b[0m\u001b[0m\n\u001b[1;32m-> 4356\u001b[1;33m         \u001b[1;32mreturn\u001b[0m \u001b[0mself\u001b[0m\u001b[1;33m.\u001b[0m\u001b[0m_concat\u001b[0m\u001b[1;33m(\u001b[0m\u001b[0mto_concat\u001b[0m\u001b[1;33m,\u001b[0m \u001b[0mname\u001b[0m\u001b[1;33m)\u001b[0m\u001b[1;33m\u001b[0m\u001b[1;33m\u001b[0m\u001b[0m\n\u001b[0m\u001b[0;32m   4357\u001b[0m \u001b[1;33m\u001b[0m\u001b[0m\n\u001b[0;32m   4358\u001b[0m     \u001b[1;32mdef\u001b[0m \u001b[0m_concat\u001b[0m\u001b[1;33m(\u001b[0m\u001b[0mself\u001b[0m\u001b[1;33m,\u001b[0m \u001b[0mto_concat\u001b[0m\u001b[1;33m:\u001b[0m \u001b[0mList\u001b[0m\u001b[1;33m[\u001b[0m\u001b[1;34m\"Index\"\u001b[0m\u001b[1;33m]\u001b[0m\u001b[1;33m,\u001b[0m \u001b[0mname\u001b[0m\u001b[1;33m:\u001b[0m \u001b[0mLabel\u001b[0m\u001b[1;33m)\u001b[0m \u001b[1;33m->\u001b[0m \u001b[1;34m\"Index\"\u001b[0m\u001b[1;33m:\u001b[0m\u001b[1;33m\u001b[0m\u001b[1;33m\u001b[0m\u001b[0m\n",
      "\u001b[1;32m~\\anaconda3\\lib\\site-packages\\pandas\\core\\indexes\\base.py\u001b[0m in \u001b[0;36m_concat\u001b[1;34m(self, to_concat, name)\u001b[0m\n\u001b[0;32m   4362\u001b[0m         \u001b[0mto_concat_vals\u001b[0m \u001b[1;33m=\u001b[0m \u001b[1;33m[\u001b[0m\u001b[0mx\u001b[0m\u001b[1;33m.\u001b[0m\u001b[0m_values\u001b[0m \u001b[1;32mfor\u001b[0m \u001b[0mx\u001b[0m \u001b[1;32min\u001b[0m \u001b[0mto_concat\u001b[0m\u001b[1;33m]\u001b[0m\u001b[1;33m\u001b[0m\u001b[1;33m\u001b[0m\u001b[0m\n\u001b[0;32m   4363\u001b[0m \u001b[1;33m\u001b[0m\u001b[0m\n\u001b[1;32m-> 4364\u001b[1;33m         \u001b[0mresult\u001b[0m \u001b[1;33m=\u001b[0m \u001b[0mconcat_compat\u001b[0m\u001b[1;33m(\u001b[0m\u001b[0mto_concat_vals\u001b[0m\u001b[1;33m)\u001b[0m\u001b[1;33m\u001b[0m\u001b[1;33m\u001b[0m\u001b[0m\n\u001b[0m\u001b[0;32m   4365\u001b[0m         \u001b[1;32mreturn\u001b[0m \u001b[0mIndex\u001b[0m\u001b[1;33m(\u001b[0m\u001b[0mresult\u001b[0m\u001b[1;33m,\u001b[0m \u001b[0mname\u001b[0m\u001b[1;33m=\u001b[0m\u001b[0mname\u001b[0m\u001b[1;33m)\u001b[0m\u001b[1;33m\u001b[0m\u001b[1;33m\u001b[0m\u001b[0m\n\u001b[0;32m   4366\u001b[0m \u001b[1;33m\u001b[0m\u001b[0m\n",
      "\u001b[1;32m~\\anaconda3\\lib\\site-packages\\pandas\\core\\dtypes\\concat.py\u001b[0m in \u001b[0;36mconcat_compat\u001b[1;34m(to_concat, axis)\u001b[0m\n\u001b[0;32m    169\u001b[0m                 \u001b[0mto_concat\u001b[0m \u001b[1;33m=\u001b[0m \u001b[1;33m[\u001b[0m\u001b[0mx\u001b[0m\u001b[1;33m.\u001b[0m\u001b[0mastype\u001b[0m\u001b[1;33m(\u001b[0m\u001b[1;34m\"object\"\u001b[0m\u001b[1;33m)\u001b[0m \u001b[1;32mfor\u001b[0m \u001b[0mx\u001b[0m \u001b[1;32min\u001b[0m \u001b[0mto_concat\u001b[0m\u001b[1;33m]\u001b[0m\u001b[1;33m\u001b[0m\u001b[1;33m\u001b[0m\u001b[0m\n\u001b[0;32m    170\u001b[0m \u001b[1;33m\u001b[0m\u001b[0m\n\u001b[1;32m--> 171\u001b[1;33m     \u001b[1;32mreturn\u001b[0m \u001b[0mnp\u001b[0m\u001b[1;33m.\u001b[0m\u001b[0mconcatenate\u001b[0m\u001b[1;33m(\u001b[0m\u001b[0mto_concat\u001b[0m\u001b[1;33m,\u001b[0m \u001b[0maxis\u001b[0m\u001b[1;33m=\u001b[0m\u001b[0maxis\u001b[0m\u001b[1;33m)\u001b[0m\u001b[1;33m\u001b[0m\u001b[1;33m\u001b[0m\u001b[0m\n\u001b[0m\u001b[0;32m    172\u001b[0m \u001b[1;33m\u001b[0m\u001b[0m\n\u001b[0;32m    173\u001b[0m \u001b[1;33m\u001b[0m\u001b[0m\n",
      "\u001b[1;32m<__array_function__ internals>\u001b[0m in \u001b[0;36mconcatenate\u001b[1;34m(*args, **kwargs)\u001b[0m\n",
      "\u001b[1;31mKeyboardInterrupt\u001b[0m: "
     ]
    }
   ],
   "source": [
    "full_similarity_table = save_full_sims(cor,movie_categories)\n",
    "print(full_similarity_table)"
   ]
  },
  {
   "cell_type": "code",
   "execution_count": null,
   "id": "a7a9a37c",
   "metadata": {},
   "outputs": [],
   "source": [
    "full_similarity_table.to_csv('full_similarity_table_associations.csv',index=False)"
   ]
  },
  {
   "cell_type": "code",
   "execution_count": 13,
   "id": "61dfc05a",
   "metadata": {},
   "outputs": [
    {
     "name": "stdout",
     "output_type": "stream",
     "text": [
      "[[1.         0.31627907 0.         ... 0.         0.         0.        ]\n",
      " [0.31627907 1.         0.23636364 ... 0.         0.         0.        ]\n",
      " [0.         0.23636364 1.         ... 0.         0.         0.        ]\n",
      " ...\n",
      " [0.         0.         0.         ... 0.         0.         0.        ]\n",
      " [0.         0.         0.         ... 0.         0.         0.        ]\n",
      " [0.         0.         0.         ... 0.         0.         0.        ]]\n"
     ]
    }
   ],
   "source": [
    "min_sim=0.2\n",
    "# Отбрасываем элементы с низким сходством (-1 фильмы совершенно непохожи, 1 фильмы одинаковы)\n",
    "cor = cor.multiply(cor > min_sim)\n",
    "cor = cor.multiply(overlap_matrix > min_overlap)\n",
    "print(cor.toarray())"
   ]
  },
  {
   "cell_type": "code",
   "execution_count": 18,
   "id": "f29bc19c",
   "metadata": {},
   "outputs": [
    {
     "data": {
      "text/plain": [
       "238242"
      ]
     },
     "execution_count": 18,
     "metadata": {},
     "output_type": "execute_result"
    }
   ],
   "source": [
    "np.count_nonzero(cor.toarray() > 0.5)"
   ]
  },
  {
   "cell_type": "code",
   "execution_count": 19,
   "id": "551525a6",
   "metadata": {},
   "outputs": [],
   "source": [
    "# movie_categories"
   ]
  },
  {
   "cell_type": "code",
   "execution_count": 22,
   "id": "5ae32f10",
   "metadata": {},
   "outputs": [],
   "source": [
    "def save_sims(cor,movies_categories):\n",
    "    coo = coo_matrix(cor)\n",
    "    csr = coo.tocsr()\n",
    "    \n",
    "    no_saved = 0\n",
    "    min_sim=0.2\n",
    "    xs, ys = coo.nonzero()\n",
    "    print(xs.shape)\n",
    "\n",
    "    columns = ['source_id', 'target_id', 'similarity']\n",
    "    M = pd.DataFrame([],columns=columns)\n",
    "\n",
    "    for x, y in tqdm(zip(xs, ys)):\n",
    "    #     x это первый элемент кортежа, y второй; x,y это id строк описаний между которыми вычисляется сходство\n",
    "    \n",
    "    # нет смысл сравнить строку описания с самой собой это вернёт 1 или близко к этому\n",
    "        if x == y:\n",
    "            continue\n",
    "        sim = float(csr[x, y])\n",
    "        if sim < min_sim:\n",
    "            continue\n",
    "        M.loc[M.shape[0]] = [int(movies_categories[x]),int(movies_categories[y]),sim]\n",
    "       \n",
    "        no_saved += 1\n",
    "   \n",
    "    M['source_id'] =  M['source_id'].astype(int)\n",
    "    M['target_id'] =  M['target_id'].astype(int)\n",
    "    return M"
   ]
  },
  {
   "cell_type": "code",
   "execution_count": null,
   "id": "de35ab9a",
   "metadata": {},
   "outputs": [],
   "source": []
  },
  {
   "cell_type": "code",
   "execution_count": 23,
   "id": "60cfff29",
   "metadata": {},
   "outputs": [
    {
     "name": "stderr",
     "output_type": "stream",
     "text": [
      "1180it [00:00, 11710.64it/s]"
     ]
    },
    {
     "name": "stdout",
     "output_type": "stream",
     "text": [
      "(1300618,)\n"
     ]
    },
    {
     "name": "stderr",
     "output_type": "stream",
     "text": [
      "1300618it [26:08, 829.09it/s] "
     ]
    },
    {
     "name": "stdout",
     "output_type": "stream",
     "text": [
      "        source_id  target_id  similarity\n",
      "0               1        110    0.544186\n",
      "1               1        150    0.516279\n",
      "2               1        260    0.623256\n",
      "3               1        296    0.651163\n",
      "4               1        318    0.632558\n",
      "...           ...        ...         ...\n",
      "309333     193585       3568         NaN\n",
      "309334     193587       2820         NaN\n",
      "309335     193587       3568         NaN\n",
      "309336     193609       2820         NaN\n",
      "309337     193609       3568         NaN\n",
      "\n",
      "[309338 rows x 3 columns]\n"
     ]
    },
    {
     "name": "stderr",
     "output_type": "stream",
     "text": [
      "\n"
     ]
    }
   ],
   "source": [
    "similarity_table = save_sims(cor,movie_categories)\n",
    "print(similarity_table)"
   ]
  },
  {
   "cell_type": "code",
   "execution_count": 24,
   "id": "007371b9",
   "metadata": {},
   "outputs": [],
   "source": [
    "similarity_table.to_csv('similarity_table_associations.csv',index=False)\n"
   ]
  },
  {
   "cell_type": "code",
   "execution_count": 25,
   "id": "595e8748",
   "metadata": {},
   "outputs": [],
   "source": [
    "#онлайн часть"
   ]
  },
  {
   "cell_type": "code",
   "execution_count": 26,
   "id": "f28c27b1",
   "metadata": {},
   "outputs": [
    {
     "name": "stdout",
     "output_type": "stream",
     "text": [
      "        source_id  target_id  similarity\n",
      "0               1        110    0.544186\n",
      "1               1        150    0.516279\n",
      "2               1        260    0.623256\n",
      "3               1        296    0.651163\n",
      "4               1        318    0.632558\n",
      "...           ...        ...         ...\n",
      "309333     193585       3568         NaN\n",
      "309334     193587       2820         NaN\n",
      "309335     193587       3568         NaN\n",
      "309336     193609       2820         NaN\n",
      "309337     193609       3568         NaN\n",
      "\n",
      "[309338 rows x 3 columns]\n"
     ]
    }
   ],
   "source": [
    "similarity_table = pd.read_csv(\"similarity_table_associations.csv\")\n",
    "print(similarity_table)"
   ]
  },
  {
   "cell_type": "code",
   "execution_count": 27,
   "id": "c7777ea6",
   "metadata": {},
   "outputs": [],
   "source": [
    "# получаем оценки текущего пользователя\n",
    "current_user_ratings  = users_ratings[users_ratings['userId']==1]"
   ]
  },
  {
   "cell_type": "code",
   "execution_count": 28,
   "id": "61283a7b",
   "metadata": {},
   "outputs": [
    {
     "name": "stdout",
     "output_type": "stream",
     "text": [
      "3.9482758620689653\n",
      "    userId  movieId  rating      mean\n",
      "0        1     8810     5.0  0.350575\n",
      "1        1     8663     5.0  0.350575\n",
      "2        1     8287     5.0  0.350575\n",
      "3        1     7679     5.0  0.350575\n",
      "4        1     6784     5.0  0.350575\n",
      "5        1     7419     5.0  0.350575\n",
      "6        1     1283     4.5  0.183908\n",
      "7        1     6693     4.5  0.183908\n",
      "8        1     6993     4.5  0.183908\n",
      "9        1     7398     4.5  0.183908\n",
      "10       1      291     4.0  0.017241\n",
      "11       1     8448     4.0  0.017241\n",
      "12       1     7572     4.0  0.017241\n",
      "13       1     7355     4.0  0.017241\n",
      "14       1     7241     4.0  0.017241\n",
      "15       1     6298     4.0  0.017241\n",
      "16       1     6236     4.0  0.017241\n",
      "17       1     4607     4.0  0.017241\n",
      "18       1     2670     4.0  0.017241\n",
      "19       1     7750     3.5 -0.149425\n",
      "20       1     8045     3.5 -0.149425\n",
      "21       1     5294     3.5 -0.149425\n",
      "22       1     8532     3.5 -0.149425\n",
      "23       1     7306     3.0 -0.316092\n",
      "24       1     7137     3.0 -0.316092\n",
      "25       1     8358     3.0 -0.316092\n",
      "26       1      277     3.0 -0.316092\n",
      "27       1     7758     2.5 -0.482759\n",
      "28       1     8491     2.0 -0.649425\n"
     ]
    },
    {
     "name": "stderr",
     "output_type": "stream",
     "text": [
      "<ipython-input-28-7dec9e58f173>:4: SettingWithCopyWarning: \n",
      "A value is trying to be set on a copy of a slice from a DataFrame\n",
      "\n",
      "See the caveats in the documentation: https://pandas.pydata.org/pandas-docs/stable/user_guide/indexing.html#returning-a-view-versus-a-copy\n",
      "  current_user_ratings.sort_values(['rating'], ascending=[0],inplace=True)\n"
     ]
    }
   ],
   "source": [
    "current_user_mean = current_user_ratings['rating'].mean()\n",
    "print(current_user_mean)\n",
    "# сортируем оценки по самым высоким\n",
    "current_user_ratings.sort_values(['rating'], ascending=[0],inplace=True)\n",
    "current_user_ratings.reset_index(drop=True, inplace=True)\n",
    "print(current_user_ratings)"
   ]
  },
  {
   "cell_type": "code",
   "execution_count": null,
   "id": "8cdc36f9",
   "metadata": {},
   "outputs": [],
   "source": []
  },
  {
   "cell_type": "code",
   "execution_count": 29,
   "id": "d82de71e",
   "metadata": {},
   "outputs": [
    {
     "name": "stdout",
     "output_type": "stream",
     "text": [
      "    source_id  target_id  similarity\n",
      "0        7137       8665    0.900000\n",
      "1        8810      34048    0.882353\n",
      "2        7419      46578    0.857143\n",
      "3        7419      48774    0.857143\n",
      "4        7419      33794    0.857143\n",
      "5        6993       4546    0.833333\n",
      "6         277        191    0.833333\n",
      "7        8810       7376    0.833333\n",
      "8        6993       4211    0.833333\n",
      "9        8810      44191    0.823529\n",
      "10       8810       8874    0.823529\n",
      "11       8810      48780    0.823529\n",
      "12       8810      51255    0.823529\n",
      "13       8810      51662    0.823529\n",
      "14       8810      33794    0.823529\n",
      "15       5294       8874    0.818182\n",
      "16       5294       5445    0.818182\n",
      "17       5294       6874    0.818182\n",
      "18       7137       8874    0.800000\n",
      "19       7137      48516    0.800000\n",
      "20       7137       8798    0.800000\n",
      "21       7137       7143    0.800000\n",
      "22       7137       7153    0.800000\n",
      "23       1283       1387    0.789474\n",
      "24       1283       2762    0.789474\n",
      "25       1283       2858    0.789474\n",
      "26        277        356    0.789474\n",
      "27       1283       2571    0.789474\n",
      "28       6993      46578    0.769231\n",
      "29       8810      33493    0.764706\n"
     ]
    }
   ],
   "source": [
    "# получаем только те фильмы которые оцнены текущим пользователем и находятся в таблице сходств\n",
    "in_source=similarity_table['source_id'].isin(current_user_ratings['movieId']) \n",
    "# Исключаем из таблице сходств уже оцененные фильмы пользователи (не нужно рекомендовать, то, что уже было просмотренно)\n",
    "not_in_target=~similarity_table['target_id'].isin(current_user_ratings['movieId'])\n",
    "\n",
    "# Получаем таблиц сходств для текущего пользователя\n",
    "top_by_sims = similarity_table.loc[in_source &  not_in_target].sort_values(['similarity'], ascending=[0])[:30]\n",
    "top_by_sims.reset_index(drop=True, inplace=True)\n",
    "print(top_by_sims)"
   ]
  },
  {
   "cell_type": "code",
   "execution_count": 30,
   "id": "5ebb7806",
   "metadata": {},
   "outputs": [
    {
     "name": "stdout",
     "output_type": "stream",
     "text": [
      "   target_id  prediction          sim_movies\n",
      "0      33493    5.000000              [8810]\n",
      "1       7376    5.000000              [8810]\n",
      "2      34048    5.000000              [8810]\n",
      "3      33794    5.000000        [7419, 8810]\n",
      "4      51662    5.000000              [8810]\n",
      "5      51255    5.000000              [8810]\n",
      "6      48780    5.000000              [8810]\n",
      "7      44191    5.000000              [8810]\n",
      "8      33794    5.000000        [7419, 8810]\n",
      "9      48774    5.000000              [7419]\n",
      "10     46578    4.763514        [7419, 6993]\n",
      "11     46578    4.763514        [7419, 6993]\n",
      "12      4211    4.500000              [6993]\n",
      "13      1387    4.500000              [1283]\n",
      "14      2571    4.500000              [1283]\n",
      "15      4546    4.500000              [6993]\n",
      "16      2858    4.500000              [1283]\n",
      "17      2762    4.500000              [1283]\n",
      "18      8874    3.842094  [8810, 5294, 7137]\n",
      "19      8874    3.842094  [8810, 5294, 7137]\n",
      "20      8874    3.842094  [8810, 5294, 7137]\n",
      "21      6874    3.500000              [5294]\n",
      "22      5445    3.500000              [5294]\n",
      "23     48516    3.000000              [7137]\n",
      "24      8798    3.000000              [7137]\n",
      "25      7143    3.000000              [7137]\n",
      "26      7153    3.000000              [7137]\n",
      "27       356    3.000000               [277]\n",
      "28       191    3.000000               [277]\n",
      "29      8665    3.000000              [7137]\n"
     ]
    }
   ],
   "source": [
    "columns = ['target_id', 'prediction', 'sim_movies']\n",
    "recs = pd.DataFrame([],columns=columns)\n",
    "targets = top_by_sims['target_id']\n",
    "\n",
    "for target_row in targets:\n",
    "    pre = 0\n",
    "    sim_sum = 0\n",
    "\n",
    "    rated_items = top_by_sims[top_by_sims['target_id']==target_row]\n",
    "\n",
    "    if len(rated_items) > 0:\n",
    "        for index, sim_item in rated_items.iterrows():\n",
    "#             получаем оценку пользователя для фильма\n",
    "            user_rating = current_user_ratings[current_user_ratings['movieId']==sim_item['source_id']].iloc[0]['rating']\n",
    "#         вычитаем из оценки среднюю для пользователя\n",
    "            r = user_rating- current_user_mean\n",
    "#     умножаем схожесть на оценку\n",
    "            pre += sim_item.similarity * r\n",
    "            sim_sum += sim_item.similarity\n",
    "        if sim_sum > 0:\n",
    "# формируем прогноз\n",
    "            recs.loc[recs.shape[0]] = [target_row,current_user_mean + pre/sim_sum,rated_items['source_id'].values]\n",
    "\n",
    "recs.sort_values(['prediction'], ascending=[0],inplace=True)\n",
    "recs.reset_index(drop=True, inplace=True)\n",
    "print(recs)\n"
   ]
  },
  {
   "cell_type": "code",
   "execution_count": 31,
   "id": "73e9bc3a",
   "metadata": {},
   "outputs": [],
   "source": [
    "def get_recs(userId, n=30):\n",
    "    current_user_ratings  = users_ratings[users_ratings['userId']==userId]\n",
    "    \n",
    "    current_user_mean = current_user_ratings['rating'].mean()\n",
    "\n",
    "    # сортируем оценки по самым высоким\n",
    "    current_user_ratings.sort_values(['rating'], ascending=[0],inplace=True)\n",
    "    current_user_ratings.reset_index(drop=True, inplace=True)\n",
    "    \n",
    "    # получаем только те фильмы которые оцнены текущим пользователем и находятся в таблице сходств\n",
    "    in_source=similarity_table['source_id'].isin(current_user_ratings['movieId']) \n",
    "    # Исключаем из таблице сходств уже оцененные фильмы пользователи (не нужно рекомендовать, то, что уже было просмотренно)\n",
    "    not_in_target=~similarity_table['target_id'].isin(current_user_ratings['movieId'])\n",
    "\n",
    "    # Получаем таблиц сходств для текущего пользователя\n",
    "    top_by_sims = similarity_table.loc[in_source &  not_in_target].sort_values(['similarity'], ascending=[0])[:n]\n",
    "    top_by_sims.reset_index(drop=True, inplace=True)\n",
    "    \n",
    "    columns = ['target_id', 'prediction', 'sim_movies']\n",
    "    recs = pd.DataFrame([],columns=columns)\n",
    "    targets = top_by_sims['target_id']\n",
    "\n",
    "    for target_row in targets:\n",
    "        pre = 0\n",
    "        sim_sum = 0\n",
    "\n",
    "        rated_items = top_by_sims[top_by_sims['target_id']==target_row]\n",
    "\n",
    "        if len(rated_items) > 0:\n",
    "            for index, sim_item in rated_items.iterrows():\n",
    "    #             получаем оценку пользователя для фильма\n",
    "                user_rating = current_user_ratings[current_user_ratings['movieId']==sim_item['source_id']].iloc[0]['rating']\n",
    "    #         вычитаем из оценки среднюю для пользователя\n",
    "                r = user_rating- current_user_mean\n",
    "    #     умножаем схожесть на оценку\n",
    "                pre += sim_item.similarity * r\n",
    "                sim_sum += sim_item.similarity\n",
    "            if sim_sum > 0:\n",
    "    # формируем прогноз\n",
    "                recs.loc[recs.shape[0]] = [target_row,current_user_mean + pre/sim_sum,rated_items['source_id'].values]\n",
    "\n",
    "    recs.sort_values(['prediction'], ascending=[0],inplace=True)\n",
    "    recs.reset_index(drop=True, inplace=True)\n",
    "    \n",
    "    return recs\n",
    "    "
   ]
  },
  {
   "cell_type": "code",
   "execution_count": 32,
   "id": "5e5f4b8a",
   "metadata": {},
   "outputs": [
    {
     "name": "stderr",
     "output_type": "stream",
     "text": [
      "<ipython-input-31-e3105631a65a>:7: SettingWithCopyWarning: \n",
      "A value is trying to be set on a copy of a slice from a DataFrame\n",
      "\n",
      "See the caveats in the documentation: https://pandas.pydata.org/pandas-docs/stable/user_guide/indexing.html#returning-a-view-versus-a-copy\n",
      "  current_user_ratings.sort_values(['rating'], ascending=[0],inplace=True)\n"
     ]
    },
    {
     "data": {
      "text/html": [
       "<div>\n",
       "<style scoped>\n",
       "    .dataframe tbody tr th:only-of-type {\n",
       "        vertical-align: middle;\n",
       "    }\n",
       "\n",
       "    .dataframe tbody tr th {\n",
       "        vertical-align: top;\n",
       "    }\n",
       "\n",
       "    .dataframe thead th {\n",
       "        text-align: right;\n",
       "    }\n",
       "</style>\n",
       "<table border=\"1\" class=\"dataframe\">\n",
       "  <thead>\n",
       "    <tr style=\"text-align: right;\">\n",
       "      <th></th>\n",
       "      <th>target_id</th>\n",
       "      <th>prediction</th>\n",
       "      <th>sim_movies</th>\n",
       "    </tr>\n",
       "  </thead>\n",
       "  <tbody>\n",
       "    <tr>\n",
       "      <th>0</th>\n",
       "      <td>33493</td>\n",
       "      <td>5.000000</td>\n",
       "      <td>[8810]</td>\n",
       "    </tr>\n",
       "    <tr>\n",
       "      <th>1</th>\n",
       "      <td>7376</td>\n",
       "      <td>5.000000</td>\n",
       "      <td>[8810]</td>\n",
       "    </tr>\n",
       "    <tr>\n",
       "      <th>2</th>\n",
       "      <td>34048</td>\n",
       "      <td>5.000000</td>\n",
       "      <td>[8810]</td>\n",
       "    </tr>\n",
       "    <tr>\n",
       "      <th>3</th>\n",
       "      <td>33794</td>\n",
       "      <td>5.000000</td>\n",
       "      <td>[7419, 8810]</td>\n",
       "    </tr>\n",
       "    <tr>\n",
       "      <th>4</th>\n",
       "      <td>51662</td>\n",
       "      <td>5.000000</td>\n",
       "      <td>[8810]</td>\n",
       "    </tr>\n",
       "    <tr>\n",
       "      <th>5</th>\n",
       "      <td>51255</td>\n",
       "      <td>5.000000</td>\n",
       "      <td>[8810]</td>\n",
       "    </tr>\n",
       "    <tr>\n",
       "      <th>6</th>\n",
       "      <td>48780</td>\n",
       "      <td>5.000000</td>\n",
       "      <td>[8810]</td>\n",
       "    </tr>\n",
       "    <tr>\n",
       "      <th>7</th>\n",
       "      <td>44191</td>\n",
       "      <td>5.000000</td>\n",
       "      <td>[8810]</td>\n",
       "    </tr>\n",
       "    <tr>\n",
       "      <th>8</th>\n",
       "      <td>33794</td>\n",
       "      <td>5.000000</td>\n",
       "      <td>[7419, 8810]</td>\n",
       "    </tr>\n",
       "    <tr>\n",
       "      <th>9</th>\n",
       "      <td>48774</td>\n",
       "      <td>5.000000</td>\n",
       "      <td>[7419]</td>\n",
       "    </tr>\n",
       "    <tr>\n",
       "      <th>10</th>\n",
       "      <td>46578</td>\n",
       "      <td>4.763514</td>\n",
       "      <td>[7419, 6993]</td>\n",
       "    </tr>\n",
       "    <tr>\n",
       "      <th>11</th>\n",
       "      <td>46578</td>\n",
       "      <td>4.763514</td>\n",
       "      <td>[7419, 6993]</td>\n",
       "    </tr>\n",
       "    <tr>\n",
       "      <th>12</th>\n",
       "      <td>4211</td>\n",
       "      <td>4.500000</td>\n",
       "      <td>[6993]</td>\n",
       "    </tr>\n",
       "    <tr>\n",
       "      <th>13</th>\n",
       "      <td>1387</td>\n",
       "      <td>4.500000</td>\n",
       "      <td>[1283]</td>\n",
       "    </tr>\n",
       "    <tr>\n",
       "      <th>14</th>\n",
       "      <td>2571</td>\n",
       "      <td>4.500000</td>\n",
       "      <td>[1283]</td>\n",
       "    </tr>\n",
       "    <tr>\n",
       "      <th>15</th>\n",
       "      <td>4546</td>\n",
       "      <td>4.500000</td>\n",
       "      <td>[6993]</td>\n",
       "    </tr>\n",
       "    <tr>\n",
       "      <th>16</th>\n",
       "      <td>2858</td>\n",
       "      <td>4.500000</td>\n",
       "      <td>[1283]</td>\n",
       "    </tr>\n",
       "    <tr>\n",
       "      <th>17</th>\n",
       "      <td>2762</td>\n",
       "      <td>4.500000</td>\n",
       "      <td>[1283]</td>\n",
       "    </tr>\n",
       "    <tr>\n",
       "      <th>18</th>\n",
       "      <td>8874</td>\n",
       "      <td>3.842094</td>\n",
       "      <td>[8810, 5294, 7137]</td>\n",
       "    </tr>\n",
       "    <tr>\n",
       "      <th>19</th>\n",
       "      <td>8874</td>\n",
       "      <td>3.842094</td>\n",
       "      <td>[8810, 5294, 7137]</td>\n",
       "    </tr>\n",
       "    <tr>\n",
       "      <th>20</th>\n",
       "      <td>8874</td>\n",
       "      <td>3.842094</td>\n",
       "      <td>[8810, 5294, 7137]</td>\n",
       "    </tr>\n",
       "    <tr>\n",
       "      <th>21</th>\n",
       "      <td>6874</td>\n",
       "      <td>3.500000</td>\n",
       "      <td>[5294]</td>\n",
       "    </tr>\n",
       "    <tr>\n",
       "      <th>22</th>\n",
       "      <td>5445</td>\n",
       "      <td>3.500000</td>\n",
       "      <td>[5294]</td>\n",
       "    </tr>\n",
       "    <tr>\n",
       "      <th>23</th>\n",
       "      <td>48516</td>\n",
       "      <td>3.000000</td>\n",
       "      <td>[7137]</td>\n",
       "    </tr>\n",
       "    <tr>\n",
       "      <th>24</th>\n",
       "      <td>8798</td>\n",
       "      <td>3.000000</td>\n",
       "      <td>[7137]</td>\n",
       "    </tr>\n",
       "    <tr>\n",
       "      <th>25</th>\n",
       "      <td>7143</td>\n",
       "      <td>3.000000</td>\n",
       "      <td>[7137]</td>\n",
       "    </tr>\n",
       "    <tr>\n",
       "      <th>26</th>\n",
       "      <td>7153</td>\n",
       "      <td>3.000000</td>\n",
       "      <td>[7137]</td>\n",
       "    </tr>\n",
       "    <tr>\n",
       "      <th>27</th>\n",
       "      <td>356</td>\n",
       "      <td>3.000000</td>\n",
       "      <td>[277]</td>\n",
       "    </tr>\n",
       "    <tr>\n",
       "      <th>28</th>\n",
       "      <td>191</td>\n",
       "      <td>3.000000</td>\n",
       "      <td>[277]</td>\n",
       "    </tr>\n",
       "    <tr>\n",
       "      <th>29</th>\n",
       "      <td>8665</td>\n",
       "      <td>3.000000</td>\n",
       "      <td>[7137]</td>\n",
       "    </tr>\n",
       "  </tbody>\n",
       "</table>\n",
       "</div>"
      ],
      "text/plain": [
       "   target_id  prediction          sim_movies\n",
       "0      33493    5.000000              [8810]\n",
       "1       7376    5.000000              [8810]\n",
       "2      34048    5.000000              [8810]\n",
       "3      33794    5.000000        [7419, 8810]\n",
       "4      51662    5.000000              [8810]\n",
       "5      51255    5.000000              [8810]\n",
       "6      48780    5.000000              [8810]\n",
       "7      44191    5.000000              [8810]\n",
       "8      33794    5.000000        [7419, 8810]\n",
       "9      48774    5.000000              [7419]\n",
       "10     46578    4.763514        [7419, 6993]\n",
       "11     46578    4.763514        [7419, 6993]\n",
       "12      4211    4.500000              [6993]\n",
       "13      1387    4.500000              [1283]\n",
       "14      2571    4.500000              [1283]\n",
       "15      4546    4.500000              [6993]\n",
       "16      2858    4.500000              [1283]\n",
       "17      2762    4.500000              [1283]\n",
       "18      8874    3.842094  [8810, 5294, 7137]\n",
       "19      8874    3.842094  [8810, 5294, 7137]\n",
       "20      8874    3.842094  [8810, 5294, 7137]\n",
       "21      6874    3.500000              [5294]\n",
       "22      5445    3.500000              [5294]\n",
       "23     48516    3.000000              [7137]\n",
       "24      8798    3.000000              [7137]\n",
       "25      7143    3.000000              [7137]\n",
       "26      7153    3.000000              [7137]\n",
       "27       356    3.000000               [277]\n",
       "28       191    3.000000               [277]\n",
       "29      8665    3.000000              [7137]"
      ]
     },
     "execution_count": 32,
     "metadata": {},
     "output_type": "execute_result"
    }
   ],
   "source": [
    "get_recs(1, n=30)"
   ]
  },
  {
   "cell_type": "code",
   "execution_count": null,
   "id": "16d1b978",
   "metadata": {},
   "outputs": [],
   "source": []
  }
 ],
 "metadata": {
  "kernelspec": {
   "display_name": "Python 3",
   "language": "python",
   "name": "python3"
  },
  "language_info": {
   "codemirror_mode": {
    "name": "ipython",
    "version": 3
   },
   "file_extension": ".py",
   "mimetype": "text/x-python",
   "name": "python",
   "nbconvert_exporter": "python",
   "pygments_lexer": "ipython3",
   "version": "3.8.8"
  }
 },
 "nbformat": 4,
 "nbformat_minor": 5
}
