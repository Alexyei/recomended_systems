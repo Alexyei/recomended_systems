{
 "cells": [
  {
   "cell_type": "markdown",
   "id": "27222415",
   "metadata": {},
   "source": [
    "## Совместная фильтрация элемент-элемент\n",
    "1. Оффлайн часть\n",
    "1.1. Получаем оценки всех пользователей\n",
    "1.2. Нормализуем их (столбец mean)\n",
    "1.3. Заменяем id пользователей и фильмов на категории (например фильм с id 100111 получает категорию 0, фильм c id 100112 получает категорию 1 и так далее)\n",
    "1.4. Объединяем колонку mean, колонку категорий пользователей и колонку категорий фильм в разряженную матрицу coo\n",
    "1.5. Создаём матрицу перекрытия, чтобы исключить фильмы у которых мало оценок. Матрица перекрытия показывает сколько пользователей одновременно оценили фильм x и фильм y. \n",
    "1.6. Получаем матрицу сходства между фильмами, для вычисления сходство используется косиносовое сходство. cor = cosine_similarity\n",
    "1.7. В матрице сходства обнуляем ячейки у которых низкое сходство и укоторых маленькое перекрытие\n",
    "1.8. Из полученной матрице сходств формируем таблицу сходств фильмов (similarity_table), в которой категории фильмов заменены на их настоящие id \n",
    "2. Онлайн часть\n",
    "2.1. Получаем оценки текущего пользователя\n",
    "2.2. Сортируем оценки по самым высоким\n",
    "2.3. Вычисляем среднюю оценку пользователя (current_user_mean)\n",
    "2.4. Из таблицы сходств получаем только те фильмы которые оценены текущим пользователем\n",
    "2.5. Из таблицы сходств исключаем фильмы которые оценены текущим пользователем и находятся в колонки target_id. То есть мы не будем рекомендовать пользователю фильмы, которые он уже посмотрел.\n",
    "2.6. Вычисляем рекомендации для пользователя, и получаем таблицу вида: target_id; prediction;sim_movies;\n",
    "где target_id - id фильма рекомендуемого пользователю; prediction - ожидаемая оценка данному фильму; sim_movies- на основание каких фильмов оцененных пользователем ранее выдана данная рекомендация."
   ]
  },
  {
   "cell_type": "code",
   "execution_count": 136,
   "id": "8057f43d",
   "metadata": {},
   "outputs": [],
   "source": [
    "import requests\n",
    "import time\n",
    "import pandas as pd\n",
    "import surprise as surprise\n",
    "import numpy as np\n",
    "from decimal import Decimal\n",
    "from scipy.sparse import coo_matrix\n",
    "from scipy import sparse\n",
    "# косинусовое сходство\n",
    "from sklearn.metrics.pairwise import cosine_similarity"
   ]
  },
  {
   "cell_type": "code",
   "execution_count": 137,
   "id": "072b46d3",
   "metadata": {},
   "outputs": [],
   "source": [
    "users_ratings = pd.DataFrame([\n",
    "    [0,10,5.0],\n",
    "    [0,11,3.0],\n",
    "    [0,13,2.0],\n",
    "    [0,14,2.0],\n",
    "    [0,15,2.0],\n",
    "    \n",
    "    [1,10,4.0],\n",
    "    [1,11,3.0],\n",
    "    [1,12,4.0],\n",
    "    [1,14,3.0],\n",
    "    [1,15,3.0],\n",
    "    \n",
    "     [2,10,5.0],\n",
    "    [2,11,2.0],\n",
    "    [2,12,5.0],\n",
    "     [2,13,2.0],\n",
    "    [2,14,1.0],\n",
    "    [2,15,1.0],\n",
    "    \n",
    "      [3,10,3.0],\n",
    "    [3,11,5.0],\n",
    "    [3,12,3.0],\n",
    "    [3,14,1.0],\n",
    "    [3,15,1.0],\n",
    "    \n",
    "      [4,10,3.0],\n",
    "    [4,11,3.0],\n",
    "    [4,12,3.0],\n",
    "     [4,13,2.0],\n",
    "    [4,14,4.0],\n",
    "    [4,15,5.0],\n",
    "    \n",
    "      [5,10,2.0],\n",
    "    [5,11,3.0],\n",
    "    [5,12,2.0],\n",
    "     [5,13,3.0],\n",
    "    [5,14,5.0],\n",
    "    [5,15,5.0],\n",
    "],columns=['user_id','movie_id','rating'])"
   ]
  },
  {
   "cell_type": "code",
   "execution_count": 138,
   "id": "2f2abb76",
   "metadata": {},
   "outputs": [],
   "source": [
    "# Нормализуем оценки вычтя из оценки среднюю оценку пользователя\n",
    "def normalize(x):\n",
    "    x = x.astype(float)\n",
    "    x_sum = x.sum()\n",
    "    x_num = x.astype(bool).sum()\n",
    "    x_mean = x_sum / x_num\n",
    "\n",
    "    if x_num == 1 or x.std() == 0:\n",
    "        return 0.0\n",
    "    return (x - x_mean) / (x.max() - x.min())"
   ]
  },
  {
   "cell_type": "code",
   "execution_count": 139,
   "id": "c7664773",
   "metadata": {},
   "outputs": [
    {
     "data": {
      "text/html": [
       "<div>\n",
       "<style scoped>\n",
       "    .dataframe tbody tr th:only-of-type {\n",
       "        vertical-align: middle;\n",
       "    }\n",
       "\n",
       "    .dataframe tbody tr th {\n",
       "        vertical-align: top;\n",
       "    }\n",
       "\n",
       "    .dataframe thead th {\n",
       "        text-align: right;\n",
       "    }\n",
       "</style>\n",
       "<table border=\"1\" class=\"dataframe\">\n",
       "  <thead>\n",
       "    <tr style=\"text-align: right;\">\n",
       "      <th></th>\n",
       "      <th>user_id</th>\n",
       "      <th>movie_id</th>\n",
       "      <th>rating</th>\n",
       "      <th>mean</th>\n",
       "    </tr>\n",
       "  </thead>\n",
       "  <tbody>\n",
       "    <tr>\n",
       "      <th>0</th>\n",
       "      <td>0</td>\n",
       "      <td>10</td>\n",
       "      <td>5.0</td>\n",
       "      <td>0.733333</td>\n",
       "    </tr>\n",
       "    <tr>\n",
       "      <th>1</th>\n",
       "      <td>0</td>\n",
       "      <td>11</td>\n",
       "      <td>3.0</td>\n",
       "      <td>0.066667</td>\n",
       "    </tr>\n",
       "    <tr>\n",
       "      <th>2</th>\n",
       "      <td>0</td>\n",
       "      <td>13</td>\n",
       "      <td>2.0</td>\n",
       "      <td>-0.266667</td>\n",
       "    </tr>\n",
       "    <tr>\n",
       "      <th>3</th>\n",
       "      <td>0</td>\n",
       "      <td>14</td>\n",
       "      <td>2.0</td>\n",
       "      <td>-0.266667</td>\n",
       "    </tr>\n",
       "    <tr>\n",
       "      <th>4</th>\n",
       "      <td>0</td>\n",
       "      <td>15</td>\n",
       "      <td>2.0</td>\n",
       "      <td>-0.266667</td>\n",
       "    </tr>\n",
       "  </tbody>\n",
       "</table>\n",
       "</div>"
      ],
      "text/plain": [
       "   user_id  movie_id  rating      mean\n",
       "0        0        10     5.0  0.733333\n",
       "1        0        11     3.0  0.066667\n",
       "2        0        13     2.0 -0.266667\n",
       "3        0        14     2.0 -0.266667\n",
       "4        0        15     2.0 -0.266667"
      ]
     },
     "execution_count": 139,
     "metadata": {},
     "output_type": "execute_result"
    }
   ],
   "source": [
    "mean_col = users_ratings.groupby(['user_id'])['rating'].mean()\n",
    "max_col = users_ratings.groupby(['user_id'])['rating'].max()\n",
    "min_col = users_ratings.groupby(['user_id'])['rating'].min()\n",
    "\n",
    "for index, row in users_ratings.iterrows():\n",
    "    users_ratings.at[index,'mean']=(row['rating']-mean_col.at[row['user_id']])    /(max_col.at[row['user_id']]-min_col.at[row['user_id']])\n",
    "    \n",
    "users_ratings.head()"
   ]
  },
  {
   "cell_type": "code",
   "execution_count": 140,
   "id": "a55d03fe",
   "metadata": {},
   "outputs": [
    {
     "name": "stdout",
     "output_type": "stream",
     "text": [
      "[10 11 12 13 14 15]\n",
      "{0: 10, 1: 11, 2: 12, 3: 13, 4: 14, 5: 15}\n"
     ]
    }
   ],
   "source": [
    "users_values = users_ratings['user_id'].sort_values().unique()\n",
    "movies_values = users_ratings['movie_id'].sort_values().unique()\n",
    "print(movies_values)\n",
    "user_categories = dict(enumerate(users_ratings['user_id'].sort_values().unique()))\n",
    "movie_categories = dict(enumerate(users_ratings['movie_id'].sort_values().unique()))\n",
    "print(movie_categories)\n",
    "for index, row in users_ratings.iterrows():\n",
    "    # np.where return index   \n",
    "    users_ratings.at[index,'movie_id'] = np.where(movies_values == row['movie_id'])[0]\n",
    "    users_ratings.at[index,'user_id'] = np.where(users_values == row['user_id'])[0]"
   ]
  },
  {
   "cell_type": "code",
   "execution_count": 141,
   "id": "511f2c85",
   "metadata": {},
   "outputs": [],
   "source": [
    "coo = coo_matrix((users_ratings['mean'], (users_ratings['movie_id'],users_ratings['user_id'])))"
   ]
  },
  {
   "cell_type": "markdown",
   "id": "61839c9d",
   "metadata": {},
   "source": [
    "## Матрица перекрытия\n",
    "Матрица перекрытия показывает сколько пользователей одновременно оценили фильм x и фильм y. \n",
    "Например цифра 3 показывает сколько людей одновременно оценили Храброе сердце и Эйс-Вентура.\n",
    "Матрица смимметричная.\n",
    "min_overlap=4\n",
    "Мы можем не учитывать элементы, у которых мало оценок (например <= 4), так как это можно привести к неправильному значению сходства между этими фильмами.\n",
    "number_of_overlaps - показывает сколько элементов осталось после примененения матрицы перекрытия"
   ]
  },
  {
   "cell_type": "code",
   "execution_count": 142,
   "id": "235e3801",
   "metadata": {},
   "outputs": [],
   "source": [
    "overlap_matrix = coo.astype(bool).astype(int).dot(coo.transpose().astype(bool).astype(int))\n",
    "min_overlap=4\n",
    "number_of_overlaps = (overlap_matrix > min_overlap).count_nonzero()"
   ]
  },
  {
   "cell_type": "code",
   "execution_count": 143,
   "id": "e4645b93",
   "metadata": {},
   "outputs": [
    {
     "data": {
      "text/plain": [
       "array([[6, 6, 5, 4, 6, 6],\n",
       "       [6, 6, 5, 4, 6, 6],\n",
       "       [5, 5, 5, 3, 5, 5],\n",
       "       [4, 4, 3, 4, 4, 4],\n",
       "       [6, 6, 5, 4, 6, 6],\n",
       "       [6, 6, 5, 4, 6, 6]], dtype=int32)"
      ]
     },
     "execution_count": 143,
     "metadata": {},
     "output_type": "execute_result"
    }
   ],
   "source": [
    "overlap_matrix.toarray()"
   ]
  },
  {
   "cell_type": "code",
   "execution_count": 144,
   "id": "77818eb7",
   "metadata": {},
   "outputs": [
    {
     "name": "stdout",
     "output_type": "stream",
     "text": [
      "[[ 1.         -0.18166189  0.79444107 -0.28916544 -0.85372896 -0.78252628]\n",
      " [-0.18166189  1.         -0.29576659  0.16995009 -0.1572779  -0.18381386]\n",
      " [ 0.79444107 -0.29576659  1.          0.00289521 -0.86240246 -0.79748992]\n",
      " [-0.28916544  0.16995009  0.00289521  1.         -0.03735355 -0.27823286]\n",
      " [-0.85372896 -0.1572779  -0.86240246 -0.03735355  1.          0.95447817]\n",
      " [-0.78252628 -0.18381386 -0.79748992 -0.27823286  0.95447817  1.        ]]\n"
     ]
    }
   ],
   "source": [
    "M=coo.toarray()\n",
    "\n",
    "\n",
    "def calculate_cosine_distance_cor(M):\n",
    "    Res = np.empty(M.shape)\n",
    "    def my_cosine_distance(i,j):\n",
    "        return np.sum(M[i,:]*M[j,:])/(np.sqrt(np.sum(np.square(M[i,:])))*np.sqrt(np.sum(np.square(M[j,:]))))\n",
    "    for i in range(M.shape[0]):\n",
    "        for j in range(i,M.shape[0]):\n",
    "            calculated = my_cosine_distance(i,j);\n",
    "            if (i==j):\n",
    "                Res[i,j]=calculated\n",
    "            else:\n",
    "                Res[i,j]=Res[j,i]=calculated\n",
    "    return sparse.csr_matrix(Res)\n",
    "\n",
    "cor = calculate_cosine_distance_cor(M)\n",
    "print(cor.toarray())"
   ]
  },
  {
   "cell_type": "code",
   "execution_count": 145,
   "id": "72cf8554",
   "metadata": {},
   "outputs": [],
   "source": [
    "def save_full_sims(cor,movies_categories):\n",
    "    coo = coo_matrix(cor)\n",
    "    csr = coo.tocsr()\n",
    "    \n",
    "    no_saved = 0\n",
    "    xs, ys = coo.nonzero()\n",
    "\n",
    "    columns = ['source_id', 'target_id', 'similarity']\n",
    "    M = pd.DataFrame([],columns=columns)\n",
    "\n",
    "    for x, y in zip(xs, ys):\n",
    "    #     x это первый элемент кортежа, y второй; x,y это id строк описаний между которыми вычисляется сходство\n",
    "    \n",
    "        sim = float(csr[x, y])\n",
    "        M.loc[M.shape[0]] = [int(movies_categories[x]),int(movies_categories[y]),sim]\n",
    "       \n",
    "        no_saved += 1\n",
    "   \n",
    "    M['source_id'] =  M['source_id'].astype(int)\n",
    "    M['target_id'] =  M['target_id'].astype(int)\n",
    "    return M"
   ]
  },
  {
   "cell_type": "code",
   "execution_count": 146,
   "id": "a7ee582d",
   "metadata": {},
   "outputs": [
    {
     "name": "stdout",
     "output_type": "stream",
     "text": [
      "    source_id  target_id  similarity\n",
      "0          10         10    1.000000\n",
      "1          10         11   -0.181662\n",
      "2          10         12    0.794441\n",
      "3          10         13   -0.289165\n",
      "4          10         14   -0.853729\n",
      "5          10         15   -0.782526\n",
      "6          11         10   -0.181662\n",
      "7          11         11    1.000000\n",
      "8          11         12   -0.295767\n",
      "9          11         13    0.169950\n",
      "10         11         14   -0.157278\n",
      "11         11         15   -0.183814\n",
      "12         12         10    0.794441\n",
      "13         12         11   -0.295767\n",
      "14         12         12    1.000000\n",
      "15         12         13    0.002895\n",
      "16         12         14   -0.862402\n",
      "17         12         15   -0.797490\n",
      "18         13         10   -0.289165\n",
      "19         13         11    0.169950\n",
      "20         13         12    0.002895\n",
      "21         13         13    1.000000\n",
      "22         13         14   -0.037354\n",
      "23         13         15   -0.278233\n",
      "24         14         10   -0.853729\n",
      "25         14         11   -0.157278\n",
      "26         14         12   -0.862402\n",
      "27         14         13   -0.037354\n",
      "28         14         14    1.000000\n",
      "29         14         15    0.954478\n",
      "30         15         10   -0.782526\n",
      "31         15         11   -0.183814\n",
      "32         15         12   -0.797490\n",
      "33         15         13   -0.278233\n",
      "34         15         14    0.954478\n",
      "35         15         15    1.000000\n"
     ]
    }
   ],
   "source": [
    "full_similarity_table = save_full_sims(cor,movie_categories)\n",
    "print(full_similarity_table)"
   ]
  },
  {
   "cell_type": "code",
   "execution_count": 147,
   "id": "61dfc05a",
   "metadata": {},
   "outputs": [
    {
     "name": "stdout",
     "output_type": "stream",
     "text": [
      "[[1.         0.         0.79444107 0.         0.         0.        ]\n",
      " [0.         1.         0.         0.         0.         0.        ]\n",
      " [0.79444107 0.         1.         0.         0.         0.        ]\n",
      " [0.         0.         0.         0.         0.         0.        ]\n",
      " [0.         0.         0.         0.         1.         0.95447817]\n",
      " [0.         0.         0.         0.         0.95447817 1.        ]]\n"
     ]
    }
   ],
   "source": [
    "min_sim=0.2\n",
    "# Отбрасываем элементы с низким сходством (-1 фильмы совершенно непохожи, 1 фильмы одинаковы)\n",
    "cor = cor.multiply(cor > min_sim)\n",
    "cor = cor.multiply(overlap_matrix > min_overlap)\n",
    "print(cor.toarray())"
   ]
  },
  {
   "cell_type": "code",
   "execution_count": 148,
   "id": "551525a6",
   "metadata": {},
   "outputs": [
    {
     "data": {
      "text/plain": [
       "{0: 10, 1: 11, 2: 12, 3: 13, 4: 14, 5: 15}"
      ]
     },
     "execution_count": 148,
     "metadata": {},
     "output_type": "execute_result"
    }
   ],
   "source": [
    "movie_categories"
   ]
  },
  {
   "cell_type": "code",
   "execution_count": 149,
   "id": "5ae32f10",
   "metadata": {},
   "outputs": [],
   "source": [
    "def save_sims(cor,movies_categories):\n",
    "    coo = coo_matrix(cor)\n",
    "    csr = coo.tocsr()\n",
    "    \n",
    "    no_saved = 0\n",
    "    min_sim=0.1\n",
    "    xs, ys = coo.nonzero()\n",
    "\n",
    "    columns = ['source_id', 'target_id', 'similarity']\n",
    "    M = pd.DataFrame([],columns=columns)\n",
    "\n",
    "    for x, y in zip(xs, ys):\n",
    "    #     x это первый элемент кортежа, y второй; x,y это id строк описаний между которыми вычисляется сходство\n",
    "    \n",
    "    # нет смысл сравнить строку описания с самой собой это вернёт 1 или близко к этому\n",
    "        if x == y:\n",
    "            continue\n",
    "        sim = float(csr[x, y])\n",
    "        if sim < min_sim:\n",
    "            continue\n",
    "        M.loc[M.shape[0]] = [int(movies_categories[x]),int(movies_categories[y]),sim]\n",
    "       \n",
    "        no_saved += 1\n",
    "   \n",
    "    M['source_id'] =  M['source_id'].astype(int)\n",
    "    M['target_id'] =  M['target_id'].astype(int)\n",
    "    return M"
   ]
  },
  {
   "cell_type": "code",
   "execution_count": null,
   "id": "de35ab9a",
   "metadata": {},
   "outputs": [],
   "source": []
  },
  {
   "cell_type": "code",
   "execution_count": 150,
   "id": "60cfff29",
   "metadata": {},
   "outputs": [
    {
     "name": "stdout",
     "output_type": "stream",
     "text": [
      "   source_id  target_id  similarity\n",
      "0         10         12    0.794441\n",
      "1         12         10    0.794441\n",
      "2         14         15    0.954478\n",
      "3         15         14    0.954478\n"
     ]
    }
   ],
   "source": [
    "similarity_table = save_sims(cor,movie_categories)\n",
    "print(similarity_table)"
   ]
  },
  {
   "cell_type": "code",
   "execution_count": 151,
   "id": "595e8748",
   "metadata": {},
   "outputs": [],
   "source": [
    "#онлайн часть"
   ]
  },
  {
   "cell_type": "code",
   "execution_count": 152,
   "id": "c7777ea6",
   "metadata": {},
   "outputs": [],
   "source": [
    "# получаем оценки текущего пользователя\n",
    "columns = ['user_id', 'movie_id', 'rating']\n",
    "current_user_ratings = pd.DataFrame([\n",
    "    ['100',10,4],\n",
    "     ['100',11,3],\n",
    "     ['100',14,5],\n",
    "],columns=columns)"
   ]
  },
  {
   "cell_type": "code",
   "execution_count": 153,
   "id": "61283a7b",
   "metadata": {},
   "outputs": [
    {
     "name": "stdout",
     "output_type": "stream",
     "text": [
      "  user_id  movie_id  rating\n",
      "0     100        14       5\n",
      "1     100        10       4\n",
      "2     100        11       3\n"
     ]
    }
   ],
   "source": [
    "current_user_mean = current_user_ratings['rating'].mean()\n",
    "\n",
    "# сортируем оценки по самым высоким\n",
    "current_user_ratings.sort_values(['rating'], ascending=[0],inplace=True)\n",
    "current_user_ratings.reset_index(drop=True, inplace=True)\n",
    "print(current_user_ratings)"
   ]
  },
  {
   "cell_type": "code",
   "execution_count": null,
   "id": "8cdc36f9",
   "metadata": {},
   "outputs": [],
   "source": []
  },
  {
   "cell_type": "code",
   "execution_count": 154,
   "id": "d82de71e",
   "metadata": {},
   "outputs": [
    {
     "name": "stdout",
     "output_type": "stream",
     "text": [
      "   source_id  target_id  similarity\n",
      "0         14         15    0.954478\n",
      "1         10         12    0.794441\n"
     ]
    }
   ],
   "source": [
    "# получаем только те фильмы которые оцнены текущим пользователем и находятся в таблице сходств\n",
    "in_source=similarity_table['source_id'].isin(current_user_ratings['movie_id']) \n",
    "# Исключаем из таблице сходств уже оцененные фильмы пользователи (не нужно рекомендовать, то, что уже было просмотренно)\n",
    "not_in_target=~similarity_table['target_id'].isin(current_user_ratings['movie_id'])\n",
    "\n",
    "# Получаем таблиц сходств для текущего пользователя\n",
    "top_by_sims = similarity_table.loc[in_source &  not_in_target].sort_values(['similarity'], ascending=[0])[:30]\n",
    "top_by_sims.reset_index(drop=True, inplace=True)\n",
    "print(top_by_sims)"
   ]
  },
  {
   "cell_type": "code",
   "execution_count": 155,
   "id": "5ebb7806",
   "metadata": {},
   "outputs": [
    {
     "name": "stdout",
     "output_type": "stream",
     "text": [
      "  target_id  prediction sim_movies\n",
      "0        15         5.0       [14]\n",
      "1        12         4.0       [10]\n"
     ]
    }
   ],
   "source": [
    "columns = ['target_id', 'prediction', 'sim_movies']\n",
    "recs = pd.DataFrame([],columns=columns)\n",
    "targets = top_by_sims['target_id']\n",
    "\n",
    "for target_row in targets:\n",
    "    pre = 0\n",
    "    sim_sum = 0\n",
    "\n",
    "    rated_items = top_by_sims[top_by_sims['target_id']==target_row]\n",
    "\n",
    "    if len(rated_items) > 0:\n",
    "        for index, sim_item in rated_items.iterrows():\n",
    "#             получаем оценку пользователя для фильма\n",
    "            user_rating = current_user_ratings[current_user_ratings['movie_id']==sim_item['source_id']].iloc[0]['rating']\n",
    "#         вычитаем из оценки среднюю для пользователя\n",
    "            r = user_rating- current_user_mean\n",
    "#     умножаем схожесть на оценку\n",
    "            pre += sim_item.similarity * r\n",
    "            sim_sum += sim_item.similarity\n",
    "        if sim_sum > 0:\n",
    "# формируем прогноз\n",
    "            recs.loc[recs.shape[0]] = [target_row,current_user_mean + pre/sim_sum,rated_items['source_id'].values]\n",
    "\n",
    "recs.sort_values(['prediction'], ascending=[0],inplace=True)\n",
    "recs.reset_index(drop=True, inplace=True)\n",
    "print(recs)\n"
   ]
  },
  {
   "cell_type": "code",
   "execution_count": null,
   "id": "73e9bc3a",
   "metadata": {},
   "outputs": [],
   "source": []
  },
  {
   "cell_type": "code",
   "execution_count": null,
   "id": "5e5f4b8a",
   "metadata": {},
   "outputs": [],
   "source": []
  }
 ],
 "metadata": {
  "kernelspec": {
   "display_name": "Python 3",
   "language": "python",
   "name": "python3"
  },
  "language_info": {
   "codemirror_mode": {
    "name": "ipython",
    "version": 3
   },
   "file_extension": ".py",
   "mimetype": "text/x-python",
   "name": "python",
   "nbconvert_exporter": "python",
   "pygments_lexer": "ipython3",
   "version": "3.8.8"
  }
 },
 "nbformat": 4,
 "nbformat_minor": 5
}
