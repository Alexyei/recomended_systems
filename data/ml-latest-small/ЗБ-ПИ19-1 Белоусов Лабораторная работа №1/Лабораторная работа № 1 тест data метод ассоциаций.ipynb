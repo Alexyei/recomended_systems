{
 "cells": [
  {
   "cell_type": "markdown",
   "id": "27222415",
   "metadata": {},
   "source": [
    "## Совместная фильтрация элемент-элемент\n",
    "1. Оффлайн часть\n",
    "1.1. Получаем оценки всех пользователей\n",
    "1.2. Нормализуем их (столбец mean)\n",
    "1.3. Заменяем id пользователей и фильмов на категории (например фильм с id 100111 получает категорию 0, фильм c id 100112 получает категорию 1 и так далее)\n",
    "1.4. Объединяем колонку mean, колонку категорий пользователей и колонку категорий фильм в разряженную матрицу coo\n",
    "1.5. Создаём матрицу перекрытия, чтобы исключить фильмы у которых мало оценок. Матрица перекрытия показывает сколько пользователей одновременно оценили фильм x и фильм y. \n",
    "1.6. Получаем матрицу сходства между фильмами, для вычисления сходство используется косиносовое сходство. cor = cosine_similarity\n",
    "1.7. В матрице сходства обнуляем ячейки у которых низкое сходство и укоторых маленькое перекрытие\n",
    "1.8. Из полученной матрице сходств формируем таблицу сходств фильмов (similarity_table), в которой категории фильмов заменены на их настоящие id \n",
    "2. Онлайн часть\n",
    "2.1. Получаем оценки текущего пользователя\n",
    "2.2. Сортируем оценки по самым высоким\n",
    "2.3. Вычисляем среднюю оценку пользователя (current_user_mean)\n",
    "2.4. Из таблицы сходств получаем только те фильмы которые оценены текущим пользователем\n",
    "2.5. Из таблицы сходств исключаем фильмы которые оценены текущим пользователем и находятся в колонки target_id. То есть мы не будем рекомендовать пользователю фильмы, которые он уже посмотрел.\n",
    "2.6. Вычисляем рекомендации для пользователя, и получаем таблицу вида: target_id; prediction;sim_movies;\n",
    "где target_id - id фильма рекомендуемого пользователю; prediction - ожидаемая оценка данному фильму; sim_movies- на основание каких фильмов оцененных пользователем ранее выдана данная рекомендация."
   ]
  },
  {
   "cell_type": "code",
   "execution_count": 1,
   "id": "8057f43d",
   "metadata": {},
   "outputs": [],
   "source": [
    "import requests\n",
    "import time\n",
    "import pandas as pd\n",
    "import surprise as surprise\n",
    "import numpy as np\n",
    "from decimal import Decimal\n",
    "from scipy.sparse import coo_matrix\n",
    "from scipy import sparse\n",
    "from tqdm import tqdm\n",
    "# косинусовое сходство\n",
    "from sklearn.metrics.pairwise import cosine_similarity"
   ]
  },
  {
   "cell_type": "code",
   "execution_count": 2,
   "id": "072b46d3",
   "metadata": {},
   "outputs": [
    {
     "name": "stdout",
     "output_type": "stream",
     "text": [
      "   userId  movieId  rating  timestamp\n",
      "0       1        1     4.0  964982703\n",
      "1       1        3     4.0  964981247\n",
      "2       1        6     4.0  964982224\n",
      "3       1       47     5.0  964983815\n",
      "4       1       50     5.0  964982931\n"
     ]
    }
   ],
   "source": [
    "users_ratings = pd.read_csv(\"ratings.csv\")\n",
    "print(users_ratings.head())"
   ]
  },
  {
   "cell_type": "code",
   "execution_count": 3,
   "id": "abd5504d",
   "metadata": {},
   "outputs": [
    {
     "data": {
      "text/html": [
       "<div>\n",
       "<style scoped>\n",
       "    .dataframe tbody tr th:only-of-type {\n",
       "        vertical-align: middle;\n",
       "    }\n",
       "\n",
       "    .dataframe tbody tr th {\n",
       "        vertical-align: top;\n",
       "    }\n",
       "\n",
       "    .dataframe thead th {\n",
       "        text-align: right;\n",
       "    }\n",
       "</style>\n",
       "<table border=\"1\" class=\"dataframe\">\n",
       "  <thead>\n",
       "    <tr style=\"text-align: right;\">\n",
       "      <th></th>\n",
       "      <th>userId</th>\n",
       "      <th>movieId</th>\n",
       "      <th>rating</th>\n",
       "    </tr>\n",
       "  </thead>\n",
       "  <tbody>\n",
       "    <tr>\n",
       "      <th>0</th>\n",
       "      <td>1</td>\n",
       "      <td>1</td>\n",
       "      <td>4.0</td>\n",
       "    </tr>\n",
       "    <tr>\n",
       "      <th>1</th>\n",
       "      <td>1</td>\n",
       "      <td>3</td>\n",
       "      <td>4.0</td>\n",
       "    </tr>\n",
       "    <tr>\n",
       "      <th>2</th>\n",
       "      <td>1</td>\n",
       "      <td>6</td>\n",
       "      <td>4.0</td>\n",
       "    </tr>\n",
       "    <tr>\n",
       "      <th>3</th>\n",
       "      <td>1</td>\n",
       "      <td>47</td>\n",
       "      <td>5.0</td>\n",
       "    </tr>\n",
       "    <tr>\n",
       "      <th>4</th>\n",
       "      <td>1</td>\n",
       "      <td>50</td>\n",
       "      <td>5.0</td>\n",
       "    </tr>\n",
       "  </tbody>\n",
       "</table>\n",
       "</div>"
      ],
      "text/plain": [
       "   userId  movieId  rating\n",
       "0       1        1     4.0\n",
       "1       1        3     4.0\n",
       "2       1        6     4.0\n",
       "3       1       47     5.0\n",
       "4       1       50     5.0"
      ]
     },
     "execution_count": 3,
     "metadata": {},
     "output_type": "execute_result"
    }
   ],
   "source": [
    "users_ratings = users_ratings.drop('timestamp', axis=1)\n",
    "# movie_data = pd.merge(ratings_data, movie_names, on='movieId')\n",
    "users_ratings.head()"
   ]
  },
  {
   "cell_type": "code",
   "execution_count": 4,
   "id": "537cf369",
   "metadata": {},
   "outputs": [
    {
     "data": {
      "text/plain": [
       "False"
      ]
     },
     "execution_count": 4,
     "metadata": {},
     "output_type": "execute_result"
    }
   ],
   "source": [
    "users_ratings['rating'].isnull().any()"
   ]
  },
  {
   "cell_type": "code",
   "execution_count": 5,
   "id": "2f2abb76",
   "metadata": {},
   "outputs": [],
   "source": [
    "# Нормализуем оценки вычтя из оценки среднюю оценку пользователя\n",
    "def normalize(x):\n",
    "    x = x.astype(float)\n",
    "    x_sum = x.sum()\n",
    "    x_num = x.astype(bool).sum()\n",
    "    x_mean = x_sum / x_num\n",
    "\n",
    "    if x_num == 1 or x.std() == 0:\n",
    "        return 0.0\n",
    "    print(x)\n",
    "    print(x_mean)\n",
    "    print((x.max() - x.min()))\n",
    "    return (x - x_mean) / (x.max() - x.min())"
   ]
  },
  {
   "cell_type": "code",
   "execution_count": 6,
   "id": "c7664773",
   "metadata": {},
   "outputs": [
    {
     "data": {
      "text/html": [
       "<div>\n",
       "<style scoped>\n",
       "    .dataframe tbody tr th:only-of-type {\n",
       "        vertical-align: middle;\n",
       "    }\n",
       "\n",
       "    .dataframe tbody tr th {\n",
       "        vertical-align: top;\n",
       "    }\n",
       "\n",
       "    .dataframe thead th {\n",
       "        text-align: right;\n",
       "    }\n",
       "</style>\n",
       "<table border=\"1\" class=\"dataframe\">\n",
       "  <thead>\n",
       "    <tr style=\"text-align: right;\">\n",
       "      <th></th>\n",
       "      <th>userId</th>\n",
       "      <th>movieId</th>\n",
       "      <th>rating</th>\n",
       "      <th>mean</th>\n",
       "    </tr>\n",
       "  </thead>\n",
       "  <tbody>\n",
       "    <tr>\n",
       "      <th>0</th>\n",
       "      <td>1</td>\n",
       "      <td>1</td>\n",
       "      <td>4.0</td>\n",
       "      <td>-0.091595</td>\n",
       "    </tr>\n",
       "    <tr>\n",
       "      <th>1</th>\n",
       "      <td>1</td>\n",
       "      <td>3</td>\n",
       "      <td>4.0</td>\n",
       "      <td>-0.091595</td>\n",
       "    </tr>\n",
       "    <tr>\n",
       "      <th>2</th>\n",
       "      <td>1</td>\n",
       "      <td>6</td>\n",
       "      <td>4.0</td>\n",
       "      <td>-0.091595</td>\n",
       "    </tr>\n",
       "    <tr>\n",
       "      <th>3</th>\n",
       "      <td>1</td>\n",
       "      <td>47</td>\n",
       "      <td>5.0</td>\n",
       "      <td>0.158405</td>\n",
       "    </tr>\n",
       "    <tr>\n",
       "      <th>4</th>\n",
       "      <td>1</td>\n",
       "      <td>50</td>\n",
       "      <td>5.0</td>\n",
       "      <td>0.158405</td>\n",
       "    </tr>\n",
       "  </tbody>\n",
       "</table>\n",
       "</div>"
      ],
      "text/plain": [
       "   userId  movieId  rating      mean\n",
       "0       1        1     4.0 -0.091595\n",
       "1       1        3     4.0 -0.091595\n",
       "2       1        6     4.0 -0.091595\n",
       "3       1       47     5.0  0.158405\n",
       "4       1       50     5.0  0.158405"
      ]
     },
     "execution_count": 6,
     "metadata": {},
     "output_type": "execute_result"
    }
   ],
   "source": [
    "count_col = users_ratings.groupby(['userId'])['rating'].count()\n",
    "std_col = users_ratings.groupby(['userId'])['rating'].std()\n",
    "mean_col = users_ratings.groupby(['userId'])['rating'].mean()\n",
    "max_col = users_ratings.groupby(['userId'])['rating'].max()\n",
    "min_col = users_ratings.groupby(['userId'])['rating'].min()\n",
    "\n",
    "\n",
    "for index, row in users_ratings.iterrows():\n",
    "    users_ratings.at[index,'mean']= 0.0 if (count_col.at[row['userId']]==1) or (std_col.at[row['userId']]==0)  else(row['rating']-mean_col.at[row['userId']])/(max_col.at[row['userId']]-min_col.at[row['userId']])\n",
    "    \n",
    "users_ratings.head()"
   ]
  },
  {
   "cell_type": "code",
   "execution_count": 7,
   "id": "b8b8771b",
   "metadata": {},
   "outputs": [
    {
     "data": {
      "text/plain": [
       "False"
      ]
     },
     "execution_count": 7,
     "metadata": {},
     "output_type": "execute_result"
    }
   ],
   "source": [
    "# проверяем, что нет пропусков\n",
    "users_ratings['mean'].isnull().any()"
   ]
  },
  {
   "cell_type": "code",
   "execution_count": 8,
   "id": "a55d03fe",
   "metadata": {},
   "outputs": [],
   "source": [
    "users_values = users_ratings['userId'].sort_values().unique()\n",
    "movies_values = users_ratings['movieId'].sort_values().unique()\n",
    "# print(movies_values)\n",
    "user_categories = dict(enumerate(users_ratings['userId'].sort_values().unique()))\n",
    "movie_categories = dict(enumerate(users_ratings['movieId'].sort_values().unique()))\n",
    "# print(movie_categories)\n",
    "for index, row in users_ratings.iterrows():\n",
    "    # np.where return index   \n",
    "    users_ratings.at[index,'movieId'] = np.where(movies_values == row['movieId'])[0]\n",
    "    users_ratings.at[index,'userId'] = np.where(users_values == row['userId'])[0]"
   ]
  },
  {
   "cell_type": "code",
   "execution_count": 9,
   "id": "511f2c85",
   "metadata": {},
   "outputs": [],
   "source": [
    "coo = coo_matrix((users_ratings['mean'], (users_ratings['movieId'],users_ratings['userId'])))"
   ]
  },
  {
   "cell_type": "markdown",
   "id": "61839c9d",
   "metadata": {},
   "source": [
    "## Матрица перекрытия\n",
    "Матрица перекрытия показывает сколько пользователей одновременно оценили фильм x и фильм y. \n",
    "Например цифра 3 показывает сколько людей одновременно оценили Храброе сердце и Эйс-Вентура.\n",
    "Матрица смимметричная.\n",
    "min_overlap=4\n",
    "Мы можем не учитывать элементы, у которых мало оценок (например <= 4), так как это можно привести к неправильному значению сходства между этими фильмами.\n",
    "number_of_overlaps - показывает сколько элементов осталось после примененения матрицы перекрытия"
   ]
  },
  {
   "cell_type": "code",
   "execution_count": 10,
   "id": "235e3801",
   "metadata": {},
   "outputs": [],
   "source": [
    "overlap_matrix = coo.astype(bool).astype(int).dot(coo.transpose().astype(bool).astype(int))\n",
    "min_overlap=4\n",
    "number_of_overlaps = (overlap_matrix > min_overlap).count_nonzero()"
   ]
  },
  {
   "cell_type": "code",
   "execution_count": 11,
   "id": "e4645b93",
   "metadata": {},
   "outputs": [
    {
     "data": {
      "text/plain": [
       "array([[215,  68,  32, ...,   0,   0,   0],\n",
       "       [ 68, 110,  26, ...,   0,   0,   0],\n",
       "       [ 32,  26,  52, ...,   0,   0,   0],\n",
       "       ...,\n",
       "       [  0,   0,   0, ...,   1,   1,   0],\n",
       "       [  0,   0,   0, ...,   1,   1,   0],\n",
       "       [  0,   0,   0, ...,   0,   0,   1]], dtype=int32)"
      ]
     },
     "execution_count": 11,
     "metadata": {},
     "output_type": "execute_result"
    }
   ],
   "source": [
    "overlap_matrix.toarray()"
   ]
  },
  {
   "cell_type": "code",
   "execution_count": 12,
   "id": "77818eb7",
   "metadata": {},
   "outputs": [
    {
     "name": "stderr",
     "output_type": "stream",
     "text": [
      "  0%|                                                                                         | 0/9724 [00:00<?, ?it/s]<ipython-input-12-03a38c7d6568>:10: RuntimeWarning: divide by zero encountered in long_scalars\n",
      "  return and_i_j/and_not_i_j\n",
      "<ipython-input-12-03a38c7d6568>:10: RuntimeWarning: invalid value encountered in long_scalars\n",
      "  return and_i_j/and_not_i_j\n",
      "100%|██████████████████████████████████████████████████████████████████████████████| 9724/9724 [20:55<00:00,  7.75it/s]\n"
     ]
    },
    {
     "name": "stdout",
     "output_type": "stream",
     "text": [
      "[[0.         1.61904762 1.6        ... 0.         0.         0.        ]\n",
      " [0.46258503 0.         1.         ... 0.         0.         0.        ]\n",
      " [0.17486339 0.30952381 0.         ... 0.         0.         0.        ]\n",
      " ...\n",
      " [0.         0.         0.         ... 0.         0.         0.        ]\n",
      " [0.         0.         0.         ... 0.         0.         0.        ]\n",
      " [0.         0.         0.         ... 0.         0.         0.        ]]\n"
     ]
    }
   ],
   "source": [
    "M=coo.toarray()\n",
    "\n",
    "def calculate_associations_distance_cor(M):\n",
    "    Res = np.empty((M.shape[0],M.shape[0]))\n",
    "    def my_associations_distance(i,j):\n",
    "        and_i_j = np.where((M[i,:]!=0) & (M[j,:]!=0), 1, 0).sum() \n",
    "        and_not_i_j = np.where((M[i,:]==0) & (M[j,:]!=0), 1, 0).sum() \n",
    "        \n",
    "   \n",
    "        return and_i_j/and_not_i_j\n",
    "    for i in tqdm(range(M.shape[0])):\n",
    "        for j in range(M.shape[0]):\n",
    "            calculated = my_associations_distance(i,j);\n",
    "#             if (i==j):\n",
    "#                 Res[i,j]=calculated\n",
    "#             else:\n",
    "            Res[i,j]=calculated\n",
    "    Res[np.isnan(Res)] = 0\n",
    "    Res[np.isinf(Res)] = 0\n",
    "    return sparse.csr_matrix(Res)\n",
    "\n",
    "cor = calculate_associations_distance_cor(M)\n",
    "print(cor.toarray())"
   ]
  },
  {
   "cell_type": "code",
   "execution_count": 13,
   "id": "72cf8554",
   "metadata": {},
   "outputs": [],
   "source": [
    "def save_full_sims(cor,movies_categories):\n",
    "    coo = coo_matrix(cor)\n",
    "    csr = coo.tocsr()\n",
    "    \n",
    "    no_saved = 0\n",
    "    xs, ys = coo.nonzero()\n",
    "\n",
    "    columns = ['source_id', 'target_id', 'similarity']\n",
    "    M = pd.DataFrame([],columns=columns)\n",
    "\n",
    "    for x, y in tqdm(zip(xs, ys)):\n",
    "    #     x это первый элемент кортежа, y второй; x,y это id строк описаний между которыми вычисляется сходство\n",
    "    \n",
    "        sim = float(csr[x, y])\n",
    "        M.loc[M.shape[0]] = [int(movies_categories[x]),int(movies_categories[y]),sim]\n",
    "       \n",
    "        no_saved += 1\n",
    "   \n",
    "    M['source_id'] =  M['source_id'].astype(int)\n",
    "    M['target_id'] =  M['target_id'].astype(int)\n",
    "    return M"
   ]
  },
  {
   "cell_type": "code",
   "execution_count": 14,
   "id": "a7ee582d",
   "metadata": {},
   "outputs": [],
   "source": [
    "# full_similarity_table = save_full_sims(cor,movie_categories)\n",
    "# print(full_similarity_table)"
   ]
  },
  {
   "cell_type": "code",
   "execution_count": 15,
   "id": "a7a9a37c",
   "metadata": {},
   "outputs": [],
   "source": [
    "# full_similarity_table.to_csv('full_similarity_table_associations.csv',index=False)"
   ]
  },
  {
   "cell_type": "code",
   "execution_count": 16,
   "id": "61dfc05a",
   "metadata": {},
   "outputs": [
    {
     "name": "stdout",
     "output_type": "stream",
     "text": [
      "[[0.         1.61904762 1.6        ... 0.         0.         0.        ]\n",
      " [0.46258503 0.         1.         ... 0.         0.         0.        ]\n",
      " [0.         0.30952381 0.         ... 0.         0.         0.        ]\n",
      " ...\n",
      " [0.         0.         0.         ... 0.         0.         0.        ]\n",
      " [0.         0.         0.         ... 0.         0.         0.        ]\n",
      " [0.         0.         0.         ... 0.         0.         0.        ]]\n"
     ]
    }
   ],
   "source": [
    "min_sim=0.2\n",
    "# Отбрасываем элементы с низким сходством (-1 фильмы совершенно непохожи, 1 фильмы одинаковы)\n",
    "cor = cor.multiply(cor > min_sim)\n",
    "cor = cor.multiply(overlap_matrix > min_overlap)\n",
    "print(cor.toarray())"
   ]
  },
  {
   "cell_type": "code",
   "execution_count": 17,
   "id": "f29bc19c",
   "metadata": {},
   "outputs": [
    {
     "data": {
      "text/plain": [
       "921217"
      ]
     },
     "execution_count": 17,
     "metadata": {},
     "output_type": "execute_result"
    }
   ],
   "source": [
    "np.count_nonzero(cor.toarray() > 0.5)"
   ]
  },
  {
   "cell_type": "code",
   "execution_count": 18,
   "id": "551525a6",
   "metadata": {},
   "outputs": [],
   "source": [
    "# movie_categories"
   ]
  },
  {
   "cell_type": "code",
   "execution_count": 19,
   "id": "5ae32f10",
   "metadata": {},
   "outputs": [],
   "source": [
    "def save_sims(cor,movies_categories):\n",
    "    coo = coo_matrix(cor)\n",
    "    csr = coo.tocsr()\n",
    "    \n",
    "    no_saved = 0\n",
    "    min_sim=0.5\n",
    "    xs, ys = coo.nonzero()\n",
    "    print(xs.shape)\n",
    "\n",
    "    columns = ['source_id', 'target_id', 'similarity']\n",
    "    M = pd.DataFrame([],columns=columns)\n",
    "\n",
    "    for x, y in tqdm(zip(xs, ys)):\n",
    "    #     x это первый элемент кортежа, y второй; x,y это id строк описаний между которыми вычисляется сходство\n",
    "    \n",
    "    # нет смысл сравнить строку описания с самой собой это вернёт 1 или близко к этому\n",
    "        if x == y:\n",
    "            continue\n",
    "        sim = float(csr[x, y])\n",
    "        if sim < min_sim:\n",
    "            continue\n",
    "        M.loc[M.shape[0]] = [int(movies_categories[x]),int(movies_categories[y]),sim]\n",
    "       \n",
    "        no_saved += 1\n",
    "   \n",
    "    M['source_id'] =  M['source_id'].astype(int)\n",
    "    M['target_id'] =  M['target_id'].astype(int)\n",
    "    return M"
   ]
  },
  {
   "cell_type": "code",
   "execution_count": null,
   "id": "de35ab9a",
   "metadata": {},
   "outputs": [],
   "source": []
  },
  {
   "cell_type": "code",
   "execution_count": 20,
   "id": "60cfff29",
   "metadata": {},
   "outputs": [
    {
     "name": "stderr",
     "output_type": "stream",
     "text": [
      "248it [00:00, 1232.76it/s]"
     ]
    },
    {
     "name": "stdout",
     "output_type": "stream",
     "text": [
      "(1732705,)\n"
     ]
    },
    {
     "name": "stderr",
     "output_type": "stream",
     "text": [
      "1732705it [3:32:35, 135.84it/s]\n"
     ]
    },
    {
     "name": "stdout",
     "output_type": "stream",
     "text": [
      "        source_id  target_id  similarity\n",
      "0               1          2    1.619048\n",
      "1               1          3    1.600000\n",
      "2               1          5    1.882353\n",
      "3               1          6    1.318182\n",
      "4               1          7    1.454545\n",
      "...           ...        ...         ...\n",
      "974165     187593     122926    0.777778\n",
      "974166     187593     176371    0.636364\n",
      "974167     187593     177765    0.625000\n",
      "974168     187593     179819    1.000000\n",
      "974169     187595     179819    0.714286\n",
      "\n",
      "[974170 rows x 3 columns]\n"
     ]
    }
   ],
   "source": [
    "similarity_table = save_sims(cor,movie_categories)\n",
    "print(similarity_table)"
   ]
  },
  {
   "cell_type": "code",
   "execution_count": 21,
   "id": "007371b9",
   "metadata": {},
   "outputs": [],
   "source": [
    "similarity_table.to_csv('similarity_table_associations.csv',index=False)\n"
   ]
  },
  {
   "cell_type": "code",
   "execution_count": 22,
   "id": "595e8748",
   "metadata": {},
   "outputs": [],
   "source": [
    "#онлайн часть"
   ]
  },
  {
   "cell_type": "code",
   "execution_count": 23,
   "id": "f28c27b1",
   "metadata": {},
   "outputs": [
    {
     "name": "stdout",
     "output_type": "stream",
     "text": [
      "        source_id  target_id  similarity\n",
      "0               1          2    1.619048\n",
      "1               1          3    1.600000\n",
      "2               1          5    1.882353\n",
      "3               1          6    1.318182\n",
      "4               1          7    1.454545\n",
      "...           ...        ...         ...\n",
      "974165     187593     122926    0.777778\n",
      "974166     187593     176371    0.636364\n",
      "974167     187593     177765    0.625000\n",
      "974168     187593     179819    1.000000\n",
      "974169     187595     179819    0.714286\n",
      "\n",
      "[974170 rows x 3 columns]\n"
     ]
    }
   ],
   "source": [
    "similarity_table = pd.read_csv(\"similarity_table_associations.csv\")\n",
    "print(similarity_table)"
   ]
  },
  {
   "cell_type": "code",
   "execution_count": 24,
   "id": "c7777ea6",
   "metadata": {},
   "outputs": [],
   "source": [
    "# получаем оценки текущего пользователя\n",
    "current_user_ratings  = users_ratings[users_ratings['userId']==1]"
   ]
  },
  {
   "cell_type": "code",
   "execution_count": 25,
   "id": "61283a7b",
   "metadata": {},
   "outputs": [
    {
     "name": "stdout",
     "output_type": "stream",
     "text": [
      "3.9482758620689653\n",
      "    userId  movieId  rating      mean\n",
      "0        1     8810     5.0  0.350575\n",
      "1        1     8663     5.0  0.350575\n",
      "2        1     8287     5.0  0.350575\n",
      "3        1     7679     5.0  0.350575\n",
      "4        1     6784     5.0  0.350575\n",
      "5        1     7419     5.0  0.350575\n",
      "6        1     1283     4.5  0.183908\n",
      "7        1     6693     4.5  0.183908\n",
      "8        1     6993     4.5  0.183908\n",
      "9        1     7398     4.5  0.183908\n",
      "10       1      291     4.0  0.017241\n",
      "11       1     8448     4.0  0.017241\n",
      "12       1     7572     4.0  0.017241\n",
      "13       1     7355     4.0  0.017241\n",
      "14       1     7241     4.0  0.017241\n",
      "15       1     6298     4.0  0.017241\n",
      "16       1     6236     4.0  0.017241\n",
      "17       1     4607     4.0  0.017241\n",
      "18       1     2670     4.0  0.017241\n",
      "19       1     7750     3.5 -0.149425\n",
      "20       1     8045     3.5 -0.149425\n",
      "21       1     5294     3.5 -0.149425\n",
      "22       1     8532     3.5 -0.149425\n",
      "23       1     7306     3.0 -0.316092\n",
      "24       1     7137     3.0 -0.316092\n",
      "25       1     8358     3.0 -0.316092\n",
      "26       1      277     3.0 -0.316092\n",
      "27       1     7758     2.5 -0.482759\n",
      "28       1     8491     2.0 -0.649425\n"
     ]
    },
    {
     "name": "stderr",
     "output_type": "stream",
     "text": [
      "<ipython-input-25-7dec9e58f173>:4: SettingWithCopyWarning: \n",
      "A value is trying to be set on a copy of a slice from a DataFrame\n",
      "\n",
      "See the caveats in the documentation: https://pandas.pydata.org/pandas-docs/stable/user_guide/indexing.html#returning-a-view-versus-a-copy\n",
      "  current_user_ratings.sort_values(['rating'], ascending=[0],inplace=True)\n"
     ]
    }
   ],
   "source": [
    "current_user_mean = current_user_ratings['rating'].mean()\n",
    "print(current_user_mean)\n",
    "# сортируем оценки по самым высоким\n",
    "current_user_ratings.sort_values(['rating'], ascending=[0],inplace=True)\n",
    "current_user_ratings.reset_index(drop=True, inplace=True)\n",
    "print(current_user_ratings)"
   ]
  },
  {
   "cell_type": "code",
   "execution_count": null,
   "id": "8cdc36f9",
   "metadata": {},
   "outputs": [],
   "source": []
  },
  {
   "cell_type": "code",
   "execution_count": 26,
   "id": "d82de71e",
   "metadata": {},
   "outputs": [
    {
     "name": "stdout",
     "output_type": "stream",
     "text": [
      "    source_id  target_id  similarity\n",
      "0        1283       3365    6.000000\n",
      "1        8810      45726    5.000000\n",
      "2        6993       4546    5.000000\n",
      "3        8810       7376    5.000000\n",
      "4        5294       6820    5.000000\n",
      "5        6993       4211    5.000000\n",
      "6         277        191    5.000000\n",
      "7        6993       7234    5.000000\n",
      "8        8810      37380    4.000000\n",
      "9        8810      33437    3.500000\n",
      "10       8810      54736    3.000000\n",
      "11       8810      46322    3.000000\n",
      "12       8810      46335    2.666667\n",
      "13       8810      33672    2.500000\n",
      "14       8810      31225    2.500000\n",
      "15       8810      34534    2.500000\n",
      "16       8810      51709    2.500000\n",
      "17       5294       6868    2.500000\n",
      "18       8810       5573    2.500000\n",
      "19        277        195    2.333333\n",
      "20       8810      32029    2.333333\n",
      "21       1283       3095    2.000000\n",
      "22       8810      35957    2.000000\n",
      "23       8810      40732    1.750000\n",
      "24       8810       6482    1.750000\n",
      "25       8810       6294    1.750000\n",
      "26       1283       2022    1.666667\n",
      "27       8810       6707    1.666667\n",
      "28       8810      31420    1.666667\n",
      "29       8810      68205    1.666667\n"
     ]
    }
   ],
   "source": [
    "# получаем только те фильмы которые оцнены текущим пользователем и находятся в таблице сходств\n",
    "in_source=similarity_table['source_id'].isin(current_user_ratings['movieId']) \n",
    "# Исключаем из таблице сходств уже оцененные фильмы пользователи (не нужно рекомендовать, то, что уже было просмотренно)\n",
    "not_in_target=~similarity_table['target_id'].isin(current_user_ratings['movieId'])\n",
    "\n",
    "# Получаем таблиц сходств для текущего пользователя\n",
    "top_by_sims = similarity_table.loc[in_source &  not_in_target].sort_values(['similarity'], ascending=[0])[:30]\n",
    "top_by_sims.reset_index(drop=True, inplace=True)\n",
    "print(top_by_sims)"
   ]
  },
  {
   "cell_type": "code",
   "execution_count": 27,
   "id": "5ebb7806",
   "metadata": {},
   "outputs": [
    {
     "name": "stdout",
     "output_type": "stream",
     "text": [
      "   target_id  prediction sim_movies\n",
      "0      34534         5.0     [8810]\n",
      "1      33672         5.0     [8810]\n",
      "2      31420         5.0     [8810]\n",
      "3       6707         5.0     [8810]\n",
      "4       6294         5.0     [8810]\n",
      "5       6482         5.0     [8810]\n",
      "6      40732         5.0     [8810]\n",
      "7      35957         5.0     [8810]\n",
      "8      32029         5.0     [8810]\n",
      "9       5573         5.0     [8810]\n",
      "10     51709         5.0     [8810]\n",
      "11     45726         5.0     [8810]\n",
      "12     31225         5.0     [8810]\n",
      "13     68205         5.0     [8810]\n",
      "14     46335         5.0     [8810]\n",
      "15     46322         5.0     [8810]\n",
      "16     54736         5.0     [8810]\n",
      "17     33437         5.0     [8810]\n",
      "18     37380         5.0     [8810]\n",
      "19      7376         5.0     [8810]\n",
      "20      3095         4.5     [1283]\n",
      "21      7234         4.5     [6993]\n",
      "22      4211         4.5     [6993]\n",
      "23      2022         4.5     [1283]\n",
      "24      4546         4.5     [6993]\n",
      "25      3365         4.5     [1283]\n",
      "26      6868         3.5     [5294]\n",
      "27      6820         3.5     [5294]\n",
      "28       195         3.0      [277]\n",
      "29       191         3.0      [277]\n"
     ]
    }
   ],
   "source": [
    "columns = ['target_id', 'prediction', 'sim_movies']\n",
    "recs = pd.DataFrame([],columns=columns)\n",
    "targets = top_by_sims['target_id']\n",
    "\n",
    "for target_row in targets:\n",
    "    pre = 0\n",
    "    sim_sum = 0\n",
    "\n",
    "    rated_items = top_by_sims[top_by_sims['target_id']==target_row]\n",
    "\n",
    "    if len(rated_items) > 0:\n",
    "        for index, sim_item in rated_items.iterrows():\n",
    "#             получаем оценку пользователя для фильма\n",
    "            user_rating = current_user_ratings[current_user_ratings['movieId']==sim_item['source_id']].iloc[0]['rating']\n",
    "#         вычитаем из оценки среднюю для пользователя\n",
    "            r = user_rating- current_user_mean\n",
    "#     умножаем схожесть на оценку\n",
    "            pre += sim_item.similarity * r\n",
    "            sim_sum += sim_item.similarity\n",
    "        if sim_sum > 0:\n",
    "# формируем прогноз\n",
    "            recs.loc[recs.shape[0]] = [target_row,current_user_mean + pre/sim_sum,rated_items['source_id'].values]\n",
    "\n",
    "recs.sort_values(['prediction'], ascending=[0],inplace=True)\n",
    "recs.reset_index(drop=True, inplace=True)\n",
    "print(recs)\n"
   ]
  },
  {
   "cell_type": "code",
   "execution_count": 28,
   "id": "73e9bc3a",
   "metadata": {},
   "outputs": [],
   "source": [
    "def get_recs(userId, n=30):\n",
    "    current_user_ratings  = users_ratings[users_ratings['userId']==userId]\n",
    "    \n",
    "    current_user_mean = current_user_ratings['rating'].mean()\n",
    "\n",
    "    # сортируем оценки по самым высоким\n",
    "    current_user_ratings.sort_values(['rating'], ascending=[0],inplace=True)\n",
    "    current_user_ratings.reset_index(drop=True, inplace=True)\n",
    "    \n",
    "    # получаем только те фильмы которые оцнены текущим пользователем и находятся в таблице сходств\n",
    "    in_source=similarity_table['source_id'].isin(current_user_ratings['movieId']) \n",
    "    # Исключаем из таблице сходств уже оцененные фильмы пользователи (не нужно рекомендовать, то, что уже было просмотренно)\n",
    "    not_in_target=~similarity_table['target_id'].isin(current_user_ratings['movieId'])\n",
    "\n",
    "    # Получаем таблиц сходств для текущего пользователя\n",
    "    top_by_sims = similarity_table.loc[in_source &  not_in_target].sort_values(['similarity'], ascending=[0])[:n]\n",
    "    top_by_sims.reset_index(drop=True, inplace=True)\n",
    "    \n",
    "    columns = ['target_id', 'prediction', 'sim_movies']\n",
    "    recs = pd.DataFrame([],columns=columns)\n",
    "    targets = top_by_sims['target_id']\n",
    "\n",
    "    for target_row in targets:\n",
    "        pre = 0\n",
    "        sim_sum = 0\n",
    "\n",
    "        rated_items = top_by_sims[top_by_sims['target_id']==target_row]\n",
    "\n",
    "        if len(rated_items) > 0:\n",
    "            for index, sim_item in rated_items.iterrows():\n",
    "    #             получаем оценку пользователя для фильма\n",
    "                user_rating = current_user_ratings[current_user_ratings['movieId']==sim_item['source_id']].iloc[0]['rating']\n",
    "    #         вычитаем из оценки среднюю для пользователя\n",
    "                r = user_rating- current_user_mean\n",
    "    #     умножаем схожесть на оценку\n",
    "                pre += sim_item.similarity * r\n",
    "                sim_sum += sim_item.similarity\n",
    "            if sim_sum > 0:\n",
    "    # формируем прогноз\n",
    "                recs.loc[recs.shape[0]] = [target_row,current_user_mean + pre/sim_sum,rated_items['source_id'].values]\n",
    "\n",
    "    recs.sort_values(['prediction'], ascending=[0],inplace=True)\n",
    "    recs.reset_index(drop=True, inplace=True)\n",
    "    \n",
    "    return recs\n",
    "    "
   ]
  },
  {
   "cell_type": "code",
   "execution_count": 29,
   "id": "5e5f4b8a",
   "metadata": {},
   "outputs": [
    {
     "name": "stderr",
     "output_type": "stream",
     "text": [
      "<ipython-input-28-e3105631a65a>:7: SettingWithCopyWarning: \n",
      "A value is trying to be set on a copy of a slice from a DataFrame\n",
      "\n",
      "See the caveats in the documentation: https://pandas.pydata.org/pandas-docs/stable/user_guide/indexing.html#returning-a-view-versus-a-copy\n",
      "  current_user_ratings.sort_values(['rating'], ascending=[0],inplace=True)\n"
     ]
    },
    {
     "data": {
      "text/html": [
       "<div>\n",
       "<style scoped>\n",
       "    .dataframe tbody tr th:only-of-type {\n",
       "        vertical-align: middle;\n",
       "    }\n",
       "\n",
       "    .dataframe tbody tr th {\n",
       "        vertical-align: top;\n",
       "    }\n",
       "\n",
       "    .dataframe thead th {\n",
       "        text-align: right;\n",
       "    }\n",
       "</style>\n",
       "<table border=\"1\" class=\"dataframe\">\n",
       "  <thead>\n",
       "    <tr style=\"text-align: right;\">\n",
       "      <th></th>\n",
       "      <th>target_id</th>\n",
       "      <th>prediction</th>\n",
       "      <th>sim_movies</th>\n",
       "    </tr>\n",
       "  </thead>\n",
       "  <tbody>\n",
       "    <tr>\n",
       "      <th>0</th>\n",
       "      <td>34534</td>\n",
       "      <td>5.0</td>\n",
       "      <td>[8810]</td>\n",
       "    </tr>\n",
       "    <tr>\n",
       "      <th>1</th>\n",
       "      <td>33672</td>\n",
       "      <td>5.0</td>\n",
       "      <td>[8810]</td>\n",
       "    </tr>\n",
       "    <tr>\n",
       "      <th>2</th>\n",
       "      <td>31420</td>\n",
       "      <td>5.0</td>\n",
       "      <td>[8810]</td>\n",
       "    </tr>\n",
       "    <tr>\n",
       "      <th>3</th>\n",
       "      <td>6707</td>\n",
       "      <td>5.0</td>\n",
       "      <td>[8810]</td>\n",
       "    </tr>\n",
       "    <tr>\n",
       "      <th>4</th>\n",
       "      <td>6294</td>\n",
       "      <td>5.0</td>\n",
       "      <td>[8810]</td>\n",
       "    </tr>\n",
       "    <tr>\n",
       "      <th>5</th>\n",
       "      <td>6482</td>\n",
       "      <td>5.0</td>\n",
       "      <td>[8810]</td>\n",
       "    </tr>\n",
       "    <tr>\n",
       "      <th>6</th>\n",
       "      <td>40732</td>\n",
       "      <td>5.0</td>\n",
       "      <td>[8810]</td>\n",
       "    </tr>\n",
       "    <tr>\n",
       "      <th>7</th>\n",
       "      <td>35957</td>\n",
       "      <td>5.0</td>\n",
       "      <td>[8810]</td>\n",
       "    </tr>\n",
       "    <tr>\n",
       "      <th>8</th>\n",
       "      <td>32029</td>\n",
       "      <td>5.0</td>\n",
       "      <td>[8810]</td>\n",
       "    </tr>\n",
       "    <tr>\n",
       "      <th>9</th>\n",
       "      <td>5573</td>\n",
       "      <td>5.0</td>\n",
       "      <td>[8810]</td>\n",
       "    </tr>\n",
       "    <tr>\n",
       "      <th>10</th>\n",
       "      <td>51709</td>\n",
       "      <td>5.0</td>\n",
       "      <td>[8810]</td>\n",
       "    </tr>\n",
       "    <tr>\n",
       "      <th>11</th>\n",
       "      <td>45726</td>\n",
       "      <td>5.0</td>\n",
       "      <td>[8810]</td>\n",
       "    </tr>\n",
       "    <tr>\n",
       "      <th>12</th>\n",
       "      <td>31225</td>\n",
       "      <td>5.0</td>\n",
       "      <td>[8810]</td>\n",
       "    </tr>\n",
       "    <tr>\n",
       "      <th>13</th>\n",
       "      <td>68205</td>\n",
       "      <td>5.0</td>\n",
       "      <td>[8810]</td>\n",
       "    </tr>\n",
       "    <tr>\n",
       "      <th>14</th>\n",
       "      <td>46335</td>\n",
       "      <td>5.0</td>\n",
       "      <td>[8810]</td>\n",
       "    </tr>\n",
       "    <tr>\n",
       "      <th>15</th>\n",
       "      <td>46322</td>\n",
       "      <td>5.0</td>\n",
       "      <td>[8810]</td>\n",
       "    </tr>\n",
       "    <tr>\n",
       "      <th>16</th>\n",
       "      <td>54736</td>\n",
       "      <td>5.0</td>\n",
       "      <td>[8810]</td>\n",
       "    </tr>\n",
       "    <tr>\n",
       "      <th>17</th>\n",
       "      <td>33437</td>\n",
       "      <td>5.0</td>\n",
       "      <td>[8810]</td>\n",
       "    </tr>\n",
       "    <tr>\n",
       "      <th>18</th>\n",
       "      <td>37380</td>\n",
       "      <td>5.0</td>\n",
       "      <td>[8810]</td>\n",
       "    </tr>\n",
       "    <tr>\n",
       "      <th>19</th>\n",
       "      <td>7376</td>\n",
       "      <td>5.0</td>\n",
       "      <td>[8810]</td>\n",
       "    </tr>\n",
       "    <tr>\n",
       "      <th>20</th>\n",
       "      <td>3095</td>\n",
       "      <td>4.5</td>\n",
       "      <td>[1283]</td>\n",
       "    </tr>\n",
       "    <tr>\n",
       "      <th>21</th>\n",
       "      <td>7234</td>\n",
       "      <td>4.5</td>\n",
       "      <td>[6993]</td>\n",
       "    </tr>\n",
       "    <tr>\n",
       "      <th>22</th>\n",
       "      <td>4211</td>\n",
       "      <td>4.5</td>\n",
       "      <td>[6993]</td>\n",
       "    </tr>\n",
       "    <tr>\n",
       "      <th>23</th>\n",
       "      <td>2022</td>\n",
       "      <td>4.5</td>\n",
       "      <td>[1283]</td>\n",
       "    </tr>\n",
       "    <tr>\n",
       "      <th>24</th>\n",
       "      <td>4546</td>\n",
       "      <td>4.5</td>\n",
       "      <td>[6993]</td>\n",
       "    </tr>\n",
       "    <tr>\n",
       "      <th>25</th>\n",
       "      <td>3365</td>\n",
       "      <td>4.5</td>\n",
       "      <td>[1283]</td>\n",
       "    </tr>\n",
       "    <tr>\n",
       "      <th>26</th>\n",
       "      <td>6868</td>\n",
       "      <td>3.5</td>\n",
       "      <td>[5294]</td>\n",
       "    </tr>\n",
       "    <tr>\n",
       "      <th>27</th>\n",
       "      <td>6820</td>\n",
       "      <td>3.5</td>\n",
       "      <td>[5294]</td>\n",
       "    </tr>\n",
       "    <tr>\n",
       "      <th>28</th>\n",
       "      <td>195</td>\n",
       "      <td>3.0</td>\n",
       "      <td>[277]</td>\n",
       "    </tr>\n",
       "    <tr>\n",
       "      <th>29</th>\n",
       "      <td>191</td>\n",
       "      <td>3.0</td>\n",
       "      <td>[277]</td>\n",
       "    </tr>\n",
       "  </tbody>\n",
       "</table>\n",
       "</div>"
      ],
      "text/plain": [
       "   target_id  prediction sim_movies\n",
       "0      34534         5.0     [8810]\n",
       "1      33672         5.0     [8810]\n",
       "2      31420         5.0     [8810]\n",
       "3       6707         5.0     [8810]\n",
       "4       6294         5.0     [8810]\n",
       "5       6482         5.0     [8810]\n",
       "6      40732         5.0     [8810]\n",
       "7      35957         5.0     [8810]\n",
       "8      32029         5.0     [8810]\n",
       "9       5573         5.0     [8810]\n",
       "10     51709         5.0     [8810]\n",
       "11     45726         5.0     [8810]\n",
       "12     31225         5.0     [8810]\n",
       "13     68205         5.0     [8810]\n",
       "14     46335         5.0     [8810]\n",
       "15     46322         5.0     [8810]\n",
       "16     54736         5.0     [8810]\n",
       "17     33437         5.0     [8810]\n",
       "18     37380         5.0     [8810]\n",
       "19      7376         5.0     [8810]\n",
       "20      3095         4.5     [1283]\n",
       "21      7234         4.5     [6993]\n",
       "22      4211         4.5     [6993]\n",
       "23      2022         4.5     [1283]\n",
       "24      4546         4.5     [6993]\n",
       "25      3365         4.5     [1283]\n",
       "26      6868         3.5     [5294]\n",
       "27      6820         3.5     [5294]\n",
       "28       195         3.0      [277]\n",
       "29       191         3.0      [277]"
      ]
     },
     "execution_count": 29,
     "metadata": {},
     "output_type": "execute_result"
    }
   ],
   "source": [
    "get_recs(1, n=30)"
   ]
  },
  {
   "cell_type": "code",
   "execution_count": null,
   "id": "16d1b978",
   "metadata": {},
   "outputs": [],
   "source": []
  }
 ],
 "metadata": {
  "kernelspec": {
   "display_name": "Python 3",
   "language": "python",
   "name": "python3"
  },
  "language_info": {
   "codemirror_mode": {
    "name": "ipython",
    "version": 3
   },
   "file_extension": ".py",
   "mimetype": "text/x-python",
   "name": "python",
   "nbconvert_exporter": "python",
   "pygments_lexer": "ipython3",
   "version": "3.8.8"
  }
 },
 "nbformat": 4,
 "nbformat_minor": 5
}
