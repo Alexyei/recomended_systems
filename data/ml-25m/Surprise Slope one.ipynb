{
 "cells": [
  {
   "cell_type": "code",
   "execution_count": 1,
   "id": "5b00c274",
   "metadata": {},
   "outputs": [],
   "source": [
    "from surprise import Dataset\n",
    "from surprise import Reader\n",
    "from surprise.model_selection import KFold\n",
    "from surprise import SlopeOne\n",
    "from surprise import accuracy\n",
    "import numpy as np\n",
    "import pandas as pd\n",
    "from tqdm import tqdm\n",
    "import pickle as pickle"
   ]
  },
  {
   "cell_type": "code",
   "execution_count": 2,
   "id": "bb068080",
   "metadata": {},
   "outputs": [
    {
     "name": "stdout",
     "output_type": "stream",
     "text": [
      "   userId  movieId  rating   timestamp\n",
      "0       1      296     5.0  1147880044\n",
      "1       1      306     3.5  1147868817\n",
      "2       1      307     5.0  1147868828\n",
      "3       1      665     5.0  1147878820\n",
      "4       1      899     3.5  1147868510\n"
     ]
    }
   ],
   "source": [
    "ratings_data = pd.read_csv(\"ratings.csv\")\n",
    "print(ratings_data.head())"
   ]
  },
  {
   "cell_type": "code",
   "execution_count": 3,
   "id": "fe828f52",
   "metadata": {},
   "outputs": [
    {
     "data": {
      "text/html": [
       "<div>\n",
       "<style scoped>\n",
       "    .dataframe tbody tr th:only-of-type {\n",
       "        vertical-align: middle;\n",
       "    }\n",
       "\n",
       "    .dataframe tbody tr th {\n",
       "        vertical-align: top;\n",
       "    }\n",
       "\n",
       "    .dataframe thead th {\n",
       "        text-align: right;\n",
       "    }\n",
       "</style>\n",
       "<table border=\"1\" class=\"dataframe\">\n",
       "  <thead>\n",
       "    <tr style=\"text-align: right;\">\n",
       "      <th></th>\n",
       "      <th>userId</th>\n",
       "      <th>movieId</th>\n",
       "      <th>rating</th>\n",
       "    </tr>\n",
       "  </thead>\n",
       "  <tbody>\n",
       "    <tr>\n",
       "      <th>0</th>\n",
       "      <td>1</td>\n",
       "      <td>296</td>\n",
       "      <td>5.0</td>\n",
       "    </tr>\n",
       "    <tr>\n",
       "      <th>1</th>\n",
       "      <td>1</td>\n",
       "      <td>306</td>\n",
       "      <td>3.5</td>\n",
       "    </tr>\n",
       "    <tr>\n",
       "      <th>2</th>\n",
       "      <td>1</td>\n",
       "      <td>307</td>\n",
       "      <td>5.0</td>\n",
       "    </tr>\n",
       "    <tr>\n",
       "      <th>3</th>\n",
       "      <td>1</td>\n",
       "      <td>665</td>\n",
       "      <td>5.0</td>\n",
       "    </tr>\n",
       "    <tr>\n",
       "      <th>4</th>\n",
       "      <td>1</td>\n",
       "      <td>899</td>\n",
       "      <td>3.5</td>\n",
       "    </tr>\n",
       "  </tbody>\n",
       "</table>\n",
       "</div>"
      ],
      "text/plain": [
       "   userId  movieId  rating\n",
       "0       1      296     5.0\n",
       "1       1      306     3.5\n",
       "2       1      307     5.0\n",
       "3       1      665     5.0\n",
       "4       1      899     3.5"
      ]
     },
     "execution_count": 3,
     "metadata": {},
     "output_type": "execute_result"
    }
   ],
   "source": [
    "movie_data = ratings_data.drop('timestamp', axis=1)\n",
    "# movie_data = pd.merge(ratings_data, movie_names, on='movieId')\n",
    "movie_data.head()"
   ]
  },
  {
   "cell_type": "code",
   "execution_count": 4,
   "id": "45a0bafb",
   "metadata": {},
   "outputs": [
    {
     "name": "stdout",
     "output_type": "stream",
     "text": [
      "Empty DataFrame\n",
      "Columns: [userId, movieId, rating]\n",
      "Index: []\n",
      "4.3\n",
      "3.2212201591511938\n"
     ]
    }
   ],
   "source": [
    "print(movie_data.loc[(movie_data['userId']==200) & (movie_data['movieId']==100)])\n",
    "print(movie_data.loc[movie_data['userId']==200,'rating'].mean())\n",
    "print(movie_data.loc[movie_data['movieId']==100,'rating'].mean())"
   ]
  },
  {
   "cell_type": "code",
   "execution_count": 5,
   "id": "6253035e",
   "metadata": {},
   "outputs": [],
   "source": [
    "# import sys\n",
    "# !{sys.executable} -m pip install surprise"
   ]
  },
  {
   "cell_type": "code",
   "execution_count": 6,
   "id": "a3e64548",
   "metadata": {},
   "outputs": [],
   "source": [
    "reader = Reader(line_format= 'user item rating timestamp',sep = ',',skip_lines=1)\n",
    "data = Dataset.load_from_file('./ratings.csv',reader = reader)\n",
    "trainset = data.build_full_trainset()"
   ]
  },
  {
   "cell_type": "code",
   "execution_count": 7,
   "id": "229335ff",
   "metadata": {},
   "outputs": [
    {
     "ename": "MemoryError",
     "evalue": "Unable to allocate 26.0 GiB for an array with shape (59047, 59047) and data type float64",
     "output_type": "error",
     "traceback": [
      "\u001b[1;31m---------------------------------------------------------------------------\u001b[0m",
      "\u001b[1;31mMemoryError\u001b[0m                               Traceback (most recent call last)",
      "\u001b[1;32m<ipython-input-7-10b179ec7d5f>\u001b[0m in \u001b[0;36m<module>\u001b[1;34m\u001b[0m\n\u001b[0;32m      1\u001b[0m \u001b[1;31m#Use SlopeOne algorithm\u001b[0m\u001b[1;33m\u001b[0m\u001b[1;33m\u001b[0m\u001b[1;33m\u001b[0m\u001b[0m\n\u001b[0;32m      2\u001b[0m \u001b[0malgo\u001b[0m \u001b[1;33m=\u001b[0m \u001b[0mSlopeOne\u001b[0m\u001b[1;33m(\u001b[0m\u001b[1;33m)\u001b[0m\u001b[1;33m\u001b[0m\u001b[1;33m\u001b[0m\u001b[0m\n\u001b[1;32m----> 3\u001b[1;33m \u001b[0malgo\u001b[0m\u001b[1;33m.\u001b[0m\u001b[0mfit\u001b[0m\u001b[1;33m(\u001b[0m\u001b[0mtrainset\u001b[0m\u001b[1;33m)\u001b[0m\u001b[1;33m\u001b[0m\u001b[1;33m\u001b[0m\u001b[0m\n\u001b[0m",
      "\u001b[1;32m~\\anaconda3\\lib\\site-packages\\surprise\\prediction_algorithms\\slope_one.pyx\u001b[0m in \u001b[0;36msurprise.prediction_algorithms.slope_one.SlopeOne.fit\u001b[1;34m()\u001b[0m\n",
      "\u001b[1;31mMemoryError\u001b[0m: Unable to allocate 26.0 GiB for an array with shape (59047, 59047) and data type float64"
     ]
    }
   ],
   "source": [
    "#Use SlopeOne algorithm\n",
    "algo = SlopeOne()\n",
    "algo.fit(trainset)"
   ]
  },
  {
   "cell_type": "code",
   "execution_count": null,
   "id": "498e0474",
   "metadata": {},
   "outputs": [],
   "source": [
    "#Perform scoring predictions on specified users and products\n",
    "uid =str(200)\n",
    "iid = str(100)\n",
    "pred = algo.predict(uid,iid)"
   ]
  },
  {
   "cell_type": "code",
   "execution_count": null,
   "id": "8e6d2c91",
   "metadata": {},
   "outputs": [],
   "source": [
    "print(pred.est)"
   ]
  },
  {
   "cell_type": "code",
   "execution_count": null,
   "id": "33357d14",
   "metadata": {},
   "outputs": [],
   "source": [
    "users_ratings_prediction = pd.DataFrame([],columns=['userId','movieId','rating'])\n",
    "users = pd.Series(pd.unique(movie_data['userId']))\n",
    "for _,user in tqdm(users.iteritems()):\n",
    "    not_user_movies = pd.Series(pd.unique(movie_data.loc[movie_data['userId']!=user,'movieId']))\n",
    "    user_predictions = not_user_movies.apply(lambda movie: algo.predict(str(user),str(movie)).est)\n",
    "    df = pd.DataFrame(columns = ['movieId', 'rating'])\n",
    "    df['movieId']=not_user_movies\n",
    "    df['rating']=user_predictions\n",
    "    df['userId']=user\n",
    "    users_ratings_prediction = pd.concat([users_ratings_prediction, df],ignore_index=True)\n",
    "#     print(users_ratings_prediction.tail())\n",
    "#     df = pd.DataFrame([not_user_movies,user_predictions], columns=['movieId','rating'])\n",
    "#     df['userId']=user\n",
    "#     print(df.tail())\n",
    "#     for _,movie in not_user_movies.iteritems():\n",
    "#         pred = algo.predict(str(user),str(movie))\n",
    "#         users_ratings_prediction.loc[users_ratings_prediction.shape[0]] = [user, movie, pred.est]"
   ]
  },
  {
   "cell_type": "code",
   "execution_count": null,
   "id": "bbce54e3",
   "metadata": {},
   "outputs": [],
   "source": [
    "users_ratings_prediction"
   ]
  },
  {
   "cell_type": "code",
   "execution_count": null,
   "id": "4e3cdff5",
   "metadata": {},
   "outputs": [],
   "source": [
    "users_ratings_prediction.to_csv('calculated_predictions_slope_one.csv',index=False)"
   ]
  },
  {
   "cell_type": "code",
   "execution_count": 54,
   "id": "75dc9e3e",
   "metadata": {},
   "outputs": [],
   "source": [
    "users_ratings_prediction = pd.read_csv(\"calculated_predictions_slope_one.csv\")"
   ]
  },
  {
   "cell_type": "code",
   "execution_count": 55,
   "id": "bf4bc85d",
   "metadata": {},
   "outputs": [
    {
     "data": {
      "text/html": [
       "<div>\n",
       "<style scoped>\n",
       "    .dataframe tbody tr th:only-of-type {\n",
       "        vertical-align: middle;\n",
       "    }\n",
       "\n",
       "    .dataframe tbody tr th {\n",
       "        vertical-align: top;\n",
       "    }\n",
       "\n",
       "    .dataframe thead th {\n",
       "        text-align: right;\n",
       "    }\n",
       "</style>\n",
       "<table border=\"1\" class=\"dataframe\">\n",
       "  <thead>\n",
       "    <tr style=\"text-align: right;\">\n",
       "      <th></th>\n",
       "      <th>userId</th>\n",
       "      <th>movieId</th>\n",
       "      <th>rating</th>\n",
       "    </tr>\n",
       "  </thead>\n",
       "  <tbody>\n",
       "    <tr>\n",
       "      <th>0</th>\n",
       "      <td>1</td>\n",
       "      <td>318</td>\n",
       "      <td>5.000000</td>\n",
       "    </tr>\n",
       "    <tr>\n",
       "      <th>1</th>\n",
       "      <td>1</td>\n",
       "      <td>333</td>\n",
       "      <td>4.332579</td>\n",
       "    </tr>\n",
       "    <tr>\n",
       "      <th>2</th>\n",
       "      <td>1</td>\n",
       "      <td>1704</td>\n",
       "      <td>4.919075</td>\n",
       "    </tr>\n",
       "    <tr>\n",
       "      <th>3</th>\n",
       "      <td>1</td>\n",
       "      <td>3578</td>\n",
       "      <td>4.647980</td>\n",
       "    </tr>\n",
       "    <tr>\n",
       "      <th>4</th>\n",
       "      <td>1</td>\n",
       "      <td>6874</td>\n",
       "      <td>4.961733</td>\n",
       "    </tr>\n",
       "    <tr>\n",
       "      <th>...</th>\n",
       "      <td>...</td>\n",
       "      <td>...</td>\n",
       "      <td>...</td>\n",
       "    </tr>\n",
       "    <tr>\n",
       "      <th>5928189</th>\n",
       "      <td>610</td>\n",
       "      <td>7377</td>\n",
       "      <td>3.191934</td>\n",
       "    </tr>\n",
       "    <tr>\n",
       "      <th>5928190</th>\n",
       "      <td>610</td>\n",
       "      <td>8667</td>\n",
       "      <td>3.191934</td>\n",
       "    </tr>\n",
       "    <tr>\n",
       "      <th>5928191</th>\n",
       "      <td>610</td>\n",
       "      <td>32302</td>\n",
       "      <td>4.191934</td>\n",
       "    </tr>\n",
       "    <tr>\n",
       "      <th>5928192</th>\n",
       "      <td>610</td>\n",
       "      <td>51903</td>\n",
       "      <td>2.191934</td>\n",
       "    </tr>\n",
       "    <tr>\n",
       "      <th>5928193</th>\n",
       "      <td>610</td>\n",
       "      <td>137</td>\n",
       "      <td>3.288556</td>\n",
       "    </tr>\n",
       "  </tbody>\n",
       "</table>\n",
       "<p>5928194 rows × 3 columns</p>\n",
       "</div>"
      ],
      "text/plain": [
       "         userId  movieId    rating\n",
       "0             1      318  5.000000\n",
       "1             1      333  4.332579\n",
       "2             1     1704  4.919075\n",
       "3             1     3578  4.647980\n",
       "4             1     6874  4.961733\n",
       "...         ...      ...       ...\n",
       "5928189     610     7377  3.191934\n",
       "5928190     610     8667  3.191934\n",
       "5928191     610    32302  4.191934\n",
       "5928192     610    51903  2.191934\n",
       "5928193     610      137  3.288556\n",
       "\n",
       "[5928194 rows x 3 columns]"
      ]
     },
     "execution_count": 55,
     "metadata": {},
     "output_type": "execute_result"
    }
   ],
   "source": [
    "users_ratings_prediction"
   ]
  },
  {
   "cell_type": "code",
   "execution_count": 63,
   "id": "7b8b76fb",
   "metadata": {},
   "outputs": [],
   "source": [
    "def get_recs(userId, n=10):\n",
    "    return users_ratings_prediction.loc[users_ratings_prediction['userId']==userId,['movieId','rating']].sort_values(by='rating', ascending=False)[:n]"
   ]
  },
  {
   "cell_type": "code",
   "execution_count": 64,
   "id": "23219d54",
   "metadata": {},
   "outputs": [
    {
     "data": {
      "text/html": [
       "<div>\n",
       "<style scoped>\n",
       "    .dataframe tbody tr th:only-of-type {\n",
       "        vertical-align: middle;\n",
       "    }\n",
       "\n",
       "    .dataframe tbody tr th {\n",
       "        vertical-align: top;\n",
       "    }\n",
       "\n",
       "    .dataframe thead th {\n",
       "        text-align: right;\n",
       "    }\n",
       "</style>\n",
       "<table border=\"1\" class=\"dataframe\">\n",
       "  <thead>\n",
       "    <tr style=\"text-align: right;\">\n",
       "      <th></th>\n",
       "      <th>movieId</th>\n",
       "      <th>rating</th>\n",
       "    </tr>\n",
       "  </thead>\n",
       "  <tbody>\n",
       "    <tr>\n",
       "      <th>13644</th>\n",
       "      <td>126921</td>\n",
       "      <td>5.0</td>\n",
       "    </tr>\n",
       "    <tr>\n",
       "      <th>13712</th>\n",
       "      <td>149350</td>\n",
       "      <td>5.0</td>\n",
       "    </tr>\n",
       "    <tr>\n",
       "      <th>13678</th>\n",
       "      <td>136341</td>\n",
       "      <td>5.0</td>\n",
       "    </tr>\n",
       "    <tr>\n",
       "      <th>19086</th>\n",
       "      <td>1349</td>\n",
       "      <td>5.0</td>\n",
       "    </tr>\n",
       "    <tr>\n",
       "      <th>19085</th>\n",
       "      <td>1310</td>\n",
       "      <td>5.0</td>\n",
       "    </tr>\n",
       "  </tbody>\n",
       "</table>\n",
       "</div>"
      ],
      "text/plain": [
       "      movieId  rating\n",
       "13644  126921     5.0\n",
       "13712  149350     5.0\n",
       "13678  136341     5.0\n",
       "19086    1349     5.0\n",
       "19085    1310     5.0"
      ]
     },
     "execution_count": 64,
     "metadata": {},
     "output_type": "execute_result"
    }
   ],
   "source": [
    "# получить пять рекомендация для пользователя с id==2\n",
    "get_recs(2,5)"
   ]
  },
  {
   "cell_type": "code",
   "execution_count": null,
   "id": "a42fbe89",
   "metadata": {},
   "outputs": [],
   "source": []
  }
 ],
 "metadata": {
  "kernelspec": {
   "display_name": "Python 3",
   "language": "python",
   "name": "python3"
  },
  "language_info": {
   "codemirror_mode": {
    "name": "ipython",
    "version": 3
   },
   "file_extension": ".py",
   "mimetype": "text/x-python",
   "name": "python",
   "nbconvert_exporter": "python",
   "pygments_lexer": "ipython3",
   "version": "3.8.8"
  }
 },
 "nbformat": 4,
 "nbformat_minor": 5
}
