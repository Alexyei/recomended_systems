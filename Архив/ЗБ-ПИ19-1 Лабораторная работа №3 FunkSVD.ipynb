{
 "cells": [
  {
   "cell_type": "markdown",
   "id": "692f6983",
   "metadata": {},
   "source": [
    "## FunkSVD\n",
    "У алгортима SVD есть два серьёзных минуса:\n",
    "1. Он медленный, а значит чтобы применить к реальной матрице пользователь-элемент в которой будут тычсичи (если не миллионы) строк и колонок, будет почти невозможно.\n",
    "2. Проблема разряженности, в реальности у каждого пользователя будет максимум 1% оцененных товаров, и заполнять остальные товары среднеми значениями (используя даже продвинутую технику базисных предикатов) не очень правильно.\n",
    "\n",
    "Чтобы решить эту проблем был разработан FunkSVD. FunkSVD - принимает на вход не матрицу пользователей-товаров.А список всех оценок, то есть он принимает только выставленные оценки, и ему не нужно заполнять пропуски. Во вторых мы работаем со списком, а не с бесконечной матрицей, это должно повысить производительность."
   ]
  },
  {
   "cell_type": "code",
   "execution_count": 30,
   "id": "6c088256",
   "metadata": {},
   "outputs": [],
   "source": [
    "import requests\n",
    "import time\n",
    "import pandas as pd\n",
    "import surprise as surprise\n",
    "import numpy as np\n",
    "from decimal import Decimal\n",
    "from scipy.sparse import coo_matrix\n",
    "from scipy import sparse\n",
    "from tqdm import tqdm\n",
    "import random\n",
    "from decimal import Decimal\n",
    "from collections import defaultdict\n",
    "import math\n",
    "import sys"
   ]
  },
  {
   "cell_type": "code",
   "execution_count": 31,
   "id": "f4013c81",
   "metadata": {},
   "outputs": [
    {
     "name": "stdout",
     "output_type": "stream",
     "text": [
      "   userId  movieId  rating  timestamp\n",
      "0       1        1     4.0  964982703\n",
      "1       1        3     4.0  964981247\n",
      "2       1        6     4.0  964982224\n",
      "3       1       47     5.0  964983815\n",
      "4       1       50     5.0  964982931\n"
     ]
    }
   ],
   "source": [
    "users_ratings = pd.read_csv(\"ratings.csv\")\n",
    "print(users_ratings.head())"
   ]
  },
  {
   "cell_type": "code",
   "execution_count": 32,
   "id": "cb2d424c",
   "metadata": {},
   "outputs": [
    {
     "data": {
      "text/html": [
       "<div>\n",
       "<style scoped>\n",
       "    .dataframe tbody tr th:only-of-type {\n",
       "        vertical-align: middle;\n",
       "    }\n",
       "\n",
       "    .dataframe tbody tr th {\n",
       "        vertical-align: top;\n",
       "    }\n",
       "\n",
       "    .dataframe thead th {\n",
       "        text-align: right;\n",
       "    }\n",
       "</style>\n",
       "<table border=\"1\" class=\"dataframe\">\n",
       "  <thead>\n",
       "    <tr style=\"text-align: right;\">\n",
       "      <th></th>\n",
       "      <th>userId</th>\n",
       "      <th>movieId</th>\n",
       "      <th>rating</th>\n",
       "    </tr>\n",
       "  </thead>\n",
       "  <tbody>\n",
       "    <tr>\n",
       "      <th>0</th>\n",
       "      <td>1</td>\n",
       "      <td>1</td>\n",
       "      <td>4.0</td>\n",
       "    </tr>\n",
       "    <tr>\n",
       "      <th>1</th>\n",
       "      <td>1</td>\n",
       "      <td>3</td>\n",
       "      <td>4.0</td>\n",
       "    </tr>\n",
       "    <tr>\n",
       "      <th>2</th>\n",
       "      <td>1</td>\n",
       "      <td>6</td>\n",
       "      <td>4.0</td>\n",
       "    </tr>\n",
       "    <tr>\n",
       "      <th>3</th>\n",
       "      <td>1</td>\n",
       "      <td>47</td>\n",
       "      <td>5.0</td>\n",
       "    </tr>\n",
       "    <tr>\n",
       "      <th>4</th>\n",
       "      <td>1</td>\n",
       "      <td>50</td>\n",
       "      <td>5.0</td>\n",
       "    </tr>\n",
       "  </tbody>\n",
       "</table>\n",
       "</div>"
      ],
      "text/plain": [
       "   userId  movieId  rating\n",
       "0       1        1     4.0\n",
       "1       1        3     4.0\n",
       "2       1        6     4.0\n",
       "3       1       47     5.0\n",
       "4       1       50     5.0"
      ]
     },
     "execution_count": 32,
     "metadata": {},
     "output_type": "execute_result"
    }
   ],
   "source": [
    "users_ratings = users_ratings.drop('timestamp', axis=1)\n",
    "# movie_data = pd.merge(ratings_data, movie_names, on='movieId')\n",
    "users_ratings.head()"
   ]
  },
  {
   "cell_type": "code",
   "execution_count": 33,
   "id": "767b8e7c",
   "metadata": {},
   "outputs": [],
   "source": [
    "def my_calculate_all_movies_mean(ratings):\n",
    "    avg = ratings['rating'].sum() / ratings.shape[0]\n",
    "    return Decimal(avg)"
   ]
  },
  {
   "cell_type": "code",
   "execution_count": 34,
   "id": "092657dd",
   "metadata": {},
   "outputs": [],
   "source": [
    "def my_initialize_factors(ratings, k=25):\n",
    "        user_ids = set(ratings['userId'].values)\n",
    "        movie_ids = set(ratings['movieId'].values)\n",
    "        item_counts = ratings[['movieId', 'rating']].groupby('movieId').count()\n",
    "        item_counts = item_counts.reset_index()\n",
    "        print(\"ITEM COUNTS\")\n",
    "        print(item_counts)\n",
    "\n",
    "        item_sum = ratings[['movieId', 'rating']].groupby('movieId').sum()\n",
    "        item_sum = item_sum.reset_index()\n",
    "        print(item_sum)\n",
    "\n",
    "        u_inx = {r: i for i, r in enumerate(user_ids)}\n",
    "        i_inx = {r: i for i, r in enumerate(movie_ids)}\n",
    "#         i_inx строк, k колонок\n",
    "        item_factors = np.full((len(i_inx), k), Decimal(0.1))\n",
    "        user_factors = np.full((len(u_inx), k), Decimal(0.1))\n",
    "        all_movies_mean = my_calculate_all_movies_mean(ratings)\n",
    "        print(\"ALL MOVIES MEAN\")\n",
    "        print(all_movies_mean)\n",
    "        user_bias = defaultdict(lambda: 0)\n",
    "        item_bias = defaultdict(lambda: 0)\n",
    "        \n",
    "        return u_inx, i_inx, all_movies_mean, user_bias, item_bias, item_factors, user_factors"
   ]
  },
  {
   "cell_type": "code",
   "execution_count": 35,
   "id": "ada73e3f",
   "metadata": {},
   "outputs": [],
   "source": [
    "# стохастический градиентный спуск добавляет только один фактор (один для пользователя и один для элемента) за раз, новые факторы вычисляются на основе предыдущих\n",
    "def my_stocastic_gradient_descent(factor, index_randomized, ratings, u_inx,i_inx,user_factors,item_factors,all_movies_mean,user_bias,item_bias):\n",
    "\n",
    "#     Параметры нужно подбирать чтобы RMSE была минимальной\n",
    "    #         скорость обучения\n",
    "        lr = Decimal(0.2)\n",
    "#     скорость обучения для отклонения\n",
    "        b_lr = Decimal(0.5)\n",
    "# регуляризация - сила штрафа\n",
    "        r = Decimal(0.3)\n",
    "    # регуляризация для отклонения - сила штрафа для отклонения\n",
    "        bias_r = Decimal(0.3)\n",
    "\n",
    "        for inx in index_randomized:\n",
    "#             получаем строку - [user_index, movie_index, rating]\n",
    "            rating_row = ratings[inx]\n",
    "\n",
    "#     получаем индекс пользователя\n",
    "\n",
    "            u = u_inx[rating_row[0]]\n",
    "    #  получаем индекс элемента\n",
    "            i = i_inx[rating_row[1]]\n",
    "#         получаем рейтинг\n",
    "            rating = Decimal(rating_row[2])\n",
    "\n",
    "#     получаем ошибку\n",
    "            err = (rating - my_predict(u, i,user_factors,item_factors,all_movies_mean,user_bias,item_bias))\n",
    "\n",
    "    #     корректируем отклонения\n",
    "            user_bias[u] += b_lr * (err - bias_r * user_bias[u])\n",
    "            item_bias[i] += b_lr * (err - bias_r * item_bias[i])\n",
    "\n",
    "#             получаем текущий фактор пользователя\n",
    "            user_fac = user_factors[u][factor]\n",
    "#             получаем текущий фактор элемента\n",
    "            item_fac = item_factors[i][factor]\n",
    "\n",
    "#     изменяем текущий фактор пользователя\n",
    "            user_factors[u][factor] += lr * (err * item_fac- r * user_fac)\n",
    "#     изменяем текущий фактор элемента                                                  \n",
    "            item_factors[i][factor] += lr * (err * user_fac- r * item_fac)\n",
    "                                                  \n",
    "        return my_calculate_rmse(ratings, factor,u_inx,i_inx,user_factors,item_factors,all_movies_mean,user_bias,item_bias), user_bias,item_bias,user_factors,item_factors"
   ]
  },
  {
   "cell_type": "code",
   "execution_count": 36,
   "id": "72f4aa8c",
   "metadata": {},
   "outputs": [],
   "source": [
    "#need to test\n",
    "def my_calculate_rmse(ratings, factor,u_inx,i_inx,user_factors,item_factors,all_movies_mean,user_bias,item_bias):\n",
    "\n",
    "        # row - [user_index, movie_index, rating]  \n",
    "        def difference(row):\n",
    "            \n",
    "            user_index = u_inx[row[0]]\n",
    "            item_index = i_inx[row[1]]\n",
    "\n",
    "#             Вычисляем значение факторов для пользователя и фильма\n",
    "            pq = np.dot(item_factors[item_index][:factor + 1], user_factors[user_index][:factor + 1].T)\n",
    "#     Вычисляем смещение\n",
    "            b_ui = all_movies_mean + user_bias[user_index] + item_bias[item_index]\n",
    "#     получаем прогноз\n",
    "            prediction = b_ui + pq\n",
    "#     Вычитаем из прогноза реальную оценку и возводим в квадрат\n",
    "            MSE = (prediction - Decimal(row[2])) ** 2\n",
    "            return MSE\n",
    "\n",
    "#         print(np.apply_along_axis(difference, 1, ratings))\n",
    "#         np.apply_along_axis(difference, 1, ratings) список ошибок для каждой ошибки\n",
    "# проссумируем их, разделим на количество строк и получим среднюю ошибку\n",
    "# Извлечём квадрат из средней ошибки, так как раньше мы возвели в квадрат.\n",
    "        squared = np.apply_along_axis(difference, 1, ratings).sum()\n",
    "        print(\"RMSE: \",math.sqrt(squared / ratings.shape[0]))\n",
    "        return math.sqrt(squared / ratings.shape[0])"
   ]
  },
  {
   "cell_type": "code",
   "execution_count": 37,
   "id": "c24a8d24",
   "metadata": {},
   "outputs": [],
   "source": [
    "def my_predict(user_index, item_index,user_factors,item_factors,all_movies_mean,user_bias,item_bias):\n",
    "        \n",
    "#         item_factors[item_index] список факторов фильма, user_factors[user_index].T список факторов пользователя (транспонированный)\n",
    "# перемножаем строку на столбец и получаем одно число (pq)\n",
    "        pq = np.dot(item_factors[item_index], user_factors[user_index].T)\n",
    "#     расчитываем отклонение\n",
    "        b_ui = all_movies_mean + user_bias[user_index] + item_bias[item_index]\n",
    "        prediction = b_ui + pq\n",
    "\n",
    "#         нормализация прогноза от 1 до 10 включительно\n",
    "        if prediction > 10:\n",
    "            prediction = 10\n",
    "        elif prediction < 1:\n",
    "            prediction = 1\n",
    "        return prediction"
   ]
  },
  {
   "cell_type": "code",
   "execution_count": 38,
   "id": "d9a57773",
   "metadata": {},
   "outputs": [],
   "source": [
    "#iterations:номер итерации,\n",
    "#градиентный спуск завершается когда достигнут придел итераций, или приращение становится очень маленьким < 0.01\n",
    "def my_finished(iterations, last_err, current_err,MAX_ITERATIONS=100):\n",
    "        if (iterations >= MAX_ITERATIONS):\n",
    "            print(\"FULL\")\n",
    "        \n",
    "        if iterations >= MAX_ITERATIONS or last_err - current_err < 0.001:\n",
    "            return True\n",
    "        else:\n",
    "            return False"
   ]
  },
  {
   "cell_type": "code",
   "execution_count": 41,
   "id": "56733f8e",
   "metadata": {},
   "outputs": [],
   "source": [
    "def my_train(ratings_df, k=40):\n",
    "        \n",
    "        u_inx, i_inx, all_movies_mean, user_bias, item_bias, item_factors, user_factors = my_initialize_factors(ratings_df, k)\n",
    "\n",
    "        ratings = ratings_df[['userId', 'movieId', 'rating']].values\n",
    "        index_randomized = random.sample(range(0, len(ratings)), (len(ratings) - 1))\n",
    "\n",
    "        for factor in tqdm(range(k)):\n",
    "            iterations = 0\n",
    "            last_err = sys.maxsize\n",
    "            iteration_err = sys.maxsize\n",
    "            finished = False\n",
    "            \n",
    "            while not finished:\n",
    "                iteration_err,user_bias,item_bias,user_factors,item_factors = my_stocastic_gradient_descent(factor,index_randomized, ratings, u_inx,i_inx,user_factors,item_factors,all_movies_mean,user_bias,item_bias)\n",
    "\n",
    "                iterations += 1\n",
    "                \n",
    "                finished = my_finished(iterations,last_err,iteration_err)\n",
    "                last_err = iteration_err\n",
    "\n",
    "                \n",
    "\n",
    "        return user_factors,item_factors,all_movies_mean,user_bias,item_bias,u_inx,i_inx"
   ]
  },
  {
   "cell_type": "code",
   "execution_count": 42,
   "id": "d486b0fe",
   "metadata": {},
   "outputs": [
    {
     "name": "stderr",
     "output_type": "stream",
     "text": [
      "\r",
      "  0%|                                                                                          | 0/100 [00:00<?, ?it/s]"
     ]
    },
    {
     "name": "stdout",
     "output_type": "stream",
     "text": [
      "ITEM COUNTS\n",
      "      movieId  rating\n",
      "0           1     215\n",
      "1           2     110\n",
      "2           3      52\n",
      "3           4       7\n",
      "4           5      49\n",
      "...       ...     ...\n",
      "9719   193581       1\n",
      "9720   193583       1\n",
      "9721   193585       1\n",
      "9722   193587       1\n",
      "9723   193609       1\n",
      "\n",
      "[9724 rows x 2 columns]\n",
      "      movieId  rating\n",
      "0           1   843.0\n",
      "1           2   377.5\n",
      "2           3   169.5\n",
      "3           4    16.5\n",
      "4           5   150.5\n",
      "...       ...     ...\n",
      "9719   193581     4.0\n",
      "9720   193583     3.5\n",
      "9721   193585     3.5\n",
      "9722   193587     3.5\n",
      "9723   193609     4.0\n",
      "\n",
      "[9724 rows x 2 columns]\n",
      "ALL MOVIES MEAN\n",
      "3.50155698361696199327752765384502708911895751953125\n",
      "RMSE:  1.3927425882446731\n",
      "RMSE:  1.3863378040730467\n",
      "RMSE:  1.3847773657579228\n"
     ]
    },
    {
     "name": "stderr",
     "output_type": "stream",
     "text": [
      "\r",
      "  1%|▊                                                                                 | 1/100 [00:15<24:49, 15.04s/it]"
     ]
    },
    {
     "name": "stdout",
     "output_type": "stream",
     "text": [
      "RMSE:  1.3842220354414567\n",
      "RMSE:  1.3777213954414584\n"
     ]
    },
    {
     "name": "stderr",
     "output_type": "stream",
     "text": [
      "\r",
      "  2%|█▋                                                                                | 2/100 [00:22<17:42, 10.84s/it]"
     ]
    },
    {
     "name": "stdout",
     "output_type": "stream",
     "text": [
      "RMSE:  1.3776336493809684\n",
      "RMSE:  1.3719039987736315\n"
     ]
    },
    {
     "name": "stderr",
     "output_type": "stream",
     "text": [
      "\r",
      "  3%|██▍                                                                               | 3/100 [00:30<15:14,  9.43s/it]"
     ]
    },
    {
     "name": "stdout",
     "output_type": "stream",
     "text": [
      "RMSE:  1.371871294315839\n",
      "RMSE:  1.3662072280394637\n"
     ]
    },
    {
     "name": "stderr",
     "output_type": "stream",
     "text": [
      "\r",
      "  4%|███▎                                                                              | 4/100 [00:38<14:09,  8.85s/it]"
     ]
    },
    {
     "name": "stdout",
     "output_type": "stream",
     "text": [
      "RMSE:  1.36618251574825\n",
      "RMSE:  1.360563834231292\n"
     ]
    },
    {
     "name": "stderr",
     "output_type": "stream",
     "text": [
      "\r",
      "  5%|████                                                                              | 5/100 [00:46<13:30,  8.53s/it]"
     ]
    },
    {
     "name": "stdout",
     "output_type": "stream",
     "text": [
      "RMSE:  1.3605406737415062\n",
      "RMSE:  1.354965081894592\n"
     ]
    },
    {
     "name": "stderr",
     "output_type": "stream",
     "text": [
      "\r",
      "  6%|████▉                                                                             | 6/100 [00:54<13:04,  8.34s/it]"
     ]
    },
    {
     "name": "stdout",
     "output_type": "stream",
     "text": [
      "RMSE:  1.3549428227303173\n",
      "RMSE:  1.3494115831154911\n"
     ]
    },
    {
     "name": "stderr",
     "output_type": "stream",
     "text": [
      "\r",
      "  7%|█████▋                                                                            | 7/100 [01:02<12:45,  8.23s/it]"
     ]
    },
    {
     "name": "stdout",
     "output_type": "stream",
     "text": [
      "RMSE:  1.3493899733287364\n",
      "RMSE:  1.343901150911512\n"
     ]
    },
    {
     "name": "stderr",
     "output_type": "stream",
     "text": [
      "\r",
      "  8%|██████▌                                                                           | 8/100 [01:10<12:37,  8.23s/it]"
     ]
    },
    {
     "name": "stdout",
     "output_type": "stream",
     "text": [
      "RMSE:  1.3438801461961445\n",
      "RMSE:  1.3384337710489667\n"
     ]
    },
    {
     "name": "stderr",
     "output_type": "stream",
     "text": [
      "\r",
      "  9%|███████▍                                                                          | 9/100 [01:19<12:31,  8.25s/it]"
     ]
    },
    {
     "name": "stdout",
     "output_type": "stream",
     "text": [
      "RMSE:  1.33841334329049\n",
      "RMSE:  1.3330094545403335\n"
     ]
    },
    {
     "name": "stderr",
     "output_type": "stream",
     "text": [
      "\r",
      " 10%|████████                                                                         | 10/100 [01:27<12:26,  8.29s/it]"
     ]
    },
    {
     "name": "stdout",
     "output_type": "stream",
     "text": [
      "RMSE:  1.3329895824244369\n",
      "RMSE:  1.327628267057464\n"
     ]
    },
    {
     "name": "stderr",
     "output_type": "stream",
     "text": [
      "\r",
      " 11%|████████▉                                                                        | 11/100 [01:35<12:17,  8.29s/it]"
     ]
    },
    {
     "name": "stdout",
     "output_type": "stream",
     "text": [
      "RMSE:  1.3276089014706076\n",
      "RMSE:  1.3222903351206083\n"
     ]
    },
    {
     "name": "stderr",
     "output_type": "stream",
     "text": [
      "\r",
      " 12%|█████████▋                                                                       | 12/100 [01:44<12:12,  8.32s/it]"
     ]
    },
    {
     "name": "stdout",
     "output_type": "stream",
     "text": [
      "RMSE:  1.322271396361491\n",
      "RMSE:  1.3169957612275094\n"
     ]
    },
    {
     "name": "stderr",
     "output_type": "stream",
     "text": [
      "\r",
      " 13%|██████████▌                                                                      | 13/100 [01:52<12:10,  8.40s/it]"
     ]
    },
    {
     "name": "stdout",
     "output_type": "stream",
     "text": [
      "RMSE:  1.3169771906739929\n",
      "RMSE:  1.311744746209118\n"
     ]
    },
    {
     "name": "stderr",
     "output_type": "stream",
     "text": [
      "\r",
      " 14%|███████████▎                                                                     | 14/100 [02:01<12:08,  8.47s/it]"
     ]
    },
    {
     "name": "stdout",
     "output_type": "stream",
     "text": [
      "RMSE:  1.3117265525973145\n",
      "RMSE:  1.3065373895081174\n"
     ]
    },
    {
     "name": "stderr",
     "output_type": "stream",
     "text": [
      "\r",
      " 15%|████████████▏                                                                    | 15/100 [02:10<12:06,  8.54s/it]"
     ]
    },
    {
     "name": "stdout",
     "output_type": "stream",
     "text": [
      "RMSE:  1.3065195402272711\n",
      "RMSE:  1.301373825699435\n"
     ]
    },
    {
     "name": "stderr",
     "output_type": "stream",
     "text": [
      "\r",
      " 16%|████████████▉                                                                    | 16/100 [02:18<12:01,  8.59s/it]"
     ]
    },
    {
     "name": "stdout",
     "output_type": "stream",
     "text": [
      "RMSE:  1.301356297224571\n",
      "RMSE:  1.2962543643805822\n"
     ]
    },
    {
     "name": "stderr",
     "output_type": "stream",
     "text": [
      "\r",
      " 17%|█████████████▊                                                                   | 17/100 [02:27<11:59,  8.66s/it]"
     ]
    },
    {
     "name": "stdout",
     "output_type": "stream",
     "text": [
      "RMSE:  1.2962370479575904\n",
      "RMSE:  1.2911791529785965\n"
     ]
    },
    {
     "name": "stderr",
     "output_type": "stream",
     "text": [
      "\r",
      " 18%|██████████████▌                                                                  | 18/100 [02:36<11:59,  8.78s/it]"
     ]
    },
    {
     "name": "stdout",
     "output_type": "stream",
     "text": [
      "RMSE:  1.2911620276498692\n",
      "RMSE:  1.28614843407964\n"
     ]
    },
    {
     "name": "stderr",
     "output_type": "stream",
     "text": [
      "\r",
      " 19%|███████████████▍                                                                 | 19/100 [02:45<11:56,  8.84s/it]"
     ]
    },
    {
     "name": "stdout",
     "output_type": "stream",
     "text": [
      "RMSE:  1.286131558539362\n",
      "RMSE:  1.281162423626529\n"
     ]
    },
    {
     "name": "stderr",
     "output_type": "stream",
     "text": [
      "\r",
      " 20%|████████████████▏                                                                | 20/100 [02:54<11:52,  8.90s/it]"
     ]
    },
    {
     "name": "stdout",
     "output_type": "stream",
     "text": [
      "RMSE:  1.281145782072785\n",
      "RMSE:  1.2762214249744357\n"
     ]
    },
    {
     "name": "stderr",
     "output_type": "stream",
     "text": [
      "\r",
      " 21%|█████████████████                                                                | 21/100 [03:03<11:50,  8.99s/it]"
     ]
    },
    {
     "name": "stdout",
     "output_type": "stream",
     "text": [
      "RMSE:  1.2762050037762613\n",
      "RMSE:  1.2713257528640742\n"
     ]
    },
    {
     "name": "stderr",
     "output_type": "stream",
     "text": [
      "\r",
      " 22%|█████████████████▊                                                               | 22/100 [03:13<11:47,  9.08s/it]"
     ]
    },
    {
     "name": "stdout",
     "output_type": "stream",
     "text": [
      "RMSE:  1.2713095326304535\n",
      "RMSE:  1.266475694066446\n"
     ]
    },
    {
     "name": "stderr",
     "output_type": "stream",
     "text": [
      "\r",
      " 23%|██████████████████▋                                                              | 23/100 [03:22<11:44,  9.16s/it]"
     ]
    },
    {
     "name": "stdout",
     "output_type": "stream",
     "text": [
      "RMSE:  1.2664596572019944\n",
      "RMSE:  1.2616715644709875\n"
     ]
    },
    {
     "name": "stderr",
     "output_type": "stream",
     "text": [
      "\r",
      " 24%|███████████████████▍                                                             | 24/100 [03:31<11:42,  9.24s/it]"
     ]
    },
    {
     "name": "stdout",
     "output_type": "stream",
     "text": [
      "RMSE:  1.2616556987044707\n",
      "RMSE:  1.2569136987158598\n"
     ]
    },
    {
     "name": "stderr",
     "output_type": "stream",
     "text": [
      "\r",
      " 25%|████████████████████▎                                                            | 25/100 [03:41<11:45,  9.41s/it]"
     ]
    },
    {
     "name": "stdout",
     "output_type": "stream",
     "text": [
      "RMSE:  1.2568979838209944\n",
      "RMSE:  1.2522024153833873\n"
     ]
    },
    {
     "name": "stderr",
     "output_type": "stream",
     "text": [
      "\r",
      " 26%|█████████████████████                                                            | 26/100 [03:51<11:49,  9.59s/it]"
     ]
    },
    {
     "name": "stdout",
     "output_type": "stream",
     "text": [
      "RMSE:  1.2521868409215584\n",
      "RMSE:  1.2475380591618404\n"
     ]
    },
    {
     "name": "stderr",
     "output_type": "stream",
     "text": [
      "\r",
      " 27%|█████████████████████▊                                                           | 27/100 [04:01<11:50,  9.73s/it]"
     ]
    },
    {
     "name": "stdout",
     "output_type": "stream",
     "text": [
      "RMSE:  1.2475226364760523\n",
      "RMSE:  1.2429210269447852\n"
     ]
    },
    {
     "name": "stderr",
     "output_type": "stream",
     "text": [
      "\r",
      " 28%|██████████████████████▋                                                          | 28/100 [04:11<11:47,  9.83s/it]"
     ]
    },
    {
     "name": "stdout",
     "output_type": "stream",
     "text": [
      "RMSE:  1.242905754379844\n",
      "RMSE:  1.2383516969854438\n"
     ]
    },
    {
     "name": "stderr",
     "output_type": "stream",
     "text": [
      "\r",
      " 29%|███████████████████████▍                                                         | 29/100 [04:21<11:42,  9.89s/it]"
     ]
    },
    {
     "name": "stdout",
     "output_type": "stream",
     "text": [
      "RMSE:  1.2383365542135476\n",
      "RMSE:  1.2338304385667933\n"
     ]
    },
    {
     "name": "stderr",
     "output_type": "stream",
     "text": [
      "\r",
      " 30%|████████████████████████▎                                                        | 30/100 [04:31<11:19,  9.71s/it]"
     ]
    },
    {
     "name": "stdout",
     "output_type": "stream",
     "text": [
      "RMSE:  1.233815421085141\n",
      "RMSE:  1.2293575779829524\n"
     ]
    },
    {
     "name": "stderr",
     "output_type": "stream",
     "text": [
      "\r",
      " 31%|█████████████████████████                                                        | 31/100 [04:40<11:02,  9.60s/it]"
     ]
    },
    {
     "name": "stdout",
     "output_type": "stream",
     "text": [
      "RMSE:  1.2293427141250057\n",
      "RMSE:  1.2249335823667515\n"
     ]
    },
    {
     "name": "stderr",
     "output_type": "stream",
     "text": [
      "\r",
      " 32%|█████████████████████████▉                                                       | 32/100 [04:49<10:49,  9.55s/it]"
     ]
    },
    {
     "name": "stdout",
     "output_type": "stream",
     "text": [
      "RMSE:  1.2249188353621199\n",
      "RMSE:  1.2205588394680078\n"
     ]
    },
    {
     "name": "stderr",
     "output_type": "stream",
     "text": [
      "\r",
      " 33%|██████████████████████████▋                                                      | 33/100 [04:59<10:40,  9.55s/it]"
     ]
    },
    {
     "name": "stdout",
     "output_type": "stream",
     "text": [
      "RMSE:  1.2205442027172546\n",
      "RMSE:  1.216233761093438\n"
     ]
    },
    {
     "name": "stderr",
     "output_type": "stream",
     "text": [
      "\r",
      " 34%|███████████████████████████▌                                                     | 34/100 [05:09<10:34,  9.61s/it]"
     ]
    },
    {
     "name": "stdout",
     "output_type": "stream",
     "text": [
      "RMSE:  1.2162192344548604\n",
      "RMSE:  1.2119587498182793\n"
     ]
    },
    {
     "name": "stderr",
     "output_type": "stream",
     "text": [
      "\r",
      " 35%|████████████████████████████▎                                                    | 35/100 [05:18<10:23,  9.59s/it]"
     ]
    },
    {
     "name": "stdout",
     "output_type": "stream",
     "text": [
      "RMSE:  1.2119443449464173\n",
      "RMSE:  1.20773426409714\n"
     ]
    },
    {
     "name": "stderr",
     "output_type": "stream",
     "text": [
      "\r",
      " 36%|█████████████████████████████▏                                                   | 36/100 [05:29<10:29,  9.84s/it]"
     ]
    },
    {
     "name": "stdout",
     "output_type": "stream",
     "text": [
      "RMSE:  1.207719963169292\n",
      "RMSE:  1.2035604744802868\n"
     ]
    },
    {
     "name": "stderr",
     "output_type": "stream",
     "text": [
      "\r",
      " 37%|█████████████████████████████▉                                                   | 37/100 [05:39<10:20,  9.84s/it]"
     ]
    },
    {
     "name": "stdout",
     "output_type": "stream",
     "text": [
      "RMSE:  1.2035460965811648\n",
      "RMSE:  1.1994373390991286\n"
     ]
    },
    {
     "name": "stderr",
     "output_type": "stream",
     "text": [
      "\r",
      " 38%|██████████████████████████████▊                                                  | 38/100 [05:48<10:09,  9.83s/it]"
     ]
    },
    {
     "name": "stdout",
     "output_type": "stream",
     "text": [
      "RMSE:  1.1994234685994405\n",
      "RMSE:  1.1953659771530039\n"
     ]
    },
    {
     "name": "stderr",
     "output_type": "stream",
     "text": [
      "\r",
      " 39%|███████████████████████████████▌                                                 | 39/100 [05:58<10:03,  9.89s/it]"
     ]
    },
    {
     "name": "stdout",
     "output_type": "stream",
     "text": [
      "RMSE:  1.1953526070314593\n",
      "RMSE:  1.1913469573700404\n"
     ]
    },
    {
     "name": "stderr",
     "output_type": "stream",
     "text": [
      "\r",
      " 40%|████████████████████████████████▍                                                | 40/100 [06:09<09:57,  9.96s/it]"
     ]
    },
    {
     "name": "stdout",
     "output_type": "stream",
     "text": [
      "RMSE:  1.1913339993290086\n",
      "RMSE:  1.1873806171305197\n"
     ]
    },
    {
     "name": "stderr",
     "output_type": "stream",
     "text": [
      "\r",
      " 41%|█████████████████████████████████▏                                               | 41/100 [06:19<09:50, 10.01s/it]"
     ]
    },
    {
     "name": "stdout",
     "output_type": "stream",
     "text": [
      "RMSE:  1.187367784322549\n",
      "RMSE:  1.183467402928125\n"
     ]
    },
    {
     "name": "stderr",
     "output_type": "stream",
     "text": [
      "\r",
      " 42%|██████████████████████████████████                                               | 42/100 [06:29<09:42, 10.04s/it]"
     ]
    },
    {
     "name": "stdout",
     "output_type": "stream",
     "text": [
      "RMSE:  1.1834546601786056\n",
      "RMSE:  1.1796077615816962\n"
     ]
    },
    {
     "name": "stderr",
     "output_type": "stream",
     "text": [
      "\r",
      " 43%|██████████████████████████████████▊                                              | 43/100 [06:39<09:36, 10.11s/it]"
     ]
    },
    {
     "name": "stdout",
     "output_type": "stream",
     "text": [
      "RMSE:  1.17959511990407\n",
      "RMSE:  1.1758021432485153\n"
     ]
    },
    {
     "name": "stderr",
     "output_type": "stream",
     "text": [
      "\r",
      " 44%|███████████████████████████████████▋                                             | 44/100 [06:49<09:31, 10.20s/it]"
     ]
    },
    {
     "name": "stdout",
     "output_type": "stream",
     "text": [
      "RMSE:  1.1757896059173938\n",
      "RMSE:  1.172050989754099\n"
     ]
    },
    {
     "name": "stderr",
     "output_type": "stream",
     "text": [
      "\r",
      " 45%|████████████████████████████████████▍                                            | 45/100 [07:00<09:26, 10.31s/it]"
     ]
    },
    {
     "name": "stdout",
     "output_type": "stream",
     "text": [
      "RMSE:  1.1720385422981643\n",
      "RMSE:  1.168354747864042\n"
     ]
    },
    {
     "name": "stderr",
     "output_type": "stream",
     "text": [
      "\r",
      " 46%|█████████████████████████████████████▎                                           | 46/100 [07:11<09:32, 10.60s/it]"
     ]
    },
    {
     "name": "stdout",
     "output_type": "stream",
     "text": [
      "RMSE:  1.1683423883639101\n",
      "RMSE:  1.1647138664411392\n"
     ]
    },
    {
     "name": "stderr",
     "output_type": "stream",
     "text": [
      "\r",
      " 47%|██████████████████████████████████████                                           | 47/100 [07:22<09:16, 10.50s/it]"
     ]
    },
    {
     "name": "stdout",
     "output_type": "stream",
     "text": [
      "RMSE:  1.164701599876158\n",
      "RMSE:  1.1611287946598312\n"
     ]
    },
    {
     "name": "stderr",
     "output_type": "stream",
     "text": [
      "\r",
      " 48%|██████████████████████████████████████▉                                          | 48/100 [07:32<09:02, 10.44s/it]"
     ]
    },
    {
     "name": "stdout",
     "output_type": "stream",
     "text": [
      "RMSE:  1.1611166214594053\n",
      "RMSE:  1.1575999834396602\n"
     ]
    },
    {
     "name": "stderr",
     "output_type": "stream",
     "text": [
      "\r",
      " 49%|███████████████████████████████████████▋                                         | 49/100 [07:43<09:03, 10.65s/it]"
     ]
    },
    {
     "name": "stdout",
     "output_type": "stream",
     "text": [
      "RMSE:  1.1575879020635735\n",
      "RMSE:  1.1541278838305071\n"
     ]
    },
    {
     "name": "stderr",
     "output_type": "stream",
     "text": [
      "\r",
      " 50%|████████████████████████████████████████▌                                        | 50/100 [07:54<08:59, 10.80s/it]"
     ]
    },
    {
     "name": "stdout",
     "output_type": "stream",
     "text": [
      "RMSE:  1.154115895594424\n",
      "RMSE:  1.1507129513617969\n"
     ]
    },
    {
     "name": "stderr",
     "output_type": "stream",
     "text": [
      "\r",
      " 51%|█████████████████████████████████████████▎                                       | 51/100 [08:06<08:58, 11.00s/it]"
     ]
    },
    {
     "name": "stdout",
     "output_type": "stream",
     "text": [
      "RMSE:  1.1507010542513352\n",
      "RMSE:  1.1473556316310025\n"
     ]
    },
    {
     "name": "stderr",
     "output_type": "stream",
     "text": [
      "\r",
      " 52%|██████████████████████████████████████████                                       | 52/100 [08:17<08:55, 11.16s/it]"
     ]
    },
    {
     "name": "stdout",
     "output_type": "stream",
     "text": [
      "RMSE:  1.1473438246761136\n",
      "RMSE:  1.1440563720476777\n"
     ]
    },
    {
     "name": "stderr",
     "output_type": "stream",
     "text": [
      "\r",
      " 53%|██████████████████████████████████████████▉                                      | 53/100 [08:29<08:52, 11.33s/it]"
     ]
    },
    {
     "name": "stdout",
     "output_type": "stream",
     "text": [
      "RMSE:  1.1440446650358214\n",
      "RMSE:  1.14081562456142\n"
     ]
    },
    {
     "name": "stderr",
     "output_type": "stream",
     "text": [
      "\r",
      " 54%|███████████████████████████████████████████▋                                     | 54/100 [08:41<08:51, 11.55s/it]"
     ]
    },
    {
     "name": "stdout",
     "output_type": "stream",
     "text": [
      "RMSE:  1.1408040160037491\n",
      "RMSE:  1.1376338341228207\n"
     ]
    },
    {
     "name": "stderr",
     "output_type": "stream",
     "text": [
      "\r",
      " 55%|████████████████████████████████████████████▌                                    | 55/100 [08:53<08:47, 11.73s/it]"
     ]
    },
    {
     "name": "stdout",
     "output_type": "stream",
     "text": [
      "RMSE:  1.1376223213828813\n",
      "RMSE:  1.1345114434701498\n"
     ]
    },
    {
     "name": "stderr",
     "output_type": "stream",
     "text": [
      "\r",
      " 56%|█████████████████████████████████████████████▎                                   | 56/100 [09:05<08:40, 11.82s/it]"
     ]
    },
    {
     "name": "stdout",
     "output_type": "stream",
     "text": [
      "RMSE:  1.1345000237625376\n",
      "RMSE:  1.1314488839690058\n"
     ]
    },
    {
     "name": "stderr",
     "output_type": "stream",
     "text": [
      "\r",
      " 57%|██████████████████████████████████████████████▏                                  | 57/100 [09:18<08:39, 12.09s/it]"
     ]
    },
    {
     "name": "stdout",
     "output_type": "stream",
     "text": [
      "RMSE:  1.1314375566792794\n",
      "RMSE:  1.1284465924206104\n"
     ]
    },
    {
     "name": "stderr",
     "output_type": "stream",
     "text": [
      "\r",
      " 58%|██████████████████████████████████████████████▉                                  | 58/100 [09:31<08:41, 12.41s/it]"
     ]
    },
    {
     "name": "stdout",
     "output_type": "stream",
     "text": [
      "RMSE:  1.128435368928329\n",
      "RMSE:  1.1255050145415137\n"
     ]
    },
    {
     "name": "stderr",
     "output_type": "stream",
     "text": [
      "\r",
      " 59%|███████████████████████████████████████████████▊                                 | 59/100 [09:43<08:26, 12.36s/it]"
     ]
    },
    {
     "name": "stdout",
     "output_type": "stream",
     "text": [
      "RMSE:  1.125493896650299\n",
      "RMSE:  1.122624594388885\n"
     ]
    },
    {
     "name": "stderr",
     "output_type": "stream",
     "text": [
      "\r",
      " 60%|████████████████████████████████████████████████▌                                | 60/100 [09:55<08:12, 12.30s/it]"
     ]
    },
    {
     "name": "stdout",
     "output_type": "stream",
     "text": [
      "RMSE:  1.1226135984863606\n",
      "RMSE:  1.1198057649277209\n"
     ]
    },
    {
     "name": "stderr",
     "output_type": "stream",
     "text": [
      "\r",
      " 61%|█████████████████████████████████████████████████▍                               | 61/100 [10:08<07:58, 12.26s/it]"
     ]
    },
    {
     "name": "stdout",
     "output_type": "stream",
     "text": [
      "RMSE:  1.1197948702613154\n",
      "RMSE:  1.1170488790749273\n"
     ]
    },
    {
     "name": "stderr",
     "output_type": "stream",
     "text": [
      "\r",
      " 62%|██████████████████████████████████████████████████▏                              | 62/100 [10:20<07:43, 12.20s/it]"
     ]
    },
    {
     "name": "stdout",
     "output_type": "stream",
     "text": [
      "RMSE:  1.1170381246501389\n",
      "RMSE:  1.114354354369253\n"
     ]
    },
    {
     "name": "stderr",
     "output_type": "stream",
     "text": [
      "\r",
      " 63%|███████████████████████████████████████████████████                              | 63/100 [10:32<07:33, 12.24s/it]"
     ]
    },
    {
     "name": "stdout",
     "output_type": "stream",
     "text": [
      "RMSE:  1.1143436800595368\n",
      "RMSE:  1.1117226299934464\n"
     ]
    },
    {
     "name": "stderr",
     "output_type": "stream",
     "text": [
      "\r",
      " 64%|███████████████████████████████████████████████████▊                             | 64/100 [10:44<07:21, 12.28s/it]"
     ]
    },
    {
     "name": "stdout",
     "output_type": "stream",
     "text": [
      "RMSE:  1.111712048999995\n",
      "RMSE:  1.1091541328249612\n"
     ]
    },
    {
     "name": "stderr",
     "output_type": "stream",
     "text": [
      "\r",
      " 65%|████████████████████████████████████████████████████▋                            | 65/100 [10:57<07:11, 12.33s/it]"
     ]
    },
    {
     "name": "stdout",
     "output_type": "stream",
     "text": [
      "RMSE:  1.1091436637055299\n",
      "RMSE:  1.106649269772654\n"
     ]
    },
    {
     "name": "stderr",
     "output_type": "stream",
     "text": [
      "\r",
      " 66%|█████████████████████████████████████████████████████▍                           | 66/100 [11:09<07:02, 12.41s/it]"
     ]
    },
    {
     "name": "stdout",
     "output_type": "stream",
     "text": [
      "RMSE:  1.1066389151626763\n",
      "RMSE:  1.1042083939889933\n"
     ]
    },
    {
     "name": "stderr",
     "output_type": "stream",
     "text": [
      "\r",
      " 67%|██████████████████████████████████████████████████████▎                          | 67/100 [11:22<06:51, 12.46s/it]"
     ]
    },
    {
     "name": "stdout",
     "output_type": "stream",
     "text": [
      "RMSE:  1.1041982023524477\n",
      "RMSE:  1.1018318843668917\n"
     ]
    },
    {
     "name": "stderr",
     "output_type": "stream",
     "text": [
      "\r",
      " 68%|███████████████████████████████████████████████████████                          | 68/100 [11:35<06:39, 12.48s/it]"
     ]
    },
    {
     "name": "stdout",
     "output_type": "stream",
     "text": [
      "RMSE:  1.1018218423351518\n",
      "RMSE:  1.0995201777259802\n"
     ]
    },
    {
     "name": "stderr",
     "output_type": "stream",
     "text": [
      "\r",
      " 69%|███████████████████████████████████████████████████████▉                         | 69/100 [11:47<06:28, 12.54s/it]"
     ]
    },
    {
     "name": "stdout",
     "output_type": "stream",
     "text": [
      "RMSE:  1.099510236395902\n",
      "RMSE:  1.0972735996073757\n"
     ]
    },
    {
     "name": "stderr",
     "output_type": "stream",
     "text": [
      "\r",
      " 70%|████████████████████████████████████████████████████████▋                        | 70/100 [12:00<06:18, 12.62s/it]"
     ]
    },
    {
     "name": "stdout",
     "output_type": "stream",
     "text": [
      "RMSE:  1.0972637670844434\n",
      "RMSE:  1.095092544434326\n"
     ]
    },
    {
     "name": "stderr",
     "output_type": "stream",
     "text": [
      "\r",
      " 71%|█████████████████████████████████████████████████████████▌                       | 71/100 [12:13<06:07, 12.68s/it]"
     ]
    },
    {
     "name": "stdout",
     "output_type": "stream",
     "text": [
      "RMSE:  1.0950828227779938\n",
      "RMSE:  1.09297738144275\n"
     ]
    },
    {
     "name": "stderr",
     "output_type": "stream",
     "text": [
      "\r",
      " 72%|██████████████████████████████████████████████████████████▎                      | 72/100 [12:26<05:56, 12.72s/it]"
     ]
    },
    {
     "name": "stdout",
     "output_type": "stream",
     "text": [
      "RMSE:  1.0929677788792744\n",
      "RMSE:  1.090928481679531\n"
     ]
    },
    {
     "name": "stderr",
     "output_type": "stream",
     "text": [
      "\r",
      " 73%|███████████████████████████████████████████████████████████▏                     | 73/100 [12:39<05:45, 12.80s/it]"
     ]
    },
    {
     "name": "stdout",
     "output_type": "stream",
     "text": [
      "RMSE:  1.0909189883428572\n",
      "RMSE:  1.0889461183335232\n"
     ]
    },
    {
     "name": "stderr",
     "output_type": "stream",
     "text": [
      "\r",
      " 74%|███████████████████████████████████████████████████████████▉                     | 74/100 [12:52<05:34, 12.87s/it]"
     ]
    },
    {
     "name": "stdout",
     "output_type": "stream",
     "text": [
      "RMSE:  1.0889367686825122\n",
      "RMSE:  1.0870303617381154\n"
     ]
    },
    {
     "name": "stderr",
     "output_type": "stream",
     "text": [
      "\r",
      " 75%|████████████████████████████████████████████████████████████▊                    | 75/100 [13:05<05:26, 13.05s/it]"
     ]
    },
    {
     "name": "stdout",
     "output_type": "stream",
     "text": [
      "RMSE:  1.0870212912362547\n",
      "RMSE:  1.085181735295365\n"
     ]
    },
    {
     "name": "stderr",
     "output_type": "stream",
     "text": [
      "\r",
      " 76%|█████████████████████████████████████████████████████████████▌                   | 76/100 [13:19<05:16, 13.18s/it]"
     ]
    },
    {
     "name": "stdout",
     "output_type": "stream",
     "text": [
      "RMSE:  1.0851727799026507\n",
      "RMSE:  1.0834006958077416\n"
     ]
    },
    {
     "name": "stderr",
     "output_type": "stream",
     "text": [
      "\r",
      " 77%|██████████████████████████████████████████████████████████████▎                  | 77/100 [13:33<05:09, 13.44s/it]"
     ]
    },
    {
     "name": "stdout",
     "output_type": "stream",
     "text": [
      "RMSE:  1.0833918555838409\n",
      "RMSE:  1.0816875535770907\n"
     ]
    },
    {
     "name": "stderr",
     "output_type": "stream",
     "text": [
      "\r",
      " 78%|███████████████████████████████████████████████████████████████▏                 | 78/100 [13:47<04:59, 13.63s/it]"
     ]
    },
    {
     "name": "stdout",
     "output_type": "stream",
     "text": [
      "RMSE:  1.081678842195465\n",
      "RMSE:  1.0800426122522917\n"
     ]
    },
    {
     "name": "stderr",
     "output_type": "stream",
     "text": [
      "\r",
      " 79%|███████████████████████████████████████████████████████████████▉                 | 79/100 [14:01<04:47, 13.70s/it]"
     ]
    },
    {
     "name": "stdout",
     "output_type": "stream",
     "text": [
      "RMSE:  1.0800340284631291\n",
      "RMSE:  1.0784661385079692\n"
     ]
    },
    {
     "name": "stderr",
     "output_type": "stream",
     "text": [
      "\r",
      " 80%|████████████████████████████████████████████████████████████████▊                | 80/100 [14:15<04:36, 13.82s/it]"
     ]
    },
    {
     "name": "stdout",
     "output_type": "stream",
     "text": [
      "RMSE:  1.0784576959904397\n",
      "RMSE:  1.0769584117690245\n"
     ]
    },
    {
     "name": "stderr",
     "output_type": "stream",
     "text": [
      "\r",
      " 81%|█████████████████████████████████████████████████████████████████▌               | 81/100 [14:29<04:23, 13.89s/it]"
     ]
    },
    {
     "name": "stdout",
     "output_type": "stream",
     "text": [
      "RMSE:  1.076950101815135\n",
      "RMSE:  1.0755196799284845\n"
     ]
    },
    {
     "name": "stderr",
     "output_type": "stream",
     "text": [
      "\r",
      " 82%|██████████████████████████████████████████████████████████████████▍              | 82/100 [14:43<04:11, 13.95s/it]"
     ]
    },
    {
     "name": "stdout",
     "output_type": "stream",
     "text": [
      "RMSE:  1.0755114842505935\n",
      "RMSE:  1.074150200086893\n"
     ]
    },
    {
     "name": "stderr",
     "output_type": "stream",
     "text": [
      "\r",
      " 83%|███████████████████████████████████████████████████████████████████▏             | 83/100 [14:57<03:58, 14.03s/it]"
     ]
    },
    {
     "name": "stdout",
     "output_type": "stream",
     "text": [
      "RMSE:  1.0741421362639145\n",
      "RMSE:  1.072850227288706\n"
     ]
    },
    {
     "name": "stderr",
     "output_type": "stream",
     "text": [
      "\r",
      " 84%|████████████████████████████████████████████████████████████████████             | 84/100 [15:11<03:44, 14.02s/it]"
     ]
    },
    {
     "name": "stdout",
     "output_type": "stream",
     "text": [
      "RMSE:  1.0728423091834798\n",
      "RMSE:  1.07162000616074\n"
     ]
    },
    {
     "name": "stderr",
     "output_type": "stream",
     "text": [
      "\r",
      " 85%|████████████████████████████████████████████████████████████████████▊            | 85/100 [15:25<03:30, 14.00s/it]"
     ]
    },
    {
     "name": "stdout",
     "output_type": "stream",
     "text": [
      "RMSE:  1.0716122315772356\n",
      "RMSE:  1.0704597548792316\n"
     ]
    },
    {
     "name": "stderr",
     "output_type": "stream",
     "text": [
      "\r",
      " 86%|█████████████████████████████████████████████████████████████████████▋           | 86/100 [15:39<03:16, 14.02s/it]"
     ]
    },
    {
     "name": "stdout",
     "output_type": "stream",
     "text": [
      "RMSE:  1.0704521231459396\n",
      "RMSE:  1.0693696747200894\n"
     ]
    },
    {
     "name": "stderr",
     "output_type": "stream",
     "text": [
      "\r",
      " 87%|██████████████████████████████████████████████████████████████████████▍          | 87/100 [15:54<03:04, 14.16s/it]"
     ]
    },
    {
     "name": "stdout",
     "output_type": "stream",
     "text": [
      "RMSE:  1.069362199591363\n",
      "RMSE:  1.0683499744870095\n"
     ]
    },
    {
     "name": "stderr",
     "output_type": "stream",
     "text": [
      "\r",
      " 88%|███████████████████████████████████████████████████████████████████████▎         | 88/100 [16:08<02:52, 14.40s/it]"
     ]
    },
    {
     "name": "stdout",
     "output_type": "stream",
     "text": [
      "RMSE:  1.0683426463429015\n",
      "RMSE:  1.0674007887585102\n"
     ]
    },
    {
     "name": "stderr",
     "output_type": "stream",
     "text": [
      "\r",
      " 89%|████████████████████████████████████████████████████████████████████████         | 89/100 [16:24<02:40, 14.63s/it]"
     ]
    },
    {
     "name": "stdout",
     "output_type": "stream",
     "text": [
      "RMSE:  1.0673936416803835\n",
      "RMSE:  1.0665222670396608\n"
     ]
    },
    {
     "name": "stderr",
     "output_type": "stream",
     "text": [
      "\r",
      " 90%|████████████████████████████████████████████████████████████████████████▉        | 90/100 [16:39<02:27, 14.72s/it]"
     ]
    },
    {
     "name": "stdout",
     "output_type": "stream",
     "text": [
      "RMSE:  1.0665153295317273\n",
      "RMSE:  1.06571461012445\n"
     ]
    },
    {
     "name": "stderr",
     "output_type": "stream",
     "text": [
      "\r",
      " 91%|█████████████████████████████████████████████████████████████████████████▋       | 91/100 [16:53<02:12, 14.74s/it]"
     ]
    },
    {
     "name": "stdout",
     "output_type": "stream",
     "text": [
      "RMSE:  1.0657078529588964\n",
      "RMSE:  1.064977965368071\n"
     ]
    },
    {
     "name": "stderr",
     "output_type": "stream",
     "text": [
      "\r",
      " 92%|██████████████████████████████████████████████████████████████████████████▌      | 92/100 [17:08<01:57, 14.70s/it]"
     ]
    },
    {
     "name": "stdout",
     "output_type": "stream",
     "text": [
      "RMSE:  1.0649713685208841\n",
      "RMSE:  1.0643124382545754\n"
     ]
    },
    {
     "name": "stderr",
     "output_type": "stream",
     "text": [
      "\r",
      " 93%|███████████████████████████████████████████████████████████████████████████▎     | 93/100 [17:23<01:43, 14.73s/it]"
     ]
    },
    {
     "name": "stdout",
     "output_type": "stream",
     "text": [
      "RMSE:  1.0643060222035687\n",
      "RMSE:  1.0637181612118352\n"
     ]
    },
    {
     "name": "stderr",
     "output_type": "stream",
     "text": [
      "\r",
      " 94%|████████████████████████████████████████████████████████████████████████████▏    | 94/100 [17:38<01:28, 14.81s/it]"
     ]
    },
    {
     "name": "stdout",
     "output_type": "stream",
     "text": [
      "RMSE:  1.0637119202767151\n",
      "RMSE:  1.0631952222599093\n"
     ]
    },
    {
     "name": "stderr",
     "output_type": "stream",
     "text": [
      "\r",
      " 95%|████████████████████████████████████████████████████████████████████████████▉    | 95/100 [17:53<01:14, 14.89s/it]"
     ]
    },
    {
     "name": "stdout",
     "output_type": "stream",
     "text": [
      "RMSE:  1.0631891589177893\n",
      "RMSE:  1.0627437057430082\n"
     ]
    },
    {
     "name": "stderr",
     "output_type": "stream",
     "text": [
      "\r",
      " 96%|█████████████████████████████████████████████████████████████████████████████▊   | 96/100 [18:08<01:00, 15.05s/it]"
     ]
    },
    {
     "name": "stdout",
     "output_type": "stream",
     "text": [
      "RMSE:  1.0627378206409048\n",
      "RMSE:  1.0623636885520094\n"
     ]
    },
    {
     "name": "stderr",
     "output_type": "stream",
     "text": [
      "\r",
      " 97%|██████████████████████████████████████████████████████████████████████████████▌  | 97/100 [18:24<00:45, 15.21s/it]"
     ]
    },
    {
     "name": "stdout",
     "output_type": "stream",
     "text": [
      "RMSE:  1.0623580012639353\n",
      "RMSE:  1.0620552535360743\n"
     ]
    },
    {
     "name": "stderr",
     "output_type": "stream",
     "text": [
      "\r",
      " 98%|███████████████████████████████████████████████████████████████████████████████▍ | 98/100 [18:40<00:30, 15.39s/it]"
     ]
    },
    {
     "name": "stdout",
     "output_type": "stream",
     "text": [
      "RMSE:  1.0620497391623895\n",
      "RMSE:  1.0618184348228867\n"
     ]
    },
    {
     "name": "stderr",
     "output_type": "stream",
     "text": [
      "\r",
      " 99%|████████████████████████████████████████████████████████████████████████████████▏| 99/100 [18:55<00:15, 15.43s/it]"
     ]
    },
    {
     "name": "stdout",
     "output_type": "stream",
     "text": [
      "RMSE:  1.0618131080968929\n",
      "RMSE:  1.061653267656159\n"
     ]
    },
    {
     "name": "stderr",
     "output_type": "stream",
     "text": [
      "100%|████████████████████████████████████████████████████████████████████████████████| 100/100 [19:11<00:00, 11.52s/it]"
     ]
    },
    {
     "name": "stdout",
     "output_type": "stream",
     "text": [
      "RMSE:  1.0616481203712327\n"
     ]
    },
    {
     "name": "stderr",
     "output_type": "stream",
     "text": [
      "\n"
     ]
    }
   ],
   "source": [
    "user_factors,item_factors,all_movies_mean,user_bias,item_bias,u_inx,i_inx = my_train(users_ratings,k=100)"
   ]
  },
  {
   "cell_type": "code",
   "execution_count": 43,
   "id": "701be7cb",
   "metadata": {},
   "outputs": [
    {
     "name": "stdout",
     "output_type": "stream",
     "text": [
      "4.651974008705397155115448911\n"
     ]
    }
   ],
   "source": [
    "user_index = u_inx[1]\n",
    "item_index = i_inx[47]\n",
    "print(my_predict(user_index, item_index,user_factors,item_factors,all_movies_mean,user_bias,item_bias))"
   ]
  },
  {
   "cell_type": "code",
   "execution_count": 44,
   "id": "a11a3bac",
   "metadata": {},
   "outputs": [
    {
     "data": {
      "text/html": [
       "<div>\n",
       "<style scoped>\n",
       "    .dataframe tbody tr th:only-of-type {\n",
       "        vertical-align: middle;\n",
       "    }\n",
       "\n",
       "    .dataframe tbody tr th {\n",
       "        vertical-align: top;\n",
       "    }\n",
       "\n",
       "    .dataframe thead th {\n",
       "        text-align: right;\n",
       "    }\n",
       "</style>\n",
       "<table border=\"1\" class=\"dataframe\">\n",
       "  <thead>\n",
       "    <tr style=\"text-align: right;\">\n",
       "      <th>movieId</th>\n",
       "      <th>1</th>\n",
       "      <th>2</th>\n",
       "      <th>3</th>\n",
       "      <th>4</th>\n",
       "      <th>5</th>\n",
       "      <th>6</th>\n",
       "      <th>7</th>\n",
       "      <th>8</th>\n",
       "      <th>9</th>\n",
       "      <th>10</th>\n",
       "      <th>...</th>\n",
       "      <th>193565</th>\n",
       "      <th>193567</th>\n",
       "      <th>193571</th>\n",
       "      <th>193573</th>\n",
       "      <th>193579</th>\n",
       "      <th>193581</th>\n",
       "      <th>193583</th>\n",
       "      <th>193585</th>\n",
       "      <th>193587</th>\n",
       "      <th>193609</th>\n",
       "    </tr>\n",
       "    <tr>\n",
       "      <th>userId</th>\n",
       "      <th></th>\n",
       "      <th></th>\n",
       "      <th></th>\n",
       "      <th></th>\n",
       "      <th></th>\n",
       "      <th></th>\n",
       "      <th></th>\n",
       "      <th></th>\n",
       "      <th></th>\n",
       "      <th></th>\n",
       "      <th></th>\n",
       "      <th></th>\n",
       "      <th></th>\n",
       "      <th></th>\n",
       "      <th></th>\n",
       "      <th></th>\n",
       "      <th></th>\n",
       "      <th></th>\n",
       "      <th></th>\n",
       "      <th></th>\n",
       "      <th></th>\n",
       "    </tr>\n",
       "  </thead>\n",
       "  <tbody>\n",
       "    <tr>\n",
       "      <th>1</th>\n",
       "      <td>4.0</td>\n",
       "      <td>NaN</td>\n",
       "      <td>4.0</td>\n",
       "      <td>NaN</td>\n",
       "      <td>NaN</td>\n",
       "      <td>4.0</td>\n",
       "      <td>NaN</td>\n",
       "      <td>NaN</td>\n",
       "      <td>NaN</td>\n",
       "      <td>NaN</td>\n",
       "      <td>...</td>\n",
       "      <td>NaN</td>\n",
       "      <td>NaN</td>\n",
       "      <td>NaN</td>\n",
       "      <td>NaN</td>\n",
       "      <td>NaN</td>\n",
       "      <td>NaN</td>\n",
       "      <td>NaN</td>\n",
       "      <td>NaN</td>\n",
       "      <td>NaN</td>\n",
       "      <td>NaN</td>\n",
       "    </tr>\n",
       "    <tr>\n",
       "      <th>2</th>\n",
       "      <td>NaN</td>\n",
       "      <td>NaN</td>\n",
       "      <td>NaN</td>\n",
       "      <td>NaN</td>\n",
       "      <td>NaN</td>\n",
       "      <td>NaN</td>\n",
       "      <td>NaN</td>\n",
       "      <td>NaN</td>\n",
       "      <td>NaN</td>\n",
       "      <td>NaN</td>\n",
       "      <td>...</td>\n",
       "      <td>NaN</td>\n",
       "      <td>NaN</td>\n",
       "      <td>NaN</td>\n",
       "      <td>NaN</td>\n",
       "      <td>NaN</td>\n",
       "      <td>NaN</td>\n",
       "      <td>NaN</td>\n",
       "      <td>NaN</td>\n",
       "      <td>NaN</td>\n",
       "      <td>NaN</td>\n",
       "    </tr>\n",
       "    <tr>\n",
       "      <th>3</th>\n",
       "      <td>NaN</td>\n",
       "      <td>NaN</td>\n",
       "      <td>NaN</td>\n",
       "      <td>NaN</td>\n",
       "      <td>NaN</td>\n",
       "      <td>NaN</td>\n",
       "      <td>NaN</td>\n",
       "      <td>NaN</td>\n",
       "      <td>NaN</td>\n",
       "      <td>NaN</td>\n",
       "      <td>...</td>\n",
       "      <td>NaN</td>\n",
       "      <td>NaN</td>\n",
       "      <td>NaN</td>\n",
       "      <td>NaN</td>\n",
       "      <td>NaN</td>\n",
       "      <td>NaN</td>\n",
       "      <td>NaN</td>\n",
       "      <td>NaN</td>\n",
       "      <td>NaN</td>\n",
       "      <td>NaN</td>\n",
       "    </tr>\n",
       "    <tr>\n",
       "      <th>4</th>\n",
       "      <td>NaN</td>\n",
       "      <td>NaN</td>\n",
       "      <td>NaN</td>\n",
       "      <td>NaN</td>\n",
       "      <td>NaN</td>\n",
       "      <td>NaN</td>\n",
       "      <td>NaN</td>\n",
       "      <td>NaN</td>\n",
       "      <td>NaN</td>\n",
       "      <td>NaN</td>\n",
       "      <td>...</td>\n",
       "      <td>NaN</td>\n",
       "      <td>NaN</td>\n",
       "      <td>NaN</td>\n",
       "      <td>NaN</td>\n",
       "      <td>NaN</td>\n",
       "      <td>NaN</td>\n",
       "      <td>NaN</td>\n",
       "      <td>NaN</td>\n",
       "      <td>NaN</td>\n",
       "      <td>NaN</td>\n",
       "    </tr>\n",
       "    <tr>\n",
       "      <th>5</th>\n",
       "      <td>4.0</td>\n",
       "      <td>NaN</td>\n",
       "      <td>NaN</td>\n",
       "      <td>NaN</td>\n",
       "      <td>NaN</td>\n",
       "      <td>NaN</td>\n",
       "      <td>NaN</td>\n",
       "      <td>NaN</td>\n",
       "      <td>NaN</td>\n",
       "      <td>NaN</td>\n",
       "      <td>...</td>\n",
       "      <td>NaN</td>\n",
       "      <td>NaN</td>\n",
       "      <td>NaN</td>\n",
       "      <td>NaN</td>\n",
       "      <td>NaN</td>\n",
       "      <td>NaN</td>\n",
       "      <td>NaN</td>\n",
       "      <td>NaN</td>\n",
       "      <td>NaN</td>\n",
       "      <td>NaN</td>\n",
       "    </tr>\n",
       "  </tbody>\n",
       "</table>\n",
       "<p>5 rows × 9724 columns</p>\n",
       "</div>"
      ],
      "text/plain": [
       "movieId  1       2       3       4       5       6       7       8       \\\n",
       "userId                                                                    \n",
       "1           4.0     NaN     4.0     NaN     NaN     4.0     NaN     NaN   \n",
       "2           NaN     NaN     NaN     NaN     NaN     NaN     NaN     NaN   \n",
       "3           NaN     NaN     NaN     NaN     NaN     NaN     NaN     NaN   \n",
       "4           NaN     NaN     NaN     NaN     NaN     NaN     NaN     NaN   \n",
       "5           4.0     NaN     NaN     NaN     NaN     NaN     NaN     NaN   \n",
       "\n",
       "movieId  9       10      ...  193565  193567  193571  193573  193579  193581  \\\n",
       "userId                   ...                                                   \n",
       "1           NaN     NaN  ...     NaN     NaN     NaN     NaN     NaN     NaN   \n",
       "2           NaN     NaN  ...     NaN     NaN     NaN     NaN     NaN     NaN   \n",
       "3           NaN     NaN  ...     NaN     NaN     NaN     NaN     NaN     NaN   \n",
       "4           NaN     NaN  ...     NaN     NaN     NaN     NaN     NaN     NaN   \n",
       "5           NaN     NaN  ...     NaN     NaN     NaN     NaN     NaN     NaN   \n",
       "\n",
       "movieId  193583  193585  193587  193609  \n",
       "userId                                   \n",
       "1           NaN     NaN     NaN     NaN  \n",
       "2           NaN     NaN     NaN     NaN  \n",
       "3           NaN     NaN     NaN     NaN  \n",
       "4           NaN     NaN     NaN     NaN  \n",
       "5           NaN     NaN     NaN     NaN  \n",
       "\n",
       "[5 rows x 9724 columns]"
      ]
     },
     "execution_count": 44,
     "metadata": {},
     "output_type": "execute_result"
    }
   ],
   "source": [
    "user_movie_rating = users_ratings.pivot_table(index='userId', columns='movieId', values='rating')\n",
    "user_movie_rating.head()"
   ]
  },
  {
   "cell_type": "code",
   "execution_count": 45,
   "id": "bfc66d78",
   "metadata": {},
   "outputs": [
    {
     "name": "stderr",
     "output_type": "stream",
     "text": [
      "610it [07:40,  1.33it/s]\n"
     ]
    }
   ],
   "source": [
    "for rowIndex, row in tqdm(user_movie_rating.iterrows()): #iterate over rows\n",
    "    for columnIndex, value in row.items():\n",
    "        user_movie_rating.loc[rowIndex][columnIndex]=my_predict(user_index, item_index,user_factors,item_factors,all_movies_mean,user_bias,item_bias)"
   ]
  },
  {
   "cell_type": "code",
   "execution_count": 46,
   "id": "421e8406",
   "metadata": {},
   "outputs": [
    {
     "data": {
      "text/html": [
       "<div>\n",
       "<style scoped>\n",
       "    .dataframe tbody tr th:only-of-type {\n",
       "        vertical-align: middle;\n",
       "    }\n",
       "\n",
       "    .dataframe tbody tr th {\n",
       "        vertical-align: top;\n",
       "    }\n",
       "\n",
       "    .dataframe thead th {\n",
       "        text-align: right;\n",
       "    }\n",
       "</style>\n",
       "<table border=\"1\" class=\"dataframe\">\n",
       "  <thead>\n",
       "    <tr style=\"text-align: right;\">\n",
       "      <th>movieId</th>\n",
       "      <th>1</th>\n",
       "      <th>2</th>\n",
       "      <th>3</th>\n",
       "      <th>4</th>\n",
       "      <th>5</th>\n",
       "      <th>6</th>\n",
       "      <th>7</th>\n",
       "      <th>8</th>\n",
       "      <th>9</th>\n",
       "      <th>10</th>\n",
       "      <th>...</th>\n",
       "      <th>193565</th>\n",
       "      <th>193567</th>\n",
       "      <th>193571</th>\n",
       "      <th>193573</th>\n",
       "      <th>193579</th>\n",
       "      <th>193581</th>\n",
       "      <th>193583</th>\n",
       "      <th>193585</th>\n",
       "      <th>193587</th>\n",
       "      <th>193609</th>\n",
       "    </tr>\n",
       "    <tr>\n",
       "      <th>userId</th>\n",
       "      <th></th>\n",
       "      <th></th>\n",
       "      <th></th>\n",
       "      <th></th>\n",
       "      <th></th>\n",
       "      <th></th>\n",
       "      <th></th>\n",
       "      <th></th>\n",
       "      <th></th>\n",
       "      <th></th>\n",
       "      <th></th>\n",
       "      <th></th>\n",
       "      <th></th>\n",
       "      <th></th>\n",
       "      <th></th>\n",
       "      <th></th>\n",
       "      <th></th>\n",
       "      <th></th>\n",
       "      <th></th>\n",
       "      <th></th>\n",
       "      <th></th>\n",
       "    </tr>\n",
       "  </thead>\n",
       "  <tbody>\n",
       "    <tr>\n",
       "      <th>1</th>\n",
       "      <td>4.651974</td>\n",
       "      <td>4.651974</td>\n",
       "      <td>4.651974</td>\n",
       "      <td>4.651974</td>\n",
       "      <td>4.651974</td>\n",
       "      <td>4.651974</td>\n",
       "      <td>4.651974</td>\n",
       "      <td>4.651974</td>\n",
       "      <td>4.651974</td>\n",
       "      <td>4.651974</td>\n",
       "      <td>...</td>\n",
       "      <td>4.651974</td>\n",
       "      <td>4.651974</td>\n",
       "      <td>4.651974</td>\n",
       "      <td>4.651974</td>\n",
       "      <td>4.651974</td>\n",
       "      <td>4.651974</td>\n",
       "      <td>4.651974</td>\n",
       "      <td>4.651974</td>\n",
       "      <td>4.651974</td>\n",
       "      <td>4.651974</td>\n",
       "    </tr>\n",
       "    <tr>\n",
       "      <th>2</th>\n",
       "      <td>4.651974</td>\n",
       "      <td>4.651974</td>\n",
       "      <td>4.651974</td>\n",
       "      <td>4.651974</td>\n",
       "      <td>4.651974</td>\n",
       "      <td>4.651974</td>\n",
       "      <td>4.651974</td>\n",
       "      <td>4.651974</td>\n",
       "      <td>4.651974</td>\n",
       "      <td>4.651974</td>\n",
       "      <td>...</td>\n",
       "      <td>4.651974</td>\n",
       "      <td>4.651974</td>\n",
       "      <td>4.651974</td>\n",
       "      <td>4.651974</td>\n",
       "      <td>4.651974</td>\n",
       "      <td>4.651974</td>\n",
       "      <td>4.651974</td>\n",
       "      <td>4.651974</td>\n",
       "      <td>4.651974</td>\n",
       "      <td>4.651974</td>\n",
       "    </tr>\n",
       "    <tr>\n",
       "      <th>3</th>\n",
       "      <td>4.651974</td>\n",
       "      <td>4.651974</td>\n",
       "      <td>4.651974</td>\n",
       "      <td>4.651974</td>\n",
       "      <td>4.651974</td>\n",
       "      <td>4.651974</td>\n",
       "      <td>4.651974</td>\n",
       "      <td>4.651974</td>\n",
       "      <td>4.651974</td>\n",
       "      <td>4.651974</td>\n",
       "      <td>...</td>\n",
       "      <td>4.651974</td>\n",
       "      <td>4.651974</td>\n",
       "      <td>4.651974</td>\n",
       "      <td>4.651974</td>\n",
       "      <td>4.651974</td>\n",
       "      <td>4.651974</td>\n",
       "      <td>4.651974</td>\n",
       "      <td>4.651974</td>\n",
       "      <td>4.651974</td>\n",
       "      <td>4.651974</td>\n",
       "    </tr>\n",
       "    <tr>\n",
       "      <th>4</th>\n",
       "      <td>4.651974</td>\n",
       "      <td>4.651974</td>\n",
       "      <td>4.651974</td>\n",
       "      <td>4.651974</td>\n",
       "      <td>4.651974</td>\n",
       "      <td>4.651974</td>\n",
       "      <td>4.651974</td>\n",
       "      <td>4.651974</td>\n",
       "      <td>4.651974</td>\n",
       "      <td>4.651974</td>\n",
       "      <td>...</td>\n",
       "      <td>4.651974</td>\n",
       "      <td>4.651974</td>\n",
       "      <td>4.651974</td>\n",
       "      <td>4.651974</td>\n",
       "      <td>4.651974</td>\n",
       "      <td>4.651974</td>\n",
       "      <td>4.651974</td>\n",
       "      <td>4.651974</td>\n",
       "      <td>4.651974</td>\n",
       "      <td>4.651974</td>\n",
       "    </tr>\n",
       "    <tr>\n",
       "      <th>5</th>\n",
       "      <td>4.651974</td>\n",
       "      <td>4.651974</td>\n",
       "      <td>4.651974</td>\n",
       "      <td>4.651974</td>\n",
       "      <td>4.651974</td>\n",
       "      <td>4.651974</td>\n",
       "      <td>4.651974</td>\n",
       "      <td>4.651974</td>\n",
       "      <td>4.651974</td>\n",
       "      <td>4.651974</td>\n",
       "      <td>...</td>\n",
       "      <td>4.651974</td>\n",
       "      <td>4.651974</td>\n",
       "      <td>4.651974</td>\n",
       "      <td>4.651974</td>\n",
       "      <td>4.651974</td>\n",
       "      <td>4.651974</td>\n",
       "      <td>4.651974</td>\n",
       "      <td>4.651974</td>\n",
       "      <td>4.651974</td>\n",
       "      <td>4.651974</td>\n",
       "    </tr>\n",
       "  </tbody>\n",
       "</table>\n",
       "<p>5 rows × 9724 columns</p>\n",
       "</div>"
      ],
      "text/plain": [
       "movieId    1         2         3         4         5         6         7       \\\n",
       "userId                                                                          \n",
       "1        4.651974  4.651974  4.651974  4.651974  4.651974  4.651974  4.651974   \n",
       "2        4.651974  4.651974  4.651974  4.651974  4.651974  4.651974  4.651974   \n",
       "3        4.651974  4.651974  4.651974  4.651974  4.651974  4.651974  4.651974   \n",
       "4        4.651974  4.651974  4.651974  4.651974  4.651974  4.651974  4.651974   \n",
       "5        4.651974  4.651974  4.651974  4.651974  4.651974  4.651974  4.651974   \n",
       "\n",
       "movieId    8         9         10      ...    193565    193567    193571  \\\n",
       "userId                                 ...                                 \n",
       "1        4.651974  4.651974  4.651974  ...  4.651974  4.651974  4.651974   \n",
       "2        4.651974  4.651974  4.651974  ...  4.651974  4.651974  4.651974   \n",
       "3        4.651974  4.651974  4.651974  ...  4.651974  4.651974  4.651974   \n",
       "4        4.651974  4.651974  4.651974  ...  4.651974  4.651974  4.651974   \n",
       "5        4.651974  4.651974  4.651974  ...  4.651974  4.651974  4.651974   \n",
       "\n",
       "movieId    193573    193579    193581    193583    193585    193587    193609  \n",
       "userId                                                                         \n",
       "1        4.651974  4.651974  4.651974  4.651974  4.651974  4.651974  4.651974  \n",
       "2        4.651974  4.651974  4.651974  4.651974  4.651974  4.651974  4.651974  \n",
       "3        4.651974  4.651974  4.651974  4.651974  4.651974  4.651974  4.651974  \n",
       "4        4.651974  4.651974  4.651974  4.651974  4.651974  4.651974  4.651974  \n",
       "5        4.651974  4.651974  4.651974  4.651974  4.651974  4.651974  4.651974  \n",
       "\n",
       "[5 rows x 9724 columns]"
      ]
     },
     "execution_count": 46,
     "metadata": {},
     "output_type": "execute_result"
    }
   ],
   "source": [
    "user_movie_rating.head()"
   ]
  },
  {
   "cell_type": "code",
   "execution_count": 47,
   "id": "a61b7051",
   "metadata": {},
   "outputs": [],
   "source": [
    "user_movie_rating.to_csv('FunkSVD_user_movie_rating.csv',index=False)"
   ]
  },
  {
   "cell_type": "code",
   "execution_count": 48,
   "id": "f806e6d1",
   "metadata": {},
   "outputs": [
    {
     "data": {
      "text/html": [
       "<div>\n",
       "<style scoped>\n",
       "    .dataframe tbody tr th:only-of-type {\n",
       "        vertical-align: middle;\n",
       "    }\n",
       "\n",
       "    .dataframe tbody tr th {\n",
       "        vertical-align: top;\n",
       "    }\n",
       "\n",
       "    .dataframe thead th {\n",
       "        text-align: right;\n",
       "    }\n",
       "</style>\n",
       "<table border=\"1\" class=\"dataframe\">\n",
       "  <thead>\n",
       "    <tr style=\"text-align: right;\">\n",
       "      <th>movieId</th>\n",
       "      <th>1</th>\n",
       "      <th>2</th>\n",
       "      <th>3</th>\n",
       "      <th>4</th>\n",
       "      <th>5</th>\n",
       "      <th>6</th>\n",
       "      <th>7</th>\n",
       "      <th>8</th>\n",
       "      <th>9</th>\n",
       "      <th>10</th>\n",
       "      <th>...</th>\n",
       "      <th>193565</th>\n",
       "      <th>193567</th>\n",
       "      <th>193571</th>\n",
       "      <th>193573</th>\n",
       "      <th>193579</th>\n",
       "      <th>193581</th>\n",
       "      <th>193583</th>\n",
       "      <th>193585</th>\n",
       "      <th>193587</th>\n",
       "      <th>193609</th>\n",
       "    </tr>\n",
       "    <tr>\n",
       "      <th>userId</th>\n",
       "      <th></th>\n",
       "      <th></th>\n",
       "      <th></th>\n",
       "      <th></th>\n",
       "      <th></th>\n",
       "      <th></th>\n",
       "      <th></th>\n",
       "      <th></th>\n",
       "      <th></th>\n",
       "      <th></th>\n",
       "      <th></th>\n",
       "      <th></th>\n",
       "      <th></th>\n",
       "      <th></th>\n",
       "      <th></th>\n",
       "      <th></th>\n",
       "      <th></th>\n",
       "      <th></th>\n",
       "      <th></th>\n",
       "      <th></th>\n",
       "      <th></th>\n",
       "    </tr>\n",
       "  </thead>\n",
       "  <tbody>\n",
       "    <tr>\n",
       "      <th>1</th>\n",
       "      <td>4.651974</td>\n",
       "      <td>4.651974</td>\n",
       "      <td>4.651974</td>\n",
       "      <td>4.651974</td>\n",
       "      <td>4.651974</td>\n",
       "      <td>4.651974</td>\n",
       "      <td>4.651974</td>\n",
       "      <td>4.651974</td>\n",
       "      <td>4.651974</td>\n",
       "      <td>4.651974</td>\n",
       "      <td>...</td>\n",
       "      <td>4.651974</td>\n",
       "      <td>4.651974</td>\n",
       "      <td>4.651974</td>\n",
       "      <td>4.651974</td>\n",
       "      <td>4.651974</td>\n",
       "      <td>4.651974</td>\n",
       "      <td>4.651974</td>\n",
       "      <td>4.651974</td>\n",
       "      <td>4.651974</td>\n",
       "      <td>4.651974</td>\n",
       "    </tr>\n",
       "    <tr>\n",
       "      <th>2</th>\n",
       "      <td>4.651974</td>\n",
       "      <td>4.651974</td>\n",
       "      <td>4.651974</td>\n",
       "      <td>4.651974</td>\n",
       "      <td>4.651974</td>\n",
       "      <td>4.651974</td>\n",
       "      <td>4.651974</td>\n",
       "      <td>4.651974</td>\n",
       "      <td>4.651974</td>\n",
       "      <td>4.651974</td>\n",
       "      <td>...</td>\n",
       "      <td>4.651974</td>\n",
       "      <td>4.651974</td>\n",
       "      <td>4.651974</td>\n",
       "      <td>4.651974</td>\n",
       "      <td>4.651974</td>\n",
       "      <td>4.651974</td>\n",
       "      <td>4.651974</td>\n",
       "      <td>4.651974</td>\n",
       "      <td>4.651974</td>\n",
       "      <td>4.651974</td>\n",
       "    </tr>\n",
       "    <tr>\n",
       "      <th>3</th>\n",
       "      <td>4.651974</td>\n",
       "      <td>4.651974</td>\n",
       "      <td>4.651974</td>\n",
       "      <td>4.651974</td>\n",
       "      <td>4.651974</td>\n",
       "      <td>4.651974</td>\n",
       "      <td>4.651974</td>\n",
       "      <td>4.651974</td>\n",
       "      <td>4.651974</td>\n",
       "      <td>4.651974</td>\n",
       "      <td>...</td>\n",
       "      <td>4.651974</td>\n",
       "      <td>4.651974</td>\n",
       "      <td>4.651974</td>\n",
       "      <td>4.651974</td>\n",
       "      <td>4.651974</td>\n",
       "      <td>4.651974</td>\n",
       "      <td>4.651974</td>\n",
       "      <td>4.651974</td>\n",
       "      <td>4.651974</td>\n",
       "      <td>4.651974</td>\n",
       "    </tr>\n",
       "    <tr>\n",
       "      <th>4</th>\n",
       "      <td>4.651974</td>\n",
       "      <td>4.651974</td>\n",
       "      <td>4.651974</td>\n",
       "      <td>4.651974</td>\n",
       "      <td>4.651974</td>\n",
       "      <td>4.651974</td>\n",
       "      <td>4.651974</td>\n",
       "      <td>4.651974</td>\n",
       "      <td>4.651974</td>\n",
       "      <td>4.651974</td>\n",
       "      <td>...</td>\n",
       "      <td>4.651974</td>\n",
       "      <td>4.651974</td>\n",
       "      <td>4.651974</td>\n",
       "      <td>4.651974</td>\n",
       "      <td>4.651974</td>\n",
       "      <td>4.651974</td>\n",
       "      <td>4.651974</td>\n",
       "      <td>4.651974</td>\n",
       "      <td>4.651974</td>\n",
       "      <td>4.651974</td>\n",
       "    </tr>\n",
       "    <tr>\n",
       "      <th>5</th>\n",
       "      <td>4.651974</td>\n",
       "      <td>4.651974</td>\n",
       "      <td>4.651974</td>\n",
       "      <td>4.651974</td>\n",
       "      <td>4.651974</td>\n",
       "      <td>4.651974</td>\n",
       "      <td>4.651974</td>\n",
       "      <td>4.651974</td>\n",
       "      <td>4.651974</td>\n",
       "      <td>4.651974</td>\n",
       "      <td>...</td>\n",
       "      <td>4.651974</td>\n",
       "      <td>4.651974</td>\n",
       "      <td>4.651974</td>\n",
       "      <td>4.651974</td>\n",
       "      <td>4.651974</td>\n",
       "      <td>4.651974</td>\n",
       "      <td>4.651974</td>\n",
       "      <td>4.651974</td>\n",
       "      <td>4.651974</td>\n",
       "      <td>4.651974</td>\n",
       "    </tr>\n",
       "  </tbody>\n",
       "</table>\n",
       "<p>5 rows × 9724 columns</p>\n",
       "</div>"
      ],
      "text/plain": [
       "movieId    1         2         3         4         5         6         7       \\\n",
       "userId                                                                          \n",
       "1        4.651974  4.651974  4.651974  4.651974  4.651974  4.651974  4.651974   \n",
       "2        4.651974  4.651974  4.651974  4.651974  4.651974  4.651974  4.651974   \n",
       "3        4.651974  4.651974  4.651974  4.651974  4.651974  4.651974  4.651974   \n",
       "4        4.651974  4.651974  4.651974  4.651974  4.651974  4.651974  4.651974   \n",
       "5        4.651974  4.651974  4.651974  4.651974  4.651974  4.651974  4.651974   \n",
       "\n",
       "movieId    8         9         10      ...    193565    193567    193571  \\\n",
       "userId                                 ...                                 \n",
       "1        4.651974  4.651974  4.651974  ...  4.651974  4.651974  4.651974   \n",
       "2        4.651974  4.651974  4.651974  ...  4.651974  4.651974  4.651974   \n",
       "3        4.651974  4.651974  4.651974  ...  4.651974  4.651974  4.651974   \n",
       "4        4.651974  4.651974  4.651974  ...  4.651974  4.651974  4.651974   \n",
       "5        4.651974  4.651974  4.651974  ...  4.651974  4.651974  4.651974   \n",
       "\n",
       "movieId    193573    193579    193581    193583    193585    193587    193609  \n",
       "userId                                                                         \n",
       "1        4.651974  4.651974  4.651974  4.651974  4.651974  4.651974  4.651974  \n",
       "2        4.651974  4.651974  4.651974  4.651974  4.651974  4.651974  4.651974  \n",
       "3        4.651974  4.651974  4.651974  4.651974  4.651974  4.651974  4.651974  \n",
       "4        4.651974  4.651974  4.651974  4.651974  4.651974  4.651974  4.651974  \n",
       "5        4.651974  4.651974  4.651974  4.651974  4.651974  4.651974  4.651974  \n",
       "\n",
       "[5 rows x 9724 columns]"
      ]
     },
     "execution_count": 48,
     "metadata": {},
     "output_type": "execute_result"
    }
   ],
   "source": [
    "loaded_data = pd.read_csv(\"FunkSVD_user_movie_rating.csv\")\n",
    "user_movie_rating.head()"
   ]
  },
  {
   "cell_type": "code",
   "execution_count": 52,
   "id": "3517b852",
   "metadata": {},
   "outputs": [
    {
     "data": {
      "text/plain": [
       "4.651974008705397"
      ]
     },
     "execution_count": 52,
     "metadata": {},
     "output_type": "execute_result"
    }
   ],
   "source": [
    "user_movie_rating.loc[1,47]"
   ]
  },
  {
   "cell_type": "code",
   "execution_count": null,
   "id": "000296cb",
   "metadata": {},
   "outputs": [],
   "source": []
  }
 ],
 "metadata": {
  "kernelspec": {
   "display_name": "Python 3",
   "language": "python",
   "name": "python3"
  },
  "language_info": {
   "codemirror_mode": {
    "name": "ipython",
    "version": 3
   },
   "file_extension": ".py",
   "mimetype": "text/x-python",
   "name": "python",
   "nbconvert_exporter": "python",
   "pygments_lexer": "ipython3",
   "version": "3.8.8"
  }
 },
 "nbformat": 4,
 "nbformat_minor": 5
}
